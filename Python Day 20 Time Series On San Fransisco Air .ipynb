{
 "cells": [
  {
   "cell_type": "code",
   "execution_count": 1,
   "id": "870a996d",
   "metadata": {},
   "outputs": [
    {
     "name": "stderr",
     "output_type": "stream",
     "text": [
      "C:\\Users\\Hp\\anaconda3\\lib\\site-packages\\numpy\\_distributor_init.py:30: UserWarning: loaded more than 1 DLL from .libs:\n",
      "C:\\Users\\Hp\\anaconda3\\lib\\site-packages\\numpy\\.libs\\libopenblas.FB5AE2TYXYH2IJRDKGDGQ3XBKLKTF43H.gfortran-win_amd64.dll\n",
      "C:\\Users\\Hp\\anaconda3\\lib\\site-packages\\numpy\\.libs\\libopenblas64__v0.3.21-gcc_10_3_0.dll\n",
      "  warnings.warn(\"loaded more than 1 DLL from .libs:\"\n"
     ]
    }
   ],
   "source": [
    "import pandas as pd\n",
    "import numpy as np\n",
    "import matplotlib.pyplot as plt\n",
    "import seaborn as sns"
   ]
  },
  {
   "cell_type": "code",
   "execution_count": 2,
   "id": "4d7ab281",
   "metadata": {},
   "outputs": [],
   "source": [
    "data = pd.read_csv('Air_Traffic_Passenger_Statistics.csv')"
   ]
  },
  {
   "cell_type": "code",
   "execution_count": 3,
   "id": "40e1f079",
   "metadata": {},
   "outputs": [
    {
     "data": {
      "text/plain": [
       "(50730, 12)"
      ]
     },
     "execution_count": 3,
     "metadata": {},
     "output_type": "execute_result"
    }
   ],
   "source": [
    "data.shape"
   ]
  },
  {
   "cell_type": "code",
   "execution_count": null,
   "id": "557dd497",
   "metadata": {},
   "outputs": [],
   "source": [
    "data.describe()"
   ]
  },
  {
   "cell_type": "code",
   "execution_count": null,
   "id": "22a0e252",
   "metadata": {},
   "outputs": [],
   "source": [
    "data.info()"
   ]
  },
  {
   "cell_type": "code",
   "execution_count": null,
   "id": "9e8054de",
   "metadata": {},
   "outputs": [],
   "source": [
    "data.isnull().sum()"
   ]
  },
  {
   "cell_type": "code",
   "execution_count": null,
   "id": "9e5d5090",
   "metadata": {},
   "outputs": [],
   "source": [
    "data.isnull().sum()*100/len(data)"
   ]
  },
  {
   "cell_type": "code",
   "execution_count": null,
   "id": "7bc610fb",
   "metadata": {},
   "outputs": [],
   "source": [
    "data['Activity Period'].value_counts()"
   ]
  },
  {
   "cell_type": "code",
   "execution_count": null,
   "id": "e67aed8e",
   "metadata": {},
   "outputs": [],
   "source": [
    "data.columns"
   ]
  },
  {
   "cell_type": "code",
   "execution_count": null,
   "id": "6226c434",
   "metadata": {},
   "outputs": [],
   "source": [
    "# Time Series Data or IOT Data has Datetime or Date as a critical variable.\n",
    "# In Multivariate Analysis variables extracted from date and date is deleted But in Time Series data Date Variable is most \n",
    "# critical variable which cannot be deleted.\n",
    "\n",
    "# Date - \"YYYY-mm-dd\" or datetime - \"YYYY-mm-dd HH:MM:SS\" \n",
    "\n",
    "# 3 Types of Time Series Data \n",
    "# 1) UnivaritateTime Series = only 2 varibles - Date & y\n",
    "# 2) Multivariate Time Series - Along with Date and Date extracted variable other independent variables will also be there.\n",
    "# 3) Panel Data - Along with Date and other Independent Variables an ID variable will also be there (Company,Country,Region)"
   ]
  },
  {
   "cell_type": "code",
   "execution_count": 4,
   "id": "8e0c6f18",
   "metadata": {},
   "outputs": [],
   "source": [
    "# Univariant Time Series \n",
    "airtraffic = data[['Activity Period','Passenger Count']]"
   ]
  },
  {
   "cell_type": "code",
   "execution_count": 5,
   "id": "9031889a",
   "metadata": {},
   "outputs": [],
   "source": [
    "data['Activity Period'] = data['Activity Period'].astype(str).apply(lambda x: f\"{x[:4]}-{x[4:6]}\")"
   ]
  },
  {
   "cell_type": "code",
   "execution_count": 6,
   "id": "1ea48f66",
   "metadata": {},
   "outputs": [
    {
     "name": "stderr",
     "output_type": "stream",
     "text": [
      "C:\\Users\\Hp\\AppData\\Local\\Temp\\ipykernel_1820\\2245588190.py:1: SettingWithCopyWarning: \n",
      "A value is trying to be set on a copy of a slice from a DataFrame.\n",
      "Try using .loc[row_indexer,col_indexer] = value instead\n",
      "\n",
      "See the caveats in the documentation: https://pandas.pydata.org/pandas-docs/stable/user_guide/indexing.html#returning-a-view-versus-a-copy\n",
      "  airtraffic['Activity Period'] = pd.to_datetime(airtraffic['Activity Period'],errors = 'coerce')\n"
     ]
    }
   ],
   "source": [
    "airtraffic['Activity Period'] = pd.to_datetime(airtraffic['Activity Period'],errors = 'coerce')"
   ]
  },
  {
   "cell_type": "code",
   "execution_count": 9,
   "id": "94e166cd",
   "metadata": {},
   "outputs": [
    {
     "data": {
      "text/html": [
       "<div>\n",
       "<style scoped>\n",
       "    .dataframe tbody tr th:only-of-type {\n",
       "        vertical-align: middle;\n",
       "    }\n",
       "\n",
       "    .dataframe tbody tr th {\n",
       "        vertical-align: top;\n",
       "    }\n",
       "\n",
       "    .dataframe thead th {\n",
       "        text-align: right;\n",
       "    }\n",
       "</style>\n",
       "<table border=\"1\" class=\"dataframe\">\n",
       "  <thead>\n",
       "    <tr style=\"text-align: right;\">\n",
       "      <th></th>\n",
       "      <th>Activity Period</th>\n",
       "      <th>Passenger Count</th>\n",
       "    </tr>\n",
       "  </thead>\n",
       "  <tbody>\n",
       "    <tr>\n",
       "      <th>50725</th>\n",
       "      <td>1970-01-01 00:00:00.000202212</td>\n",
       "      <td>3197</td>\n",
       "    </tr>\n",
       "    <tr>\n",
       "      <th>50726</th>\n",
       "      <td>1970-01-01 00:00:00.000202212</td>\n",
       "      <td>5836</td>\n",
       "    </tr>\n",
       "    <tr>\n",
       "      <th>50727</th>\n",
       "      <td>1970-01-01 00:00:00.000202212</td>\n",
       "      <td>6650</td>\n",
       "    </tr>\n",
       "    <tr>\n",
       "      <th>50728</th>\n",
       "      <td>1970-01-01 00:00:00.000202212</td>\n",
       "      <td>1679</td>\n",
       "    </tr>\n",
       "    <tr>\n",
       "      <th>50729</th>\n",
       "      <td>1970-01-01 00:00:00.000202212</td>\n",
       "      <td>1857</td>\n",
       "    </tr>\n",
       "  </tbody>\n",
       "</table>\n",
       "</div>"
      ],
      "text/plain": [
       "                    Activity Period  Passenger Count\n",
       "50725 1970-01-01 00:00:00.000202212             3197\n",
       "50726 1970-01-01 00:00:00.000202212             5836\n",
       "50727 1970-01-01 00:00:00.000202212             6650\n",
       "50728 1970-01-01 00:00:00.000202212             1679\n",
       "50729 1970-01-01 00:00:00.000202212             1857"
      ]
     },
     "execution_count": 9,
     "metadata": {},
     "output_type": "execute_result"
    }
   ],
   "source": [
    "airtraffic.tail()"
   ]
  },
  {
   "cell_type": "code",
   "execution_count": 8,
   "id": "780153b2",
   "metadata": {},
   "outputs": [
    {
     "name": "stdout",
     "output_type": "stream",
     "text": [
      "<class 'pandas.core.frame.DataFrame'>\n",
      "RangeIndex: 50730 entries, 0 to 50729\n",
      "Data columns (total 2 columns):\n",
      " #   Column           Non-Null Count  Dtype         \n",
      "---  ------           --------------  -----         \n",
      " 0   Activity Period  50730 non-null  datetime64[ns]\n",
      " 1   Passenger Count  50730 non-null  int64         \n",
      "dtypes: datetime64[ns](1), int64(1)\n",
      "memory usage: 792.8 KB\n"
     ]
    }
   ],
   "source": [
    "airtraffic.info()"
   ]
  },
  {
   "cell_type": "code",
   "execution_count": null,
   "id": "221ae881",
   "metadata": {},
   "outputs": [],
   "source": [
    "data"
   ]
  },
  {
   "cell_type": "code",
   "execution_count": null,
   "id": "5fc6c74d",
   "metadata": {},
   "outputs": [],
   "source": [
    "# Resample Time Series into different Time Frequences\n",
    "# \"60Min\" - hour, \"D\" - Daily, \"M\" - Monthly, \"Q\" - Quarterly, \"A\" - Annual\n",
    "\n",
    "# Statistical Function typically sum() or mean() or median() must be given.\n",
    "\n",
    "# After Resampling Date will be indexed into Row."
   ]
  },
  {
   "cell_type": "code",
   "execution_count": null,
   "id": "d82d0397",
   "metadata": {},
   "outputs": [],
   "source": [
    "airtraffic_monthly = airtraffic.resample(\"M\",on=\"Activity Period\").sum()"
   ]
  },
  {
   "cell_type": "code",
   "execution_count": null,
   "id": "7d8b989b",
   "metadata": {},
   "outputs": [],
   "source": [
    "airtraffic_monthly.head()"
   ]
  },
  {
   "cell_type": "code",
   "execution_count": null,
   "id": "c4e809b5",
   "metadata": {},
   "outputs": [],
   "source": [
    "airtraffic_monthly.tail()"
   ]
  },
  {
   "cell_type": "code",
   "execution_count": null,
   "id": "282e5718",
   "metadata": {},
   "outputs": [],
   "source": [
    "plt.figure(figsize=(20,8))\n",
    "airtraffic_monthly.plot(kind='line')"
   ]
  },
  {
   "cell_type": "code",
   "execution_count": null,
   "id": "c3b2633b",
   "metadata": {},
   "outputs": [],
   "source": [
    "# Univariate Time Series Forecasting - Data must be stationary. Stationary means contant mean, conatant variance and \n",
    "# constant covariance.\n",
    "\n",
    "# Typically Time shoud not effect data is Stationarity.\n",
    "\n",
    "# Time series with trends, or with seasonality, are not stationary - the trend and seasonality will affect the value of the time\n",
    "# series at different times.\n",
    "\n",
    "# Trends - Up, Down, Horizontal or Neutral\n",
    "\n",
    "# Seasonality - Based on 4 seasons - Summer, Rainy, Spring, Winter."
   ]
  },
  {
   "attachments": {
    "image.png": {
     "image/png": "[encoded data removed]"
    }
   },
   "cell_type": "markdown",
   "id": "5f5db4e5",
   "metadata": {},
   "source": [
    "![image.png](attachment:image.png)"
   ]
  },
  {
   "cell_type": "code",
   "execution_count": null,
   "id": "12ef3c3a",
   "metadata": {},
   "outputs": [],
   "source": [
    "# Augmented Dickey Fuller Test of Stationarity - Identifies the whether the stationary data is Stationary or Not.\n",
    "# Null - Unit Root Present or Data is not Stationary.\n",
    "# Alt  - No Unit Root or Data is Stationary\n",
    "\n",
    "# A unit root process is a data-generating process whose first difference is stationary. In other words, \n",
    "# a unit root process yt has the form.\n",
    "# yt = yt-1 + stationary process.\n",
    "\n",
    "# Interpretation is baesd on p-value\n",
    "# p-value less than 0.05, Reject Null\n",
    "# p-value greater than 0.05, Fail to Reject Null"
   ]
  },
  {
   "cell_type": "code",
   "execution_count": null,
   "id": "39d92572",
   "metadata": {},
   "outputs": [],
   "source": [
    "from statsmodels.tsa.stattools import adfuller"
   ]
  },
  {
   "cell_type": "code",
   "execution_count": null,
   "id": "c22373c3",
   "metadata": {},
   "outputs": [],
   "source": [
    "adfuller(airtraffic_monthly)\n",
    "# Since the value of p = 0.1943512840260691 is greater than 0.05, fail to reject."
   ]
  },
  {
   "cell_type": "code",
   "execution_count": null,
   "id": "b845143a",
   "metadata": {},
   "outputs": [],
   "source": [
    "# Kwiatkowaski-Phillips-Schmidt-Schmidt-Shin(KPSS) test for stationaryity.\n",
    "# null hypothesis that x is level or trend stationary.\n",
    "# Alt hypothessis that x is not level or not trend stationary.\n",
    "\n",
    "from statsmodels.tsa.stattools import kpss"
   ]
  },
  {
   "cell_type": "code",
   "execution_count": null,
   "id": "332a8455",
   "metadata": {},
   "outputs": [],
   "source": [
    "kpss(airtraffic_monthly)\n",
    "# Since p-value = 0.1, is greater than 0.05, Fail to Reject Null."
   ]
  },
  {
   "cell_type": "code",
   "execution_count": null,
   "id": "7b4a0eb2",
   "metadata": {},
   "outputs": [],
   "source": [
    "# if data is not staionary Differencing must be done\n",
    "# y -          1,2,3,4,5,6,7,8,9,10\n",
    "# lag 1 of y -  1,2,3,4,5,6,7,8,9,10\n",
    "# lag 2 of y -   1,2,3,4,5,6,7,8,9,10"
   ]
  },
  {
   "cell_type": "code",
   "execution_count": null,
   "id": "1f44a6a3",
   "metadata": {},
   "outputs": [],
   "source": [
    "airtraffic_monthly_diff = airtraffic_monthly.diff()"
   ]
  },
  {
   "cell_type": "code",
   "execution_count": null,
   "id": "5a7fdd47",
   "metadata": {},
   "outputs": [],
   "source": [
    "airtraffic_monthly_diff = airtraffic_monthly_diff.dropna()"
   ]
  },
  {
   "cell_type": "code",
   "execution_count": null,
   "id": "d4c42748",
   "metadata": {},
   "outputs": [],
   "source": [
    "airtraffic_monthly_diff.plot(kind='line')"
   ]
  },
  {
   "cell_type": "code",
   "execution_count": null,
   "id": "1c279d9e",
   "metadata": {},
   "outputs": [],
   "source": [
    "adfuller(airtraffic_monthly_diff)"
   ]
  },
  {
   "cell_type": "code",
   "execution_count": null,
   "id": "a89aac6f",
   "metadata": {},
   "outputs": [],
   "source": [
    "kpss(airtraffic_monthly_diff)"
   ]
  },
  {
   "cell_type": "code",
   "execution_count": null,
   "id": "69ed5862",
   "metadata": {},
   "outputs": [],
   "source": [
    "# Decomposition of Time Series - Breaking Time Series into components \n",
    "# a) Trend - Up, Down, Neutral or Horizontal\n",
    "# b) Seasonal - Based on 4 Seasons\n",
    "# c) Cyclicality - Long Term Trend (8-12 years) - Business Cycle\n",
    "# d) Random or Residual - Error y and lagged values of y\n",
    "\n",
    "# Holt - Winters Method of Decomposition\n",
    "# Additive Model (Non Seasonal Data) - yt = Tr+St+Ct+Rt\n",
    "# Multiplcative Model (Seasonal Data) - yt = Tr*St*Ct*Rt"
   ]
  },
  {
   "cell_type": "code",
   "execution_count": null,
   "id": "fde4b175",
   "metadata": {},
   "outputs": [],
   "source": [
    "from statsmodels.tsa.seasonal import seasonal_decompose"
   ]
  },
  {
   "cell_type": "code",
   "execution_count": null,
   "id": "d3b4a21b",
   "metadata": {},
   "outputs": [],
   "source": [
    "seasonal_decompose(airtraffic_monthly_diff).plot()"
   ]
  },
  {
   "cell_type": "code",
   "execution_count": null,
   "id": "4de3b3e4",
   "metadata": {},
   "outputs": [],
   "source": [
    "# Univariate Time Series Forecasting - Many methods are there like \n",
    "# Simple Moving Average, Exponential Moving Average, Exponential Smoothing, Holt Winters and most importantly ARIMA.\n",
    "\n",
    "# ARIMA - Autoregressive Integrated Moving Average: is a linear regression model with 2 equations for forecasting for future \n",
    "# time periods based on historical time periods.\n",
    "\n",
    "# 2 Types of ARIMA\n",
    "# 1) Non Seasonal ARIMA - ARIMA(p,d,q) - p,d,q are lags between 0,0,0 till 5,2,5.\n",
    "# 2) Seasonal ARIMA - SARIMAX(p,d,q)[P,D,Q][time frequency] are seasonal parameters\n",
    "\n",
    "# AR(P) - Autoregressor is linear relationship between y and lagged values of y.\n",
    "# I (d) - Integrated refers to differencing to be done to bring data to stationary.\n",
    "# MA(q) - Moving Average is linear relationship between errors and lagged errors or residuals.\n",
    "\n",
    "# In ARIMA identiying the values for p,d,q are very critical d is the differencing that is done that lies between 0 to 2.\n",
    "\n",
    "# The ACF plot or Autocorrelation plot identiies the lag value for MA(q)\n",
    "# The PACF plot or Partial Autocorrelation plot identiies the lag value for AR(p)\n",
    "\n",
    "# Blue are depicts 95% confidence level and indicates significance.Anything within blue area is statistcally close to zero and \n",
    "# anything above is statistically close to non zero.\n",
    "\n",
    "# From ACF plot the first lag where there is a big change - value of q \n",
    "# from PACF plot the first where in becomes negative - value of p"
   ]
  },
  {
   "cell_type": "code",
   "execution_count": null,
   "id": "19e43846",
   "metadata": {},
   "outputs": [],
   "source": [
    "from statsmodels.graphics.tsaplots import plot_acf,plot_pacf"
   ]
  },
  {
   "cell_type": "code",
   "execution_count": null,
   "id": "aef538c9",
   "metadata": {},
   "outputs": [],
   "source": [
    "plot_acf(airtraffic_monthly_diff)"
   ]
  },
  {
   "cell_type": "code",
   "execution_count": null,
   "id": "9ec00233",
   "metadata": {},
   "outputs": [],
   "source": [
    "plot_pacf(airtraffic_monthly_diff)"
   ]
  },
  {
   "cell_type": "code",
   "execution_count": null,
   "id": "07995e79",
   "metadata": {},
   "outputs": [],
   "source": [
    "# Auto ARIMA is a function in pmdarima library that tries all combincations of p,q,d values from 0,0,0 till 5,2,5.\n",
    "# Lagorder combination of p,q,d that has the least Alkaikas Information Criterion(AIC) is the best fit lag order\n",
    "\n",
    "# By default builds SARIMAX model.\n",
    "!pip install pmdarima"
   ]
  },
  {
   "cell_type": "code",
   "execution_count": null,
   "id": "f32b0984",
   "metadata": {},
   "outputs": [],
   "source": [
    "from pmdarima.arima import auto_arima"
   ]
  },
  {
   "cell_type": "code",
   "execution_count": null,
   "id": "a08bed19",
   "metadata": {},
   "outputs": [],
   "source": [
    "arima_model = auto_arima(airtraffic_monthly, start_p=0, start_q = 0)"
   ]
  },
  {
   "cell_type": "code",
   "execution_count": null,
   "id": "5148be62",
   "metadata": {},
   "outputs": [],
   "source": [
    "arima_model.summary()\n",
    "# SARIMAX(0,1,0) = Non Seasonal Model\n",
    "# AIC - 6279.860\n",
    "\n"
   ]
  },
  {
   "cell_type": "code",
   "execution_count": null,
   "id": "c47743ea",
   "metadata": {},
   "outputs": [],
   "source": [
    "# Ljung Box test of residulas\n",
    "\n",
    "# null - Model doesnot show lac of fit or model if Fine\n",
    "# Al   - Model Does show Lack of Fit or model is fron Fine.\n",
    "\n",
    "# p-value must be greter than 0.05, Failto Reject null.\n",
    "\n",
    "# Since Prob(Q): 0.34 is greater than 0.05, fail to Reject Null."
   ]
  },
  {
   "cell_type": "code",
   "execution_count": null,
   "id": "4c778b95",
   "metadata": {},
   "outputs": [],
   "source": [
    "arima_model.predict(n_periods=24)"
   ]
  },
  {
   "cell_type": "code",
   "execution_count": null,
   "id": "038b4967",
   "metadata": {},
   "outputs": [],
   "source": [
    "plt.figure(figsize=(18,6))\n",
    "arima_model.plot_diagnostics()"
   ]
  },
  {
   "cell_type": "code",
   "execution_count": null,
   "id": "2b05baf4",
   "metadata": {},
   "outputs": [],
   "source": [
    "index_of_fc = pd.date_range(airtraffic_monthly.index[-1],periods =24,freq='M')"
   ]
  },
  {
   "cell_type": "code",
   "execution_count": null,
   "id": "cd8c1028",
   "metadata": {},
   "outputs": [],
   "source": [
    "arimapredict =  pd.DataFrame(arima_model.predict(n_periods=24))"
   ]
  },
  {
   "cell_type": "code",
   "execution_count": null,
   "id": "6c1bb8b1",
   "metadata": {},
   "outputs": [],
   "source": [
    "arimapredict.index = index_of_fc"
   ]
  },
  {
   "cell_type": "code",
   "execution_count": null,
   "id": "c3bb6220",
   "metadata": {},
   "outputs": [],
   "source": [
    "plt.plot(airtraffic_monthly,label='Actual')\n",
    "plt.plot(arimapredict,label='Forecast')\n",
    "plt.legend()\n",
    "plt.show()"
   ]
  },
  {
   "cell_type": "code",
   "execution_count": null,
   "id": "58a8e328",
   "metadata": {},
   "outputs": [],
   "source": [
    "!pip install prophet"
   ]
  },
  {
   "cell_type": "code",
   "execution_count": null,
   "id": "be39754f",
   "metadata": {},
   "outputs": [],
   "source": [
    "from prophet import Prophet"
   ]
  },
  {
   "cell_type": "code",
   "execution_count": null,
   "id": "732ad0d3",
   "metadata": {},
   "outputs": [],
   "source": [
    "airtraffic_monthly =  airtraffic_monthly.reset_index()"
   ]
  },
  {
   "cell_type": "code",
   "execution_count": null,
   "id": "2a32dc11",
   "metadata": {},
   "outputs": [],
   "source": [
    "airtraffic_monthly.columns=['ds','y']"
   ]
  },
  {
   "cell_type": "code",
   "execution_count": null,
   "id": "0f61bf34",
   "metadata": {},
   "outputs": [],
   "source": [
    "airtraffic_monthly"
   ]
  },
  {
   "cell_type": "code",
   "execution_count": null,
   "id": "db6d4249",
   "metadata": {},
   "outputs": [],
   "source": [
    "m = prophet()\n",
    "m.fit(airtraffic_monthly)"
   ]
  },
  {
   "cell_type": "code",
   "execution_count": null,
   "id": "611400b4",
   "metadata": {},
   "outputs": [],
   "source": [
    "future = m.make_future_dataframe(periods=24)"
   ]
  },
  {
   "cell_type": "code",
   "execution_count": null,
   "id": "697dcb46",
   "metadata": {},
   "outputs": [],
   "source": [
    "forecast = m.predict(future)\n",
    "np.round(forecast[['ds','yhat','yhat_lower','yhat_upper']]).tail()"
   ]
  },
  {
   "cell_type": "code",
   "execution_count": null,
   "id": "a83d5b75",
   "metadata": {},
   "outputs": [],
   "source": [
    "airtraffic_monthly"
   ]
  },
  {
   "cell_type": "code",
   "execution_count": null,
   "id": "907f6e04",
   "metadata": {},
   "outputs": [],
   "source": []
  }
 ],
 "metadata": {
  "kernelspec": {
   "display_name": "Python 3 (ipykernel)",
   "language": "python",
   "name": "python3"
  },
  "language_info": {
   "codemirror_mode": {
    "name": "ipython",
    "version": 3
   },
   "file_extension": ".py",
   "mimetype": "text/x-python",
   "name": "python",
   "nbconvert_exporter": "python",
   "pygments_lexer": "ipython3",
   "version": "3.8.16"
  }
 },
 "nbformat": 4,
 "nbformat_minor": 5
}
