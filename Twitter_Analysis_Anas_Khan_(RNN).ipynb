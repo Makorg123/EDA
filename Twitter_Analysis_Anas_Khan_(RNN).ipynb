{
 "cells": [
  {
   "cell_type": "code",
   "execution_count": 5,
   "id": "b1316cf0",
   "metadata": {},
   "outputs": [],
   "source": [
    "import pandas as pd\n",
    "import numpy as np\n",
    "import matplotlib.pyplot as plt\n",
    "import seaborn as sns\n",
    "\n",
    "from sklearn.model_selection import train_test_split\n",
    "from tensorflow.keras.preprocessing.text import Tokenizer\n",
    "from tensorflow.keras.preprocessing.sequence import pad_sequences\n",
    "from tensorflow.keras.models import Sequential\n",
    "from tensorflow.keras.layers import Embedding, SimpleRNN, Dense\n",
    "from tensorflow.keras.optimizers import Adam"
   ]
  },
  {
   "cell_type": "code",
   "execution_count": 2,
   "id": "75dfffe0",
   "metadata": {},
   "outputs": [],
   "source": [
    "train_df = pd.read_csv('tweets_train.csv')"
   ]
  },
  {
   "cell_type": "code",
   "execution_count": 3,
   "id": "143227c2",
   "metadata": {},
   "outputs": [],
   "source": [
    "test_df  = pd.read_csv('tweets_test.csv')"
   ]
  },
  {
   "cell_type": "code",
   "execution_count": 9,
   "id": "3f02606b",
   "metadata": {},
   "outputs": [
    {
     "data": {
      "text/plain": [
       "(17000, 14)"
      ]
     },
     "execution_count": 9,
     "metadata": {},
     "output_type": "execute_result"
    }
   ],
   "source": [
    "train_df.shape"
   ]
  },
  {
   "cell_type": "code",
   "execution_count": 7,
   "id": "87a5aba5",
   "metadata": {},
   "outputs": [
    {
     "data": {
      "text/html": [
       "<div>\n",
       "<style scoped>\n",
       "    .dataframe tbody tr th:only-of-type {\n",
       "        vertical-align: middle;\n",
       "    }\n",
       "\n",
       "    .dataframe tbody tr th {\n",
       "        vertical-align: top;\n",
       "    }\n",
       "\n",
       "    .dataframe thead th {\n",
       "        text-align: right;\n",
       "    }\n",
       "</style>\n",
       "<table border=\"1\" class=\"dataframe\">\n",
       "  <thead>\n",
       "    <tr style=\"text-align: right;\">\n",
       "      <th></th>\n",
       "      <th>user_name</th>\n",
       "      <th>user_location</th>\n",
       "      <th>user_description</th>\n",
       "      <th>user_created</th>\n",
       "      <th>user_followers</th>\n",
       "      <th>user_friends</th>\n",
       "      <th>user_favourites</th>\n",
       "      <th>user_verified</th>\n",
       "      <th>date</th>\n",
       "      <th>hashtags</th>\n",
       "      <th>source</th>\n",
       "      <th>is_retweet</th>\n",
       "      <th>clean_text</th>\n",
       "      <th>Sentiment</th>\n",
       "    </tr>\n",
       "  </thead>\n",
       "  <tbody>\n",
       "    <tr>\n",
       "      <th>0</th>\n",
       "      <td>Romy 👑</td>\n",
       "      <td>Bolton - England</td>\n",
       "      <td>Tables turn, bridges burn, you live and learn.</td>\n",
       "      <td>2009-06-15 09:00:39</td>\n",
       "      <td>525</td>\n",
       "      <td>896</td>\n",
       "      <td>3854</td>\n",
       "      <td>False</td>\n",
       "      <td>2020-09-19 15:19:32</td>\n",
       "      <td>['TheSocialDilemma']</td>\n",
       "      <td>Twitter for Android</td>\n",
       "      <td>False</td>\n",
       "      <td>TheSocialDilemma is an eye opener isn t it ple...</td>\n",
       "      <td>Neutral</td>\n",
       "    </tr>\n",
       "    <tr>\n",
       "      <th>1</th>\n",
       "      <td>TLynn Peterson</td>\n",
       "      <td>Black Canyon City, Arizona</td>\n",
       "      <td>Acquired disability ♿ after an accident. Livin...</td>\n",
       "      <td>2013-05-29 00:17:46</td>\n",
       "      <td>5045</td>\n",
       "      <td>5374</td>\n",
       "      <td>48152</td>\n",
       "      <td>False</td>\n",
       "      <td>2020-09-13 00:31:46</td>\n",
       "      <td>['TheSocialDilemma']</td>\n",
       "      <td>Twitter for Android</td>\n",
       "      <td>False</td>\n",
       "      <td>TheSocialDilemma If we don t agree on what is ...</td>\n",
       "      <td>Positive</td>\n",
       "    </tr>\n",
       "  </tbody>\n",
       "</table>\n",
       "</div>"
      ],
      "text/plain": [
       "        user_name               user_location  \\\n",
       "0          Romy 👑            Bolton - England   \n",
       "1  TLynn Peterson  Black Canyon City, Arizona   \n",
       "\n",
       "                                    user_description         user_created  \\\n",
       "0     Tables turn, bridges burn, you live and learn.  2009-06-15 09:00:39   \n",
       "1  Acquired disability ♿ after an accident. Livin...  2013-05-29 00:17:46   \n",
       "\n",
       "   user_followers  user_friends  user_favourites  user_verified  \\\n",
       "0             525           896             3854          False   \n",
       "1            5045          5374            48152          False   \n",
       "\n",
       "                  date              hashtags               source  is_retweet  \\\n",
       "0  2020-09-19 15:19:32  ['TheSocialDilemma']  Twitter for Android       False   \n",
       "1  2020-09-13 00:31:46  ['TheSocialDilemma']  Twitter for Android       False   \n",
       "\n",
       "                                          clean_text Sentiment  \n",
       "0  TheSocialDilemma is an eye opener isn t it ple...   Neutral  \n",
       "1  TheSocialDilemma If we don t agree on what is ...  Positive  "
      ]
     },
     "execution_count": 7,
     "metadata": {},
     "output_type": "execute_result"
    }
   ],
   "source": [
    "train_df.head(2)"
   ]
  },
  {
   "cell_type": "code",
   "execution_count": 11,
   "id": "78509f1c",
   "metadata": {},
   "outputs": [
    {
     "data": {
      "text/plain": [
       "user_name              1\n",
       "user_location       3607\n",
       "user_description    1162\n",
       "user_created           0\n",
       "user_followers         0\n",
       "user_friends           0\n",
       "user_favourites        0\n",
       "user_verified          0\n",
       "date                   0\n",
       "hashtags            3649\n",
       "source                 0\n",
       "is_retweet             0\n",
       "clean_text             8\n",
       "Sentiment              0\n",
       "dtype: int64"
      ]
     },
     "execution_count": 11,
     "metadata": {},
     "output_type": "execute_result"
    }
   ],
   "source": [
    "train_df.isnull().sum()"
   ]
  },
  {
   "cell_type": "markdown",
   "id": "55ed151f",
   "metadata": {},
   "source": [
    "#### Handle NaN values in the 'clean_text' column"
   ]
  },
  {
   "cell_type": "code",
   "execution_count": 12,
   "id": "70ff4e05",
   "metadata": {},
   "outputs": [],
   "source": [
    "train_df['clean_text'].fillna('', inplace=True)"
   ]
  },
  {
   "cell_type": "code",
   "execution_count": 22,
   "id": "48b9c201",
   "metadata": {},
   "outputs": [],
   "source": [
    "test_df['clean_text'].fillna('', inplace=True)"
   ]
  },
  {
   "cell_type": "markdown",
   "id": "fef0f034",
   "metadata": {},
   "source": [
    "#### Data Preprocessing"
   ]
  },
  {
   "cell_type": "code",
   "execution_count": 13,
   "id": "9619f4ac",
   "metadata": {},
   "outputs": [],
   "source": [
    "tokenizer = Tokenizer()\n",
    "tokenizer.fit_on_texts(train_df['clean_text'])\n",
    "X = tokenizer.texts_to_sequences(train_df['clean_text'])\n",
    "X = pad_sequences(X, maxlen=50) "
   ]
  },
  {
   "cell_type": "markdown",
   "id": "936654a4",
   "metadata": {},
   "source": [
    "#### Convert sentiment labels to numerical values"
   ]
  },
  {
   "cell_type": "code",
   "execution_count": 15,
   "id": "a192c521",
   "metadata": {},
   "outputs": [],
   "source": [
    "train_df['Sentiment'] = pd.Categorical(train_df['Sentiment'])\n",
    "train_df['Sentiment'] = train_df['Sentiment'].cat.codes"
   ]
  },
  {
   "cell_type": "code",
   "execution_count": 16,
   "id": "075af639",
   "metadata": {},
   "outputs": [],
   "source": [
    "y = train_df['Sentiment']"
   ]
  },
  {
   "cell_type": "markdown",
   "id": "cd3ed8b7",
   "metadata": {},
   "source": [
    "#### Split the data into training and validation sets"
   ]
  },
  {
   "cell_type": "code",
   "execution_count": 17,
   "id": "5cc41243",
   "metadata": {},
   "outputs": [],
   "source": [
    "X_train, X_val, y_train, y_val = train_test_split(X, y, test_size=0.2, random_state=42)"
   ]
  },
  {
   "cell_type": "markdown",
   "id": "fe7ec728",
   "metadata": {},
   "source": [
    "#### Build the RNN Model"
   ]
  },
  {
   "cell_type": "code",
   "execution_count": 18,
   "id": "5bf92725",
   "metadata": {},
   "outputs": [],
   "source": [
    "vocab_size = len(tokenizer.word_index) + 1\n",
    "embedding_dim = 50\n",
    "\n",
    "model = Sequential([\n",
    "    Embedding(input_dim=vocab_size, output_dim=embedding_dim, input_length=50),\n",
    "    SimpleRNN(units=64, activation='relu'),\n",
    "    Dense(units=3, activation='softmax')\n",
    "])"
   ]
  },
  {
   "cell_type": "markdown",
   "id": "b6424c62",
   "metadata": {},
   "source": [
    "#### Compile the Model"
   ]
  },
  {
   "cell_type": "code",
   "execution_count": 19,
   "id": "a86ebc67",
   "metadata": {},
   "outputs": [],
   "source": [
    "model.compile(optimizer=Adam(), loss='sparse_categorical_crossentropy', metrics=['accuracy'])"
   ]
  },
  {
   "cell_type": "markdown",
   "id": "8fa5b8c2",
   "metadata": {},
   "source": [
    "#### Train the Model"
   ]
  },
  {
   "cell_type": "code",
   "execution_count": 20,
   "id": "2949f5cb",
   "metadata": {},
   "outputs": [
    {
     "name": "stdout",
     "output_type": "stream",
     "text": [
      "Epoch 1/10\n",
      "425/425 [==============================] - 6s 11ms/step - loss: 0.7013 - accuracy: 0.7051 - val_loss: 0.5232 - val_accuracy: 0.8006\n",
      "Epoch 2/10\n",
      "425/425 [==============================] - 4s 10ms/step - loss: 0.3470 - accuracy: 0.8759 - val_loss: 0.3066 - val_accuracy: 0.9050\n",
      "Epoch 3/10\n",
      "425/425 [==============================] - 4s 10ms/step - loss: 0.1854 - accuracy: 0.9418 - val_loss: 0.2932 - val_accuracy: 0.9118\n",
      "Epoch 4/10\n",
      "425/425 [==============================] - 4s 10ms/step - loss: 0.1051 - accuracy: 0.9701 - val_loss: 0.2991 - val_accuracy: 0.9144\n",
      "Epoch 5/10\n",
      "425/425 [==============================] - 4s 10ms/step - loss: 0.0709 - accuracy: 0.9799 - val_loss: 0.3308 - val_accuracy: 0.9109\n",
      "Epoch 6/10\n",
      "425/425 [==============================] - 4s 10ms/step - loss: 0.0555 - accuracy: 0.9849 - val_loss: 0.3468 - val_accuracy: 0.9147\n",
      "Epoch 7/10\n",
      "425/425 [==============================] - 4s 10ms/step - loss: 0.0488 - accuracy: 0.9862 - val_loss: 0.3632 - val_accuracy: 0.9000\n",
      "Epoch 8/10\n",
      "425/425 [==============================] - 4s 10ms/step - loss: 0.0384 - accuracy: 0.9892 - val_loss: 0.4168 - val_accuracy: 0.9100\n",
      "Epoch 9/10\n",
      "425/425 [==============================] - 4s 10ms/step - loss: 0.0479 - accuracy: 0.9862 - val_loss: 0.4103 - val_accuracy: 0.9056\n",
      "Epoch 10/10\n",
      "425/425 [==============================] - 4s 10ms/step - loss: 0.0344 - accuracy: 0.9901 - val_loss: 0.4293 - val_accuracy: 0.8947\n"
     ]
    }
   ],
   "source": [
    "history = model.fit(X_train, y_train, epochs=10, batch_size=32, validation_data=(X_val, y_val))"
   ]
  },
  {
   "cell_type": "markdown",
   "id": "0566029b",
   "metadata": {},
   "source": [
    "#### Evaluate the Model"
   ]
  },
  {
   "cell_type": "code",
   "execution_count": 21,
   "id": "9dcde24b",
   "metadata": {},
   "outputs": [
    {
     "name": "stdout",
     "output_type": "stream",
     "text": [
      "107/107 [==============================] - 0s 3ms/step - loss: 0.4293 - accuracy: 0.8947\n",
      "Validation Accuracy: 0.8947058916091919\n"
     ]
    }
   ],
   "source": [
    "accuracy = model.evaluate(X_val, y_val)[1]\n",
    "print(\"Validation Accuracy:\", accuracy)"
   ]
  },
  {
   "cell_type": "markdown",
   "id": "113ebd6f",
   "metadata": {},
   "source": [
    "#### Make Predictions on Test Data"
   ]
  },
  {
   "cell_type": "code",
   "execution_count": 23,
   "id": "a560430b",
   "metadata": {},
   "outputs": [
    {
     "name": "stdout",
     "output_type": "stream",
     "text": [
      "96/96 [==============================] - 0s 3ms/step\n"
     ]
    }
   ],
   "source": [
    "X_test = tokenizer.texts_to_sequences(test_df['clean_text'])\n",
    "X_test = pad_sequences(X_test, maxlen=50)\n",
    "predictions_test = model.predict(X_test)"
   ]
  },
  {
   "cell_type": "code",
   "execution_count": 24,
   "id": "04c24733",
   "metadata": {},
   "outputs": [
    {
     "data": {
      "text/plain": [
       "array([[4.0645502e-04, 9.9920207e-01, 3.9148142e-04],\n",
       "       [1.5633501e-04, 9.9975628e-01, 8.7328612e-05],\n",
       "       [1.1103560e-01, 1.3936437e-02, 8.7502795e-01],\n",
       "       ...,\n",
       "       [1.5195258e-02, 9.4491333e-01, 3.9891444e-02],\n",
       "       [1.3463365e-06, 3.5174850e-07, 9.9999833e-01],\n",
       "       [3.1678092e-02, 1.5011103e-01, 8.1821090e-01]], dtype=float32)"
      ]
     },
     "execution_count": 24,
     "metadata": {},
     "output_type": "execute_result"
    }
   ],
   "source": [
    "predictions_test"
   ]
  },
  {
   "cell_type": "markdown",
   "id": "4b45860a",
   "metadata": {},
   "source": [
    "#### Convert predictions to sentiment labels"
   ]
  },
  {
   "cell_type": "code",
   "execution_count": 25,
   "id": "df3ab463",
   "metadata": {},
   "outputs": [],
   "source": [
    "predicted_labels = [np.argmax(prediction) for prediction in predictions_test]"
   ]
  },
  {
   "cell_type": "markdown",
   "id": "0d8cc877",
   "metadata": {},
   "source": [
    "#### Convert numerical labels back to original sentiment labels"
   ]
  },
  {
   "cell_type": "code",
   "execution_count": 26,
   "id": "06af68d1",
   "metadata": {},
   "outputs": [],
   "source": [
    "predicted_sentiments = pd.Categorical.from_codes(predicted_labels, categories=['Negative', 'Neutral', 'Positive'])"
   ]
  },
  {
   "cell_type": "markdown",
   "id": "4b470d31",
   "metadata": {},
   "source": [
    "#### Add predicted sentiments to the test_data DataFrame"
   ]
  },
  {
   "cell_type": "code",
   "execution_count": 28,
   "id": "ff8dc068",
   "metadata": {},
   "outputs": [],
   "source": [
    "test_df['Predicted_Sentiment'] = predicted_sentiments"
   ]
  },
  {
   "cell_type": "code",
   "execution_count": 30,
   "id": "9722c953",
   "metadata": {},
   "outputs": [
    {
     "name": "stdout",
     "output_type": "stream",
     "text": [
      "                                             clean_text Predicted_Sentiment\n",
      "0              Watch theSocialDilemma then joinMastodon             Neutral\n",
      "1     With the 2019 2020 NBA season officially over ...             Neutral\n",
      "2     if you want to really know about people go tal...            Positive\n",
      "3          Have you watched TheSocialDilemma on Netflix             Neutral\n",
      "4                  Highly recommend TheSocialDilemma on            Positive\n",
      "...                                                 ...                 ...\n",
      "3063            Everybody should watch TheSocialDilemma             Neutral\n",
      "3064            Enjoyed TheSocialDilemma Then read this            Negative\n",
      "3065  Couldn t stop thinking about docu TheSocialDil...             Neutral\n",
      "3066    This was the best one by on TheSocialDilemma on            Positive\n",
      "3067                    TheSocialDilemma on Netflix wow            Positive\n",
      "\n",
      "[3068 rows x 2 columns]\n"
     ]
    }
   ],
   "source": [
    "# Print the results\n",
    "print(test_df[['clean_text', 'Predicted_Sentiment']])"
   ]
  },
  {
   "cell_type": "code",
   "execution_count": null,
   "id": "f7f81140",
   "metadata": {},
   "outputs": [],
   "source": []
  }
 ],
 "metadata": {
  "kernelspec": {
   "display_name": "Python 3 (ipykernel)",
   "language": "python",
   "name": "python3"
  },
  "language_info": {
   "codemirror_mode": {
    "name": "ipython",
    "version": 3
   },
   "file_extension": ".py",
   "mimetype": "text/x-python",
   "name": "python",
   "nbconvert_exporter": "python",
   "pygments_lexer": "ipython3",
   "version": "3.8.16"
  }
 },
 "nbformat": 4,
 "nbformat_minor": 5
}
