{
 "cells": [
  {
   "cell_type": "code",
   "execution_count": 1,
   "id": "4f3ec461",
   "metadata": {},
   "outputs": [],
   "source": [
    "# A/B Testing is a process of conducting an experiment and testing the hypothesis between\n",
    "# control and treatment groups.\n",
    "\n",
    "# Steps involved are - Designing Experiment, Collecting Data including Sample size,\n",
    "# EDA, Testing Hypothesis, Infer the test results.\n",
    "\n",
    "# Example Designed a new typeof product page and are trying to find out whether the new page\n",
    "# or old page is effective in bringing leads to business.\n",
    "\n",
    "# Formulate a Hypothesis and will conduct a 2 tail hypothesis test between the new page and old page lead generation rate\n",
    "# Po represents old page and Pn represents new page\n",
    "\n",
    "# Null - Po = Pn\n",
    "\n",
    "# Alt - Po!=Pn\n",
    "\n",
    "# Confidence level - 95% (0.05 Alpha)\n",
    "\n",
    "# Choosing Variables - 2 Groups are needed\n",
    "# Control group - They will be sown only Old page\n",
    "# Treatment group(Experimental Group) - They will be shown oly New Page\n",
    "# Dependent Variable - Lead_Generted - Yes/No\n",
    "\n",
    "# Choosing the Right Sample Size - Using a method Power Analysis \n",
    "# Power of Test (1-beta) - probability of finding a stattiscial difference between the groups \n",
    "# when the differences is actually present. Usually it is set to 0.80.\n",
    "# alpha = 0.05\n",
    "\n",
    "# Effect Size - How big differences is expected between the groups lead generation (percentage)"
   ]
  },
  {
   "cell_type": "code",
   "execution_count": 2,
   "id": "0f6ff88b",
   "metadata": {},
   "outputs": [],
   "source": [
    "import numpy as np\n",
    "import pandas as pd\n",
    "import matplotlib.pyplot as plt"
   ]
  },
  {
   "cell_type": "code",
   "execution_count": 3,
   "id": "ac91773d",
   "metadata": {},
   "outputs": [],
   "source": [
    "abdf = pd.read_csv('ab_data.csv')"
   ]
  },
  {
   "cell_type": "code",
   "execution_count": 6,
   "id": "e3fb6035",
   "metadata": {},
   "outputs": [
    {
     "data": {
      "text/plain": [
       "(294478, 5)"
      ]
     },
     "execution_count": 6,
     "metadata": {},
     "output_type": "execute_result"
    }
   ],
   "source": [
    "abdf.shape"
   ]
  },
  {
   "cell_type": "code",
   "execution_count": 4,
   "id": "b92c2f66",
   "metadata": {},
   "outputs": [
    {
     "name": "stdout",
     "output_type": "stream",
     "text": [
      "<class 'pandas.core.frame.DataFrame'>\n",
      "RangeIndex: 294478 entries, 0 to 294477\n",
      "Data columns (total 5 columns):\n",
      " #   Column        Non-Null Count   Dtype \n",
      "---  ------        --------------   ----- \n",
      " 0   user_id       294478 non-null  int64 \n",
      " 1   timestamp     294478 non-null  object\n",
      " 2   group         294478 non-null  object\n",
      " 3   landing_page  294478 non-null  object\n",
      " 4   converted     294478 non-null  int64 \n",
      "dtypes: int64(2), object(3)\n",
      "memory usage: 11.2+ MB\n"
     ]
    }
   ],
   "source": [
    "abdf.info()"
   ]
  },
  {
   "cell_type": "code",
   "execution_count": 7,
   "id": "94d1bd0c",
   "metadata": {},
   "outputs": [
    {
     "data": {
      "text/plain": [
       "user_id         0\n",
       "timestamp       0\n",
       "group           0\n",
       "landing_page    0\n",
       "converted       0\n",
       "dtype: int64"
      ]
     },
     "execution_count": 7,
     "metadata": {},
     "output_type": "execute_result"
    }
   ],
   "source": [
    "abdf.isnull().sum()"
   ]
  },
  {
   "cell_type": "code",
   "execution_count": 8,
   "id": "bfac2c90",
   "metadata": {},
   "outputs": [
    {
     "data": {
      "text/html": [
       "<div>\n",
       "<style scoped>\n",
       "    .dataframe tbody tr th:only-of-type {\n",
       "        vertical-align: middle;\n",
       "    }\n",
       "\n",
       "    .dataframe tbody tr th {\n",
       "        vertical-align: top;\n",
       "    }\n",
       "\n",
       "    .dataframe thead th {\n",
       "        text-align: right;\n",
       "    }\n",
       "</style>\n",
       "<table border=\"1\" class=\"dataframe\">\n",
       "  <thead>\n",
       "    <tr style=\"text-align: right;\">\n",
       "      <th></th>\n",
       "      <th>user_id</th>\n",
       "      <th>timestamp</th>\n",
       "      <th>group</th>\n",
       "      <th>landing_page</th>\n",
       "      <th>converted</th>\n",
       "    </tr>\n",
       "  </thead>\n",
       "  <tbody>\n",
       "    <tr>\n",
       "      <th>0</th>\n",
       "      <td>851104</td>\n",
       "      <td>2017-01-21 22:11:48.556739</td>\n",
       "      <td>control</td>\n",
       "      <td>old_page</td>\n",
       "      <td>0</td>\n",
       "    </tr>\n",
       "    <tr>\n",
       "      <th>1</th>\n",
       "      <td>804228</td>\n",
       "      <td>2017-01-12 08:01:45.159739</td>\n",
       "      <td>control</td>\n",
       "      <td>old_page</td>\n",
       "      <td>0</td>\n",
       "    </tr>\n",
       "    <tr>\n",
       "      <th>2</th>\n",
       "      <td>661590</td>\n",
       "      <td>2017-01-11 16:55:06.154213</td>\n",
       "      <td>treatment</td>\n",
       "      <td>new_page</td>\n",
       "      <td>0</td>\n",
       "    </tr>\n",
       "    <tr>\n",
       "      <th>3</th>\n",
       "      <td>853541</td>\n",
       "      <td>2017-01-08 18:28:03.143765</td>\n",
       "      <td>treatment</td>\n",
       "      <td>new_page</td>\n",
       "      <td>0</td>\n",
       "    </tr>\n",
       "    <tr>\n",
       "      <th>4</th>\n",
       "      <td>864975</td>\n",
       "      <td>2017-01-21 01:52:26.210827</td>\n",
       "      <td>control</td>\n",
       "      <td>old_page</td>\n",
       "      <td>1</td>\n",
       "    </tr>\n",
       "  </tbody>\n",
       "</table>\n",
       "</div>"
      ],
      "text/plain": [
       "   user_id                   timestamp      group landing_page  converted\n",
       "0   851104  2017-01-21 22:11:48.556739    control     old_page          0\n",
       "1   804228  2017-01-12 08:01:45.159739    control     old_page          0\n",
       "2   661590  2017-01-11 16:55:06.154213  treatment     new_page          0\n",
       "3   853541  2017-01-08 18:28:03.143765  treatment     new_page          0\n",
       "4   864975  2017-01-21 01:52:26.210827    control     old_page          1"
      ]
     },
     "execution_count": 8,
     "metadata": {},
     "output_type": "execute_result"
    }
   ],
   "source": [
    "abdf.head()"
   ]
  },
  {
   "cell_type": "code",
   "execution_count": 10,
   "id": "7233e190",
   "metadata": {},
   "outputs": [],
   "source": [
    "# Calculating Required Sample Size\n",
    "\n",
    "from statsmodels.stats.api import NormalIndPower,proportion_effectsize\n",
    "effct_size = proportion_effectsize(0.13, 0.15) # Estimated Effect Size(13-15%)\n",
    "required_sample = NormalIndPower().solve_power(effect_size=effct_size, power=0.80, alpha=0.05,ratio=1)"
   ]
  },
  {
   "cell_type": "code",
   "execution_count": 12,
   "id": "bf9161dd",
   "metadata": {},
   "outputs": [],
   "source": [
    "required_sample = np.ceil(required_sample)"
   ]
  },
  {
   "cell_type": "code",
   "execution_count": 13,
   "id": "7785e26d",
   "metadata": {},
   "outputs": [],
   "source": [
    "sess_counts = abdf.user_id.value_counts(ascending=False)"
   ]
  },
  {
   "cell_type": "code",
   "execution_count": 14,
   "id": "0737ac44",
   "metadata": {},
   "outputs": [],
   "source": [
    "duplicate = sess_counts[sess_counts>1].count()"
   ]
  },
  {
   "cell_type": "code",
   "execution_count": 15,
   "id": "96a30e1b",
   "metadata": {},
   "outputs": [
    {
     "data": {
      "text/plain": [
       "3894"
      ]
     },
     "execution_count": 15,
     "metadata": {},
     "output_type": "execute_result"
    }
   ],
   "source": [
    "duplicate"
   ]
  },
  {
   "cell_type": "code",
   "execution_count": 16,
   "id": "86d79560",
   "metadata": {},
   "outputs": [],
   "source": [
    "duplicate_users = sess_counts[sess_counts>1].index"
   ]
  },
  {
   "cell_type": "code",
   "execution_count": 17,
   "id": "5d7a86a4",
   "metadata": {},
   "outputs": [],
   "source": [
    "abdf = abdf[~abdf.user_id.isin(duplicate_users)]"
   ]
  },
  {
   "cell_type": "code",
   "execution_count": 18,
   "id": "6221d64b",
   "metadata": {},
   "outputs": [
    {
     "name": "stdout",
     "output_type": "stream",
     "text": [
      "<class 'pandas.core.frame.DataFrame'>\n",
      "Int64Index: 286690 entries, 0 to 294477\n",
      "Data columns (total 5 columns):\n",
      " #   Column        Non-Null Count   Dtype \n",
      "---  ------        --------------   ----- \n",
      " 0   user_id       286690 non-null  int64 \n",
      " 1   timestamp     286690 non-null  object\n",
      " 2   group         286690 non-null  object\n",
      " 3   landing_page  286690 non-null  object\n",
      " 4   converted     286690 non-null  int64 \n",
      "dtypes: int64(2), object(3)\n",
      "memory usage: 13.1+ MB\n"
     ]
    }
   ],
   "source": [
    "abdf.info()"
   ]
  },
  {
   "cell_type": "code",
   "execution_count": 19,
   "id": "735c41da",
   "metadata": {},
   "outputs": [],
   "source": [
    "control_sample = abdf[abdf.group==\"control\"].sample(n=required_sample.astype(int),random_state=42)"
   ]
  },
  {
   "cell_type": "code",
   "execution_count": 20,
   "id": "39781d1c",
   "metadata": {},
   "outputs": [],
   "source": [
    "experimental_sample = abdf[abdf.group==\"treatment\"].sample(n=required_sample.astype(int),random_state=42)"
   ]
  },
  {
   "cell_type": "code",
   "execution_count": 21,
   "id": "16de92f8",
   "metadata": {},
   "outputs": [],
   "source": [
    "ab_test = pd.concat([control_sample, experimental_sample],axis = 0)"
   ]
  },
  {
   "cell_type": "code",
   "execution_count": 22,
   "id": "9fdf569a",
   "metadata": {},
   "outputs": [],
   "source": [
    "ab_test.reset_index(drop=True,inplace=True)"
   ]
  },
  {
   "cell_type": "code",
   "execution_count": 23,
   "id": "884eb298",
   "metadata": {},
   "outputs": [
    {
     "data": {
      "text/plain": [
       "control      4720\n",
       "treatment    4720\n",
       "Name: group, dtype: int64"
      ]
     },
     "execution_count": 23,
     "metadata": {},
     "output_type": "execute_result"
    }
   ],
   "source": [
    "ab_test.group.value_counts()"
   ]
  },
  {
   "cell_type": "code",
   "execution_count": 28,
   "id": "64b2210a",
   "metadata": {},
   "outputs": [],
   "source": [
    "control_results = ab_test[ab_test.group=='control']['converted']"
   ]
  },
  {
   "cell_type": "code",
   "execution_count": 30,
   "id": "76f5055b",
   "metadata": {},
   "outputs": [],
   "source": [
    "experimental_results = ab_test[ab_test.group=='treatment']['converted']"
   ]
  },
  {
   "cell_type": "code",
   "execution_count": 31,
   "id": "5533a3c6",
   "metadata": {},
   "outputs": [],
   "source": [
    "from statsmodels.stats.proportion import proportions_ztest"
   ]
  },
  {
   "cell_type": "code",
   "execution_count": 32,
   "id": "935a8413",
   "metadata": {},
   "outputs": [],
   "source": [
    "success = [control_results.sum(),experimental_results.sum()]"
   ]
  },
  {
   "cell_type": "code",
   "execution_count": 33,
   "id": "734e17de",
   "metadata": {},
   "outputs": [],
   "source": [
    "nobs = [control_results.count(), experimental_results.count()]"
   ]
  },
  {
   "cell_type": "code",
   "execution_count": 34,
   "id": "67359f0c",
   "metadata": {},
   "outputs": [],
   "source": [
    "z_stat,pval = proportions_ztest(success,nobs)"
   ]
  },
  {
   "cell_type": "code",
   "execution_count": 35,
   "id": "28399c7a",
   "metadata": {},
   "outputs": [
    {
     "data": {
      "text/plain": [
       "-2.0109005932696107"
      ]
     },
     "execution_count": 35,
     "metadata": {},
     "output_type": "execute_result"
    }
   ],
   "source": [
    "z_stat"
   ]
  },
  {
   "cell_type": "code",
   "execution_count": 36,
   "id": "51b36494",
   "metadata": {},
   "outputs": [
    {
     "data": {
      "text/plain": [
       "0.044335957690484505"
      ]
     },
     "execution_count": 36,
     "metadata": {},
     "output_type": "execute_result"
    }
   ],
   "source": [
    "pval #Since p-value is less than 0.05, Reject null"
   ]
  },
  {
   "cell_type": "code",
   "execution_count": null,
   "id": "0a5c92ea",
   "metadata": {},
   "outputs": [],
   "source": []
  }
 ],
 "metadata": {
  "kernelspec": {
   "display_name": "Python 3 (ipykernel)",
   "language": "python",
   "name": "python3"
  },
  "language_info": {
   "codemirror_mode": {
    "name": "ipython",
    "version": 3
   },
   "file_extension": ".py",
   "mimetype": "text/x-python",
   "name": "python",
   "nbconvert_exporter": "python",
   "pygments_lexer": "ipython3",
   "version": "3.8.16"
  }
 },
 "nbformat": 4,
 "nbformat_minor": 5
}
