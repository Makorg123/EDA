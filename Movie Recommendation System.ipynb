{
 "cells": [
  {
   "cell_type": "code",
   "execution_count": 1,
   "id": "9b25e8f2",
   "metadata": {},
   "outputs": [],
   "source": [
    "# Recommender systems - Suggest similar items based on user's profile and search or views.\n",
    "\n",
    "# 2 Types of Systems\n",
    "# 1) Collaborative Filtering - Recommedns items based on similarity measures between users or items. The basic assumption is \n",
    "#    users with similar interest have common preferences. Collaborative Filtering uses a user-item matrix to generate \n",
    "#    recommendation system. \n",
    "#    The matrix contains values that indicates users preference towards a given item. User preference values can be both\n",
    "#    a) Explicit feedback - Users Ratings, Scores, Stars, etc.\n",
    "#    b) Implicit feedback - Indirect user behaviour like number of times watched, purchased, or usage.\n",
    "\n",
    "# 2) Content Based Recommendation System - In this system overview or story or feedback or written feedback is colleced and\n",
    "#    using NLP to process the content convert into TFIDF matrix. After which Similarity is calculated using distance metrics\n",
    "#    like Cosine, Euclidean, etc. to find similar items.\n",
    "\n"
   ]
  },
  {
   "cell_type": "code",
   "execution_count": 2,
   "id": "1d5e48e7",
   "metadata": {},
   "outputs": [],
   "source": [
    "import numpy as np\n",
    "import pandas as pd\n",
    "import matplotlib.pyplot as plt"
   ]
  },
  {
   "cell_type": "code",
   "execution_count": 3,
   "id": "7c236138",
   "metadata": {},
   "outputs": [],
   "source": [
    "moviedf = pd.read_csv('movies_metadata.csv',low_memory=False)"
   ]
  },
  {
   "cell_type": "code",
   "execution_count": 5,
   "id": "2d5b72b5",
   "metadata": {},
   "outputs": [
    {
     "data": {
      "text/plain": [
       "(45466, 24)"
      ]
     },
     "execution_count": 5,
     "metadata": {},
     "output_type": "execute_result"
    }
   ],
   "source": [
    "moviedf.shape"
   ]
  },
  {
   "cell_type": "code",
   "execution_count": 4,
   "id": "f5ece68e",
   "metadata": {},
   "outputs": [
    {
     "name": "stdout",
     "output_type": "stream",
     "text": [
      "<class 'pandas.core.frame.DataFrame'>\n",
      "RangeIndex: 45466 entries, 0 to 45465\n",
      "Data columns (total 24 columns):\n",
      " #   Column                 Non-Null Count  Dtype  \n",
      "---  ------                 --------------  -----  \n",
      " 0   adult                  45466 non-null  object \n",
      " 1   belongs_to_collection  4494 non-null   object \n",
      " 2   budget                 45466 non-null  object \n",
      " 3   genres                 45466 non-null  object \n",
      " 4   homepage               7782 non-null   object \n",
      " 5   id                     45466 non-null  object \n",
      " 6   imdb_id                45449 non-null  object \n",
      " 7   original_language      45455 non-null  object \n",
      " 8   original_title         45466 non-null  object \n",
      " 9   overview               44512 non-null  object \n",
      " 10  popularity             45461 non-null  object \n",
      " 11  poster_path            45080 non-null  object \n",
      " 12  production_companies   45463 non-null  object \n",
      " 13  production_countries   45463 non-null  object \n",
      " 14  release_date           45379 non-null  object \n",
      " 15  revenue                45460 non-null  float64\n",
      " 16  runtime                45203 non-null  float64\n",
      " 17  spoken_languages       45460 non-null  object \n",
      " 18  status                 45379 non-null  object \n",
      " 19  tagline                20412 non-null  object \n",
      " 20  title                  45460 non-null  object \n",
      " 21  video                  45460 non-null  object \n",
      " 22  vote_average           45460 non-null  float64\n",
      " 23  vote_count             45460 non-null  float64\n",
      "dtypes: float64(4), object(20)\n",
      "memory usage: 8.3+ MB\n"
     ]
    }
   ],
   "source": [
    "moviedf.info()"
   ]
  },
  {
   "cell_type": "code",
   "execution_count": 6,
   "id": "a3310b7a",
   "metadata": {},
   "outputs": [
    {
     "data": {
      "text/html": [
       "<div>\n",
       "<style scoped>\n",
       "    .dataframe tbody tr th:only-of-type {\n",
       "        vertical-align: middle;\n",
       "    }\n",
       "\n",
       "    .dataframe tbody tr th {\n",
       "        vertical-align: top;\n",
       "    }\n",
       "\n",
       "    .dataframe thead th {\n",
       "        text-align: right;\n",
       "    }\n",
       "</style>\n",
       "<table border=\"1\" class=\"dataframe\">\n",
       "  <thead>\n",
       "    <tr style=\"text-align: right;\">\n",
       "      <th></th>\n",
       "      <th>revenue</th>\n",
       "      <th>runtime</th>\n",
       "      <th>vote_average</th>\n",
       "      <th>vote_count</th>\n",
       "    </tr>\n",
       "  </thead>\n",
       "  <tbody>\n",
       "    <tr>\n",
       "      <th>count</th>\n",
       "      <td>4.546000e+04</td>\n",
       "      <td>45203.000000</td>\n",
       "      <td>45460.000000</td>\n",
       "      <td>45460.000000</td>\n",
       "    </tr>\n",
       "    <tr>\n",
       "      <th>mean</th>\n",
       "      <td>1.120935e+07</td>\n",
       "      <td>94.128199</td>\n",
       "      <td>5.618207</td>\n",
       "      <td>109.897338</td>\n",
       "    </tr>\n",
       "    <tr>\n",
       "      <th>std</th>\n",
       "      <td>6.433225e+07</td>\n",
       "      <td>38.407810</td>\n",
       "      <td>1.924216</td>\n",
       "      <td>491.310374</td>\n",
       "    </tr>\n",
       "    <tr>\n",
       "      <th>min</th>\n",
       "      <td>0.000000e+00</td>\n",
       "      <td>0.000000</td>\n",
       "      <td>0.000000</td>\n",
       "      <td>0.000000</td>\n",
       "    </tr>\n",
       "    <tr>\n",
       "      <th>25%</th>\n",
       "      <td>0.000000e+00</td>\n",
       "      <td>85.000000</td>\n",
       "      <td>5.000000</td>\n",
       "      <td>3.000000</td>\n",
       "    </tr>\n",
       "    <tr>\n",
       "      <th>50%</th>\n",
       "      <td>0.000000e+00</td>\n",
       "      <td>95.000000</td>\n",
       "      <td>6.000000</td>\n",
       "      <td>10.000000</td>\n",
       "    </tr>\n",
       "    <tr>\n",
       "      <th>75%</th>\n",
       "      <td>0.000000e+00</td>\n",
       "      <td>107.000000</td>\n",
       "      <td>6.800000</td>\n",
       "      <td>34.000000</td>\n",
       "    </tr>\n",
       "    <tr>\n",
       "      <th>max</th>\n",
       "      <td>2.787965e+09</td>\n",
       "      <td>1256.000000</td>\n",
       "      <td>10.000000</td>\n",
       "      <td>14075.000000</td>\n",
       "    </tr>\n",
       "  </tbody>\n",
       "</table>\n",
       "</div>"
      ],
      "text/plain": [
       "            revenue       runtime  vote_average    vote_count\n",
       "count  4.546000e+04  45203.000000  45460.000000  45460.000000\n",
       "mean   1.120935e+07     94.128199      5.618207    109.897338\n",
       "std    6.433225e+07     38.407810      1.924216    491.310374\n",
       "min    0.000000e+00      0.000000      0.000000      0.000000\n",
       "25%    0.000000e+00     85.000000      5.000000      3.000000\n",
       "50%    0.000000e+00     95.000000      6.000000     10.000000\n",
       "75%    0.000000e+00    107.000000      6.800000     34.000000\n",
       "max    2.787965e+09   1256.000000     10.000000  14075.000000"
      ]
     },
     "execution_count": 6,
     "metadata": {},
     "output_type": "execute_result"
    }
   ],
   "source": [
    "moviedf.describe()"
   ]
  },
  {
   "cell_type": "code",
   "execution_count": 8,
   "id": "3c769f09",
   "metadata": {},
   "outputs": [
    {
     "data": {
      "text/plain": [
       "adult                     0.000000\n",
       "belongs_to_collection    90.115691\n",
       "budget                    0.000000\n",
       "genres                    0.000000\n",
       "homepage                 82.883913\n",
       "id                        0.000000\n",
       "imdb_id                   0.037391\n",
       "original_language         0.024194\n",
       "original_title            0.000000\n",
       "overview                  2.098271\n",
       "popularity                0.010997\n",
       "poster_path               0.848986\n",
       "production_companies      0.006598\n",
       "production_countries      0.006598\n",
       "release_date              0.191352\n",
       "revenue                   0.013197\n",
       "runtime                   0.578454\n",
       "spoken_languages          0.013197\n",
       "status                    0.191352\n",
       "tagline                  55.104914\n",
       "title                     0.013197\n",
       "video                     0.013197\n",
       "vote_average              0.013197\n",
       "vote_count                0.013197\n",
       "dtype: float64"
      ]
     },
     "execution_count": 8,
     "metadata": {},
     "output_type": "execute_result"
    }
   ],
   "source": [
    "moviedf.isnull().sum()*100/len(moviedf)"
   ]
  },
  {
   "cell_type": "code",
   "execution_count": 10,
   "id": "2017163a",
   "metadata": {},
   "outputs": [
    {
     "data": {
      "text/plain": [
       "5.618207215134185"
      ]
     },
     "execution_count": 10,
     "metadata": {},
     "output_type": "execute_result"
    }
   ],
   "source": [
    "C = moviedf.vote_average.mean()\n",
    "C"
   ]
  },
  {
   "cell_type": "code",
   "execution_count": 13,
   "id": "2d3f3e50",
   "metadata": {},
   "outputs": [
    {
     "data": {
      "text/plain": [
       "160.0"
      ]
     },
     "execution_count": 13,
     "metadata": {},
     "output_type": "execute_result"
    }
   ],
   "source": [
    "m = moviedf.vote_count.quantile(0.90)\n",
    "m"
   ]
  },
  {
   "cell_type": "code",
   "execution_count": 14,
   "id": "1e0f3d09",
   "metadata": {},
   "outputs": [],
   "source": [
    "top_movies = moviedf.copy().loc[moviedf.vote_count>=m]"
   ]
  },
  {
   "cell_type": "code",
   "execution_count": 16,
   "id": "eb4386d5",
   "metadata": {},
   "outputs": [
    {
     "data": {
      "text/plain": [
       "(4555, 24)"
      ]
     },
     "execution_count": 16,
     "metadata": {},
     "output_type": "execute_result"
    }
   ],
   "source": [
    "top_movies.shape"
   ]
  },
  {
   "cell_type": "code",
   "execution_count": 18,
   "id": "3bbc4dd2",
   "metadata": {},
   "outputs": [],
   "source": [
    "def weighted_rating(x,m=m, C=C):\n",
    "    v = x['vote_count']\n",
    "    R = x['vote_average']\n",
    "    return (v/(v+m)*R) + (m/(m+v)*C)"
   ]
  },
  {
   "cell_type": "code",
   "execution_count": 19,
   "id": "24d203e9",
   "metadata": {},
   "outputs": [],
   "source": [
    "top_movies['weighted_rating'] = top_movies.apply(weighted_rating, axis = 1)"
   ]
  },
  {
   "cell_type": "code",
   "execution_count": 21,
   "id": "0127a5b8",
   "metadata": {},
   "outputs": [],
   "source": [
    "top_movies = top_movies.sort_values('weighted_rating', ascending = False)"
   ]
  },
  {
   "cell_type": "code",
   "execution_count": 22,
   "id": "06408e4f",
   "metadata": {},
   "outputs": [
    {
     "data": {
      "text/html": [
       "<div>\n",
       "<style scoped>\n",
       "    .dataframe tbody tr th:only-of-type {\n",
       "        vertical-align: middle;\n",
       "    }\n",
       "\n",
       "    .dataframe tbody tr th {\n",
       "        vertical-align: top;\n",
       "    }\n",
       "\n",
       "    .dataframe thead th {\n",
       "        text-align: right;\n",
       "    }\n",
       "</style>\n",
       "<table border=\"1\" class=\"dataframe\">\n",
       "  <thead>\n",
       "    <tr style=\"text-align: right;\">\n",
       "      <th></th>\n",
       "      <th>title</th>\n",
       "      <th>weighted_rating</th>\n",
       "    </tr>\n",
       "  </thead>\n",
       "  <tbody>\n",
       "    <tr>\n",
       "      <th>314</th>\n",
       "      <td>The Shawshank Redemption</td>\n",
       "      <td>8.445869</td>\n",
       "    </tr>\n",
       "    <tr>\n",
       "      <th>834</th>\n",
       "      <td>The Godfather</td>\n",
       "      <td>8.425439</td>\n",
       "    </tr>\n",
       "    <tr>\n",
       "      <th>10309</th>\n",
       "      <td>Dilwale Dulhania Le Jayenge</td>\n",
       "      <td>8.421453</td>\n",
       "    </tr>\n",
       "    <tr>\n",
       "      <th>12481</th>\n",
       "      <td>The Dark Knight</td>\n",
       "      <td>8.265477</td>\n",
       "    </tr>\n",
       "    <tr>\n",
       "      <th>2843</th>\n",
       "      <td>Fight Club</td>\n",
       "      <td>8.256385</td>\n",
       "    </tr>\n",
       "    <tr>\n",
       "      <th>292</th>\n",
       "      <td>Pulp Fiction</td>\n",
       "      <td>8.251406</td>\n",
       "    </tr>\n",
       "    <tr>\n",
       "      <th>522</th>\n",
       "      <td>Schindler's List</td>\n",
       "      <td>8.206639</td>\n",
       "    </tr>\n",
       "    <tr>\n",
       "      <th>23673</th>\n",
       "      <td>Whiplash</td>\n",
       "      <td>8.205404</td>\n",
       "    </tr>\n",
       "    <tr>\n",
       "      <th>5481</th>\n",
       "      <td>Spirited Away</td>\n",
       "      <td>8.196055</td>\n",
       "    </tr>\n",
       "    <tr>\n",
       "      <th>2211</th>\n",
       "      <td>Life Is Beautiful</td>\n",
       "      <td>8.187171</td>\n",
       "    </tr>\n",
       "  </tbody>\n",
       "</table>\n",
       "</div>"
      ],
      "text/plain": [
       "                             title  weighted_rating\n",
       "314       The Shawshank Redemption         8.445869\n",
       "834                  The Godfather         8.425439\n",
       "10309  Dilwale Dulhania Le Jayenge         8.421453\n",
       "12481              The Dark Knight         8.265477\n",
       "2843                    Fight Club         8.256385\n",
       "292                   Pulp Fiction         8.251406\n",
       "522               Schindler's List         8.206639\n",
       "23673                     Whiplash         8.205404\n",
       "5481                 Spirited Away         8.196055\n",
       "2211             Life Is Beautiful         8.187171"
      ]
     },
     "execution_count": 22,
     "metadata": {},
     "output_type": "execute_result"
    }
   ],
   "source": [
    "top_movies[['title','weighted_rating']].head(10)"
   ]
  },
  {
   "cell_type": "code",
   "execution_count": 24,
   "id": "b68ce574",
   "metadata": {},
   "outputs": [],
   "source": [
    "movie_mat = top_movies.pivot_table(index = 'id', columns='title', values='weighted_rating')"
   ]
  },
  {
   "cell_type": "code",
   "execution_count": 25,
   "id": "dd24c653",
   "metadata": {},
   "outputs": [
    {
     "data": {
      "text/html": [
       "<div>\n",
       "<style scoped>\n",
       "    .dataframe tbody tr th:only-of-type {\n",
       "        vertical-align: middle;\n",
       "    }\n",
       "\n",
       "    .dataframe tbody tr th {\n",
       "        vertical-align: top;\n",
       "    }\n",
       "\n",
       "    .dataframe thead th {\n",
       "        text-align: right;\n",
       "    }\n",
       "</style>\n",
       "<table border=\"1\" class=\"dataframe\">\n",
       "  <thead>\n",
       "    <tr style=\"text-align: right;\">\n",
       "      <th>title</th>\n",
       "      <th>'71</th>\n",
       "      <th>(500) Days of Summer</th>\n",
       "      <th>10 Cloverfield Lane</th>\n",
       "      <th>10 Things I Hate About You</th>\n",
       "      <th>10 Years</th>\n",
       "      <th>10,000 BC</th>\n",
       "      <th>101 Dalmatians</th>\n",
       "      <th>101 Dalmatians II: Patch's London Adventure</th>\n",
       "      <th>102 Dalmatians</th>\n",
       "      <th>11.22.63</th>\n",
       "      <th>...</th>\n",
       "      <th>[REC]²</th>\n",
       "      <th>[REC]³ Genesis</th>\n",
       "      <th>[REC]⁴ Apocalypse</th>\n",
       "      <th>eXistenZ</th>\n",
       "      <th>iBoy</th>\n",
       "      <th>xXx</th>\n",
       "      <th>xXx: Return of Xander Cage</th>\n",
       "      <th>xXx: State of the Union</th>\n",
       "      <th>¡Three Amigos!</th>\n",
       "      <th>Æon Flux</th>\n",
       "    </tr>\n",
       "    <tr>\n",
       "      <th>id</th>\n",
       "      <th></th>\n",
       "      <th></th>\n",
       "      <th></th>\n",
       "      <th></th>\n",
       "      <th></th>\n",
       "      <th></th>\n",
       "      <th></th>\n",
       "      <th></th>\n",
       "      <th></th>\n",
       "      <th></th>\n",
       "      <th></th>\n",
       "      <th></th>\n",
       "      <th></th>\n",
       "      <th></th>\n",
       "      <th></th>\n",
       "      <th></th>\n",
       "      <th></th>\n",
       "      <th></th>\n",
       "      <th></th>\n",
       "      <th></th>\n",
       "      <th></th>\n",
       "    </tr>\n",
       "  </thead>\n",
       "  <tbody>\n",
       "    <tr>\n",
       "      <th>100</th>\n",
       "      <td>NaN</td>\n",
       "      <td>NaN</td>\n",
       "      <td>NaN</td>\n",
       "      <td>NaN</td>\n",
       "      <td>NaN</td>\n",
       "      <td>NaN</td>\n",
       "      <td>NaN</td>\n",
       "      <td>NaN</td>\n",
       "      <td>NaN</td>\n",
       "      <td>NaN</td>\n",
       "      <td>...</td>\n",
       "      <td>NaN</td>\n",
       "      <td>NaN</td>\n",
       "      <td>NaN</td>\n",
       "      <td>NaN</td>\n",
       "      <td>NaN</td>\n",
       "      <td>NaN</td>\n",
       "      <td>NaN</td>\n",
       "      <td>NaN</td>\n",
       "      <td>NaN</td>\n",
       "      <td>NaN</td>\n",
       "    </tr>\n",
       "    <tr>\n",
       "      <th>10003</th>\n",
       "      <td>NaN</td>\n",
       "      <td>NaN</td>\n",
       "      <td>NaN</td>\n",
       "      <td>NaN</td>\n",
       "      <td>NaN</td>\n",
       "      <td>NaN</td>\n",
       "      <td>NaN</td>\n",
       "      <td>NaN</td>\n",
       "      <td>NaN</td>\n",
       "      <td>NaN</td>\n",
       "      <td>...</td>\n",
       "      <td>NaN</td>\n",
       "      <td>NaN</td>\n",
       "      <td>NaN</td>\n",
       "      <td>NaN</td>\n",
       "      <td>NaN</td>\n",
       "      <td>NaN</td>\n",
       "      <td>NaN</td>\n",
       "      <td>NaN</td>\n",
       "      <td>NaN</td>\n",
       "      <td>NaN</td>\n",
       "    </tr>\n",
       "    <tr>\n",
       "      <th>100042</th>\n",
       "      <td>NaN</td>\n",
       "      <td>NaN</td>\n",
       "      <td>NaN</td>\n",
       "      <td>NaN</td>\n",
       "      <td>NaN</td>\n",
       "      <td>NaN</td>\n",
       "      <td>NaN</td>\n",
       "      <td>NaN</td>\n",
       "      <td>NaN</td>\n",
       "      <td>NaN</td>\n",
       "      <td>...</td>\n",
       "      <td>NaN</td>\n",
       "      <td>NaN</td>\n",
       "      <td>NaN</td>\n",
       "      <td>NaN</td>\n",
       "      <td>NaN</td>\n",
       "      <td>NaN</td>\n",
       "      <td>NaN</td>\n",
       "      <td>NaN</td>\n",
       "      <td>NaN</td>\n",
       "      <td>NaN</td>\n",
       "    </tr>\n",
       "    <tr>\n",
       "      <th>10009</th>\n",
       "      <td>NaN</td>\n",
       "      <td>NaN</td>\n",
       "      <td>NaN</td>\n",
       "      <td>NaN</td>\n",
       "      <td>NaN</td>\n",
       "      <td>NaN</td>\n",
       "      <td>NaN</td>\n",
       "      <td>NaN</td>\n",
       "      <td>NaN</td>\n",
       "      <td>NaN</td>\n",
       "      <td>...</td>\n",
       "      <td>NaN</td>\n",
       "      <td>NaN</td>\n",
       "      <td>NaN</td>\n",
       "      <td>NaN</td>\n",
       "      <td>NaN</td>\n",
       "      <td>NaN</td>\n",
       "      <td>NaN</td>\n",
       "      <td>NaN</td>\n",
       "      <td>NaN</td>\n",
       "      <td>NaN</td>\n",
       "    </tr>\n",
       "    <tr>\n",
       "      <th>10010</th>\n",
       "      <td>NaN</td>\n",
       "      <td>NaN</td>\n",
       "      <td>NaN</td>\n",
       "      <td>NaN</td>\n",
       "      <td>NaN</td>\n",
       "      <td>NaN</td>\n",
       "      <td>NaN</td>\n",
       "      <td>NaN</td>\n",
       "      <td>NaN</td>\n",
       "      <td>NaN</td>\n",
       "      <td>...</td>\n",
       "      <td>NaN</td>\n",
       "      <td>NaN</td>\n",
       "      <td>NaN</td>\n",
       "      <td>NaN</td>\n",
       "      <td>NaN</td>\n",
       "      <td>NaN</td>\n",
       "      <td>NaN</td>\n",
       "      <td>NaN</td>\n",
       "      <td>NaN</td>\n",
       "      <td>NaN</td>\n",
       "    </tr>\n",
       "  </tbody>\n",
       "</table>\n",
       "<p>5 rows × 4460 columns</p>\n",
       "</div>"
      ],
      "text/plain": [
       "title   '71  (500) Days of Summer  10 Cloverfield Lane  \\\n",
       "id                                                       \n",
       "100     NaN                   NaN                  NaN   \n",
       "10003   NaN                   NaN                  NaN   \n",
       "100042  NaN                   NaN                  NaN   \n",
       "10009   NaN                   NaN                  NaN   \n",
       "10010   NaN                   NaN                  NaN   \n",
       "\n",
       "title   10 Things I Hate About You  10 Years  10,000 BC  101 Dalmatians  \\\n",
       "id                                                                        \n",
       "100                            NaN       NaN        NaN             NaN   \n",
       "10003                          NaN       NaN        NaN             NaN   \n",
       "100042                         NaN       NaN        NaN             NaN   \n",
       "10009                          NaN       NaN        NaN             NaN   \n",
       "10010                          NaN       NaN        NaN             NaN   \n",
       "\n",
       "title   101 Dalmatians II: Patch's London Adventure  102 Dalmatians  11.22.63  \\\n",
       "id                                                                              \n",
       "100                                             NaN             NaN       NaN   \n",
       "10003                                           NaN             NaN       NaN   \n",
       "100042                                          NaN             NaN       NaN   \n",
       "10009                                           NaN             NaN       NaN   \n",
       "10010                                           NaN             NaN       NaN   \n",
       "\n",
       "title   ...  [REC]²  [REC]³ Genesis  [REC]⁴ Apocalypse  eXistenZ  iBoy  xXx  \\\n",
       "id      ...                                                                   \n",
       "100     ...     NaN             NaN                NaN       NaN   NaN  NaN   \n",
       "10003   ...     NaN             NaN                NaN       NaN   NaN  NaN   \n",
       "100042  ...     NaN             NaN                NaN       NaN   NaN  NaN   \n",
       "10009   ...     NaN             NaN                NaN       NaN   NaN  NaN   \n",
       "10010   ...     NaN             NaN                NaN       NaN   NaN  NaN   \n",
       "\n",
       "title   xXx: Return of Xander Cage  xXx: State of the Union  ¡Three Amigos!  \\\n",
       "id                                                                            \n",
       "100                            NaN                      NaN             NaN   \n",
       "10003                          NaN                      NaN             NaN   \n",
       "100042                         NaN                      NaN             NaN   \n",
       "10009                          NaN                      NaN             NaN   \n",
       "10010                          NaN                      NaN             NaN   \n",
       "\n",
       "title   Æon Flux  \n",
       "id                \n",
       "100          NaN  \n",
       "10003        NaN  \n",
       "100042       NaN  \n",
       "10009        NaN  \n",
       "10010        NaN  \n",
       "\n",
       "[5 rows x 4460 columns]"
      ]
     },
     "execution_count": 25,
     "metadata": {},
     "output_type": "execute_result"
    }
   ],
   "source": [
    "movie_mat.head()"
   ]
  },
  {
   "cell_type": "code",
   "execution_count": 26,
   "id": "2ef32905",
   "metadata": {},
   "outputs": [
    {
     "data": {
      "text/plain": [
       "0    Led by Woody, Andy's toys live happily in his ...\n",
       "1    When siblings Judy and Peter discover an encha...\n",
       "2    A family wedding reignites the ancient feud be...\n",
       "3    Cheated on, mistreated and stepped on, the wom...\n",
       "4    Just when George Banks has recovered from his ...\n",
       "Name: overview, dtype: object"
      ]
     },
     "execution_count": 26,
     "metadata": {},
     "output_type": "execute_result"
    }
   ],
   "source": [
    "# Content Based Recommender Systems\n",
    "\n",
    "moviedf.overview.head()"
   ]
  },
  {
   "cell_type": "code",
   "execution_count": 27,
   "id": "b9214fd9",
   "metadata": {},
   "outputs": [],
   "source": [
    "from sklearn.feature_extraction.text import TfidfVectorizer"
   ]
  },
  {
   "cell_type": "code",
   "execution_count": 28,
   "id": "d4600425",
   "metadata": {},
   "outputs": [],
   "source": [
    "tfidf = TfidfVectorizer(stop_words=\"english\")"
   ]
  },
  {
   "cell_type": "code",
   "execution_count": 30,
   "id": "be3de4b4",
   "metadata": {},
   "outputs": [],
   "source": [
    "moviedf.overview = moviedf.overview.fillna('')"
   ]
  },
  {
   "cell_type": "code",
   "execution_count": 31,
   "id": "f42f4f09",
   "metadata": {},
   "outputs": [],
   "source": [
    "tfidf_matrix = tfidf.fit_transform(moviedf.overview)"
   ]
  },
  {
   "cell_type": "code",
   "execution_count": 32,
   "id": "b48deedd",
   "metadata": {},
   "outputs": [
    {
     "data": {
      "text/plain": [
       "(45466, 75827)"
      ]
     },
     "execution_count": 32,
     "metadata": {},
     "output_type": "execute_result"
    }
   ],
   "source": [
    "tfidf_matrix.shape"
   ]
  },
  {
   "cell_type": "code",
   "execution_count": null,
   "id": "30ba60a2",
   "metadata": {},
   "outputs": [],
   "source": [
    "# Cosine similarity is widely used in sentance segments."
   ]
  },
  {
   "cell_type": "code",
   "execution_count": 35,
   "id": "6dfa0fa3",
   "metadata": {},
   "outputs": [],
   "source": [
    "from sklearn.metrics.pairwise import linear_kernel"
   ]
  },
  {
   "cell_type": "code",
   "execution_count": 36,
   "id": "6127c7be",
   "metadata": {},
   "outputs": [],
   "source": [
    "cosine_sim = linear_kernel(tfidf_matrix,tfidf_matrix)"
   ]
  },
  {
   "cell_type": "code",
   "execution_count": 37,
   "id": "83067645",
   "metadata": {},
   "outputs": [],
   "source": [
    "indices = pd.Series(moviedf.index, index = moviedf.title).drop_duplicates()"
   ]
  },
  {
   "cell_type": "code",
   "execution_count": 38,
   "id": "c5b27c52",
   "metadata": {},
   "outputs": [],
   "source": [
    "def get_recommend(title, cosine_sim = cosine_sim):\n",
    "    idx = indices[title]\n",
    "    sim_scores = list(enumerate(cosine_sim[idx]))\n",
    "    sim_scores = sorted(sim_scores,key = lambda x:x[1], reverse=False)\n",
    "    sim_scores = sim_scores[1:11]\n",
    "    movie_indices = [i[0] for i in sim_scores]\n",
    "    return moviedf.title.iloc[movie_indices]"
   ]
  },
  {
   "cell_type": "code",
   "execution_count": 46,
   "id": "dea3b84a",
   "metadata": {},
   "outputs": [
    {
     "data": {
      "text/plain": [
       "4        Father of the Bride Part II\n",
       "6                            Sabrina\n",
       "7                       Tom and Huck\n",
       "9                          GoldenEye\n",
       "11       Dracula: Dead and Loving It\n",
       "12                             Balto\n",
       "14                  Cutthroat Island\n",
       "15                            Casino\n",
       "16             Sense and Sensibility\n",
       "18    Ace Ventura: When Nature Calls\n",
       "Name: title, dtype: object"
      ]
     },
     "execution_count": 46,
     "metadata": {},
     "output_type": "execute_result"
    }
   ],
   "source": [
    "get_recommend('Jumanji')"
   ]
  },
  {
   "cell_type": "code",
   "execution_count": 54,
   "id": "a173b1d2",
   "metadata": {},
   "outputs": [],
   "source": [
    "from surprise import NormalPredictor,Dataset,Reader,SVD\n",
    "from surprise.model_selection import cross_validate"
   ]
  },
  {
   "cell_type": "code",
   "execution_count": 55,
   "id": "edba0b6f",
   "metadata": {},
   "outputs": [
    {
     "name": "stdout",
     "output_type": "stream",
     "text": [
      "Dataset ml-100k could not be found. Do you want to download it? [Y/n] y\n",
      "Trying to download dataset from https://files.grouplens.org/datasets/movielens/ml-100k.zip...\n",
      "Done! Dataset ml-100k has been saved to C:\\Users\\Hp/.surprise_data/ml-100k\n"
     ]
    }
   ],
   "source": [
    "data = Dataset.load_builtin('ml-100k')"
   ]
  },
  {
   "cell_type": "code",
   "execution_count": 58,
   "id": "30ab4551",
   "metadata": {},
   "outputs": [],
   "source": [
    "algo = SVD()"
   ]
  },
  {
   "cell_type": "code",
   "execution_count": 59,
   "id": "4ecda011",
   "metadata": {},
   "outputs": [
    {
     "name": "stdout",
     "output_type": "stream",
     "text": [
      "Evaluating RMSE, MAE of algorithm SVD on 5 split(s).\n",
      "\n",
      "                  Fold 1  Fold 2  Fold 3  Fold 4  Fold 5  Mean    Std     \n",
      "RMSE (testset)    0.9447  0.9339  0.9312  0.9364  0.9389  0.9370  0.0046  \n",
      "MAE (testset)     0.7443  0.7324  0.7317  0.7413  0.7429  0.7385  0.0054  \n",
      "Fit time          0.99    1.01    0.85    0.89    0.85    0.92    0.07    \n",
      "Test time         0.20    0.15    0.15    0.15    0.15    0.16    0.02    \n"
     ]
    },
    {
     "data": {
      "text/plain": [
       "{'test_rmse': array([0.94471857, 0.93386079, 0.93117122, 0.93640002, 0.93891221]),\n",
       " 'test_mae': array([0.74428782, 0.7323616 , 0.73173409, 0.74131291, 0.74291204]),\n",
       " 'fit_time': (0.9919836521148682,\n",
       "  1.0145654678344727,\n",
       "  0.8459200859069824,\n",
       "  0.8854517936706543,\n",
       "  0.8507156372070312),\n",
       " 'test_time': (0.20499801635742188,\n",
       "  0.1549997329711914,\n",
       "  0.15400075912475586,\n",
       "  0.1490004062652588,\n",
       "  0.1510004997253418)}"
      ]
     },
     "execution_count": 59,
     "metadata": {},
     "output_type": "execute_result"
    }
   ],
   "source": [
    "cross_validate(algo, data, measures=['RMSE','MAE'], cv = 5, verbose = True)"
   ]
  },
  {
   "cell_type": "code",
   "execution_count": null,
   "id": "0912b56d",
   "metadata": {},
   "outputs": [],
   "source": [
    "reader = Reader(rating_scale=(moviedf.vote_count.min(),\n",
    "                             ))"
   ]
  }
 ],
 "metadata": {
  "kernelspec": {
   "display_name": "Python 3 (ipykernel)",
   "language": "python",
   "name": "python3"
  },
  "language_info": {
   "codemirror_mode": {
    "name": "ipython",
    "version": 3
   },
   "file_extension": ".py",
   "mimetype": "text/x-python",
   "name": "python",
   "nbconvert_exporter": "python",
   "pygments_lexer": "ipython3",
   "version": "3.8.16"
  }
 },
 "nbformat": 4,
 "nbformat_minor": 5
}
