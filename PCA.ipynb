{
 "cells": [
  {
   "cell_type": "code",
   "execution_count": 1,
   "id": "e1d12c6c",
   "metadata": {},
   "outputs": [
    {
     "name": "stderr",
     "output_type": "stream",
     "text": [
      "C:\\Users\\Hp\\anaconda3\\lib\\site-packages\\numpy\\_distributor_init.py:30: UserWarning: loaded more than 1 DLL from .libs:\n",
      "C:\\Users\\Hp\\anaconda3\\lib\\site-packages\\numpy\\.libs\\libopenblas.FB5AE2TYXYH2IJRDKGDGQ3XBKLKTF43H.gfortran-win_amd64.dll\n",
      "C:\\Users\\Hp\\anaconda3\\lib\\site-packages\\numpy\\.libs\\libopenblas64__v0.3.21-gcc_10_3_0.dll\n",
      "  warnings.warn(\"loaded more than 1 DLL from .libs:\"\n"
     ]
    }
   ],
   "source": [
    "import pandas as pd\n",
    "import numpy as np\n",
    "import matplotlib.pyplot as plt\n",
    "import seaborn as sns"
   ]
  },
  {
   "cell_type": "code",
   "execution_count": 2,
   "id": "8a56110f",
   "metadata": {},
   "outputs": [],
   "source": [
    "data = pd.read_csv('train.csv')"
   ]
  },
  {
   "cell_type": "code",
   "execution_count": 3,
   "id": "e7192de0",
   "metadata": {},
   "outputs": [
    {
     "data": {
      "text/plain": [
       "(7352, 563)"
      ]
     },
     "execution_count": 3,
     "metadata": {},
     "output_type": "execute_result"
    }
   ],
   "source": [
    "data.shape"
   ]
  },
  {
   "cell_type": "code",
   "execution_count": 7,
   "id": "4dfa2062",
   "metadata": {},
   "outputs": [],
   "source": [
    "# Classification problem - Sample Size is 50 observations per variable \n",
    "# 563 X 50 = 28150 Observations or Rows but only 7352 are there.\n",
    "\n",
    "# High Dimensional Data - Where less number of Rows or Observations and more number of Variables or Columns.\n",
    "\n",
    "# Dimensionality Reductin algorithms reduce the dimensionality or mubr of variables not by deleting bt combining variables into \n",
    "# components and also retain data trednd and pattern.\n",
    "\n",
    "# Combining is based on Similarity using either covarince or correlation."
   ]
  },
  {
   "cell_type": "code",
   "execution_count": null,
   "id": "d866286b",
   "metadata": {},
   "outputs": [],
   "source": [
    "# Principal Component Analysis(PCA)  is an unsupervised algorithm that converts observations of correlated/covariance matrix \n",
    "# through orthogonal transformation and newly transformed features are called principal components.\n",
    "\n",
    "# Orthogonal Transformation - Correlated features are transformed into uncorrelated features whose correlation will be zero.\n",
    "\n",
    "# Eigenvectors and Eigenvalues - If there is a square Matrix M and a non zero vector V, then V will be Eigen Vecotor if \n",
    "# MV is sclaer multiple of V.\n",
    "\n",
    "# Standardization or Normalization of Data must be done before implementing PCA. Scaling must be done.\n",
    "# Input of PCA is a correlation or Covariance matrix.\n",
    "\n"
   ]
  },
  {
   "attachments": {
    "image.png": {
     "image/png": "[encoded data removed]"
    }
   },
   "cell_type": "markdown",
   "id": "bc3acb31",
   "metadata": {},
   "source": [
    "![image.png](attachment:image.png)"
   ]
  },
  {
   "cell_type": "code",
   "execution_count": 8,
   "id": "3dd44658",
   "metadata": {},
   "outputs": [],
   "source": [
    "# How to find or decide n_components?\n",
    "# 1) IF an exact amount of variance is to be retained in data after applying PCA, specify the requried amount of variance in \n",
    "#    percentage terms as a float between 0 and 1. By default PCA automatically selects the best number of components with 85%\n",
    "#    of variance retained.\n",
    "\n",
    "# 2) Plot the explained variance percentage of individual components and percentage total variance captured by all principal \n",
    "#    components. \n",
    "\n",
    "# 3) Uing the Scree plot which is visual representation of eigen values that defines the magnitude of eigen vectors(prin comp)\n",
    "\n",
    "# 4) According to Kaiser's rule, it is recommeneded to keep all the components with eigenvalues greater than 1."
   ]
  },
  {
   "cell_type": "code",
   "execution_count": 11,
   "id": "b9de06b6",
   "metadata": {},
   "outputs": [
    {
     "data": {
      "text/plain": [
       "LAYING                1407\n",
       "STANDING              1374\n",
       "SITTING               1286\n",
       "WALKING               1226\n",
       "WALKING_UPSTAIRS      1073\n",
       "WALKING_DOWNSTAIRS     986\n",
       "Name: Activity, dtype: int64"
      ]
     },
     "execution_count": 11,
     "metadata": {},
     "output_type": "execute_result"
    }
   ],
   "source": [
    "data.Activity.value_counts(dropna=False)"
   ]
  },
  {
   "cell_type": "code",
   "execution_count": 12,
   "id": "7ffbea89",
   "metadata": {},
   "outputs": [],
   "source": [
    "y = data.Activity\n",
    "X = data.drop(['subject','Activity'], axis = 1)"
   ]
  },
  {
   "cell_type": "code",
   "execution_count": 13,
   "id": "e018e38f",
   "metadata": {},
   "outputs": [],
   "source": [
    "from sklearn.decomposition import PCA"
   ]
  },
  {
   "cell_type": "code",
   "execution_count": 14,
   "id": "1108ee26",
   "metadata": {},
   "outputs": [],
   "source": [
    "# 1) Typically explained varaince is to be between 95%-99%. Specify value as a float between 0 and 1. \n",
    "\n",
    "pca_95_variance = PCA(n_components=0.95) # 95% explained variance"
   ]
  },
  {
   "cell_type": "code",
   "execution_count": 15,
   "id": "7eb69fa3",
   "metadata": {},
   "outputs": [
    {
     "data": {
      "text/html": [
       "<style>#sk-container-id-1 {color: black;background-color: white;}#sk-container-id-1 pre{padding: 0;}#sk-container-id-1 div.sk-toggleable {background-color: white;}#sk-container-id-1 label.sk-toggleable__label {cursor: pointer;display: block;width: 100%;margin-bottom: 0;padding: 0.3em;box-sizing: border-box;text-align: center;}#sk-container-id-1 label.sk-toggleable__label-arrow:before {content: \"▸\";float: left;margin-right: 0.25em;color: #696969;}#sk-container-id-1 label.sk-toggleable__label-arrow:hover:before {color: black;}#sk-container-id-1 div.sk-estimator:hover label.sk-toggleable__label-arrow:before {color: black;}#sk-container-id-1 div.sk-toggleable__content {max-height: 0;max-width: 0;overflow: hidden;text-align: left;background-color: #f0f8ff;}#sk-container-id-1 div.sk-toggleable__content pre {margin: 0.2em;color: black;border-radius: 0.25em;background-color: #f0f8ff;}#sk-container-id-1 input.sk-toggleable__control:checked~div.sk-toggleable__content {max-height: 200px;max-width: 100%;overflow: auto;}#sk-container-id-1 input.sk-toggleable__control:checked~label.sk-toggleable__label-arrow:before {content: \"▾\";}#sk-container-id-1 div.sk-estimator input.sk-toggleable__control:checked~label.sk-toggleable__label {background-color: #d4ebff;}#sk-container-id-1 div.sk-label input.sk-toggleable__control:checked~label.sk-toggleable__label {background-color: #d4ebff;}#sk-container-id-1 input.sk-hidden--visually {border: 0;clip: rect(1px 1px 1px 1px);clip: rect(1px, 1px, 1px, 1px);height: 1px;margin: -1px;overflow: hidden;padding: 0;position: absolute;width: 1px;}#sk-container-id-1 div.sk-estimator {font-family: monospace;background-color: #f0f8ff;border: 1px dotted black;border-radius: 0.25em;box-sizing: border-box;margin-bottom: 0.5em;}#sk-container-id-1 div.sk-estimator:hover {background-color: #d4ebff;}#sk-container-id-1 div.sk-parallel-item::after {content: \"\";width: 100%;border-bottom: 1px solid gray;flex-grow: 1;}#sk-container-id-1 div.sk-label:hover label.sk-toggleable__label {background-color: #d4ebff;}#sk-container-id-1 div.sk-serial::before {content: \"\";position: absolute;border-left: 1px solid gray;box-sizing: border-box;top: 0;bottom: 0;left: 50%;z-index: 0;}#sk-container-id-1 div.sk-serial {display: flex;flex-direction: column;align-items: center;background-color: white;padding-right: 0.2em;padding-left: 0.2em;position: relative;}#sk-container-id-1 div.sk-item {position: relative;z-index: 1;}#sk-container-id-1 div.sk-parallel {display: flex;align-items: stretch;justify-content: center;background-color: white;position: relative;}#sk-container-id-1 div.sk-item::before, #sk-container-id-1 div.sk-parallel-item::before {content: \"\";position: absolute;border-left: 1px solid gray;box-sizing: border-box;top: 0;bottom: 0;left: 50%;z-index: -1;}#sk-container-id-1 div.sk-parallel-item {display: flex;flex-direction: column;z-index: 1;position: relative;background-color: white;}#sk-container-id-1 div.sk-parallel-item:first-child::after {align-self: flex-end;width: 50%;}#sk-container-id-1 div.sk-parallel-item:last-child::after {align-self: flex-start;width: 50%;}#sk-container-id-1 div.sk-parallel-item:only-child::after {width: 0;}#sk-container-id-1 div.sk-dashed-wrapped {border: 1px dashed gray;margin: 0 0.4em 0.5em 0.4em;box-sizing: border-box;padding-bottom: 0.4em;background-color: white;}#sk-container-id-1 div.sk-label label {font-family: monospace;font-weight: bold;display: inline-block;line-height: 1.2em;}#sk-container-id-1 div.sk-label-container {text-align: center;}#sk-container-id-1 div.sk-container {/* jupyter's `normalize.less` sets `[hidden] { display: none; }` but bootstrap.min.css set `[hidden] { display: none !important; }` so we also need the `!important` here to be able to override the default hidden behavior on the sphinx rendered scikit-learn.org. See: https://github.com/scikit-learn/scikit-learn/issues/21755 */display: inline-block !important;position: relative;}#sk-container-id-1 div.sk-text-repr-fallback {display: none;}</style><div id=\"sk-container-id-1\" class=\"sk-top-container\"><div class=\"sk-text-repr-fallback\"><pre>PCA(n_components=0.95)</pre><b>In a Jupyter environment, please rerun this cell to show the HTML representation or trust the notebook. <br />On GitHub, the HTML representation is unable to render, please try loading this page with nbviewer.org.</b></div><div class=\"sk-container\" hidden><div class=\"sk-item\"><div class=\"sk-estimator sk-toggleable\"><input class=\"sk-toggleable__control sk-hidden--visually\" id=\"sk-estimator-id-1\" type=\"checkbox\" checked><label for=\"sk-estimator-id-1\" class=\"sk-toggleable__label sk-toggleable__label-arrow\">PCA</label><div class=\"sk-toggleable__content\"><pre>PCA(n_components=0.95)</pre></div></div></div></div></div>"
      ],
      "text/plain": [
       "PCA(n_components=0.95)"
      ]
     },
     "execution_count": 15,
     "metadata": {},
     "output_type": "execute_result"
    }
   ],
   "source": [
    "pca_95_variance"
   ]
  },
  {
   "cell_type": "code",
   "execution_count": 16,
   "id": "57fa7a8f",
   "metadata": {},
   "outputs": [
    {
     "data": {
      "text/html": [
       "<style>#sk-container-id-2 {color: black;background-color: white;}#sk-container-id-2 pre{padding: 0;}#sk-container-id-2 div.sk-toggleable {background-color: white;}#sk-container-id-2 label.sk-toggleable__label {cursor: pointer;display: block;width: 100%;margin-bottom: 0;padding: 0.3em;box-sizing: border-box;text-align: center;}#sk-container-id-2 label.sk-toggleable__label-arrow:before {content: \"▸\";float: left;margin-right: 0.25em;color: #696969;}#sk-container-id-2 label.sk-toggleable__label-arrow:hover:before {color: black;}#sk-container-id-2 div.sk-estimator:hover label.sk-toggleable__label-arrow:before {color: black;}#sk-container-id-2 div.sk-toggleable__content {max-height: 0;max-width: 0;overflow: hidden;text-align: left;background-color: #f0f8ff;}#sk-container-id-2 div.sk-toggleable__content pre {margin: 0.2em;color: black;border-radius: 0.25em;background-color: #f0f8ff;}#sk-container-id-2 input.sk-toggleable__control:checked~div.sk-toggleable__content {max-height: 200px;max-width: 100%;overflow: auto;}#sk-container-id-2 input.sk-toggleable__control:checked~label.sk-toggleable__label-arrow:before {content: \"▾\";}#sk-container-id-2 div.sk-estimator input.sk-toggleable__control:checked~label.sk-toggleable__label {background-color: #d4ebff;}#sk-container-id-2 div.sk-label input.sk-toggleable__control:checked~label.sk-toggleable__label {background-color: #d4ebff;}#sk-container-id-2 input.sk-hidden--visually {border: 0;clip: rect(1px 1px 1px 1px);clip: rect(1px, 1px, 1px, 1px);height: 1px;margin: -1px;overflow: hidden;padding: 0;position: absolute;width: 1px;}#sk-container-id-2 div.sk-estimator {font-family: monospace;background-color: #f0f8ff;border: 1px dotted black;border-radius: 0.25em;box-sizing: border-box;margin-bottom: 0.5em;}#sk-container-id-2 div.sk-estimator:hover {background-color: #d4ebff;}#sk-container-id-2 div.sk-parallel-item::after {content: \"\";width: 100%;border-bottom: 1px solid gray;flex-grow: 1;}#sk-container-id-2 div.sk-label:hover label.sk-toggleable__label {background-color: #d4ebff;}#sk-container-id-2 div.sk-serial::before {content: \"\";position: absolute;border-left: 1px solid gray;box-sizing: border-box;top: 0;bottom: 0;left: 50%;z-index: 0;}#sk-container-id-2 div.sk-serial {display: flex;flex-direction: column;align-items: center;background-color: white;padding-right: 0.2em;padding-left: 0.2em;position: relative;}#sk-container-id-2 div.sk-item {position: relative;z-index: 1;}#sk-container-id-2 div.sk-parallel {display: flex;align-items: stretch;justify-content: center;background-color: white;position: relative;}#sk-container-id-2 div.sk-item::before, #sk-container-id-2 div.sk-parallel-item::before {content: \"\";position: absolute;border-left: 1px solid gray;box-sizing: border-box;top: 0;bottom: 0;left: 50%;z-index: -1;}#sk-container-id-2 div.sk-parallel-item {display: flex;flex-direction: column;z-index: 1;position: relative;background-color: white;}#sk-container-id-2 div.sk-parallel-item:first-child::after {align-self: flex-end;width: 50%;}#sk-container-id-2 div.sk-parallel-item:last-child::after {align-self: flex-start;width: 50%;}#sk-container-id-2 div.sk-parallel-item:only-child::after {width: 0;}#sk-container-id-2 div.sk-dashed-wrapped {border: 1px dashed gray;margin: 0 0.4em 0.5em 0.4em;box-sizing: border-box;padding-bottom: 0.4em;background-color: white;}#sk-container-id-2 div.sk-label label {font-family: monospace;font-weight: bold;display: inline-block;line-height: 1.2em;}#sk-container-id-2 div.sk-label-container {text-align: center;}#sk-container-id-2 div.sk-container {/* jupyter's `normalize.less` sets `[hidden] { display: none; }` but bootstrap.min.css set `[hidden] { display: none !important; }` so we also need the `!important` here to be able to override the default hidden behavior on the sphinx rendered scikit-learn.org. See: https://github.com/scikit-learn/scikit-learn/issues/21755 */display: inline-block !important;position: relative;}#sk-container-id-2 div.sk-text-repr-fallback {display: none;}</style><div id=\"sk-container-id-2\" class=\"sk-top-container\"><div class=\"sk-text-repr-fallback\"><pre>PCA(n_components=0.95)</pre><b>In a Jupyter environment, please rerun this cell to show the HTML representation or trust the notebook. <br />On GitHub, the HTML representation is unable to render, please try loading this page with nbviewer.org.</b></div><div class=\"sk-container\" hidden><div class=\"sk-item\"><div class=\"sk-estimator sk-toggleable\"><input class=\"sk-toggleable__control sk-hidden--visually\" id=\"sk-estimator-id-2\" type=\"checkbox\" checked><label for=\"sk-estimator-id-2\" class=\"sk-toggleable__label sk-toggleable__label-arrow\">PCA</label><div class=\"sk-toggleable__content\"><pre>PCA(n_components=0.95)</pre></div></div></div></div></div>"
      ],
      "text/plain": [
       "PCA(n_components=0.95)"
      ]
     },
     "execution_count": 16,
     "metadata": {},
     "output_type": "execute_result"
    }
   ],
   "source": [
    "pca_95_variance.fit(X)"
   ]
  },
  {
   "cell_type": "code",
   "execution_count": 17,
   "id": "0b456e4a",
   "metadata": {},
   "outputs": [
    {
     "data": {
      "text/plain": [
       "67"
      ]
     },
     "execution_count": 17,
     "metadata": {},
     "output_type": "execute_result"
    }
   ],
   "source": [
    "pca_95_variance.fit(X).n_components_ # Combined 561 variables into 67 principal components"
   ]
  },
  {
   "cell_type": "code",
   "execution_count": 18,
   "id": "23c2003c",
   "metadata": {},
   "outputs": [],
   "source": [
    "X_pca_95 = pca_95_variance.transform(X)"
   ]
  },
  {
   "cell_type": "code",
   "execution_count": 19,
   "id": "ec6484bd",
   "metadata": {},
   "outputs": [
    {
     "data": {
      "text/plain": [
       "(7352, 67)"
      ]
     },
     "execution_count": 19,
     "metadata": {},
     "output_type": "execute_result"
    }
   ],
   "source": [
    "X_pca_95.shape"
   ]
  },
  {
   "cell_type": "code",
   "execution_count": 21,
   "id": "abd3109b",
   "metadata": {},
   "outputs": [],
   "source": [
    "# Based on Scree plot visualization identify number of components.\n",
    "\n",
    "pca_scree = PCA(n_components=280) # Randomly 280 as components."
   ]
  },
  {
   "cell_type": "code",
   "execution_count": 22,
   "id": "3a285367",
   "metadata": {},
   "outputs": [],
   "source": [
    "X_pca_scree = pca_scree.fit(X)"
   ]
  },
  {
   "cell_type": "code",
   "execution_count": 24,
   "id": "469e1a23",
   "metadata": {},
   "outputs": [],
   "source": [
    "# Cumulative Explained Variance Ratio\n",
    "\n",
    "X_pca_exp_variance = np.cumsum(np.round(X_pca_scree.explained_variance_ratio_,4)*100)"
   ]
  },
  {
   "cell_type": "code",
   "execution_count": 25,
   "id": "93dd4280",
   "metadata": {},
   "outputs": [
    {
     "data": {
      "text/plain": [
       "<Figure size 2000x1000 with 0 Axes>"
      ]
     },
     "metadata": {},
     "output_type": "display_data"
    },
    {
     "data": {
      "image/png": "[encoded data removed]",
      "text/plain": [
       "<Figure size 640x480 with 1 Axes>"
      ]
     },
     "metadata": {},
     "output_type": "display_data"
    }
   ],
   "source": [
    "plt.figure(figsize=(20,10))\n",
    "fig, ax = plt.subplots()\n",
    "plt.plot(X_pca_exp_variance)\n",
    "plt.axhline(y=98, color='red')\n",
    "plt.show()"
   ]
  },
  {
   "cell_type": "code",
   "execution_count": 26,
   "id": "7c1f244b",
   "metadata": {},
   "outputs": [
    {
     "data": {
      "text/plain": [
       "array([62.55, 67.46, 71.58, 73.45, 75.14, 76.41, 77.59, 78.66, 79.63,\n",
       "       80.49, 81.25, 81.92, 82.5 , 83.06, 83.56, 84.03, 84.5 , 84.93,\n",
       "       85.36, 85.77, 86.16, 86.54, 86.89, 87.23, 87.56, 87.88, 88.18,\n",
       "       88.47, 88.76, 89.04, 89.32, 89.58, 89.84, 90.08, 90.31, 90.53,\n",
       "       90.75, 90.96, 91.17, 91.37, 91.56, 91.75, 91.93, 92.11, 92.28,\n",
       "       92.44, 92.6 , 92.76, 92.91, 93.06, 93.21, 93.35, 93.49, 93.62,\n",
       "       93.75, 93.87, 93.99, 94.1 , 94.21, 94.32, 94.43, 94.53, 94.63,\n",
       "       94.73, 94.83, 94.93, 95.03, 95.12, 95.21, 95.3 , 95.39, 95.47,\n",
       "       95.55, 95.63, 95.71, 95.79, 95.87, 95.94, 96.01, 96.08, 96.15,\n",
       "       96.22, 96.29, 96.36, 96.43, 96.49, 96.55, 96.61, 96.67, 96.73,\n",
       "       96.79, 96.85, 96.91, 96.97, 97.02, 97.07, 97.12, 97.17, 97.22,\n",
       "       97.27, 97.32, 97.37, 97.42, 97.47, 97.52, 97.57, 97.62, 97.66,\n",
       "       97.7 , 97.74, 97.78, 97.82, 97.86, 97.9 , 97.94, 97.98, 98.02,\n",
       "       98.06, 98.09, 98.12, 98.15, 98.18, 98.21, 98.24, 98.27, 98.3 ,\n",
       "       98.33, 98.36, 98.39, 98.42, 98.45, 98.48, 98.51, 98.54, 98.57,\n",
       "       98.59, 98.61, 98.63, 98.65, 98.67, 98.69, 98.71, 98.73, 98.75,\n",
       "       98.77, 98.79, 98.81, 98.83, 98.85, 98.87, 98.89, 98.91, 98.93,\n",
       "       98.95, 98.97, 98.99, 99.01, 99.03, 99.05, 99.07, 99.09, 99.1 ,\n",
       "       99.11, 99.12, 99.13, 99.14, 99.15, 99.16, 99.17, 99.18, 99.19,\n",
       "       99.2 , 99.21, 99.22, 99.23, 99.24, 99.25, 99.26, 99.27, 99.28,\n",
       "       99.29, 99.3 , 99.31, 99.32, 99.33, 99.34, 99.35, 99.36, 99.37,\n",
       "       99.38, 99.39, 99.4 , 99.41, 99.42, 99.43, 99.44, 99.45, 99.46,\n",
       "       99.47, 99.48, 99.49, 99.5 , 99.51, 99.52, 99.53, 99.54, 99.55,\n",
       "       99.56, 99.57, 99.58, 99.59, 99.6 , 99.61, 99.62, 99.63, 99.64,\n",
       "       99.65, 99.66, 99.67, 99.68, 99.69, 99.7 , 99.71, 99.72, 99.73,\n",
       "       99.74, 99.75, 99.75, 99.75, 99.75, 99.75, 99.75, 99.75, 99.75,\n",
       "       99.75, 99.75, 99.75, 99.75, 99.75, 99.75, 99.75, 99.75, 99.75,\n",
       "       99.75, 99.75, 99.75, 99.75, 99.75, 99.75, 99.75, 99.75, 99.75,\n",
       "       99.75, 99.75, 99.75, 99.75, 99.75, 99.75, 99.75, 99.75, 99.75,\n",
       "       99.75, 99.75, 99.75, 99.75, 99.75, 99.75, 99.75, 99.75, 99.75,\n",
       "       99.75, 99.75, 99.75, 99.75, 99.75, 99.75, 99.75, 99.75, 99.75,\n",
       "       99.75])"
      ]
     },
     "execution_count": 26,
     "metadata": {},
     "output_type": "execute_result"
    }
   ],
   "source": [
    "X_pca_exp_variance"
   ]
  },
  {
   "cell_type": "code",
   "execution_count": 31,
   "id": "d33acebc",
   "metadata": {},
   "outputs": [],
   "source": [
    "# Final Components will be 99% variance.\n",
    "\n",
    "X_pca_final = PCA(n_components=0.95)"
   ]
  },
  {
   "cell_type": "code",
   "execution_count": 32,
   "id": "9539d966",
   "metadata": {},
   "outputs": [],
   "source": [
    "X_pca_final = X_pca_final.fit(X)"
   ]
  },
  {
   "cell_type": "code",
   "execution_count": 33,
   "id": "860b7453",
   "metadata": {},
   "outputs": [],
   "source": [
    "X_pca_final_95 = X_pca_final.transform(X)"
   ]
  },
  {
   "cell_type": "code",
   "execution_count": 34,
   "id": "e18b6fc7",
   "metadata": {},
   "outputs": [
    {
     "data": {
      "text/plain": [
       "(7352, 67)"
      ]
     },
     "execution_count": 34,
     "metadata": {},
     "output_type": "execute_result"
    }
   ],
   "source": [
    "X_pca_final_95.shape"
   ]
  },
  {
   "cell_type": "code",
   "execution_count": 36,
   "id": "e0bc0557",
   "metadata": {},
   "outputs": [],
   "source": [
    "from sklearn.preprocessing import LabelEncoder"
   ]
  },
  {
   "cell_type": "code",
   "execution_count": 37,
   "id": "3e7f3c22",
   "metadata": {},
   "outputs": [],
   "source": [
    "lr = LabelEncoder()"
   ]
  },
  {
   "cell_type": "code",
   "execution_count": 38,
   "id": "415b68e8",
   "metadata": {},
   "outputs": [],
   "source": [
    "y = lr.fit_transform(y)"
   ]
  },
  {
   "cell_type": "code",
   "execution_count": 48,
   "id": "14bf7d71",
   "metadata": {},
   "outputs": [],
   "source": [
    "from sklearn.linear_model import LogisticRegression"
   ]
  },
  {
   "cell_type": "code",
   "execution_count": 68,
   "id": "7058e111",
   "metadata": {},
   "outputs": [],
   "source": [
    "reg = LogisticRegression(multi_class=\"multinomial\", max_iter=5000)"
   ]
  },
  {
   "cell_type": "code",
   "execution_count": 55,
   "id": "a9061061",
   "metadata": {},
   "outputs": [],
   "source": [
    "regmodel = reg.fit(X,y)"
   ]
  },
  {
   "cell_type": "code",
   "execution_count": 56,
   "id": "7bbbcf22",
   "metadata": {},
   "outputs": [
    {
     "data": {
      "text/plain": [
       "0.9925190424374319"
      ]
     },
     "execution_count": 56,
     "metadata": {},
     "output_type": "execute_result"
    }
   ],
   "source": [
    "regmodel.score(X,y)"
   ]
  },
  {
   "cell_type": "code",
   "execution_count": 59,
   "id": "97fb155c",
   "metadata": {},
   "outputs": [],
   "source": [
    "regmodel_predict = regmodel.predict(X)"
   ]
  },
  {
   "cell_type": "code",
   "execution_count": 58,
   "id": "8ad684ff",
   "metadata": {},
   "outputs": [],
   "source": [
    "from sklearn.metrics import classification_report"
   ]
  },
  {
   "cell_type": "code",
   "execution_count": 60,
   "id": "579b732f",
   "metadata": {},
   "outputs": [
    {
     "name": "stdout",
     "output_type": "stream",
     "text": [
      "              precision    recall  f1-score   support\n",
      "\n",
      "           0       1.00      1.00      1.00      1407\n",
      "           1       0.98      0.98      0.98      1286\n",
      "           2       0.98      0.98      0.98      1374\n",
      "           3       1.00      1.00      1.00      1226\n",
      "           4       1.00      1.00      1.00       986\n",
      "           5       1.00      1.00      1.00      1073\n",
      "\n",
      "    accuracy                           0.99      7352\n",
      "   macro avg       0.99      0.99      0.99      7352\n",
      "weighted avg       0.99      0.99      0.99      7352\n",
      "\n"
     ]
    }
   ],
   "source": [
    "print(classification_report(y,regmodel_predict))"
   ]
  },
  {
   "cell_type": "code",
   "execution_count": 61,
   "id": "a2f31690",
   "metadata": {},
   "outputs": [],
   "source": [
    "from sklearn.model_selection import cross_val_score"
   ]
  },
  {
   "cell_type": "code",
   "execution_count": 69,
   "id": "9f5c03f2",
   "metadata": {},
   "outputs": [
    {
     "name": "stderr",
     "output_type": "stream",
     "text": [
      "C:\\Users\\Hp\\anaconda3\\lib\\site-packages\\sklearn\\linear_model\\_logistic.py:458: ConvergenceWarning: lbfgs failed to converge (status=1):\n",
      "STOP: TOTAL NO. of ITERATIONS REACHED LIMIT.\n",
      "\n",
      "Increase the number of iterations (max_iter) or scale the data as shown in:\n",
      "    https://scikit-learn.org/stable/modules/preprocessing.html\n",
      "Please also refer to the documentation for alternative solver options:\n",
      "    https://scikit-learn.org/stable/modules/linear_model.html#logistic-regression\n",
      "  n_iter_i = _check_optimize_result(\n"
     ]
    },
    {
     "name": "stdout",
     "output_type": "stream",
     "text": [
      "[0.92590075 0.8946295  0.9462585  0.95102041 0.96734694]\n"
     ]
    }
   ],
   "source": [
    "print(cross_val_score(regmodel,X,y))"
   ]
  },
  {
   "cell_type": "code",
   "execution_count": 71,
   "id": "b0ab1b44",
   "metadata": {},
   "outputs": [
    {
     "data": {
      "text/plain": [
       "0.9370312199999999"
      ]
     },
     "execution_count": 71,
     "metadata": {},
     "output_type": "execute_result"
    }
   ],
   "source": [
    "np.mean([0.92590075 ,0.8946295 , 0.9462585  ,0.95102041, 0.96734694])"
   ]
  },
  {
   "cell_type": "code",
   "execution_count": 72,
   "id": "edf5221d",
   "metadata": {},
   "outputs": [],
   "source": [
    "from sklearn.tree import DecisionTreeClassifier"
   ]
  },
  {
   "cell_type": "code",
   "execution_count": 79,
   "id": "16cf8c91",
   "metadata": {},
   "outputs": [],
   "source": [
    "dt = DecisionTreeClassifier(max_depth=8)"
   ]
  },
  {
   "cell_type": "code",
   "execution_count": 80,
   "id": "c358e5e2",
   "metadata": {},
   "outputs": [],
   "source": [
    "dtmodel = dt.fit(X,y)"
   ]
  },
  {
   "cell_type": "code",
   "execution_count": 81,
   "id": "b4f40cd5",
   "metadata": {},
   "outputs": [
    {
     "data": {
      "text/plain": [
       "0.9733405875952121"
      ]
     },
     "execution_count": 81,
     "metadata": {},
     "output_type": "execute_result"
    }
   ],
   "source": [
    "dtmodel.score(X,y)"
   ]
  },
  {
   "cell_type": "code",
   "execution_count": 91,
   "id": "d99f3f82",
   "metadata": {},
   "outputs": [],
   "source": [
    "dtmodel_pred = dtmodel.predict(X)"
   ]
  },
  {
   "cell_type": "code",
   "execution_count": 93,
   "id": "26b8065b",
   "metadata": {},
   "outputs": [
    {
     "name": "stdout",
     "output_type": "stream",
     "text": [
      "              precision    recall  f1-score   support\n",
      "\n",
      "           0       1.00      1.00      1.00      1407\n",
      "           1       0.97      0.96      0.96      1286\n",
      "           2       0.96      0.97      0.97      1374\n",
      "           3       0.97      0.97      0.97      1226\n",
      "           4       0.98      0.97      0.98       986\n",
      "           5       0.95      0.96      0.96      1073\n",
      "\n",
      "    accuracy                           0.97      7352\n",
      "   macro avg       0.97      0.97      0.97      7352\n",
      "weighted avg       0.97      0.97      0.97      7352\n",
      "\n"
     ]
    }
   ],
   "source": [
    "print(classification_report(y,dtmodel_pred))"
   ]
  },
  {
   "cell_type": "code",
   "execution_count": 82,
   "id": "3c31737c",
   "metadata": {},
   "outputs": [
    {
     "name": "stdout",
     "output_type": "stream",
     "text": [
      "[0.8171312  0.82460911 0.86462585 0.87482993 0.89183673]\n"
     ]
    }
   ],
   "source": [
    "print(cross_val_score(dtmodel,X,y))"
   ]
  },
  {
   "cell_type": "code",
   "execution_count": 83,
   "id": "8a031f20",
   "metadata": {},
   "outputs": [
    {
     "data": {
      "text/plain": [
       "0.8546065639999998"
      ]
     },
     "execution_count": 83,
     "metadata": {},
     "output_type": "execute_result"
    }
   ],
   "source": [
    "np.mean([0.8171312 ,0.82460911 ,0.86462585, 0.87482993, 0.89183673])"
   ]
  },
  {
   "cell_type": "code",
   "execution_count": 84,
   "id": "3b1ce6b7",
   "metadata": {},
   "outputs": [],
   "source": [
    "from sklearn.ensemble import RandomForestClassifier"
   ]
  },
  {
   "cell_type": "code",
   "execution_count": 85,
   "id": "44b24187",
   "metadata": {},
   "outputs": [],
   "source": [
    "RF = RandomForestClassifier(n_estimators=1000)"
   ]
  },
  {
   "cell_type": "code",
   "execution_count": 86,
   "id": "70810d09",
   "metadata": {},
   "outputs": [],
   "source": [
    "rfmodel = RF.fit(X,y)"
   ]
  },
  {
   "cell_type": "code",
   "execution_count": 87,
   "id": "89d77fd9",
   "metadata": {},
   "outputs": [
    {
     "data": {
      "text/plain": [
       "1.0"
      ]
     },
     "execution_count": 87,
     "metadata": {},
     "output_type": "execute_result"
    }
   ],
   "source": [
    "rfmodel.score(X,y)"
   ]
  },
  {
   "cell_type": "code",
   "execution_count": 94,
   "id": "5c7f9296",
   "metadata": {},
   "outputs": [],
   "source": [
    "rfmodel_pred = rfmodel.predict(X)"
   ]
  },
  {
   "cell_type": "code",
   "execution_count": 95,
   "id": "403c1d39",
   "metadata": {},
   "outputs": [
    {
     "name": "stdout",
     "output_type": "stream",
     "text": [
      "              precision    recall  f1-score   support\n",
      "\n",
      "           0       1.00      1.00      1.00      1407\n",
      "           1       1.00      1.00      1.00      1286\n",
      "           2       1.00      1.00      1.00      1374\n",
      "           3       1.00      1.00      1.00      1226\n",
      "           4       1.00      1.00      1.00       986\n",
      "           5       1.00      1.00      1.00      1073\n",
      "\n",
      "    accuracy                           1.00      7352\n",
      "   macro avg       1.00      1.00      1.00      7352\n",
      "weighted avg       1.00      1.00      1.00      7352\n",
      "\n"
     ]
    }
   ],
   "source": [
    "print(classification_report(y,rfmodel_pred))"
   ]
  },
  {
   "cell_type": "code",
   "execution_count": 89,
   "id": "898e24a3",
   "metadata": {},
   "outputs": [
    {
     "name": "stdout",
     "output_type": "stream",
     "text": [
      "[0.91434398 0.9014276  0.91088435 0.92585034 0.9537415 ]\n"
     ]
    }
   ],
   "source": [
    "print(cross_val_score(rfmodel,X,y))"
   ]
  },
  {
   "cell_type": "code",
   "execution_count": 90,
   "id": "008bde0e",
   "metadata": {},
   "outputs": [
    {
     "data": {
      "text/plain": [
       "0.9212495539999999"
      ]
     },
     "execution_count": 90,
     "metadata": {},
     "output_type": "execute_result"
    }
   ],
   "source": [
    "np.mean([0.91434398, 0.9014276  ,0.91088435 ,0.92585034, 0.9537415 ])"
   ]
  },
  {
   "cell_type": "code",
   "execution_count": null,
   "id": "3614078e",
   "metadata": {},
   "outputs": [],
   "source": []
  }
 ],
 "metadata": {
  "kernelspec": {
   "display_name": "Python 3 (ipykernel)",
   "language": "python",
   "name": "python3"
  },
  "language_info": {
   "codemirror_mode": {
    "name": "ipython",
    "version": 3
   },
   "file_extension": ".py",
   "mimetype": "text/x-python",
   "name": "python",
   "nbconvert_exporter": "python",
   "pygments_lexer": "ipython3",
   "version": "3.8.16"
  }
 },
 "nbformat": 4,
 "nbformat_minor": 5
}
