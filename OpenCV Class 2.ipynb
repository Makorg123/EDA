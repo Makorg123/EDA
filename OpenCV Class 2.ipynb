{
 "cells": [
  {
   "cell_type": "code",
   "execution_count": 2,
   "id": "f2918ad6",
   "metadata": {},
   "outputs": [],
   "source": [
    "import cv2\n",
    "import matplotlib.pyplot as plt"
   ]
  },
  {
   "cell_type": "code",
   "execution_count": 2,
   "id": "7569a291",
   "metadata": {},
   "outputs": [],
   "source": [
    "img = cv2.imread('C:/Users/Hp/Downloads/face_image.png')"
   ]
  },
  {
   "cell_type": "code",
   "execution_count": 3,
   "id": "b95b3842",
   "metadata": {},
   "outputs": [
    {
     "data": {
      "text/plain": [
       "-1"
      ]
     },
     "execution_count": 3,
     "metadata": {},
     "output_type": "execute_result"
    }
   ],
   "source": [
    "cv2.imshow(\"img\",img)\n",
    "cv2.resizeWindow(\"img\",(400,400))\n",
    "cv2.waitKey(0)"
   ]
  },
  {
   "cell_type": "code",
   "execution_count": 4,
   "id": "d40c3db1",
   "metadata": {},
   "outputs": [],
   "source": [
    "# Haar-Cascade Classifier is Machine Learning Classifier for object detection.\n",
    "\n",
    "# Many XML files in OpenCV Github that are used by this classifier as features for\n",
    "# different objects\n",
    "\n",
    "# XML files are predefined to detect traffic signs, license plates, animals, face features, etc."
   ]
  },
  {
   "cell_type": "code",
   "execution_count": 5,
   "id": "48f15f7a",
   "metadata": {},
   "outputs": [],
   "source": [
    "img_gray = cv2.cvtColor(img,cv2.COLOR_RGB2GRAY)"
   ]
  },
  {
   "cell_type": "code",
   "execution_count": 6,
   "id": "91e35f20",
   "metadata": {},
   "outputs": [
    {
     "data": {
      "text/plain": [
       "-1"
      ]
     },
     "execution_count": 6,
     "metadata": {},
     "output_type": "execute_result"
    }
   ],
   "source": [
    "cv2.imshow(\"img\",img_gray)\n",
    "cv2.resizeWindow(\"img\",(400,400))\n",
    "cv2.waitKey(0)"
   ]
  },
  {
   "cell_type": "code",
   "execution_count": 7,
   "id": "b5fbd0c5",
   "metadata": {},
   "outputs": [],
   "source": [
    "clf = cv2.CascadeClassifier(f\"{cv2.data.haarcascades}haarcascade_eye.xml\")"
   ]
  },
  {
   "cell_type": "code",
   "execution_count": 12,
   "id": "eed6cdb3",
   "metadata": {},
   "outputs": [],
   "source": [
    "detect_objects = clf.detectMultiScale(img_gray,minSize=(50,50))"
   ]
  },
  {
   "cell_type": "code",
   "execution_count": 13,
   "id": "376f0424",
   "metadata": {},
   "outputs": [
    {
     "data": {
      "text/plain": [
       "-1"
      ]
     },
     "execution_count": 13,
     "metadata": {},
     "output_type": "execute_result"
    }
   ],
   "source": [
    "if len(detect_objects)!=0:\n",
    "    for (x,y,w,h) in detect_objects:\n",
    "        cv2.rectangle(img,(x,y),(x+h,y+w),(0,255,50),2)\n",
    "cv2.imshow(\"img\",img)\n",
    "cv2.resizeWindow(\"img\",400,400)\n",
    "cv2.waitKey(0)"
   ]
  },
  {
   "cell_type": "code",
   "execution_count": 14,
   "id": "640cb607",
   "metadata": {},
   "outputs": [],
   "source": [
    "eye_clf = cv2.CascadeClassifier(f\"{cv2.data.haarcascades}haarcascade_eye.xml\")\n",
    "face_clf = cv2.CascadeClassifier(f\"{cv2.data.haarcascades}haarcascade_frontalface_alt.xml\")\n",
    "smile_clf = cv2.CascadeClassifier(f\"{cv2.data.haarcascades}haarcascade_smile.xml\")"
   ]
  },
  {
   "cell_type": "code",
   "execution_count": 15,
   "id": "17f5a15b",
   "metadata": {},
   "outputs": [],
   "source": [
    "detect_eyes = eye_clf.detectMultiScale(img_gray,minSize=(50,50))\n",
    "detect_face = face_clf.detectMultiScale(img_gray,minSize=(50,50))\n",
    "detect_smile = smile_clf.detectMultiScale(img_gray,minSize=(200,200))"
   ]
  },
  {
   "cell_type": "code",
   "execution_count": 18,
   "id": "7e41ccab",
   "metadata": {},
   "outputs": [
    {
     "data": {
      "text/plain": [
       "-1"
      ]
     },
     "execution_count": 18,
     "metadata": {},
     "output_type": "execute_result"
    }
   ],
   "source": [
    "if len(detect_eyes)!=0:\n",
    "    for (x,y,w,h) in detect_eyes:\n",
    "        cv2.rectangle(img,(x,y),(x+h,y+w),(0,255,50),2)\n",
    "if len(detect_face)!=0:\n",
    "    for (x,y,w,h) in detect_face:\n",
    "        cv2.rectangle(img,(x,y),(x+h,y+w),(0,255,50),2)\n",
    "if len(detect_smile)!=0:\n",
    "    for (x,y,w,h) in detect_smile:\n",
    "        cv2.rectangle(img,(x,y),(x+h,y+w),(0,255,50),2)\n",
    "cv2.imshow(\"img\",img)\n",
    "cv2.resizeWindow(\"img\",500,500)\n",
    "cv2.waitKey(0)"
   ]
  },
  {
   "cell_type": "markdown",
   "id": "119c4340",
   "metadata": {},
   "source": [
    "### Multiple People detect"
   ]
  },
  {
   "cell_type": "code",
   "execution_count": 2,
   "id": "c6eb4d46",
   "metadata": {},
   "outputs": [],
   "source": [
    "img_people = cv2.imread('C:/Users/Hp/Downloads/p1.jpg')"
   ]
  },
  {
   "cell_type": "code",
   "execution_count": 3,
   "id": "5b4af0e5",
   "metadata": {},
   "outputs": [
    {
     "data": {
      "text/plain": [
       "-1"
      ]
     },
     "execution_count": 3,
     "metadata": {},
     "output_type": "execute_result"
    }
   ],
   "source": [
    "cv2.imshow(\"img\",img_people)\n",
    "#cv2.resizeWindow(\"img\",(400,400))\n",
    "cv2.waitKey(0)"
   ]
  },
  {
   "cell_type": "code",
   "execution_count": 4,
   "id": "7f078294",
   "metadata": {},
   "outputs": [],
   "source": [
    "hog = cv2.HOGDescriptor()\n",
    "hog.setSVMDetector(cv2.HOGDescriptor_getDefaultPeopleDetector())\n",
    "\n",
    "# HOG Descriptor with SVM People detector which is predefined"
   ]
  },
  {
   "cell_type": "code",
   "execution_count": 5,
   "id": "4fb17421",
   "metadata": {},
   "outputs": [],
   "source": [
    "(humans,_) = hog.detectMultiScale(img_people,winStride=(10,10),padding=(32,32),scale=1.1)"
   ]
  },
  {
   "cell_type": "code",
   "execution_count": 6,
   "id": "6986cb15",
   "metadata": {},
   "outputs": [
    {
     "name": "stdout",
     "output_type": "stream",
     "text": [
      "human detected: 4\n"
     ]
    }
   ],
   "source": [
    "print(\"human detected:\",len(humans))"
   ]
  },
  {
   "cell_type": "code",
   "execution_count": 10,
   "id": "c810decb",
   "metadata": {},
   "outputs": [
    {
     "data": {
      "text/plain": [
       "-1"
      ]
     },
     "execution_count": 10,
     "metadata": {},
     "output_type": "execute_result"
    }
   ],
   "source": [
    "for (x,y,w,h) in humans:\n",
    "    p_w,p_h = int(0.15*2),int(0.01*h)\n",
    "    cv2.rectangle(img_people,(x+p_w, y+p_h),(x+w-p_w, y+h-p_h),(0,255,50),2)\n",
    "cv2.imshow(\"img\",img_people)\n",
    "cv2.resizeWindow(\"img\",(600,600))\n",
    "cv2.waitKey(0)"
   ]
  },
  {
   "cell_type": "code",
   "execution_count": 3,
   "id": "5e4aa226",
   "metadata": {},
   "outputs": [],
   "source": [
    "cap = cv2.VideoCapture(0)"
   ]
  },
  {
   "cell_type": "code",
   "execution_count": 8,
   "id": "f2d92482",
   "metadata": {},
   "outputs": [],
   "source": [
    "video_capture = cv2.VideoCapture(0)"
   ]
  },
  {
   "cell_type": "code",
   "execution_count": null,
   "id": "412d7f96",
   "metadata": {},
   "outputs": [],
   "source": [
    "cap = cv2.VideoCapture(0)\n",
    "\n",
    "while(True):\n",
    "    ret,frame = cap.read()\n",
    "    gray = cv2.cvtColor(frame,cv2.COLOR_BAYER_BG2BGR)\n",
    "    cv2.imshow('frame',gray)\n",
    "    if cv2.waitKey()"
   ]
  },
  {
   "cell_type": "code",
   "execution_count": 1,
   "id": "db876679",
   "metadata": {},
   "outputs": [],
   "source": [
    "import cv2\n",
    "\n",
    "# Open the default camera (camera index 0)\n",
    "cap = cv2.VideoCapture(0)\n",
    "\n",
    "# Check if the camera opened successfully\n",
    "if not cap.isOpened():\n",
    "    print(\"Error: Could not open camera.\")\n",
    "else:\n",
    "    while True:\n",
    "        # Read a frame from the camera\n",
    "        ret, frame = cap.read()\n",
    "\n",
    "        # Check if the frame was read successfully\n",
    "        if not ret:\n",
    "            print(\"Error: Could not read frame.\")\n",
    "            break\n",
    "\n",
    "        # Display the frame in a window\n",
    "        cv2.imshow(\"Camera\", frame)\n",
    "\n",
    "        # Exit the loop if the 'q' key is pressed\n",
    "        if cv2.waitKey(1) & 0xFF == ord('q'):\n",
    "            break\n",
    "\n",
    "# Release the camera and close the OpenCV window\n",
    "cap.release()\n",
    "cv2.destroyAllWindows()"
   ]
  },
  {
   "cell_type": "code",
   "execution_count": null,
   "id": "32bcb439",
   "metadata": {},
   "outputs": [],
   "source": []
  }
 ],
 "metadata": {
  "kernelspec": {
   "display_name": "Python 3 (ipykernel)",
   "language": "python",
   "name": "python3"
  },
  "language_info": {
   "codemirror_mode": {
    "name": "ipython",
    "version": 3
   },
   "file_extension": ".py",
   "mimetype": "text/x-python",
   "name": "python",
   "nbconvert_exporter": "python",
   "pygments_lexer": "ipython3",
   "version": "3.8.16"
  }
 },
 "nbformat": 4,
 "nbformat_minor": 5
}
