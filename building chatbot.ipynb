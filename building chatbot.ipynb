{
 "cells": [
  {
   "cell_type": "code",
   "execution_count": 2,
   "id": "2646a674",
   "metadata": {},
   "outputs": [],
   "source": [
    "import numpy as np\n",
    "import nltk\n",
    "import random\n",
    "import string"
   ]
  },
  {
   "cell_type": "code",
   "execution_count": 3,
   "id": "57114131",
   "metadata": {},
   "outputs": [],
   "source": [
    "f = open('chatbot.txt','r',errors='ignore')"
   ]
  },
  {
   "cell_type": "code",
   "execution_count": 4,
   "id": "7616f3af",
   "metadata": {},
   "outputs": [],
   "source": [
    "raw = f.read()"
   ]
  },
  {
   "cell_type": "code",
   "execution_count": 5,
   "id": "d9f48394",
   "metadata": {},
   "outputs": [],
   "source": [
    "raw = raw.lower()"
   ]
  },
  {
   "cell_type": "code",
   "execution_count": 6,
   "id": "b8e224b9",
   "metadata": {},
   "outputs": [],
   "source": [
    "sentences = nltk.sent_tokenize(raw)"
   ]
  },
  {
   "cell_type": "code",
   "execution_count": 7,
   "id": "9666f51c",
   "metadata": {},
   "outputs": [],
   "source": [
    "# Greeting input\n",
    "Greeting_input = (\"hello\",'hi','hey')\n",
    "Greeting_output = ['hi','hello','hey','hi there']\n",
    "\n",
    "def greeting(x):\n",
    "    for word in x.split():\n",
    "        if word.lower() in Greeting_input:\n",
    "            return random.choice(Greeting_output)"
   ]
  },
  {
   "cell_type": "code",
   "execution_count": 8,
   "id": "4aec30f2",
   "metadata": {},
   "outputs": [],
   "source": [
    "from sklearn.feature_extraction.text import TfidfVectorizer\n",
    "from sklearn.metrics.pairwise import cosine_similarity"
   ]
  },
  {
   "cell_type": "code",
   "execution_count": 9,
   "id": "a08de015",
   "metadata": {},
   "outputs": [],
   "source": [
    "def response(user_response):\n",
    "    robo_response=''\n",
    "    sentences.append(user_response)\n",
    "    \n",
    "    Tfidf=TfidfVectorizer(stop_words=\"english\")\n",
    "    tfidf=Tfidf.fit_transform(sentences)\n",
    "    vals=cosine_similarity(tfidf[-1],tfidf)\n",
    "    idx=vals.argsort()[0][-2]\n",
    "    flat=vals.flatten()\n",
    "    flat.sort()\n",
    "    req_tfidf=flat[-2]\n",
    "    \n",
    "    if(req_tfidf==0):\n",
    "        robo_response=robo_response+\"Sorry I dont Understand\"\n",
    "        return robo_response\n",
    "    else:\n",
    "        robo_response=robo_response+sentences[idx]\n",
    "        return robo_response"
   ]
  },
  {
   "cell_type": "code",
   "execution_count": 10,
   "id": "ec244ae9",
   "metadata": {},
   "outputs": [
    {
     "name": "stdout",
     "output_type": "stream",
     "text": [
      "Robo:Answer Queries, want to Exit, type Bye\n",
      "You: hi\n",
      "Robo: hello\n",
      "You: ai\n",
      "Robo: Sorry I dont Understand\n",
      "You: business\n",
      "Robo: by using chatbots, a business can provide humanlike, personalized, proactive service to millions of people at the same time.\n",
      "You: consumer\n",
      "Robo: consumer research is showing that messaging apps are increasingly becoming the preferred method for connecting with businesses for certain types of transactions.\n",
      "You: messagin\n",
      "Robo: Sorry I dont Understand\n",
      "You: messaging\n",
      "Robo: delivered through messaging platforms, chatbots enable a level of service and convenience that in many cases exceeds what humans can provide.\n",
      "You: transactions\n",
      "Robo: consumer research is showing that messaging apps are increasingly becoming the preferred method for connecting with businesses for certain types of transactions.\n",
      "You: thanks\n",
      "Robo: you are welcome\n"
     ]
    }
   ],
   "source": [
    "flag = True\n",
    "print(\"Robo:Answer Queries, want to Exit, type Bye\")\n",
    "\n",
    "while(flag == True):\n",
    "    user_response = input(\"You: \")\n",
    "    user_response = user_response.lower()\n",
    "    if(user_response!='bye'):\n",
    "        if(user_response=='thanks' or user_response == 'than you'):\n",
    "            flag = False\n",
    "            print(\"Robo: you are welcome\")\n",
    "        else:\n",
    "            if(greeting(user_response)!=None):\n",
    "                print(\"Robo: \"+greeting(user_response))\n",
    "            else:\n",
    "                print(\"Robo: \",end=\"\")\n",
    "                print(response(user_response))\n",
    "                sentences.remove(user_response)\n",
    "    else:\n",
    "        flag = False\n",
    "        print(\"Robo: Bye..\")"
   ]
  },
  {
   "cell_type": "code",
   "execution_count": null,
   "id": "82c5e2ff",
   "metadata": {},
   "outputs": [],
   "source": []
  }
 ],
 "metadata": {
  "kernelspec": {
   "display_name": "Python 3 (ipykernel)",
   "language": "python",
   "name": "python3"
  },
  "language_info": {
   "codemirror_mode": {
    "name": "ipython",
    "version": 3
   },
   "file_extension": ".py",
   "mimetype": "text/x-python",
   "name": "python",
   "nbconvert_exporter": "python",
   "pygments_lexer": "ipython3",
   "version": "3.8.16"
  }
 },
 "nbformat": 4,
 "nbformat_minor": 5
}
