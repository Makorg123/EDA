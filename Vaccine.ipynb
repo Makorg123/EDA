{
 "cells": [
  {
   "cell_type": "code",
   "execution_count": 107,
   "id": "618f50e8",
   "metadata": {},
   "outputs": [],
   "source": [
    "import numpy as np\n",
    "import pandas as pd\n",
    "import matplotlib.pyplot as plt\n",
    "import seaborn as sns"
   ]
  },
  {
   "cell_type": "code",
   "execution_count": null,
   "id": "629eaaee",
   "metadata": {},
   "outputs": [],
   "source": [
    "# Algorithm basedd missing values imputation - consider the impact of the vairibale on the missing value and impute accordingly \n",
    "# MICE - Multivariate imputation using chained equation is the most populat algorihtm\n",
    "\n",
    "# Imputes both numeirc and non numeric object/categorical missing values. \n",
    "# intitally imputed with mean, median or mode and chaned equations are built\n",
    "# chained equations wherein the missing value column/variable is treated as dependent variables and relevant \n",
    "# classification/regression model is built and prediction done.\n",
    "\n",
    "# Missing value will be replaced with predicted value.\n",
    "\n",
    "# [MICE algorithm uses a step-by-step approach to predict missing values by creating models for each variable and iteratively \n",
    "#  filling in the missing data. By doing this multiple times, it provides a more robust estimation of the missing values \n",
    "#  and allows for more reliable statistical analysis.]"
   ]
  },
  {
   "cell_type": "code",
   "execution_count": 9,
   "id": "29de96d4",
   "metadata": {},
   "outputs": [],
   "source": [
    "train = pd.read_csv('training_set_features.csv')"
   ]
  },
  {
   "cell_type": "code",
   "execution_count": 10,
   "id": "fe0ef437",
   "metadata": {},
   "outputs": [],
   "source": [
    "trainset = pd.read_csv('training_set_labels.csv')"
   ]
  },
  {
   "cell_type": "code",
   "execution_count": 11,
   "id": "f4cfa09b",
   "metadata": {},
   "outputs": [],
   "source": [
    "testf = pd.read_csv('test_set_features.csv')"
   ]
  },
  {
   "cell_type": "code",
   "execution_count": 12,
   "id": "ddbd5482",
   "metadata": {},
   "outputs": [
    {
     "data": {
      "text/plain": [
       "(26707, 36)"
      ]
     },
     "execution_count": 12,
     "metadata": {},
     "output_type": "execute_result"
    }
   ],
   "source": [
    "train.shape"
   ]
  },
  {
   "cell_type": "code",
   "execution_count": 14,
   "id": "28633792",
   "metadata": {},
   "outputs": [
    {
     "data": {
      "text/plain": [
       "(26707, 3)"
      ]
     },
     "execution_count": 14,
     "metadata": {},
     "output_type": "execute_result"
    }
   ],
   "source": [
    "trainset.shape"
   ]
  },
  {
   "cell_type": "code",
   "execution_count": 16,
   "id": "6d927e8e",
   "metadata": {},
   "outputs": [
    {
     "data": {
      "text/plain": [
       "(26708, 36)"
      ]
     },
     "execution_count": 16,
     "metadata": {},
     "output_type": "execute_result"
    }
   ],
   "source": [
    "testf.shape"
   ]
  },
  {
   "cell_type": "code",
   "execution_count": 17,
   "id": "b2470c05",
   "metadata": {},
   "outputs": [
    {
     "name": "stdout",
     "output_type": "stream",
     "text": [
      "<class 'pandas.core.frame.DataFrame'>\n",
      "RangeIndex: 26707 entries, 0 to 26706\n",
      "Data columns (total 36 columns):\n",
      " #   Column                       Non-Null Count  Dtype  \n",
      "---  ------                       --------------  -----  \n",
      " 0   respondent_id                26707 non-null  int64  \n",
      " 1   h1n1_concern                 26615 non-null  float64\n",
      " 2   h1n1_knowledge               26591 non-null  float64\n",
      " 3   behavioral_antiviral_meds    26636 non-null  float64\n",
      " 4   behavioral_avoidance         26499 non-null  float64\n",
      " 5   behavioral_face_mask         26688 non-null  float64\n",
      " 6   behavioral_wash_hands        26665 non-null  float64\n",
      " 7   behavioral_large_gatherings  26620 non-null  float64\n",
      " 8   behavioral_outside_home      26625 non-null  float64\n",
      " 9   behavioral_touch_face        26579 non-null  float64\n",
      " 10  doctor_recc_h1n1             24547 non-null  float64\n",
      " 11  doctor_recc_seasonal         24547 non-null  float64\n",
      " 12  chronic_med_condition        25736 non-null  float64\n",
      " 13  child_under_6_months         25887 non-null  float64\n",
      " 14  health_worker                25903 non-null  float64\n",
      " 15  health_insurance             14433 non-null  float64\n",
      " 16  opinion_h1n1_vacc_effective  26316 non-null  float64\n",
      " 17  opinion_h1n1_risk            26319 non-null  float64\n",
      " 18  opinion_h1n1_sick_from_vacc  26312 non-null  float64\n",
      " 19  opinion_seas_vacc_effective  26245 non-null  float64\n",
      " 20  opinion_seas_risk            26193 non-null  float64\n",
      " 21  opinion_seas_sick_from_vacc  26170 non-null  float64\n",
      " 22  age_group                    26707 non-null  object \n",
      " 23  education                    25300 non-null  object \n",
      " 24  race                         26707 non-null  object \n",
      " 25  sex                          26707 non-null  object \n",
      " 26  income_poverty               22284 non-null  object \n",
      " 27  marital_status               25299 non-null  object \n",
      " 28  rent_or_own                  24665 non-null  object \n",
      " 29  employment_status            25244 non-null  object \n",
      " 30  hhs_geo_region               26707 non-null  object \n",
      " 31  census_msa                   26707 non-null  object \n",
      " 32  household_adults             26458 non-null  float64\n",
      " 33  household_children           26458 non-null  float64\n",
      " 34  employment_industry          13377 non-null  object \n",
      " 35  employment_occupation        13237 non-null  object \n",
      "dtypes: float64(23), int64(1), object(12)\n",
      "memory usage: 7.3+ MB\n"
     ]
    }
   ],
   "source": [
    "train.info()"
   ]
  },
  {
   "cell_type": "code",
   "execution_count": 19,
   "id": "d4da756f",
   "metadata": {},
   "outputs": [
    {
     "name": "stdout",
     "output_type": "stream",
     "text": [
      "<class 'pandas.core.frame.DataFrame'>\n",
      "RangeIndex: 26707 entries, 0 to 26706\n",
      "Data columns (total 3 columns):\n",
      " #   Column            Non-Null Count  Dtype\n",
      "---  ------            --------------  -----\n",
      " 0   respondent_id     26707 non-null  int64\n",
      " 1   h1n1_vaccine      26707 non-null  int64\n",
      " 2   seasonal_vaccine  26707 non-null  int64\n",
      "dtypes: int64(3)\n",
      "memory usage: 626.1 KB\n"
     ]
    }
   ],
   "source": [
    "trainset.info()"
   ]
  },
  {
   "cell_type": "code",
   "execution_count": 20,
   "id": "646294b4",
   "metadata": {},
   "outputs": [
    {
     "name": "stdout",
     "output_type": "stream",
     "text": [
      "<class 'pandas.core.frame.DataFrame'>\n",
      "RangeIndex: 26708 entries, 0 to 26707\n",
      "Data columns (total 36 columns):\n",
      " #   Column                       Non-Null Count  Dtype  \n",
      "---  ------                       --------------  -----  \n",
      " 0   respondent_id                26708 non-null  int64  \n",
      " 1   h1n1_concern                 26623 non-null  float64\n",
      " 2   h1n1_knowledge               26586 non-null  float64\n",
      " 3   behavioral_antiviral_meds    26629 non-null  float64\n",
      " 4   behavioral_avoidance         26495 non-null  float64\n",
      " 5   behavioral_face_mask         26689 non-null  float64\n",
      " 6   behavioral_wash_hands        26668 non-null  float64\n",
      " 7   behavioral_large_gatherings  26636 non-null  float64\n",
      " 8   behavioral_outside_home      26626 non-null  float64\n",
      " 9   behavioral_touch_face        26580 non-null  float64\n",
      " 10  doctor_recc_h1n1             24548 non-null  float64\n",
      " 11  doctor_recc_seasonal         24548 non-null  float64\n",
      " 12  chronic_med_condition        25776 non-null  float64\n",
      " 13  child_under_6_months         25895 non-null  float64\n",
      " 14  health_worker                25919 non-null  float64\n",
      " 15  health_insurance             14480 non-null  float64\n",
      " 16  opinion_h1n1_vacc_effective  26310 non-null  float64\n",
      " 17  opinion_h1n1_risk            26328 non-null  float64\n",
      " 18  opinion_h1n1_sick_from_vacc  26333 non-null  float64\n",
      " 19  opinion_seas_vacc_effective  26256 non-null  float64\n",
      " 20  opinion_seas_risk            26209 non-null  float64\n",
      " 21  opinion_seas_sick_from_vacc  26187 non-null  float64\n",
      " 22  age_group                    26708 non-null  object \n",
      " 23  education                    25301 non-null  object \n",
      " 24  race                         26708 non-null  object \n",
      " 25  sex                          26708 non-null  object \n",
      " 26  income_poverty               22211 non-null  object \n",
      " 27  marital_status               25266 non-null  object \n",
      " 28  rent_or_own                  24672 non-null  object \n",
      " 29  employment_status            25237 non-null  object \n",
      " 30  hhs_geo_region               26708 non-null  object \n",
      " 31  census_msa                   26708 non-null  object \n",
      " 32  household_adults             26483 non-null  float64\n",
      " 33  household_children           26483 non-null  float64\n",
      " 34  employment_industry          13433 non-null  object \n",
      " 35  employment_occupation        13282 non-null  object \n",
      "dtypes: float64(23), int64(1), object(12)\n",
      "memory usage: 7.3+ MB\n"
     ]
    }
   ],
   "source": [
    "testf.info()"
   ]
  },
  {
   "cell_type": "code",
   "execution_count": 26,
   "id": "c1327e7b",
   "metadata": {},
   "outputs": [
    {
     "data": {
      "text/html": [
       "<div>\n",
       "<style scoped>\n",
       "    .dataframe tbody tr th:only-of-type {\n",
       "        vertical-align: middle;\n",
       "    }\n",
       "\n",
       "    .dataframe tbody tr th {\n",
       "        vertical-align: top;\n",
       "    }\n",
       "\n",
       "    .dataframe thead th {\n",
       "        text-align: right;\n",
       "    }\n",
       "</style>\n",
       "<table border=\"1\" class=\"dataframe\">\n",
       "  <thead>\n",
       "    <tr style=\"text-align: right;\">\n",
       "      <th></th>\n",
       "      <th>respondent_id</th>\n",
       "      <th>h1n1_vaccine</th>\n",
       "      <th>seasonal_vaccine</th>\n",
       "    </tr>\n",
       "  </thead>\n",
       "  <tbody>\n",
       "    <tr>\n",
       "      <th>0</th>\n",
       "      <td>0</td>\n",
       "      <td>0</td>\n",
       "      <td>0</td>\n",
       "    </tr>\n",
       "    <tr>\n",
       "      <th>1</th>\n",
       "      <td>1</td>\n",
       "      <td>0</td>\n",
       "      <td>1</td>\n",
       "    </tr>\n",
       "    <tr>\n",
       "      <th>2</th>\n",
       "      <td>2</td>\n",
       "      <td>0</td>\n",
       "      <td>0</td>\n",
       "    </tr>\n",
       "    <tr>\n",
       "      <th>3</th>\n",
       "      <td>3</td>\n",
       "      <td>0</td>\n",
       "      <td>1</td>\n",
       "    </tr>\n",
       "    <tr>\n",
       "      <th>4</th>\n",
       "      <td>4</td>\n",
       "      <td>0</td>\n",
       "      <td>0</td>\n",
       "    </tr>\n",
       "  </tbody>\n",
       "</table>\n",
       "</div>"
      ],
      "text/plain": [
       "   respondent_id  h1n1_vaccine  seasonal_vaccine\n",
       "0              0             0                 0\n",
       "1              1             0                 1\n",
       "2              2             0                 0\n",
       "3              3             0                 1\n",
       "4              4             0                 0"
      ]
     },
     "execution_count": 26,
     "metadata": {},
     "output_type": "execute_result"
    }
   ],
   "source": [
    "trainset.head()"
   ]
  },
  {
   "cell_type": "code",
   "execution_count": 38,
   "id": "9858edde",
   "metadata": {},
   "outputs": [
    {
     "data": {
      "text/plain": [
       "respondent_id                   0.000000\n",
       "h1n1_concern                    0.344479\n",
       "h1n1_knowledge                  0.434343\n",
       "behavioral_antiviral_meds       0.265848\n",
       "behavioral_avoidance            0.778822\n",
       "behavioral_face_mask            0.071142\n",
       "behavioral_wash_hands           0.157262\n",
       "behavioral_large_gatherings     0.325757\n",
       "behavioral_outside_home         0.307036\n",
       "behavioral_touch_face           0.479275\n",
       "doctor_recc_h1n1                8.087767\n",
       "doctor_recc_seasonal            8.087767\n",
       "chronic_med_condition           3.635751\n",
       "child_under_6_months            3.070356\n",
       "health_worker                   3.010447\n",
       "health_insurance               45.957989\n",
       "opinion_h1n1_vacc_effective     1.464036\n",
       "opinion_h1n1_risk               1.452803\n",
       "opinion_h1n1_sick_from_vacc     1.479013\n",
       "opinion_seas_vacc_effective     1.729884\n",
       "opinion_seas_risk               1.924589\n",
       "opinion_seas_sick_from_vacc     2.010709\n",
       "age_group                       0.000000\n",
       "education                       5.268282\n",
       "race                            0.000000\n",
       "sex                             0.000000\n",
       "income_poverty                 16.561201\n",
       "marital_status                  5.272026\n",
       "rent_or_own                     7.645936\n",
       "employment_status               5.477965\n",
       "hhs_geo_region                  0.000000\n",
       "census_msa                      0.000000\n",
       "household_adults                0.932340\n",
       "household_children              0.932340\n",
       "employment_industry            49.912008\n",
       "employment_occupation          50.436215\n",
       "dtype: float64"
      ]
     },
     "execution_count": 38,
     "metadata": {},
     "output_type": "execute_result"
    }
   ],
   "source": [
    "train.isnull().sum()*100/[26707]"
   ]
  },
  {
   "cell_type": "code",
   "execution_count": 33,
   "id": "54086bc2",
   "metadata": {},
   "outputs": [
    {
     "data": {
      "text/plain": [
       "NaN         13330\n",
       "fcxhlnwr     2468\n",
       "wxleyezf     1804\n",
       "ldnlellj     1231\n",
       "pxcmvdjn     1037\n",
       "atmlpfrs      926\n",
       "arjwrbjb      871\n",
       "xicduogh      851\n",
       "mfikgejo      614\n",
       "vjjrobsf      527\n",
       "rucpziij      523\n",
       "xqicxuve      511\n",
       "saaquncn      338\n",
       "cfqqtusy      325\n",
       "nduyfdeo      286\n",
       "mcubkhph      275\n",
       "wlfvacwt      215\n",
       "dotnnunm      201\n",
       "haxffmxo      148\n",
       "msuufmds      124\n",
       "phxvnwax       89\n",
       "qnlwzans       13\n",
       "Name: employment_industry, dtype: int64"
      ]
     },
     "execution_count": 33,
     "metadata": {},
     "output_type": "execute_result"
    }
   ],
   "source": [
    "train.employment_industry.value_counts(dropna=False)"
   ]
  },
  {
   "cell_type": "code",
   "execution_count": 39,
   "id": "83998a4e",
   "metadata": {},
   "outputs": [],
   "source": [
    "combinedf = pd.concat([train,testf],axis = 0)"
   ]
  },
  {
   "cell_type": "code",
   "execution_count": 40,
   "id": "3d187494",
   "metadata": {},
   "outputs": [
    {
     "data": {
      "text/plain": [
       "(53415, 36)"
      ]
     },
     "execution_count": 40,
     "metadata": {},
     "output_type": "execute_result"
    }
   ],
   "source": [
    "combinedf.shape"
   ]
  },
  {
   "cell_type": "code",
   "execution_count": 45,
   "id": "9ef2e189",
   "metadata": {},
   "outputs": [
    {
     "data": {
      "text/plain": [
       "employment_occupation          50.352897\n",
       "employment_industry            49.808106\n",
       "health_insurance               45.871010\n",
       "income_poverty                 16.699429\n",
       "doctor_recc_h1n1                8.087616\n",
       "doctor_recc_seasonal            8.087616\n",
       "rent_or_own                     7.634560\n",
       "employment_status               5.492839\n",
       "marital_status                  5.335580\n",
       "education                       5.268183\n",
       "chronic_med_condition           3.562670\n",
       "child_under_6_months            3.057194\n",
       "health_worker                   2.982308\n",
       "opinion_seas_sick_from_vacc     1.980717\n",
       "opinion_seas_risk               1.896471\n",
       "opinion_seas_vacc_effective     1.711130\n",
       "opinion_h1n1_vacc_effective     1.477113\n",
       "opinion_h1n1_sick_from_vacc     1.441543\n",
       "opinion_h1n1_risk               1.437798\n",
       "household_children              0.887391\n",
       "household_adults                0.887391\n",
       "behavioral_avoidance            0.788168\n",
       "behavioral_touch_face           0.479266\n",
       "h1n1_knowledge                  0.445568\n",
       "h1n1_concern                    0.331368\n",
       "behavioral_outside_home         0.307030\n",
       "behavioral_large_gatherings     0.297669\n",
       "behavioral_antiviral_meds       0.280820\n",
       "behavioral_wash_hands           0.153515\n",
       "behavioral_face_mask            0.071141\n",
       "hhs_geo_region                  0.000000\n",
       "census_msa                      0.000000\n",
       "sex                             0.000000\n",
       "race                            0.000000\n",
       "age_group                       0.000000\n",
       "respondent_id                   0.000000\n",
       "dtype: float64"
      ]
     },
     "execution_count": 45,
     "metadata": {},
     "output_type": "execute_result"
    }
   ],
   "source": [
    "combinedf.isnull().sum().sort_values(ascending=False)*100/len(combinedf)"
   ]
  },
  {
   "cell_type": "code",
   "execution_count": 48,
   "id": "390c1452",
   "metadata": {},
   "outputs": [],
   "source": [
    "combinedf = combinedf.drop('respondent_id',axis=1)"
   ]
  },
  {
   "cell_type": "code",
   "execution_count": 49,
   "id": "53f6331c",
   "metadata": {},
   "outputs": [
    {
     "data": {
      "text/html": [
       "<div>\n",
       "<style scoped>\n",
       "    .dataframe tbody tr th:only-of-type {\n",
       "        vertical-align: middle;\n",
       "    }\n",
       "\n",
       "    .dataframe tbody tr th {\n",
       "        vertical-align: top;\n",
       "    }\n",
       "\n",
       "    .dataframe thead th {\n",
       "        text-align: right;\n",
       "    }\n",
       "</style>\n",
       "<table border=\"1\" class=\"dataframe\">\n",
       "  <thead>\n",
       "    <tr style=\"text-align: right;\">\n",
       "      <th></th>\n",
       "      <th>h1n1_concern</th>\n",
       "      <th>h1n1_knowledge</th>\n",
       "      <th>behavioral_antiviral_meds</th>\n",
       "      <th>behavioral_avoidance</th>\n",
       "      <th>behavioral_face_mask</th>\n",
       "      <th>behavioral_wash_hands</th>\n",
       "      <th>behavioral_large_gatherings</th>\n",
       "      <th>behavioral_outside_home</th>\n",
       "      <th>behavioral_touch_face</th>\n",
       "      <th>doctor_recc_h1n1</th>\n",
       "      <th>doctor_recc_seasonal</th>\n",
       "      <th>chronic_med_condition</th>\n",
       "      <th>child_under_6_months</th>\n",
       "      <th>health_worker</th>\n",
       "      <th>health_insurance</th>\n",
       "      <th>opinion_h1n1_vacc_effective</th>\n",
       "      <th>opinion_h1n1_risk</th>\n",
       "      <th>opinion_h1n1_sick_from_vacc</th>\n",
       "      <th>opinion_seas_vacc_effective</th>\n",
       "      <th>opinion_seas_risk</th>\n",
       "      <th>opinion_seas_sick_from_vacc</th>\n",
       "      <th>age_group</th>\n",
       "      <th>education</th>\n",
       "      <th>race</th>\n",
       "      <th>sex</th>\n",
       "      <th>income_poverty</th>\n",
       "      <th>marital_status</th>\n",
       "      <th>rent_or_own</th>\n",
       "      <th>employment_status</th>\n",
       "      <th>hhs_geo_region</th>\n",
       "      <th>census_msa</th>\n",
       "      <th>household_adults</th>\n",
       "      <th>household_children</th>\n",
       "      <th>employment_industry</th>\n",
       "      <th>employment_occupation</th>\n",
       "    </tr>\n",
       "  </thead>\n",
       "  <tbody>\n",
       "    <tr>\n",
       "      <th>0</th>\n",
       "      <td>1.0</td>\n",
       "      <td>0.0</td>\n",
       "      <td>0.0</td>\n",
       "      <td>0.0</td>\n",
       "      <td>0.0</td>\n",
       "      <td>0.0</td>\n",
       "      <td>0.0</td>\n",
       "      <td>1.0</td>\n",
       "      <td>1.0</td>\n",
       "      <td>0.0</td>\n",
       "      <td>0.0</td>\n",
       "      <td>0.0</td>\n",
       "      <td>0.0</td>\n",
       "      <td>0.0</td>\n",
       "      <td>1.0</td>\n",
       "      <td>3.0</td>\n",
       "      <td>1.0</td>\n",
       "      <td>2.0</td>\n",
       "      <td>2.0</td>\n",
       "      <td>1.0</td>\n",
       "      <td>2.0</td>\n",
       "      <td>55 - 64 Years</td>\n",
       "      <td>&lt; 12 Years</td>\n",
       "      <td>White</td>\n",
       "      <td>Female</td>\n",
       "      <td>Below Poverty</td>\n",
       "      <td>Not Married</td>\n",
       "      <td>Own</td>\n",
       "      <td>Not in Labor Force</td>\n",
       "      <td>oxchjgsf</td>\n",
       "      <td>Non-MSA</td>\n",
       "      <td>0.0</td>\n",
       "      <td>0.0</td>\n",
       "      <td>NaN</td>\n",
       "      <td>NaN</td>\n",
       "    </tr>\n",
       "    <tr>\n",
       "      <th>1</th>\n",
       "      <td>3.0</td>\n",
       "      <td>2.0</td>\n",
       "      <td>0.0</td>\n",
       "      <td>1.0</td>\n",
       "      <td>0.0</td>\n",
       "      <td>1.0</td>\n",
       "      <td>0.0</td>\n",
       "      <td>1.0</td>\n",
       "      <td>1.0</td>\n",
       "      <td>0.0</td>\n",
       "      <td>0.0</td>\n",
       "      <td>0.0</td>\n",
       "      <td>0.0</td>\n",
       "      <td>0.0</td>\n",
       "      <td>1.0</td>\n",
       "      <td>5.0</td>\n",
       "      <td>4.0</td>\n",
       "      <td>4.0</td>\n",
       "      <td>4.0</td>\n",
       "      <td>2.0</td>\n",
       "      <td>4.0</td>\n",
       "      <td>35 - 44 Years</td>\n",
       "      <td>12 Years</td>\n",
       "      <td>White</td>\n",
       "      <td>Male</td>\n",
       "      <td>Below Poverty</td>\n",
       "      <td>Not Married</td>\n",
       "      <td>Rent</td>\n",
       "      <td>Employed</td>\n",
       "      <td>bhuqouqj</td>\n",
       "      <td>MSA, Not Principle  City</td>\n",
       "      <td>0.0</td>\n",
       "      <td>0.0</td>\n",
       "      <td>pxcmvdjn</td>\n",
       "      <td>xgwztkwe</td>\n",
       "    </tr>\n",
       "    <tr>\n",
       "      <th>2</th>\n",
       "      <td>1.0</td>\n",
       "      <td>1.0</td>\n",
       "      <td>0.0</td>\n",
       "      <td>1.0</td>\n",
       "      <td>0.0</td>\n",
       "      <td>0.0</td>\n",
       "      <td>0.0</td>\n",
       "      <td>0.0</td>\n",
       "      <td>0.0</td>\n",
       "      <td>NaN</td>\n",
       "      <td>NaN</td>\n",
       "      <td>1.0</td>\n",
       "      <td>0.0</td>\n",
       "      <td>0.0</td>\n",
       "      <td>NaN</td>\n",
       "      <td>3.0</td>\n",
       "      <td>1.0</td>\n",
       "      <td>1.0</td>\n",
       "      <td>4.0</td>\n",
       "      <td>1.0</td>\n",
       "      <td>2.0</td>\n",
       "      <td>18 - 34 Years</td>\n",
       "      <td>College Graduate</td>\n",
       "      <td>White</td>\n",
       "      <td>Male</td>\n",
       "      <td>&lt;= $75,000, Above Poverty</td>\n",
       "      <td>Not Married</td>\n",
       "      <td>Own</td>\n",
       "      <td>Employed</td>\n",
       "      <td>qufhixun</td>\n",
       "      <td>MSA, Not Principle  City</td>\n",
       "      <td>2.0</td>\n",
       "      <td>0.0</td>\n",
       "      <td>rucpziij</td>\n",
       "      <td>xtkaffoo</td>\n",
       "    </tr>\n",
       "    <tr>\n",
       "      <th>3</th>\n",
       "      <td>1.0</td>\n",
       "      <td>1.0</td>\n",
       "      <td>0.0</td>\n",
       "      <td>1.0</td>\n",
       "      <td>0.0</td>\n",
       "      <td>1.0</td>\n",
       "      <td>1.0</td>\n",
       "      <td>0.0</td>\n",
       "      <td>0.0</td>\n",
       "      <td>0.0</td>\n",
       "      <td>1.0</td>\n",
       "      <td>1.0</td>\n",
       "      <td>0.0</td>\n",
       "      <td>0.0</td>\n",
       "      <td>NaN</td>\n",
       "      <td>3.0</td>\n",
       "      <td>3.0</td>\n",
       "      <td>5.0</td>\n",
       "      <td>5.0</td>\n",
       "      <td>4.0</td>\n",
       "      <td>1.0</td>\n",
       "      <td>65+ Years</td>\n",
       "      <td>12 Years</td>\n",
       "      <td>White</td>\n",
       "      <td>Female</td>\n",
       "      <td>Below Poverty</td>\n",
       "      <td>Not Married</td>\n",
       "      <td>Rent</td>\n",
       "      <td>Not in Labor Force</td>\n",
       "      <td>lrircsnp</td>\n",
       "      <td>MSA, Principle City</td>\n",
       "      <td>0.0</td>\n",
       "      <td>0.0</td>\n",
       "      <td>NaN</td>\n",
       "      <td>NaN</td>\n",
       "    </tr>\n",
       "    <tr>\n",
       "      <th>4</th>\n",
       "      <td>2.0</td>\n",
       "      <td>1.0</td>\n",
       "      <td>0.0</td>\n",
       "      <td>1.0</td>\n",
       "      <td>0.0</td>\n",
       "      <td>1.0</td>\n",
       "      <td>1.0</td>\n",
       "      <td>0.0</td>\n",
       "      <td>1.0</td>\n",
       "      <td>0.0</td>\n",
       "      <td>0.0</td>\n",
       "      <td>0.0</td>\n",
       "      <td>0.0</td>\n",
       "      <td>0.0</td>\n",
       "      <td>NaN</td>\n",
       "      <td>3.0</td>\n",
       "      <td>3.0</td>\n",
       "      <td>2.0</td>\n",
       "      <td>3.0</td>\n",
       "      <td>1.0</td>\n",
       "      <td>4.0</td>\n",
       "      <td>45 - 54 Years</td>\n",
       "      <td>Some College</td>\n",
       "      <td>White</td>\n",
       "      <td>Female</td>\n",
       "      <td>&lt;= $75,000, Above Poverty</td>\n",
       "      <td>Married</td>\n",
       "      <td>Own</td>\n",
       "      <td>Employed</td>\n",
       "      <td>qufhixun</td>\n",
       "      <td>MSA, Not Principle  City</td>\n",
       "      <td>1.0</td>\n",
       "      <td>0.0</td>\n",
       "      <td>wxleyezf</td>\n",
       "      <td>emcorrxb</td>\n",
       "    </tr>\n",
       "  </tbody>\n",
       "</table>\n",
       "</div>"
      ],
      "text/plain": [
       "   h1n1_concern  h1n1_knowledge  behavioral_antiviral_meds  \\\n",
       "0           1.0             0.0                        0.0   \n",
       "1           3.0             2.0                        0.0   \n",
       "2           1.0             1.0                        0.0   \n",
       "3           1.0             1.0                        0.0   \n",
       "4           2.0             1.0                        0.0   \n",
       "\n",
       "   behavioral_avoidance  behavioral_face_mask  behavioral_wash_hands  \\\n",
       "0                   0.0                   0.0                    0.0   \n",
       "1                   1.0                   0.0                    1.0   \n",
       "2                   1.0                   0.0                    0.0   \n",
       "3                   1.0                   0.0                    1.0   \n",
       "4                   1.0                   0.0                    1.0   \n",
       "\n",
       "   behavioral_large_gatherings  behavioral_outside_home  \\\n",
       "0                          0.0                      1.0   \n",
       "1                          0.0                      1.0   \n",
       "2                          0.0                      0.0   \n",
       "3                          1.0                      0.0   \n",
       "4                          1.0                      0.0   \n",
       "\n",
       "   behavioral_touch_face  doctor_recc_h1n1  doctor_recc_seasonal  \\\n",
       "0                    1.0               0.0                   0.0   \n",
       "1                    1.0               0.0                   0.0   \n",
       "2                    0.0               NaN                   NaN   \n",
       "3                    0.0               0.0                   1.0   \n",
       "4                    1.0               0.0                   0.0   \n",
       "\n",
       "   chronic_med_condition  child_under_6_months  health_worker  \\\n",
       "0                    0.0                   0.0            0.0   \n",
       "1                    0.0                   0.0            0.0   \n",
       "2                    1.0                   0.0            0.0   \n",
       "3                    1.0                   0.0            0.0   \n",
       "4                    0.0                   0.0            0.0   \n",
       "\n",
       "   health_insurance  opinion_h1n1_vacc_effective  opinion_h1n1_risk  \\\n",
       "0               1.0                          3.0                1.0   \n",
       "1               1.0                          5.0                4.0   \n",
       "2               NaN                          3.0                1.0   \n",
       "3               NaN                          3.0                3.0   \n",
       "4               NaN                          3.0                3.0   \n",
       "\n",
       "   opinion_h1n1_sick_from_vacc  opinion_seas_vacc_effective  \\\n",
       "0                          2.0                          2.0   \n",
       "1                          4.0                          4.0   \n",
       "2                          1.0                          4.0   \n",
       "3                          5.0                          5.0   \n",
       "4                          2.0                          3.0   \n",
       "\n",
       "   opinion_seas_risk  opinion_seas_sick_from_vacc      age_group  \\\n",
       "0                1.0                          2.0  55 - 64 Years   \n",
       "1                2.0                          4.0  35 - 44 Years   \n",
       "2                1.0                          2.0  18 - 34 Years   \n",
       "3                4.0                          1.0      65+ Years   \n",
       "4                1.0                          4.0  45 - 54 Years   \n",
       "\n",
       "          education   race     sex             income_poverty marital_status  \\\n",
       "0        < 12 Years  White  Female              Below Poverty    Not Married   \n",
       "1          12 Years  White    Male              Below Poverty    Not Married   \n",
       "2  College Graduate  White    Male  <= $75,000, Above Poverty    Not Married   \n",
       "3          12 Years  White  Female              Below Poverty    Not Married   \n",
       "4      Some College  White  Female  <= $75,000, Above Poverty        Married   \n",
       "\n",
       "  rent_or_own   employment_status hhs_geo_region                census_msa  \\\n",
       "0         Own  Not in Labor Force       oxchjgsf                   Non-MSA   \n",
       "1        Rent            Employed       bhuqouqj  MSA, Not Principle  City   \n",
       "2         Own            Employed       qufhixun  MSA, Not Principle  City   \n",
       "3        Rent  Not in Labor Force       lrircsnp       MSA, Principle City   \n",
       "4         Own            Employed       qufhixun  MSA, Not Principle  City   \n",
       "\n",
       "   household_adults  household_children employment_industry  \\\n",
       "0               0.0                 0.0                 NaN   \n",
       "1               0.0                 0.0            pxcmvdjn   \n",
       "2               2.0                 0.0            rucpziij   \n",
       "3               0.0                 0.0                 NaN   \n",
       "4               1.0                 0.0            wxleyezf   \n",
       "\n",
       "  employment_occupation  \n",
       "0                   NaN  \n",
       "1              xgwztkwe  \n",
       "2              xtkaffoo  \n",
       "3                   NaN  \n",
       "4              emcorrxb  "
      ]
     },
     "execution_count": 49,
     "metadata": {},
     "output_type": "execute_result"
    }
   ],
   "source": [
    "# for using iterator imputer in sklearn which is experimental as of now\n",
    "# 1) remove varibales or columns not needed\n",
    "# 2) Labelencode all object and categorical data but retain the Missing value as it is.\n",
    "\n",
    "\n",
    "combinedf.head()"
   ]
  },
  {
   "cell_type": "code",
   "execution_count": 50,
   "id": "29da1569",
   "metadata": {},
   "outputs": [],
   "source": [
    "from sklearn.preprocessing import LabelEncoder"
   ]
  },
  {
   "cell_type": "code",
   "execution_count": 51,
   "id": "a6b45b7b",
   "metadata": {},
   "outputs": [],
   "source": [
    "le = LabelEncoder()"
   ]
  },
  {
   "cell_type": "code",
   "execution_count": 52,
   "id": "5e01122e",
   "metadata": {},
   "outputs": [],
   "source": [
    "original = combinedf"
   ]
  },
  {
   "cell_type": "code",
   "execution_count": 53,
   "id": "dc696eb6",
   "metadata": {},
   "outputs": [],
   "source": [
    "mask = combinedf.isnull()"
   ]
  },
  {
   "cell_type": "code",
   "execution_count": 54,
   "id": "f2609bb1",
   "metadata": {},
   "outputs": [],
   "source": [
    "combinedf = combinedf.astype(str).apply(le.fit_transform)"
   ]
  },
  {
   "cell_type": "code",
   "execution_count": 55,
   "id": "75179b2e",
   "metadata": {},
   "outputs": [],
   "source": [
    "combinedf = combinedf.where(~mask,original)"
   ]
  },
  {
   "cell_type": "code",
   "execution_count": 58,
   "id": "9ad1fbac",
   "metadata": {},
   "outputs": [
    {
     "data": {
      "text/html": [
       "<div>\n",
       "<style scoped>\n",
       "    .dataframe tbody tr th:only-of-type {\n",
       "        vertical-align: middle;\n",
       "    }\n",
       "\n",
       "    .dataframe tbody tr th {\n",
       "        vertical-align: top;\n",
       "    }\n",
       "\n",
       "    .dataframe thead th {\n",
       "        text-align: right;\n",
       "    }\n",
       "</style>\n",
       "<table border=\"1\" class=\"dataframe\">\n",
       "  <thead>\n",
       "    <tr style=\"text-align: right;\">\n",
       "      <th></th>\n",
       "      <th>h1n1_concern</th>\n",
       "      <th>h1n1_knowledge</th>\n",
       "      <th>behavioral_antiviral_meds</th>\n",
       "      <th>behavioral_avoidance</th>\n",
       "      <th>behavioral_face_mask</th>\n",
       "      <th>behavioral_wash_hands</th>\n",
       "      <th>behavioral_large_gatherings</th>\n",
       "      <th>behavioral_outside_home</th>\n",
       "      <th>behavioral_touch_face</th>\n",
       "      <th>doctor_recc_h1n1</th>\n",
       "      <th>doctor_recc_seasonal</th>\n",
       "      <th>chronic_med_condition</th>\n",
       "      <th>child_under_6_months</th>\n",
       "      <th>health_worker</th>\n",
       "      <th>health_insurance</th>\n",
       "      <th>opinion_h1n1_vacc_effective</th>\n",
       "      <th>opinion_h1n1_risk</th>\n",
       "      <th>opinion_h1n1_sick_from_vacc</th>\n",
       "      <th>opinion_seas_vacc_effective</th>\n",
       "      <th>opinion_seas_risk</th>\n",
       "      <th>opinion_seas_sick_from_vacc</th>\n",
       "      <th>age_group</th>\n",
       "      <th>education</th>\n",
       "      <th>race</th>\n",
       "      <th>sex</th>\n",
       "      <th>income_poverty</th>\n",
       "      <th>marital_status</th>\n",
       "      <th>rent_or_own</th>\n",
       "      <th>employment_status</th>\n",
       "      <th>hhs_geo_region</th>\n",
       "      <th>census_msa</th>\n",
       "      <th>household_adults</th>\n",
       "      <th>household_children</th>\n",
       "      <th>employment_industry</th>\n",
       "      <th>employment_occupation</th>\n",
       "    </tr>\n",
       "  </thead>\n",
       "  <tbody>\n",
       "    <tr>\n",
       "      <th>0</th>\n",
       "      <td>1</td>\n",
       "      <td>0</td>\n",
       "      <td>0</td>\n",
       "      <td>0</td>\n",
       "      <td>0</td>\n",
       "      <td>0</td>\n",
       "      <td>0</td>\n",
       "      <td>1</td>\n",
       "      <td>1</td>\n",
       "      <td>0</td>\n",
       "      <td>0</td>\n",
       "      <td>0</td>\n",
       "      <td>0</td>\n",
       "      <td>0</td>\n",
       "      <td>1</td>\n",
       "      <td>2</td>\n",
       "      <td>0</td>\n",
       "      <td>1</td>\n",
       "      <td>1</td>\n",
       "      <td>0</td>\n",
       "      <td>1</td>\n",
       "      <td>3</td>\n",
       "      <td>1</td>\n",
       "      <td>3</td>\n",
       "      <td>0</td>\n",
       "      <td>2</td>\n",
       "      <td>1</td>\n",
       "      <td>0</td>\n",
       "      <td>1</td>\n",
       "      <td>8</td>\n",
       "      <td>2</td>\n",
       "      <td>0</td>\n",
       "      <td>0</td>\n",
       "      <td>NaN</td>\n",
       "      <td>NaN</td>\n",
       "    </tr>\n",
       "    <tr>\n",
       "      <th>1</th>\n",
       "      <td>3</td>\n",
       "      <td>2</td>\n",
       "      <td>0</td>\n",
       "      <td>1</td>\n",
       "      <td>0</td>\n",
       "      <td>1</td>\n",
       "      <td>0</td>\n",
       "      <td>1</td>\n",
       "      <td>1</td>\n",
       "      <td>0</td>\n",
       "      <td>0</td>\n",
       "      <td>0</td>\n",
       "      <td>0</td>\n",
       "      <td>0</td>\n",
       "      <td>1</td>\n",
       "      <td>4</td>\n",
       "      <td>3</td>\n",
       "      <td>3</td>\n",
       "      <td>3</td>\n",
       "      <td>1</td>\n",
       "      <td>3</td>\n",
       "      <td>1</td>\n",
       "      <td>0</td>\n",
       "      <td>3</td>\n",
       "      <td>1</td>\n",
       "      <td>2</td>\n",
       "      <td>1</td>\n",
       "      <td>1</td>\n",
       "      <td>0</td>\n",
       "      <td>1</td>\n",
       "      <td>0</td>\n",
       "      <td>0</td>\n",
       "      <td>0</td>\n",
       "      <td>13</td>\n",
       "      <td>20</td>\n",
       "    </tr>\n",
       "    <tr>\n",
       "      <th>2</th>\n",
       "      <td>1</td>\n",
       "      <td>1</td>\n",
       "      <td>0</td>\n",
       "      <td>1</td>\n",
       "      <td>0</td>\n",
       "      <td>0</td>\n",
       "      <td>0</td>\n",
       "      <td>0</td>\n",
       "      <td>0</td>\n",
       "      <td>NaN</td>\n",
       "      <td>NaN</td>\n",
       "      <td>1</td>\n",
       "      <td>0</td>\n",
       "      <td>0</td>\n",
       "      <td>NaN</td>\n",
       "      <td>2</td>\n",
       "      <td>0</td>\n",
       "      <td>0</td>\n",
       "      <td>3</td>\n",
       "      <td>0</td>\n",
       "      <td>1</td>\n",
       "      <td>0</td>\n",
       "      <td>2</td>\n",
       "      <td>3</td>\n",
       "      <td>1</td>\n",
       "      <td>0</td>\n",
       "      <td>1</td>\n",
       "      <td>0</td>\n",
       "      <td>0</td>\n",
       "      <td>9</td>\n",
       "      <td>0</td>\n",
       "      <td>2</td>\n",
       "      <td>0</td>\n",
       "      <td>15</td>\n",
       "      <td>22</td>\n",
       "    </tr>\n",
       "    <tr>\n",
       "      <th>3</th>\n",
       "      <td>1</td>\n",
       "      <td>1</td>\n",
       "      <td>0</td>\n",
       "      <td>1</td>\n",
       "      <td>0</td>\n",
       "      <td>1</td>\n",
       "      <td>1</td>\n",
       "      <td>0</td>\n",
       "      <td>0</td>\n",
       "      <td>0</td>\n",
       "      <td>1</td>\n",
       "      <td>1</td>\n",
       "      <td>0</td>\n",
       "      <td>0</td>\n",
       "      <td>NaN</td>\n",
       "      <td>2</td>\n",
       "      <td>2</td>\n",
       "      <td>4</td>\n",
       "      <td>4</td>\n",
       "      <td>3</td>\n",
       "      <td>0</td>\n",
       "      <td>4</td>\n",
       "      <td>0</td>\n",
       "      <td>3</td>\n",
       "      <td>0</td>\n",
       "      <td>2</td>\n",
       "      <td>1</td>\n",
       "      <td>1</td>\n",
       "      <td>1</td>\n",
       "      <td>5</td>\n",
       "      <td>1</td>\n",
       "      <td>0</td>\n",
       "      <td>0</td>\n",
       "      <td>NaN</td>\n",
       "      <td>NaN</td>\n",
       "    </tr>\n",
       "    <tr>\n",
       "      <th>4</th>\n",
       "      <td>2</td>\n",
       "      <td>1</td>\n",
       "      <td>0</td>\n",
       "      <td>1</td>\n",
       "      <td>0</td>\n",
       "      <td>1</td>\n",
       "      <td>1</td>\n",
       "      <td>0</td>\n",
       "      <td>1</td>\n",
       "      <td>0</td>\n",
       "      <td>0</td>\n",
       "      <td>0</td>\n",
       "      <td>0</td>\n",
       "      <td>0</td>\n",
       "      <td>NaN</td>\n",
       "      <td>2</td>\n",
       "      <td>2</td>\n",
       "      <td>1</td>\n",
       "      <td>2</td>\n",
       "      <td>0</td>\n",
       "      <td>3</td>\n",
       "      <td>2</td>\n",
       "      <td>3</td>\n",
       "      <td>3</td>\n",
       "      <td>0</td>\n",
       "      <td>0</td>\n",
       "      <td>0</td>\n",
       "      <td>0</td>\n",
       "      <td>0</td>\n",
       "      <td>9</td>\n",
       "      <td>0</td>\n",
       "      <td>1</td>\n",
       "      <td>0</td>\n",
       "      <td>19</td>\n",
       "      <td>5</td>\n",
       "    </tr>\n",
       "  </tbody>\n",
       "</table>\n",
       "</div>"
      ],
      "text/plain": [
       "  h1n1_concern h1n1_knowledge behavioral_antiviral_meds behavioral_avoidance  \\\n",
       "0            1              0                         0                    0   \n",
       "1            3              2                         0                    1   \n",
       "2            1              1                         0                    1   \n",
       "3            1              1                         0                    1   \n",
       "4            2              1                         0                    1   \n",
       "\n",
       "  behavioral_face_mask behavioral_wash_hands behavioral_large_gatherings  \\\n",
       "0                    0                     0                           0   \n",
       "1                    0                     1                           0   \n",
       "2                    0                     0                           0   \n",
       "3                    0                     1                           1   \n",
       "4                    0                     1                           1   \n",
       "\n",
       "  behavioral_outside_home behavioral_touch_face doctor_recc_h1n1  \\\n",
       "0                       1                     1                0   \n",
       "1                       1                     1                0   \n",
       "2                       0                     0              NaN   \n",
       "3                       0                     0                0   \n",
       "4                       0                     1                0   \n",
       "\n",
       "  doctor_recc_seasonal chronic_med_condition child_under_6_months  \\\n",
       "0                    0                     0                    0   \n",
       "1                    0                     0                    0   \n",
       "2                  NaN                     1                    0   \n",
       "3                    1                     1                    0   \n",
       "4                    0                     0                    0   \n",
       "\n",
       "  health_worker health_insurance opinion_h1n1_vacc_effective  \\\n",
       "0             0                1                           2   \n",
       "1             0                1                           4   \n",
       "2             0              NaN                           2   \n",
       "3             0              NaN                           2   \n",
       "4             0              NaN                           2   \n",
       "\n",
       "  opinion_h1n1_risk opinion_h1n1_sick_from_vacc opinion_seas_vacc_effective  \\\n",
       "0                 0                           1                           1   \n",
       "1                 3                           3                           3   \n",
       "2                 0                           0                           3   \n",
       "3                 2                           4                           4   \n",
       "4                 2                           1                           2   \n",
       "\n",
       "  opinion_seas_risk opinion_seas_sick_from_vacc  age_group education  race  \\\n",
       "0                 0                           1          3         1     3   \n",
       "1                 1                           3          1         0     3   \n",
       "2                 0                           1          0         2     3   \n",
       "3                 3                           0          4         0     3   \n",
       "4                 0                           3          2         3     3   \n",
       "\n",
       "   sex income_poverty marital_status rent_or_own employment_status  \\\n",
       "0    0              2              1           0                 1   \n",
       "1    1              2              1           1                 0   \n",
       "2    1              0              1           0                 0   \n",
       "3    0              2              1           1                 1   \n",
       "4    0              0              0           0                 0   \n",
       "\n",
       "   hhs_geo_region  census_msa household_adults household_children  \\\n",
       "0               8           2                0                  0   \n",
       "1               1           0                0                  0   \n",
       "2               9           0                2                  0   \n",
       "3               5           1                0                  0   \n",
       "4               9           0                1                  0   \n",
       "\n",
       "  employment_industry employment_occupation  \n",
       "0                 NaN                   NaN  \n",
       "1                  13                    20  \n",
       "2                  15                    22  \n",
       "3                 NaN                   NaN  \n",
       "4                  19                     5  "
      ]
     },
     "execution_count": 58,
     "metadata": {},
     "output_type": "execute_result"
    }
   ],
   "source": [
    "combinedf.head()"
   ]
  },
  {
   "cell_type": "code",
   "execution_count": 59,
   "id": "0e30d898",
   "metadata": {},
   "outputs": [],
   "source": [
    "from sklearn.experimental import enable_iterative_imputer\n",
    "from sklearn.impute import IterativeImputer\n",
    "from sklearn.tree import DecisionTreeClassifier"
   ]
  },
  {
   "cell_type": "code",
   "execution_count": 60,
   "id": "93ef1a60",
   "metadata": {},
   "outputs": [],
   "source": [
    "imputer = IterativeImputer(estimator=DecisionTreeClassifier(), \n",
    "                           initial_strategy=\"most_frequent\",\n",
    "                           max_iter=20)"
   ]
  },
  {
   "cell_type": "code",
   "execution_count": 61,
   "id": "1454e79d",
   "metadata": {},
   "outputs": [
    {
     "name": "stderr",
     "output_type": "stream",
     "text": [
      "C:\\Users\\Hp\\anaconda3\\lib\\site-packages\\sklearn\\impute\\_iterative.py:785: ConvergenceWarning: [IterativeImputer] Early stopping criterion not reached.\n",
      "  warnings.warn(\n"
     ]
    }
   ],
   "source": [
    "combinedf_impute = imputer.fit_transform(combinedf)"
   ]
  },
  {
   "cell_type": "code",
   "execution_count": 64,
   "id": "8a26179d",
   "metadata": {},
   "outputs": [],
   "source": [
    "combinedf_impute = pd.DataFrame(combinedf_impute,columns=combinedf.columns)"
   ]
  },
  {
   "cell_type": "code",
   "execution_count": 66,
   "id": "70e80d1a",
   "metadata": {},
   "outputs": [
    {
     "name": "stdout",
     "output_type": "stream",
     "text": [
      "<class 'pandas.core.frame.DataFrame'>\n",
      "RangeIndex: 53415 entries, 0 to 53414\n",
      "Data columns (total 35 columns):\n",
      " #   Column                       Non-Null Count  Dtype  \n",
      "---  ------                       --------------  -----  \n",
      " 0   h1n1_concern                 53415 non-null  float64\n",
      " 1   h1n1_knowledge               53415 non-null  float64\n",
      " 2   behavioral_antiviral_meds    53415 non-null  float64\n",
      " 3   behavioral_avoidance         53415 non-null  float64\n",
      " 4   behavioral_face_mask         53415 non-null  float64\n",
      " 5   behavioral_wash_hands        53415 non-null  float64\n",
      " 6   behavioral_large_gatherings  53415 non-null  float64\n",
      " 7   behavioral_outside_home      53415 non-null  float64\n",
      " 8   behavioral_touch_face        53415 non-null  float64\n",
      " 9   doctor_recc_h1n1             53415 non-null  float64\n",
      " 10  doctor_recc_seasonal         53415 non-null  float64\n",
      " 11  chronic_med_condition        53415 non-null  float64\n",
      " 12  child_under_6_months         53415 non-null  float64\n",
      " 13  health_worker                53415 non-null  float64\n",
      " 14  health_insurance             53415 non-null  float64\n",
      " 15  opinion_h1n1_vacc_effective  53415 non-null  float64\n",
      " 16  opinion_h1n1_risk            53415 non-null  float64\n",
      " 17  opinion_h1n1_sick_from_vacc  53415 non-null  float64\n",
      " 18  opinion_seas_vacc_effective  53415 non-null  float64\n",
      " 19  opinion_seas_risk            53415 non-null  float64\n",
      " 20  opinion_seas_sick_from_vacc  53415 non-null  float64\n",
      " 21  age_group                    53415 non-null  float64\n",
      " 22  education                    53415 non-null  float64\n",
      " 23  race                         53415 non-null  float64\n",
      " 24  sex                          53415 non-null  float64\n",
      " 25  income_poverty               53415 non-null  float64\n",
      " 26  marital_status               53415 non-null  float64\n",
      " 27  rent_or_own                  53415 non-null  float64\n",
      " 28  employment_status            53415 non-null  float64\n",
      " 29  hhs_geo_region               53415 non-null  float64\n",
      " 30  census_msa                   53415 non-null  float64\n",
      " 31  household_adults             53415 non-null  float64\n",
      " 32  household_children           53415 non-null  float64\n",
      " 33  employment_industry          53415 non-null  float64\n",
      " 34  employment_occupation        53415 non-null  float64\n",
      "dtypes: float64(35)\n",
      "memory usage: 14.3 MB\n"
     ]
    }
   ],
   "source": [
    "combinedf_impute.info()"
   ]
  },
  {
   "cell_type": "code",
   "execution_count": 125,
   "id": "5e73cd33",
   "metadata": {},
   "outputs": [],
   "source": [
    "# Split data back to train & test\n",
    "\n",
    "flu_train = combinedf_impute.loc[0:26706]"
   ]
  },
  {
   "cell_type": "code",
   "execution_count": 126,
   "id": "9f389a2d",
   "metadata": {},
   "outputs": [],
   "source": [
    "flu_test  = combinedf_impute.loc[26707:53414]"
   ]
  },
  {
   "cell_type": "code",
   "execution_count": 127,
   "id": "73ec46b6",
   "metadata": {},
   "outputs": [
    {
     "name": "stdout",
     "output_type": "stream",
     "text": [
      "(26707, 35)\n",
      "(26707, 36)\n",
      "(26708, 35)\n",
      "(26708, 36)\n"
     ]
    }
   ],
   "source": [
    "print(flu_train.shape)\n",
    "print(train.shape)\n",
    "print(flu_test.shape)\n",
    "print(testf.shape)"
   ]
  },
  {
   "cell_type": "code",
   "execution_count": 128,
   "id": "a5d18e4e",
   "metadata": {},
   "outputs": [],
   "source": [
    "y = trainset.seasonal_vaccine\n",
    "X = flu_train"
   ]
  },
  {
   "cell_type": "code",
   "execution_count": 129,
   "id": "ecb9cc56",
   "metadata": {},
   "outputs": [
    {
     "data": {
      "image/png": "[encoded data removed]",
      "text/plain": [
       "<Figure size 640x480 with 1 Axes>"
      ]
     },
     "metadata": {},
     "output_type": "display_data"
    }
   ],
   "source": [
    "ax = y.value_counts().plot(kind='bar')\n",
    "for i in ax.containers:\n",
    "    ax.bar_label(i)"
   ]
  },
  {
   "cell_type": "code",
   "execution_count": 130,
   "id": "9aee4132",
   "metadata": {},
   "outputs": [],
   "source": [
    "# Binary logistic Regression - score, predict, classification_report, ROC Curve\n",
    "# Decision Tree\n",
    "# Random Forest\n",
    "# Gradient boosting\n",
    "# Naive Bayes\n",
    "# SVM"
   ]
  },
  {
   "cell_type": "code",
   "execution_count": 131,
   "id": "8b55a91f",
   "metadata": {},
   "outputs": [],
   "source": [
    "# Logistic Regression\n",
    "\n",
    "from sklearn.linear_model import LogisticRegression"
   ]
  },
  {
   "cell_type": "code",
   "execution_count": 132,
   "id": "4d69442f",
   "metadata": {},
   "outputs": [],
   "source": [
    "lr = LogisticRegression(max_iter=2000)"
   ]
  },
  {
   "cell_type": "code",
   "execution_count": 133,
   "id": "4d3e8464",
   "metadata": {},
   "outputs": [],
   "source": [
    "lrmodel = lr.fit(X,y)"
   ]
  },
  {
   "cell_type": "code",
   "execution_count": 134,
   "id": "185387f5",
   "metadata": {},
   "outputs": [
    {
     "data": {
      "text/plain": [
       "0.7715580184970232"
      ]
     },
     "execution_count": 134,
     "metadata": {},
     "output_type": "execute_result"
    }
   ],
   "source": [
    "lrmodel.score(X,y)"
   ]
  },
  {
   "cell_type": "code",
   "execution_count": 135,
   "id": "54735a00",
   "metadata": {},
   "outputs": [],
   "source": [
    "from sklearn.model_selection import cross_val_score"
   ]
  },
  {
   "cell_type": "code",
   "execution_count": 136,
   "id": "0be810e1",
   "metadata": {},
   "outputs": [
    {
     "data": {
      "text/plain": [
       "array([0.76675402, 0.76843879, 0.77494851, 0.7755102 , 0.76895712])"
      ]
     },
     "execution_count": 136,
     "metadata": {},
     "output_type": "execute_result"
    }
   ],
   "source": [
    "cross_val_score(lr,X,y)"
   ]
  },
  {
   "cell_type": "code",
   "execution_count": 138,
   "id": "19bbeb16",
   "metadata": {},
   "outputs": [
    {
     "data": {
      "text/plain": [
       "0.770921728"
      ]
     },
     "execution_count": 138,
     "metadata": {},
     "output_type": "execute_result"
    }
   ],
   "source": [
    "np.mean([0.76675402, 0.76843879, 0.77494851, 0.7755102 , 0.76895712])"
   ]
  },
  {
   "cell_type": "code",
   "execution_count": 139,
   "id": "09c89667",
   "metadata": {},
   "outputs": [],
   "source": [
    "lr_train_predict = lrmodel.predict(X)"
   ]
  },
  {
   "cell_type": "code",
   "execution_count": 140,
   "id": "40d8bb95",
   "metadata": {},
   "outputs": [],
   "source": [
    "lrpred = pd.DataFrame(lr_train_predict)"
   ]
  },
  {
   "cell_type": "code",
   "execution_count": 141,
   "id": "3e4a6eb8",
   "metadata": {},
   "outputs": [
    {
     "data": {
      "text/plain": [
       "0    14831\n",
       "1    11876\n",
       "dtype: int64"
      ]
     },
     "execution_count": 141,
     "metadata": {},
     "output_type": "execute_result"
    }
   ],
   "source": [
    "lrpred.value_counts()"
   ]
  },
  {
   "cell_type": "code",
   "execution_count": 142,
   "id": "d669ce62",
   "metadata": {},
   "outputs": [],
   "source": [
    "from sklearn.metrics import RocCurveDisplay,classification_report"
   ]
  },
  {
   "cell_type": "code",
   "execution_count": 143,
   "id": "2b2c4b37",
   "metadata": {},
   "outputs": [
    {
     "data": {
      "text/plain": [
       "<sklearn.metrics._plot.roc_curve.RocCurveDisplay at 0x27a9a162fa0>"
      ]
     },
     "execution_count": 143,
     "metadata": {},
     "output_type": "execute_result"
    },
    {
     "data": {
      "image/png": "[encoded data removed]",
      "text/plain": [
       "<Figure size 640x480 with 1 Axes>"
      ]
     },
     "metadata": {},
     "output_type": "display_data"
    }
   ],
   "source": [
    "RocCurveDisplay.from_predictions(y,lr_train_predict)"
   ]
  },
  {
   "cell_type": "code",
   "execution_count": 144,
   "id": "df26dc3d",
   "metadata": {},
   "outputs": [
    {
     "name": "stdout",
     "output_type": "stream",
     "text": [
      "              precision    recall  f1-score   support\n",
      "\n",
      "           0       0.78      0.81      0.79     14272\n",
      "           1       0.77      0.73      0.75     12435\n",
      "\n",
      "    accuracy                           0.77     26707\n",
      "   macro avg       0.77      0.77      0.77     26707\n",
      "weighted avg       0.77      0.77      0.77     26707\n",
      "\n"
     ]
    }
   ],
   "source": [
    "print(classification_report(y,lrpred))"
   ]
  },
  {
   "cell_type": "code",
   "execution_count": 145,
   "id": "219b6c1a",
   "metadata": {},
   "outputs": [],
   "source": [
    "from sklearn.tree import DecisionTreeClassifier"
   ]
  },
  {
   "cell_type": "code",
   "execution_count": 154,
   "id": "91b19d28",
   "metadata": {},
   "outputs": [],
   "source": [
    "tree = DecisionTreeClassifier(max_depth=10)"
   ]
  },
  {
   "cell_type": "code",
   "execution_count": 155,
   "id": "92193320",
   "metadata": {},
   "outputs": [],
   "source": [
    "treemodel = tree.fit(X,y)"
   ]
  },
  {
   "cell_type": "code",
   "execution_count": 156,
   "id": "79a9c36b",
   "metadata": {},
   "outputs": [
    {
     "data": {
      "text/plain": [
       "0.8110233272175834"
      ]
     },
     "execution_count": 156,
     "metadata": {},
     "output_type": "execute_result"
    }
   ],
   "source": [
    "treemodel.score(X,y)"
   ]
  },
  {
   "cell_type": "code",
   "execution_count": 157,
   "id": "b433de9b",
   "metadata": {},
   "outputs": [
    {
     "data": {
      "text/plain": [
       "array([0.73886185, 0.74634968, 0.74705111, 0.75098296, 0.75117019])"
      ]
     },
     "execution_count": 157,
     "metadata": {},
     "output_type": "execute_result"
    }
   ],
   "source": [
    "cross_val_score(tree,X,y)"
   ]
  },
  {
   "cell_type": "code",
   "execution_count": 158,
   "id": "3179af8c",
   "metadata": {},
   "outputs": [
    {
     "data": {
      "text/plain": [
       "0.7468831579999999"
      ]
     },
     "execution_count": 158,
     "metadata": {},
     "output_type": "execute_result"
    }
   ],
   "source": [
    "np.mean([0.73886185, 0.74634968, 0.74705111, 0.75098296, 0.75117019])"
   ]
  },
  {
   "cell_type": "code",
   "execution_count": 159,
   "id": "4922f600",
   "metadata": {},
   "outputs": [],
   "source": [
    "dr_train_predict = treemodel.predict(X)"
   ]
  },
  {
   "cell_type": "code",
   "execution_count": 160,
   "id": "89374cd2",
   "metadata": {},
   "outputs": [],
   "source": [
    "drpred = pd.DataFrame(dr_train_predict)"
   ]
  },
  {
   "cell_type": "code",
   "execution_count": 162,
   "id": "991494cd",
   "metadata": {},
   "outputs": [
    {
     "data": {
      "text/plain": [
       "<sklearn.metrics._plot.roc_curve.RocCurveDisplay at 0x27ad0956e20>"
      ]
     },
     "execution_count": 162,
     "metadata": {},
     "output_type": "execute_result"
    },
    {
     "data": {
      "image/png": "[encoded data removed]",
      "text/plain": [
       "<Figure size 640x480 with 1 Axes>"
      ]
     },
     "metadata": {},
     "output_type": "display_data"
    }
   ],
   "source": [
    "RocCurveDisplay.from_predictions(y,dr_train_predict)"
   ]
  },
  {
   "cell_type": "code",
   "execution_count": 163,
   "id": "3b2f4790",
   "metadata": {},
   "outputs": [
    {
     "name": "stdout",
     "output_type": "stream",
     "text": [
      "              precision    recall  f1-score   support\n",
      "\n",
      "           0       0.81      0.84      0.83     14272\n",
      "           1       0.81      0.78      0.79     12435\n",
      "\n",
      "    accuracy                           0.81     26707\n",
      "   macro avg       0.81      0.81      0.81     26707\n",
      "weighted avg       0.81      0.81      0.81     26707\n",
      "\n"
     ]
    }
   ],
   "source": [
    "print(classification_report(y,drpred))"
   ]
  },
  {
   "cell_type": "code",
   "execution_count": 165,
   "id": "a3523c41",
   "metadata": {},
   "outputs": [],
   "source": [
    "# Random forest\n",
    "\n",
    "from sklearn.ensemble import RandomForestClassifier"
   ]
  },
  {
   "cell_type": "code",
   "execution_count": 174,
   "id": "6eac4e7a",
   "metadata": {},
   "outputs": [],
   "source": [
    "RF = RandomForestClassifier(n_estimators=1000,max_depth=12)"
   ]
  },
  {
   "cell_type": "code",
   "execution_count": 175,
   "id": "6172c1ac",
   "metadata": {},
   "outputs": [],
   "source": [
    "RFmodel = RF.fit(X,y)"
   ]
  },
  {
   "cell_type": "code",
   "execution_count": 176,
   "id": "c792df39",
   "metadata": {},
   "outputs": [
    {
     "data": {
      "text/plain": [
       "0.8685363387875837"
      ]
     },
     "execution_count": 176,
     "metadata": {},
     "output_type": "execute_result"
    }
   ],
   "source": [
    "RFmodel.score(X,y)"
   ]
  },
  {
   "cell_type": "code",
   "execution_count": 177,
   "id": "033a3278",
   "metadata": {},
   "outputs": [
    {
     "data": {
      "text/plain": [
       "array([0.77368027, 0.77723699, 0.77719528, 0.77925482, 0.77738251])"
      ]
     },
     "execution_count": 177,
     "metadata": {},
     "output_type": "execute_result"
    }
   ],
   "source": [
    "cross_val_score(RF,X,y)"
   ]
  },
  {
   "cell_type": "code",
   "execution_count": 178,
   "id": "01bfc7fd",
   "metadata": {},
   "outputs": [
    {
     "data": {
      "text/plain": [
       "0.7769499739999999"
      ]
     },
     "execution_count": 178,
     "metadata": {},
     "output_type": "execute_result"
    }
   ],
   "source": [
    "np.mean([0.77368027, 0.77723699, 0.77719528, 0.77925482, 0.77738251])"
   ]
  },
  {
   "cell_type": "code",
   "execution_count": 179,
   "id": "625b898b",
   "metadata": {},
   "outputs": [],
   "source": [
    "RF_train_pred = RFmodel.predict(X)"
   ]
  },
  {
   "cell_type": "code",
   "execution_count": 172,
   "id": "17da2139",
   "metadata": {},
   "outputs": [],
   "source": [
    "rfpred = pd.DataFrame(RF_train_pred)"
   ]
  },
  {
   "cell_type": "code",
   "execution_count": 181,
   "id": "3ac47564",
   "metadata": {},
   "outputs": [
    {
     "name": "stdout",
     "output_type": "stream",
     "text": [
      "              precision    recall  f1-score   support\n",
      "\n",
      "           0       1.00      1.00      1.00     14272\n",
      "           1       1.00      1.00      1.00     12435\n",
      "\n",
      "    accuracy                           1.00     26707\n",
      "   macro avg       1.00      1.00      1.00     26707\n",
      "weighted avg       1.00      1.00      1.00     26707\n",
      "\n"
     ]
    }
   ],
   "source": [
    "print(classification_report(y,rfpred))"
   ]
  },
  {
   "cell_type": "code",
   "execution_count": 180,
   "id": "e684adf4",
   "metadata": {},
   "outputs": [
    {
     "data": {
      "text/plain": [
       "<sklearn.metrics._plot.roc_curve.RocCurveDisplay at 0x27a94b1f8e0>"
      ]
     },
     "execution_count": 180,
     "metadata": {},
     "output_type": "execute_result"
    },
    {
     "data": {
      "image/png": "[encoded data removed]",
      "text/plain": [
       "<Figure size 640x480 with 1 Axes>"
      ]
     },
     "metadata": {},
     "output_type": "display_data"
    }
   ],
   "source": [
    "RocCurveDisplay.from_predictions(y,RF_train_pred)"
   ]
  },
  {
   "cell_type": "code",
   "execution_count": 183,
   "id": "7a642f27",
   "metadata": {},
   "outputs": [],
   "source": [
    "from sklearn.ensemble import GradientBoostingClassifier"
   ]
  },
  {
   "cell_type": "code",
   "execution_count": 184,
   "id": "f29e49d8",
   "metadata": {},
   "outputs": [],
   "source": [
    "GB = GradientBoostingClassifier(n_estimators=1000)"
   ]
  },
  {
   "cell_type": "code",
   "execution_count": 185,
   "id": "ebe09f7c",
   "metadata": {},
   "outputs": [],
   "source": [
    "GBmodel = GB.fit(X,y)"
   ]
  },
  {
   "cell_type": "code",
   "execution_count": 186,
   "id": "5369c998",
   "metadata": {},
   "outputs": [
    {
     "data": {
      "text/plain": [
       "0.8129329389298686"
      ]
     },
     "execution_count": 186,
     "metadata": {},
     "output_type": "execute_result"
    }
   ],
   "source": [
    "GBmodel.score(X,y)"
   ]
  },
  {
   "cell_type": "code",
   "execution_count": 188,
   "id": "42d4acd9",
   "metadata": {},
   "outputs": [],
   "source": [
    "Gb_train_pred = GBmodel.predict(X)"
   ]
  },
  {
   "cell_type": "code",
   "execution_count": 189,
   "id": "5c330b6b",
   "metadata": {},
   "outputs": [
    {
     "data": {
      "text/html": [
       "<div>\n",
       "<style scoped>\n",
       "    .dataframe tbody tr th:only-of-type {\n",
       "        vertical-align: middle;\n",
       "    }\n",
       "\n",
       "    .dataframe tbody tr th {\n",
       "        vertical-align: top;\n",
       "    }\n",
       "\n",
       "    .dataframe thead th {\n",
       "        text-align: right;\n",
       "    }\n",
       "</style>\n",
       "<table border=\"1\" class=\"dataframe\">\n",
       "  <thead>\n",
       "    <tr style=\"text-align: right;\">\n",
       "      <th>col_0</th>\n",
       "      <th>0</th>\n",
       "      <th>1</th>\n",
       "    </tr>\n",
       "    <tr>\n",
       "      <th>seasonal_vaccine</th>\n",
       "      <th></th>\n",
       "      <th></th>\n",
       "    </tr>\n",
       "  </thead>\n",
       "  <tbody>\n",
       "    <tr>\n",
       "      <th>0</th>\n",
       "      <td>11866</td>\n",
       "      <td>2406</td>\n",
       "    </tr>\n",
       "    <tr>\n",
       "      <th>1</th>\n",
       "      <td>2590</td>\n",
       "      <td>9845</td>\n",
       "    </tr>\n",
       "  </tbody>\n",
       "</table>\n",
       "</div>"
      ],
      "text/plain": [
       "col_0                 0     1\n",
       "seasonal_vaccine             \n",
       "0                 11866  2406\n",
       "1                  2590  9845"
      ]
     },
     "execution_count": 189,
     "metadata": {},
     "output_type": "execute_result"
    }
   ],
   "source": [
    "pd.crosstab(y,Gb_train_pred)"
   ]
  },
  {
   "cell_type": "code",
   "execution_count": 190,
   "id": "7f04706c",
   "metadata": {},
   "outputs": [
    {
     "name": "stdout",
     "output_type": "stream",
     "text": [
      "              precision    recall  f1-score   support\n",
      "\n",
      "           0       0.82      0.83      0.83     14272\n",
      "           1       0.80      0.79      0.80     12435\n",
      "\n",
      "    accuracy                           0.81     26707\n",
      "   macro avg       0.81      0.81      0.81     26707\n",
      "weighted avg       0.81      0.81      0.81     26707\n",
      "\n"
     ]
    }
   ],
   "source": [
    "print(classification_report(y,Gb_train_pred))"
   ]
  },
  {
   "cell_type": "code",
   "execution_count": 191,
   "id": "ca01a4bc",
   "metadata": {},
   "outputs": [
    {
     "data": {
      "text/plain": [
       "<sklearn.metrics._plot.roc_curve.RocCurveDisplay at 0x27ad8980880>"
      ]
     },
     "execution_count": 191,
     "metadata": {},
     "output_type": "execute_result"
    },
    {
     "data": {
      "image/png": "[encoded data removed]",
      "text/plain": [
       "<Figure size 640x480 with 1 Axes>"
      ]
     },
     "metadata": {},
     "output_type": "display_data"
    }
   ],
   "source": [
    "RocCurveDisplay.from_predictions(y,Gb_train_pred)"
   ]
  },
  {
   "cell_type": "code",
   "execution_count": 192,
   "id": "bdb4b44f",
   "metadata": {},
   "outputs": [],
   "source": [
    "from sklearn.naive_bayes import CategoricalNB"
   ]
  },
  {
   "cell_type": "code",
   "execution_count": 193,
   "id": "04c95687",
   "metadata": {},
   "outputs": [],
   "source": [
    "nb = CategoricalNB()"
   ]
  },
  {
   "cell_type": "code",
   "execution_count": 194,
   "id": "abfea6a7",
   "metadata": {},
   "outputs": [],
   "source": [
    "nbmodel = nb.fit(X,y)"
   ]
  },
  {
   "cell_type": "code",
   "execution_count": 195,
   "id": "11056f20",
   "metadata": {},
   "outputs": [
    {
     "data": {
      "text/plain": [
       "0.7526491182087093"
      ]
     },
     "execution_count": 195,
     "metadata": {},
     "output_type": "execute_result"
    }
   ],
   "source": [
    "nbmodel.score(X,y)"
   ]
  },
  {
   "cell_type": "code",
   "execution_count": 196,
   "id": "23207ff6",
   "metadata": {},
   "outputs": [],
   "source": [
    "nbpredict = nbmodel.predict(X)"
   ]
  },
  {
   "cell_type": "code",
   "execution_count": 197,
   "id": "0f88c043",
   "metadata": {},
   "outputs": [
    {
     "data": {
      "text/plain": [
       "<sklearn.metrics._plot.roc_curve.RocCurveDisplay at 0x27ad8a892e0>"
      ]
     },
     "execution_count": 197,
     "metadata": {},
     "output_type": "execute_result"
    },
    {
     "data": {
      "image/png": "[encoded data removed]",
      "text/plain": [
       "<Figure size 640x480 with 1 Axes>"
      ]
     },
     "metadata": {},
     "output_type": "display_data"
    }
   ],
   "source": [
    "RocCurveDisplay.from_predictions(y,nbpredict)"
   ]
  },
  {
   "cell_type": "code",
   "execution_count": 198,
   "id": "89f5a295",
   "metadata": {},
   "outputs": [],
   "source": [
    "from sklearn.svm import SVC"
   ]
  },
  {
   "cell_type": "code",
   "execution_count": 200,
   "id": "e71ab50f",
   "metadata": {},
   "outputs": [],
   "source": [
    "svm = SVC()"
   ]
  },
  {
   "cell_type": "code",
   "execution_count": 201,
   "id": "2ea538c7",
   "metadata": {},
   "outputs": [],
   "source": [
    "svmmodel = svm.fit(X,y)"
   ]
  },
  {
   "cell_type": "code",
   "execution_count": 202,
   "id": "e1bd9d44",
   "metadata": {},
   "outputs": [
    {
     "data": {
      "text/plain": [
       "0.7782229378065676"
      ]
     },
     "execution_count": 202,
     "metadata": {},
     "output_type": "execute_result"
    }
   ],
   "source": [
    "svmmodel.score(X,y)"
   ]
  },
  {
   "cell_type": "code",
   "execution_count": 203,
   "id": "5c35edcf",
   "metadata": {},
   "outputs": [],
   "source": [
    "svmppredict = svmmodel.predict(X)"
   ]
  },
  {
   "cell_type": "code",
   "execution_count": 205,
   "id": "0c33af92",
   "metadata": {},
   "outputs": [
    {
     "name": "stdout",
     "output_type": "stream",
     "text": [
      "              precision    recall  f1-score   support\n",
      "\n",
      "           0       0.78      0.82      0.80     14272\n",
      "           1       0.78      0.74      0.76     12435\n",
      "\n",
      "    accuracy                           0.78     26707\n",
      "   macro avg       0.78      0.78      0.78     26707\n",
      "weighted avg       0.78      0.78      0.78     26707\n",
      "\n"
     ]
    }
   ],
   "source": [
    "print(classification_report(y,svmppredict))"
   ]
  },
  {
   "cell_type": "code",
   "execution_count": 204,
   "id": "684fc386",
   "metadata": {},
   "outputs": [
    {
     "data": {
      "text/plain": [
       "<sklearn.metrics._plot.roc_curve.RocCurveDisplay at 0x27ad8ba30d0>"
      ]
     },
     "execution_count": 204,
     "metadata": {},
     "output_type": "execute_result"
    },
    {
     "data": {
      "image/png": "[encoded data removed]",
      "text/plain": [
       "<Figure size 640x480 with 1 Axes>"
      ]
     },
     "metadata": {},
     "output_type": "display_data"
    }
   ],
   "source": [
    "RocCurveDisplay.from_predictions(y,svmppredict)"
   ]
  },
  {
   "cell_type": "code",
   "execution_count": 206,
   "id": "43c2c756",
   "metadata": {},
   "outputs": [
    {
     "name": "stdout",
     "output_type": "stream",
     "text": [
      "Collecting auto-sklearn"
     ]
    },
    {
     "name": "stderr",
     "output_type": "stream",
     "text": [
      "  error: subprocess-exited-with-error\n",
      "  \n",
      "  Getting requirements to build wheel did not run successfully.\n",
      "  exit code: 1\n",
      "  \n",
      "  [17 lines of output]\n",
      "  Traceback (most recent call last):\n",
      "    File \"C:\\Users\\Hp\\anaconda3\\lib\\site-packages\\pip\\_vendor\\pyproject_hooks\\_in_process\\_in_process.py\", line 353, in <module>\n",
      "      main()\n",
      "    File \"C:\\Users\\Hp\\anaconda3\\lib\\site-packages\\pip\\_vendor\\pyproject_hooks\\_in_process\\_in_process.py\", line 335, in main\n",
      "      json_out['return_val'] = hook(**hook_input['kwargs'])\n",
      "    File \"C:\\Users\\Hp\\anaconda3\\lib\\site-packages\\pip\\_vendor\\pyproject_hooks\\_in_process\\_in_process.py\", line 118, in get_requires_for_build_wheel\n",
      "      return hook(config_settings)\n",
      "    File \"C:\\Users\\Hp\\AppData\\Local\\Temp\\pip-build-env-3zt8u24q\\overlay\\Lib\\site-packages\\setuptools\\build_meta.py\", line 341, in get_requires_for_build_wheel\n",
      "      return self._get_build_requires(config_settings, requirements=['wheel'])\n",
      "    File \"C:\\Users\\Hp\\AppData\\Local\\Temp\\pip-build-env-3zt8u24q\\overlay\\Lib\\site-packages\\setuptools\\build_meta.py\", line 323, in _get_build_requires\n",
      "      self.run_setup()\n",
      "    File \"C:\\Users\\Hp\\AppData\\Local\\Temp\\pip-build-env-3zt8u24q\\overlay\\Lib\\site-packages\\setuptools\\build_meta.py\", line 487, in run_setup\n",
      "      super(_BuildMetaLegacyBackend,\n",
      "    File \"C:\\Users\\Hp\\AppData\\Local\\Temp\\pip-build-env-3zt8u24q\\overlay\\Lib\\site-packages\\setuptools\\build_meta.py\", line 338, in run_setup\n",
      "      exec(code, locals())\n",
      "    File \"<string>\", line 10, in <module>\n",
      "  ValueError: Detected unsupported operating system: win32. Please check the compability information of auto-sklearn: https://automl.github.io/auto-sklearn/master/installation.html#windows-osx-compatibility\n",
      "  [end of output]\n",
      "  \n",
      "  note: This error originates from a subprocess, and is likely not a problem with pip.\n",
      "error: subprocess-exited-with-error\n",
      "\n",
      "Getting requirements to build wheel did not run successfully.\n",
      "exit code: 1\n",
      "\n",
      "See above for output.\n",
      "\n",
      "note: This error originates from a subprocess, and is likely not a problem with pip.\n"
     ]
    },
    {
     "name": "stdout",
     "output_type": "stream",
     "text": [
      "\n",
      "  Downloading auto-sklearn-0.15.0.tar.gz (6.5 MB)\n",
      "                                              0.0/6.5 MB ? eta -:--:--\n",
      "                                              0.0/6.5 MB 660.6 kB/s eta 0:00:10\n",
      "                                              0.0/6.5 MB 660.6 kB/s eta 0:00:10\n",
      "                                              0.0/6.5 MB 660.6 kB/s eta 0:00:10\n",
      "                                              0.0/6.5 MB 660.6 kB/s eta 0:00:10\n",
      "                                              0.1/6.5 MB 386.4 kB/s eta 0:00:17\n",
      "                                              0.1/6.5 MB 386.4 kB/s eta 0:00:17\n",
      "                                              0.1/6.5 MB 386.4 kB/s eta 0:00:17\n",
      "     -                                        0.2/6.5 MB 393.8 kB/s eta 0:00:16\n",
      "     -                                        0.2/6.5 MB 402.0 kB/s eta 0:00:16\n",
      "     -                                        0.2/6.5 MB 402.0 kB/s eta 0:00:16\n",
      "     -                                        0.2/6.5 MB 402.0 kB/s eta 0:00:16\n",
      "     -                                        0.2/6.5 MB 402.0 kB/s eta 0:00:16\n",
      "     -                                        0.2/6.5 MB 402.0 kB/s eta 0:00:16\n",
      "     -                                        0.2/6.5 MB 402.0 kB/s eta 0:00:16\n",
      "     --                                       0.3/6.5 MB 374.5 kB/s eta 0:00:17\n",
      "     --                                       0.3/6.5 MB 374.5 kB/s eta 0:00:17\n",
      "     --                                       0.4/6.5 MB 364.2 kB/s eta 0:00:17\n",
      "     --                                       0.4/6.5 MB 346.6 kB/s eta 0:00:18\n",
      "     --                                       0.4/6.5 MB 363.2 kB/s eta 0:00:17\n",
      "     --                                       0.5/6.5 MB 366.0 kB/s eta 0:00:17\n",
      "     --                                       0.5/6.5 MB 365.1 kB/s eta 0:00:17\n",
      "     --                                       0.5/6.5 MB 365.1 kB/s eta 0:00:17\n",
      "     --                                       0.5/6.5 MB 365.1 kB/s eta 0:00:17\n",
      "     --                                       0.5/6.5 MB 365.1 kB/s eta 0:00:17\n",
      "     --                                       0.5/6.5 MB 365.1 kB/s eta 0:00:17\n",
      "     --                                       0.5/6.5 MB 324.2 kB/s eta 0:00:19\n",
      "     ---                                      0.6/6.5 MB 375.5 kB/s eta 0:00:16\n",
      "     ---                                      0.6/6.5 MB 375.5 kB/s eta 0:00:16\n",
      "     ---                                      0.6/6.5 MB 379.3 kB/s eta 0:00:16\n",
      "     ---                                      0.6/6.5 MB 379.3 kB/s eta 0:00:16\n",
      "     ----                                     0.7/6.5 MB 378.8 kB/s eta 0:00:16\n",
      "     ----                                     0.7/6.5 MB 400.3 kB/s eta 0:00:15\n",
      "     ----                                     0.8/6.5 MB 429.5 kB/s eta 0:00:14\n",
      "     -----                                    0.8/6.5 MB 455.6 kB/s eta 0:00:13\n",
      "     -----                                    0.9/6.5 MB 471.4 kB/s eta 0:00:12\n",
      "     -----                                    0.9/6.5 MB 469.1 kB/s eta 0:00:12\n",
      "     ------                                   1.0/6.5 MB 505.8 kB/s eta 0:00:11\n",
      "     ------                                   1.0/6.5 MB 508.2 kB/s eta 0:00:11\n",
      "     ------                                   1.0/6.5 MB 508.2 kB/s eta 0:00:11\n",
      "     ------                                   1.1/6.5 MB 516.8 kB/s eta 0:00:11\n",
      "     -------                                  1.2/6.5 MB 533.8 kB/s eta 0:00:10\n",
      "     -------                                  1.2/6.5 MB 550.0 kB/s eta 0:00:10\n",
      "     --------                                 1.3/6.5 MB 570.1 kB/s eta 0:00:10\n",
      "     --------                                 1.4/6.5 MB 589.4 kB/s eta 0:00:09\n",
      "     ---------                                1.5/6.5 MB 612.2 kB/s eta 0:00:09\n",
      "     ---------                                1.5/6.5 MB 626.0 kB/s eta 0:00:08\n",
      "     ---------                                1.6/6.5 MB 647.3 kB/s eta 0:00:08\n",
      "     ----------                               1.7/6.5 MB 663.7 kB/s eta 0:00:08\n",
      "     ----------                               1.7/6.5 MB 679.7 kB/s eta 0:00:07\n",
      "     -----------                              1.8/6.5 MB 694.7 kB/s eta 0:00:07\n",
      "     -----------                              1.9/6.5 MB 709.4 kB/s eta 0:00:07\n",
      "     ------------                             2.0/6.5 MB 719.8 kB/s eta 0:00:07\n",
      "     ------------                             2.0/6.5 MB 737.3 kB/s eta 0:00:07\n",
      "     ------------                             2.1/6.5 MB 744.7 kB/s eta 0:00:06\n",
      "     ------------                             2.1/6.5 MB 744.7 kB/s eta 0:00:06\n",
      "     ------------                             2.1/6.5 MB 744.7 kB/s eta 0:00:06\n",
      "     ------------                             2.1/6.5 MB 744.7 kB/s eta 0:00:06\n",
      "     ------------                             2.1/6.5 MB 744.7 kB/s eta 0:00:06\n",
      "     ------------                             2.1/6.5 MB 744.7 kB/s eta 0:00:06\n",
      "     ------------                             2.1/6.5 MB 744.7 kB/s eta 0:00:06\n",
      "     ------------                             2.1/6.5 MB 744.7 kB/s eta 0:00:06\n",
      "     ------------                             2.1/6.5 MB 744.7 kB/s eta 0:00:06\n",
      "     -------------                            2.2/6.5 MB 674.6 kB/s eta 0:00:07\n",
      "     -------------                            2.2/6.5 MB 693.7 kB/s eta 0:00:07\n",
      "     -------------                            2.2/6.5 MB 693.7 kB/s eta 0:00:07\n",
      "     -------------                            2.2/6.5 MB 693.7 kB/s eta 0:00:07\n",
      "     -------------                            2.2/6.5 MB 693.7 kB/s eta 0:00:07\n",
      "     -------------                            2.2/6.5 MB 693.7 kB/s eta 0:00:07\n",
      "     -------------                            2.2/6.5 MB 693.7 kB/s eta 0:00:07\n",
      "     --------------                           2.3/6.5 MB 649.6 kB/s eta 0:00:07\n",
      "     --------------                           2.3/6.5 MB 649.6 kB/s eta 0:00:07\n",
      "     --------------                           2.3/6.5 MB 649.6 kB/s eta 0:00:07\n",
      "     --------------                           2.3/6.5 MB 633.2 kB/s eta 0:00:07\n",
      "     --------------                           2.4/6.5 MB 630.7 kB/s eta 0:00:07\n",
      "     --------------                           2.4/6.5 MB 631.0 kB/s eta 0:00:07\n",
      "     --------------                           2.4/6.5 MB 631.3 kB/s eta 0:00:07\n",
      "     ---------------                          2.5/6.5 MB 636.8 kB/s eta 0:00:07\n",
      "     ---------------                          2.5/6.5 MB 637.0 kB/s eta 0:00:07\n",
      "     ---------------                          2.5/6.5 MB 639.8 kB/s eta 0:00:07\n",
      "     ---------------                          2.6/6.5 MB 642.6 kB/s eta 0:00:07\n",
      "     ----------------                         2.6/6.5 MB 645.4 kB/s eta 0:00:06\n",
      "     ----------------                         2.7/6.5 MB 647.9 kB/s eta 0:00:06\n",
      "     ----------------                         2.7/6.5 MB 648.1 kB/s eta 0:00:06\n",
      "     -----------------                        2.8/6.5 MB 653.0 kB/s eta 0:00:06\n",
      "     -----------------                        2.8/6.5 MB 657.8 kB/s eta 0:00:06\n",
      "     -----------------                        2.9/6.5 MB 660.2 kB/s eta 0:00:06\n",
      "     ------------------                       2.9/6.5 MB 662.4 kB/s eta 0:00:06\n",
      "     ------------------                       3.0/6.5 MB 666.8 kB/s eta 0:00:06\n",
      "     ------------------                       3.0/6.5 MB 664.5 kB/s eta 0:00:06\n",
      "     -------------------                      3.1/6.5 MB 668.7 kB/s eta 0:00:06\n",
      "     -------------------                      3.1/6.5 MB 670.8 kB/s eta 0:00:05\n",
      "     -------------------                      3.2/6.5 MB 675.1 kB/s eta 0:00:05\n",
      "     -------------------                      3.2/6.5 MB 674.9 kB/s eta 0:00:05\n",
      "     --------------------                     3.3/6.5 MB 679.0 kB/s eta 0:00:05\n",
      "     --------------------                     3.3/6.5 MB 680.8 kB/s eta 0:00:05\n",
      "     --------------------                     3.3/6.5 MB 682.7 kB/s eta 0:00:05\n",
      "     --------------------                     3.4/6.5 MB 684.5 kB/s eta 0:00:05\n",
      "     ---------------------                    3.4/6.5 MB 684.3 kB/s eta 0:00:05\n",
      "     ---------------------                    3.5/6.5 MB 683.9 kB/s eta 0:00:05\n",
      "     ---------------------                    3.5/6.5 MB 687.6 kB/s eta 0:00:05\n",
      "     ---------------------                    3.6/6.5 MB 691.3 kB/s eta 0:00:05\n",
      "     ----------------------                   3.6/6.5 MB 693.1 kB/s eta 0:00:05\n",
      "     ----------------------                   3.6/6.5 MB 694.7 kB/s eta 0:00:05\n",
      "     ----------------------                   3.7/6.5 MB 698.2 kB/s eta 0:00:04\n",
      "     ----------------------                   3.7/6.5 MB 697.8 kB/s eta 0:00:04\n",
      "     -----------------------                  3.8/6.5 MB 699.4 kB/s eta 0:00:04\n",
      "     -----------------------                  3.8/6.5 MB 701.0 kB/s eta 0:00:04\n",
      "     -----------------------                  3.8/6.5 MB 702.3 kB/s eta 0:00:04\n",
      "     ------------------------                 3.9/6.5 MB 705.6 kB/s eta 0:00:04\n",
      "     ------------------------                 3.9/6.5 MB 709.0 kB/s eta 0:00:04\n",
      "     ------------------------                 4.0/6.5 MB 710.4 kB/s eta 0:00:04\n",
      "     ------------------------                 4.0/6.5 MB 711.8 kB/s eta 0:00:04\n",
      "     ------------------------                 4.0/6.5 MB 713.5 kB/s eta 0:00:04\n",
      "     ------------------------                 4.0/6.5 MB 713.5 kB/s eta 0:00:04\n",
      "     ------------------------                 4.0/6.5 MB 713.5 kB/s eta 0:00:04\n",
      "     ------------------------                 4.0/6.5 MB 713.5 kB/s eta 0:00:04\n",
      "     -------------------------                4.1/6.5 MB 697.0 kB/s eta 0:00:04\n",
      "     -------------------------                4.1/6.5 MB 697.0 kB/s eta 0:00:04\n",
      "     -------------------------                4.2/6.5 MB 692.9 kB/s eta 0:00:04\n",
      "     --------------------------               4.2/6.5 MB 690.8 kB/s eta 0:00:04\n",
      "     --------------------------               4.2/6.5 MB 692.3 kB/s eta 0:00:04\n",
      "     --------------------------               4.3/6.5 MB 691.8 kB/s eta 0:00:04\n",
      "     --------------------------               4.3/6.5 MB 693.3 kB/s eta 0:00:04\n",
      "     --------------------------               4.3/6.5 MB 693.3 kB/s eta 0:00:04\n",
      "     --------------------------               4.3/6.5 MB 693.3 kB/s eta 0:00:04\n",
      "     --------------------------               4.3/6.5 MB 693.3 kB/s eta 0:00:04\n",
      "     ---------------------------              4.4/6.5 MB 677.5 kB/s eta 0:00:04\n",
      "     ---------------------------              4.4/6.5 MB 674.2 kB/s eta 0:00:04\n",
      "     ---------------------------              4.4/6.5 MB 672.5 kB/s eta 0:00:04\n",
      "     ---------------------------              4.4/6.5 MB 672.5 kB/s eta 0:00:04\n",
      "     ---------------------------              4.4/6.5 MB 672.5 kB/s eta 0:00:04\n",
      "     ---------------------------              4.4/6.5 MB 672.5 kB/s eta 0:00:04\n",
      "     ---------------------------              4.4/6.5 MB 672.5 kB/s eta 0:00:04\n",
      "     ---------------------------              4.5/6.5 MB 649.4 kB/s eta 0:00:04\n",
      "     ---------------------------              4.5/6.5 MB 652.4 kB/s eta 0:00:04\n",
      "     ---------------------------              4.5/6.5 MB 651.0 kB/s eta 0:00:03\n",
      "     ----------------------------             4.6/6.5 MB 648.1 kB/s eta 0:00:03\n",
      "     ----------------------------             4.6/6.5 MB 645.3 kB/s eta 0:00:03\n",
      "     ----------------------------             4.6/6.5 MB 645.3 kB/s eta 0:00:03\n",
      "     ----------------------------             4.6/6.5 MB 645.3 kB/s eta 0:00:03\n",
      "     ----------------------------             4.6/6.5 MB 642.6 kB/s eta 0:00:03\n",
      "     ----------------------------             4.6/6.5 MB 641.2 kB/s eta 0:00:03\n",
      "     ----------------------------             4.7/6.5 MB 639.9 kB/s eta 0:00:03\n",
      "     ----------------------------             4.7/6.5 MB 638.6 kB/s eta 0:00:03\n",
      "     -----------------------------            4.7/6.5 MB 636.0 kB/s eta 0:00:03\n",
      "     -----------------------------            4.7/6.5 MB 636.1 kB/s eta 0:00:03\n",
      "     -----------------------------            4.7/6.5 MB 633.5 kB/s eta 0:00:03\n",
      "     -----------------------------            4.8/6.5 MB 632.3 kB/s eta 0:00:03\n",
      "     -----------------------------            4.8/6.5 MB 632.3 kB/s eta 0:00:03\n",
      "     -----------------------------            4.8/6.5 MB 632.3 kB/s eta 0:00:03\n",
      "     -----------------------------            4.8/6.5 MB 632.3 kB/s eta 0:00:03\n",
      "     -----------------------------            4.8/6.5 MB 632.3 kB/s eta 0:00:03\n",
      "     -----------------------------            4.8/6.5 MB 632.3 kB/s eta 0:00:03\n",
      "     -----------------------------            4.8/6.5 MB 632.3 kB/s eta 0:00:03\n",
      "     -----------------------------            4.8/6.5 MB 632.3 kB/s eta 0:00:03\n",
      "     -----------------------------            4.8/6.5 MB 611.1 kB/s eta 0:00:03\n",
      "     -----------------------------            4.8/6.5 MB 611.1 kB/s eta 0:00:03\n",
      "     -----------------------------            4.8/6.5 MB 611.1 kB/s eta 0:00:03\n",
      "     -----------------------------            4.8/6.5 MB 611.1 kB/s eta 0:00:03\n",
      "     -----------------------------            4.8/6.5 MB 611.1 kB/s eta 0:00:03\n",
      "     -----------------------------            4.8/6.5 MB 611.1 kB/s eta 0:00:03\n",
      "     -----------------------------            4.8/6.5 MB 611.1 kB/s eta 0:00:03\n",
      "     -----------------------------            4.9/6.5 MB 590.5 kB/s eta 0:00:03\n",
      "     -----------------------------            4.9/6.5 MB 590.5 kB/s eta 0:00:03\n",
      "     ------------------------------           4.9/6.5 MB 585.2 kB/s eta 0:00:03\n",
      "     ------------------------------           4.9/6.5 MB 582.0 kB/s eta 0:00:03\n",
      "     ------------------------------           4.9/6.5 MB 582.0 kB/s eta 0:00:03\n",
      "     ------------------------------           4.9/6.5 MB 582.0 kB/s eta 0:00:03\n",
      "     ------------------------------           4.9/6.5 MB 582.0 kB/s eta 0:00:03\n",
      "     ------------------------------           4.9/6.5 MB 582.0 kB/s eta 0:00:03\n",
      "     ------------------------------           4.9/6.5 MB 582.0 kB/s eta 0:00:03\n",
      "     ------------------------------           4.9/6.5 MB 582.0 kB/s eta 0:00:03\n",
      "     ------------------------------           4.9/6.5 MB 567.0 kB/s eta 0:00:03\n",
      "     ------------------------------           4.9/6.5 MB 567.0 kB/s eta 0:00:03\n",
      "     ------------------------------           4.9/6.5 MB 567.0 kB/s eta 0:00:03\n",
      "     ------------------------------           4.9/6.5 MB 567.0 kB/s eta 0:00:03\n",
      "     ------------------------------           4.9/6.5 MB 567.0 kB/s eta 0:00:03\n",
      "     ------------------------------           4.9/6.5 MB 567.0 kB/s eta 0:00:03\n",
      "     ------------------------------           4.9/6.5 MB 567.0 kB/s eta 0:00:03\n",
      "     ------------------------------           4.9/6.5 MB 567.0 kB/s eta 0:00:03\n",
      "     ------------------------------           4.9/6.5 MB 567.0 kB/s eta 0:00:03\n",
      "     ------------------------------           4.9/6.5 MB 567.0 kB/s eta 0:00:03\n",
      "     ------------------------------           4.9/6.5 MB 567.0 kB/s eta 0:00:03\n",
      "     ------------------------------           4.9/6.5 MB 567.0 kB/s eta 0:00:03\n",
      "     ------------------------------           4.9/6.5 MB 567.0 kB/s eta 0:00:03\n",
      "     ------------------------------           4.9/6.5 MB 567.0 kB/s eta 0:00:03\n",
      "     ------------------------------           4.9/6.5 MB 567.0 kB/s eta 0:00:03\n",
      "     ------------------------------           5.0/6.5 MB 527.8 kB/s eta 0:00:03\n",
      "     ------------------------------           5.0/6.5 MB 527.8 kB/s eta 0:00:03\n",
      "     ------------------------------           5.0/6.5 MB 524.7 kB/s eta 0:00:03\n",
      "     ------------------------------           5.0/6.5 MB 524.7 kB/s eta 0:00:03\n",
      "     ------------------------------           5.0/6.5 MB 524.7 kB/s eta 0:00:03\n",
      "     ------------------------------           5.0/6.5 MB 517.3 kB/s eta 0:00:03\n",
      "     ------------------------------           5.0/6.5 MB 517.3 kB/s eta 0:00:03\n",
      "     ------------------------------           5.0/6.5 MB 517.3 kB/s eta 0:00:03\n",
      "     ------------------------------           5.0/6.5 MB 517.3 kB/s eta 0:00:03\n",
      "     ------------------------------           5.0/6.5 MB 517.3 kB/s eta 0:00:03\n",
      "     ------------------------------           5.0/6.5 MB 517.3 kB/s eta 0:00:03\n",
      "     ------------------------------           5.0/6.5 MB 517.3 kB/s eta 0:00:03\n",
      "     ------------------------------           5.0/6.5 MB 517.3 kB/s eta 0:00:03\n",
      "     ------------------------------           5.0/6.5 MB 517.3 kB/s eta 0:00:03\n",
      "     -------------------------------          5.0/6.5 MB 498.7 kB/s eta 0:00:03\n",
      "     -------------------------------          5.0/6.5 MB 498.7 kB/s eta 0:00:03\n",
      "     -------------------------------          5.0/6.5 MB 498.7 kB/s eta 0:00:03\n",
      "     -------------------------------          5.0/6.5 MB 498.7 kB/s eta 0:00:03\n",
      "     -------------------------------          5.0/6.5 MB 492.3 kB/s eta 0:00:03\n",
      "     -------------------------------          5.0/6.5 MB 492.3 kB/s eta 0:00:03\n",
      "     -------------------------------          5.0/6.5 MB 492.3 kB/s eta 0:00:03\n",
      "     -------------------------------          5.0/6.5 MB 492.3 kB/s eta 0:00:03\n",
      "     -------------------------------          5.0/6.5 MB 492.3 kB/s eta 0:00:03\n",
      "     -------------------------------          5.0/6.5 MB 492.3 kB/s eta 0:00:03\n",
      "     -------------------------------          5.0/6.5 MB 492.3 kB/s eta 0:00:03\n",
      "     -------------------------------          5.0/6.5 MB 492.3 kB/s eta 0:00:03\n",
      "     -------------------------------          5.0/6.5 MB 492.3 kB/s eta 0:00:03\n",
      "     -------------------------------          5.0/6.5 MB 492.3 kB/s eta 0:00:03\n",
      "     -------------------------------          5.0/6.5 MB 492.3 kB/s eta 0:00:03\n",
      "     -------------------------------          5.0/6.5 MB 492.3 kB/s eta 0:00:03\n",
      "     -------------------------------          5.0/6.5 MB 492.3 kB/s eta 0:00:03\n",
      "     -------------------------------          5.0/6.5 MB 492.3 kB/s eta 0:00:03\n",
      "     -------------------------------          5.0/6.5 MB 492.3 kB/s eta 0:00:03\n",
      "     -------------------------------          5.0/6.5 MB 492.3 kB/s eta 0:00:03\n",
      "     -------------------------------          5.0/6.5 MB 492.3 kB/s eta 0:00:03\n",
      "     -------------------------------          5.0/6.5 MB 492.3 kB/s eta 0:00:03\n",
      "     -------------------------------          5.0/6.5 MB 492.3 kB/s eta 0:00:03\n",
      "     -------------------------------          5.0/6.5 MB 492.3 kB/s eta 0:00:03\n",
      "     -------------------------------          5.0/6.5 MB 492.3 kB/s eta 0:00:03\n",
      "     -------------------------------          5.0/6.5 MB 492.3 kB/s eta 0:00:03\n",
      "     -------------------------------          5.0/6.5 MB 492.3 kB/s eta 0:00:03\n",
      "     -------------------------------          5.1/6.5 MB 446.6 kB/s eta 0:00:04\n",
      "     -------------------------------          5.1/6.5 MB 447.5 kB/s eta 0:00:04\n",
      "     -------------------------------          5.1/6.5 MB 447.5 kB/s eta 0:00:04\n",
      "     -------------------------------          5.1/6.5 MB 447.5 kB/s eta 0:00:04\n",
      "     -------------------------------          5.1/6.5 MB 447.5 kB/s eta 0:00:04\n",
      "     -------------------------------          5.1/6.5 MB 440.8 kB/s eta 0:00:04\n",
      "     -------------------------------          5.1/6.5 MB 440.8 kB/s eta 0:00:04\n",
      "     -------------------------------          5.1/6.5 MB 440.8 kB/s eta 0:00:04\n",
      "     -------------------------------          5.1/6.5 MB 440.8 kB/s eta 0:00:04\n",
      "     -------------------------------          5.1/6.5 MB 440.8 kB/s eta 0:00:04\n",
      "     -------------------------------          5.1/6.5 MB 432.9 kB/s eta 0:00:04\n",
      "     -------------------------------          5.1/6.5 MB 432.9 kB/s eta 0:00:04\n",
      "     -------------------------------          5.1/6.5 MB 432.9 kB/s eta 0:00:04\n",
      "     -------------------------------          5.1/6.5 MB 429.5 kB/s eta 0:00:04\n",
      "     -------------------------------          5.1/6.5 MB 429.5 kB/s eta 0:00:04\n",
      "     -------------------------------          5.1/6.5 MB 429.5 kB/s eta 0:00:04\n",
      "     -------------------------------          5.2/6.5 MB 426.2 kB/s eta 0:00:04\n",
      "     -------------------------------          5.2/6.5 MB 426.2 kB/s eta 0:00:04\n",
      "     -------------------------------          5.2/6.5 MB 426.2 kB/s eta 0:00:04\n",
      "     -------------------------------          5.2/6.5 MB 422.1 kB/s eta 0:00:04\n",
      "     -------------------------------          5.2/6.5 MB 422.1 kB/s eta 0:00:04\n",
      "     -------------------------------          5.2/6.5 MB 422.1 kB/s eta 0:00:04\n",
      "     -------------------------------          5.2/6.5 MB 422.1 kB/s eta 0:00:04\n",
      "     --------------------------------         5.2/6.5 MB 417.9 kB/s eta 0:00:04\n",
      "     --------------------------------         5.2/6.5 MB 417.9 kB/s eta 0:00:04\n",
      "     --------------------------------         5.2/6.5 MB 415.0 kB/s eta 0:00:04\n",
      "     --------------------------------         5.2/6.5 MB 415.0 kB/s eta 0:00:04\n",
      "     --------------------------------         5.2/6.5 MB 415.0 kB/s eta 0:00:04\n",
      "     --------------------------------         5.2/6.5 MB 413.1 kB/s eta 0:00:04\n",
      "     --------------------------------         5.2/6.5 MB 413.1 kB/s eta 0:00:04\n",
      "     --------------------------------         5.2/6.5 MB 410.6 kB/s eta 0:00:04\n",
      "     --------------------------------         5.2/6.5 MB 410.6 kB/s eta 0:00:04\n",
      "     --------------------------------         5.2/6.5 MB 408.4 kB/s eta 0:00:04\n",
      "     --------------------------------         5.2/6.5 MB 408.4 kB/s eta 0:00:04\n",
      "     --------------------------------         5.3/6.5 MB 407.5 kB/s eta 0:00:03\n",
      "     --------------------------------         5.3/6.5 MB 407.5 kB/s eta 0:00:03\n",
      "     --------------------------------         5.3/6.5 MB 404.9 kB/s eta 0:00:03\n",
      "     --------------------------------         5.3/6.5 MB 404.9 kB/s eta 0:00:03\n",
      "     --------------------------------         5.3/6.5 MB 403.6 kB/s eta 0:00:03\n",
      "     --------------------------------         5.3/6.5 MB 403.6 kB/s eta 0:00:03\n",
      "     --------------------------------         5.3/6.5 MB 402.2 kB/s eta 0:00:03\n",
      "     --------------------------------         5.3/6.5 MB 400.6 kB/s eta 0:00:03\n",
      "     --------------------------------         5.3/6.5 MB 400.6 kB/s eta 0:00:03\n",
      "     ---------------------------------        5.3/6.5 MB 400.3 kB/s eta 0:00:03\n",
      "     ---------------------------------        5.4/6.5 MB 399.2 kB/s eta 0:00:03\n",
      "     ---------------------------------        5.4/6.5 MB 398.9 kB/s eta 0:00:03\n",
      "     ---------------------------------        5.4/6.5 MB 398.2 kB/s eta 0:00:03\n",
      "     ---------------------------------        5.4/6.5 MB 397.6 kB/s eta 0:00:03\n",
      "     ---------------------------------        5.4/6.5 MB 397.6 kB/s eta 0:00:03\n",
      "     ---------------------------------        5.4/6.5 MB 397.3 kB/s eta 0:00:03\n",
      "     ---------------------------------        5.4/6.5 MB 397.3 kB/s eta 0:00:03\n",
      "     ---------------------------------        5.4/6.5 MB 395.4 kB/s eta 0:00:03\n",
      "     ---------------------------------        5.5/6.5 MB 395.6 kB/s eta 0:00:03\n",
      "     ---------------------------------        5.5/6.5 MB 394.6 kB/s eta 0:00:03\n",
      "     ---------------------------------        5.5/6.5 MB 394.3 kB/s eta 0:00:03\n",
      "     ----------------------------------       5.5/6.5 MB 394.4 kB/s eta 0:00:03\n",
      "     ----------------------------------       5.5/6.5 MB 393.4 kB/s eta 0:00:03\n",
      "     ----------------------------------       5.6/6.5 MB 393.5 kB/s eta 0:00:03\n",
      "     ----------------------------------       5.6/6.5 MB 392.5 kB/s eta 0:00:03\n",
      "     ----------------------------------       5.6/6.5 MB 392.7 kB/s eta 0:00:03\n",
      "     ----------------------------------       5.6/6.5 MB 392.4 kB/s eta 0:00:03\n",
      "     ----------------------------------       5.6/6.5 MB 392.0 kB/s eta 0:00:03\n",
      "     ----------------------------------       5.6/6.5 MB 391.4 kB/s eta 0:00:03\n",
      "     ----------------------------------       5.7/6.5 MB 390.8 kB/s eta 0:00:03\n",
      "     -----------------------------------      5.7/6.5 MB 391.0 kB/s eta 0:00:03\n",
      "     -----------------------------------      5.7/6.5 MB 390.9 kB/s eta 0:00:02\n",
      "     -----------------------------------      5.7/6.5 MB 390.9 kB/s eta 0:00:02\n",
      "     -----------------------------------      5.7/6.5 MB 389.9 kB/s eta 0:00:02\n",
      "     -----------------------------------      5.7/6.5 MB 390.4 kB/s eta 0:00:02\n",
      "     -----------------------------------      5.8/6.5 MB 389.1 kB/s eta 0:00:02\n",
      "     -----------------------------------      5.8/6.5 MB 389.2 kB/s eta 0:00:02\n",
      "     -----------------------------------      5.8/6.5 MB 389.4 kB/s eta 0:00:02\n",
      "     -----------------------------------      5.8/6.5 MB 388.4 kB/s eta 0:00:02\n",
      "     ------------------------------------     5.8/6.5 MB 389.0 kB/s eta 0:00:02\n",
      "     ------------------------------------     5.8/6.5 MB 388.4 kB/s eta 0:00:02\n",
      "     ------------------------------------     5.9/6.5 MB 388.2 kB/s eta 0:00:02\n",
      "     ------------------------------------     5.9/6.5 MB 388.8 kB/s eta 0:00:02\n",
      "     ------------------------------------     5.9/6.5 MB 388.2 kB/s eta 0:00:02\n",
      "     ------------------------------------     5.9/6.5 MB 388.4 kB/s eta 0:00:02\n",
      "     ------------------------------------     5.9/6.5 MB 388.3 kB/s eta 0:00:02\n",
      "     ------------------------------------     5.9/6.5 MB 388.1 kB/s eta 0:00:02\n",
      "     ------------------------------------     5.9/6.5 MB 388.3 kB/s eta 0:00:02\n",
      "     ------------------------------------     6.0/6.5 MB 388.3 kB/s eta 0:00:02\n",
      "     -------------------------------------    6.0/6.5 MB 388.1 kB/s eta 0:00:02\n",
      "     -------------------------------------    6.0/6.5 MB 387.9 kB/s eta 0:00:02\n",
      "     -------------------------------------    6.0/6.5 MB 387.7 kB/s eta 0:00:02\n",
      "     -------------------------------------    6.1/6.5 MB 388.2 kB/s eta 0:00:02\n",
      "     -------------------------------------    6.1/6.5 MB 388.1 kB/s eta 0:00:02\n",
      "     -------------------------------------    6.1/6.5 MB 388.3 kB/s eta 0:00:02\n",
      "     -------------------------------------    6.1/6.5 MB 388.1 kB/s eta 0:00:01\n",
      "     -------------------------------------    6.1/6.5 MB 388.8 kB/s eta 0:00:01\n",
      "     -------------------------------------    6.1/6.5 MB 388.3 kB/s eta 0:00:01\n",
      "     --------------------------------------   6.2/6.5 MB 388.5 kB/s eta 0:00:01\n",
      "     --------------------------------------   6.2/6.5 MB 388.7 kB/s eta 0:00:01\n",
      "     --------------------------------------   6.2/6.5 MB 388.2 kB/s eta 0:00:01\n",
      "     --------------------------------------   6.2/6.5 MB 388.6 kB/s eta 0:00:01\n",
      "     --------------------------------------   6.2/6.5 MB 388.8 kB/s eta 0:00:01\n",
      "     --------------------------------------   6.3/6.5 MB 388.8 kB/s eta 0:00:01\n",
      "     --------------------------------------   6.3/6.5 MB 389.3 kB/s eta 0:00:01\n",
      "     --------------------------------------   6.3/6.5 MB 389.8 kB/s eta 0:00:01\n",
      "     ---------------------------------------  6.3/6.5 MB 388.9 kB/s eta 0:00:01\n",
      "     ---------------------------------------  6.3/6.5 MB 389.7 kB/s eta 0:00:01\n",
      "     ---------------------------------------  6.4/6.5 MB 389.8 kB/s eta 0:00:01\n",
      "     ---------------------------------------  6.4/6.5 MB 390.0 kB/s eta 0:00:01\n",
      "     ---------------------------------------  6.4/6.5 MB 390.2 kB/s eta 0:00:01\n",
      "     ---------------------------------------  6.4/6.5 MB 389.9 kB/s eta 0:00:01\n",
      "     ---------------------------------------  6.5/6.5 MB 390.4 kB/s eta 0:00:01\n",
      "     ---------------------------------------  6.5/6.5 MB 390.5 kB/s eta 0:00:01\n",
      "     ---------------------------------------  6.5/6.5 MB 390.5 kB/s eta 0:00:01\n",
      "     ---------------------------------------- 6.5/6.5 MB 389.1 kB/s eta 0:00:00\n",
      "  Installing build dependencies: started\n",
      "  Installing build dependencies: finished with status 'done'\n",
      "  Getting requirements to build wheel: started\n",
      "  Getting requirements to build wheel: finished with status 'error'\n"
     ]
    }
   ],
   "source": [
    "!pip install auto-sklearn"
   ]
  },
  {
   "cell_type": "code",
   "execution_count": null,
   "id": "fd507f76",
   "metadata": {},
   "outputs": [],
   "source": []
  }
 ],
 "metadata": {
  "kernelspec": {
   "display_name": "Python 3 (ipykernel)",
   "language": "python",
   "name": "python3"
  },
  "language_info": {
   "codemirror_mode": {
    "name": "ipython",
    "version": 3
   },
   "file_extension": ".py",
   "mimetype": "text/x-python",
   "name": "python",
   "nbconvert_exporter": "python",
   "pygments_lexer": "ipython3",
   "version": "3.8.16"
  }
 },
 "nbformat": 4,
 "nbformat_minor": 5
}
