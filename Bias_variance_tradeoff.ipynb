{
 "cells": [
  {
   "cell_type": "code",
   "execution_count": 1,
   "id": "9c0d9380",
   "metadata": {},
   "outputs": [],
   "source": [
    "# Bias, Variance and Tradeoff\n",
    "# Prediction error has 3 components - Bias, Variance & Irreducible Error.\n",
    "\n",
    "# Irreducible Error cannot be reduced by any algorithm. This error originates from wrong framing of business problem, faulty\n",
    "# objective and unknown variables that exist which are not knwn.\n",
    "\n",
    "# Bias are underlying assumptions made by an algorithm to predict and also make it easier for cost function or loss function\n",
    "# to learn effectively.\n",
    "\n",
    "# Parametric ALgorithms Like MLR, BLR have assumptions that need to be met else the model fail.\n",
    "\n",
    "# Linear Algorithms have high bias, hence they run faster.\n",
    "# Low predictive accuracy or high predictive error if assumptions are not met.\n",
    "# ** Bias **: underline assumption\n",
    "\n",
    "# Low Bias means few or no assumptions\n",
    "# High Bias means many assumptions about variables.\n",
    "\n",
    "# Non Parametric Algorithms like Decision Tree have low bias.\n",
    "\n",
    "# Variance is amount of deviance caused in dependent variable prediction when there are minor to major changes in input data.\n",
    "\n",
    "# Low Varience - Small or Marginal or Large Changes in input data lead to small or mior deviace in dependent variables.\n",
    "# High Variance - Small or Marginal or Large Changes in input data lead to major deviance in dependent variable.\n",
    "\n",
    "# Non parametric algorithms are highly sensitive to changes in input data, hence have high variance.\n",
    "# Parametric algorithm are less sensitive to changes in input data, hence have low variance."
   ]
  },
  {
   "cell_type": "code",
   "execution_count": null,
   "id": "3ccf35d1",
   "metadata": {},
   "outputs": [],
   "source": [
    "# Underfitting is where ML ALgorithm fails to "
   ]
  },
  {
   "cell_type": "code",
   "execution_count": 2,
   "id": "6055da0c",
   "metadata": {},
   "outputs": [],
   "source": [
    "# Regularization Techniques or Penalized Regressions prevent overfitting by adding a penalty called lambda or alpha to the\n",
    "# Regression Coefficients or the regression object.\n",
    "\n",
    "# Regularization using penalty (lambda or aplha) will try to either shrink variables(by making some coefficients equal to zero)\n",
    "# or reduce size of coefficients (by making coefficients smaller & closer to Zero)\n",
    "\n",
    "# 1) Lasso - Least Absoluter Shrinkage Selection Operator: also called as L1 norm or L1 penalty. lasso adds a lambda or alpha\n",
    "# to absolute weights or coefficients of Regression model. Lasso willl definetly make some of the coefficients equal to Zero\n",
    "# there by also used as featuer/variable selection method. Lasso doesn't work with multicollinarity data.\n",
    "\n",
    "# lamda or alpha value must be greater than 0 but less than infnitve.\n",
    "# lambda or alpha = 0 menas MLR. \n",
    "# Lambda or aplha = infinity all coefficient made equal to zero."
   ]
  },
  {
   "cell_type": "code",
   "execution_count": 3,
   "id": "df57f3f7",
   "metadata": {},
   "outputs": [],
   "source": [
    "# 2) Ridge Resgression or L2 Norm or l2 penalty adds lambda or alpha to sum square weights or coefficients.\n",
    "# Ridge regression shrinks the size of coefficients closer to zero but not zero.hence it cannot be used as feauter selection method.\n",
    "# Ridge regression works with multicollinear data."
   ]
  },
  {
   "cell_type": "code",
   "execution_count": null,
   "id": "37113fb4",
   "metadata": {},
   "outputs": [],
   "source": [
    "# 3) ElasticNet - L1 + L2 Norm or Lasso + Ridge\n",
    "# first lasso will be run and on lasso output Ridge regression will be run.\n",
    "# ElasticNet is a feature or variable selction method."
   ]
  }
 ],
 "metadata": {
  "kernelspec": {
   "display_name": "Python 3 (ipykernel)",
   "language": "python",
   "name": "python3"
  },
  "language_info": {
   "codemirror_mode": {
    "name": "ipython",
    "version": 3
   },
   "file_extension": ".py",
   "mimetype": "text/x-python",
   "name": "python",
   "nbconvert_exporter": "python",
   "pygments_lexer": "ipython3",
   "version": "3.8.16"
  }
 },
 "nbformat": 4,
 "nbformat_minor": 5
}
