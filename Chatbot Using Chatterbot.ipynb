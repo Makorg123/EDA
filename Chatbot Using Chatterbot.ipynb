{
 "cells": [
  {
   "cell_type": "code",
   "execution_count": 1,
   "id": "37bec9bd",
   "metadata": {},
   "outputs": [],
   "source": [
    "import chatterbot"
   ]
  },
  {
   "cell_type": "code",
   "execution_count": 2,
   "id": "1b0d3515",
   "metadata": {},
   "outputs": [],
   "source": [
    "from chatterbot import ChatBot\n",
    "from chatterbot.trainers import ListTrainer,ChatterBotCorpusTrainer"
   ]
  },
  {
   "cell_type": "code",
   "execution_count": 3,
   "id": "8b98be1c",
   "metadata": {},
   "outputs": [
    {
     "name": "stderr",
     "output_type": "stream",
     "text": [
      "[nltk_data] Downloading package averaged_perceptron_tagger to\n",
      "[nltk_data]     C:\\Users\\Hp\\AppData\\Roaming\\nltk_data...\n",
      "[nltk_data]   Package averaged_perceptron_tagger is already up-to-\n",
      "[nltk_data]       date!\n",
      "[nltk_data] Downloading package punkt to\n",
      "[nltk_data]     C:\\Users\\Hp\\AppData\\Roaming\\nltk_data...\n",
      "[nltk_data]   Package punkt is already up-to-date!\n",
      "[nltk_data] Downloading package stopwords to\n",
      "[nltk_data]     C:\\Users\\Hp\\AppData\\Roaming\\nltk_data...\n",
      "[nltk_data]   Package stopwords is already up-to-date!\n"
     ]
    }
   ],
   "source": [
    "bot = ChatBot(\n",
    "  'AIBot',\n",
    "  storage_adapter = 'chatterbot.storage.SQLStorageAdapter',\n",
    "  database_uri = 'sqlite:///database.sqlite3'\n",
    ")"
   ]
  },
  {
   "cell_type": "code",
   "execution_count": 5,
   "id": "6f67ce97",
   "metadata": {},
   "outputs": [],
   "source": [
    "#opening the text file\n",
    "#example1 = \"Chatbot1.txt\"\n",
    "file1=open(\"Chatbot1.txt\",\"r\",encoding='utf-8')\n",
    "#file1 = open(example1, \"r\")\n",
    "training_data = file1.read().splitlines()"
   ]
  },
  {
   "cell_type": "code",
   "execution_count": 6,
   "id": "772644fd",
   "metadata": {},
   "outputs": [
    {
     "name": "stdout",
     "output_type": "stream",
     "text": [
      "List Trainer: [####################] 100%\n"
     ]
    }
   ],
   "source": [
    "#training the bot\n",
    "trainer = ListTrainer(bot)\n",
    "trainer.train(training_data)"
   ]
  },
  {
   "cell_type": "code",
   "execution_count": 7,
   "id": "0a850cd8",
   "metadata": {},
   "outputs": [
    {
     "name": "stdout",
     "output_type": "stream",
     "text": [
      "enter 'quit' to stop\n",
      "You: ai\n",
      "Bot: At the most basic level, a chatbot is a computer program that simulates and processes human conversation (either written or spoken), allowing humans to interact with digital devices as if they were communicating with a real person. Chatbots can be as simple as rudimentary programs that answer a simple query with a single-line response, or as sophisticated as digital assistants that learn and evolve to deliver increasing levels of personalization as they gather and process information.\n",
      "You: data\n",
      "Bot: \n",
      "You: intelligence\n",
      "Bot: \n",
      "You: business\n",
      "Bot: \n",
      "You: digital\n",
      "Bot: Consumer research is showing that messaging apps are increasingly becoming the preferred method for connecting with businesses for certain types of transactions. Delivered through messaging platforms, chatbots enable a level of service and convenience that in many cases exceeds what humans can provide. For example, banking chatbots save an average of four minutes per inquiry compared to traditional call centers. The same capabilities that help businesses achieve greater efficiency and cost reductions also deliver benefits to customers in the form of an improved customer experience. Itâ€™s a win/win proposition\n",
      "You: devices\n",
      "Bot: \n",
      "You: messaging\n",
      "Bot: \n",
      "You: platforms\n",
      "Bot: There are some misconceptions about the term chatbot. Although the terms chatbot and bot are sometimes used interchangeably, a bot is simply an automated program that can be used either for legitimate or malicious purposes. The negative connotation around the word bot is attributable to a history of hackers using automated programs to infiltrate, usurp, and generally cause havoc in the digital ecosystem.\n",
      "You: automated\n",
      "Bot: ai\n",
      "You: digital\n",
      "Bot: Digitization is transforming society into a “mobile-first” population. As messaging applications grow in popularity, chatbots are increasingly playing an important role in this mobility-driven transformation. Intelligent conversational chatbots are often interfaces for mobile applications and are changing the way businesses and customers interact.\n",
      "You: quit\n"
     ]
    }
   ],
   "source": [
    "#testing the bot\n",
    "print(\"enter 'quit' to stop\")\n",
    "while True:\n",
    "    user_txt = input(\"You: \")\n",
    "    if user_txt == 'quit':\n",
    "        break\n",
    "    print(\"Bot:\", bot.get_response(user_txt))"
   ]
  },
  {
   "cell_type": "code",
   "execution_count": null,
   "id": "b209399e",
   "metadata": {},
   "outputs": [],
   "source": []
  },
  {
   "cell_type": "code",
   "execution_count": null,
   "id": "8f3c2303",
   "metadata": {},
   "outputs": [],
   "source": []
  },
  {
   "cell_type": "code",
   "execution_count": null,
   "id": "2bccfee7",
   "metadata": {},
   "outputs": [],
   "source": []
  },
  {
   "cell_type": "code",
   "execution_count": null,
   "id": "b06ed756",
   "metadata": {},
   "outputs": [],
   "source": []
  },
  {
   "cell_type": "code",
   "execution_count": null,
   "id": "4c078840",
   "metadata": {},
   "outputs": [],
   "source": []
  },
  {
   "cell_type": "code",
   "execution_count": null,
   "id": "e3fa9b7b",
   "metadata": {},
   "outputs": [],
   "source": [
    "from chatterbot import ChatBot\n",
    "from chatterbot.trainers import ListTrainer\n",
    "\n",
    "# Create a new chat bot named Charlie\n",
    "chatbot = ChatBot('Charlie')\n",
    "\n",
    "trainer = ListTrainer(chatbot)\n",
    "\n",
    "trainer.train([\n",
    "    \"Hi, can I help you?\",\n",
    "    \"Sure, I'd like to book a flight to Iceland.\",\n",
    "    \"Your flight has been booked.\"\n",
    "])\n",
    "\n",
    "# Get a response to the input text 'I would like to book a flight.'\n",
    "response = chatbot.get_response('I would like to book a flight.')\n",
    "\n",
    "print(response)"
   ]
  },
  {
   "cell_type": "code",
   "execution_count": null,
   "id": "60a36858",
   "metadata": {},
   "outputs": [],
   "source": []
  }
 ],
 "metadata": {
  "kernelspec": {
   "display_name": "Python 3 (ipykernel)",
   "language": "python",
   "name": "python3"
  },
  "language_info": {
   "codemirror_mode": {
    "name": "ipython",
    "version": 3
   },
   "file_extension": ".py",
   "mimetype": "text/x-python",
   "name": "python",
   "nbconvert_exporter": "python",
   "pygments_lexer": "ipython3",
   "version": "3.8.16"
  }
 },
 "nbformat": 4,
 "nbformat_minor": 5
}
