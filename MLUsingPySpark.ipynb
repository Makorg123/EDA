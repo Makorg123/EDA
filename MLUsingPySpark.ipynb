{
  "nbformat": 4,
  "nbformat_minor": 0,
  "metadata": {
    "colab": {
      "provenance": [],
      "mount_file_id": "1sbqB_R7vY_3ESSN4K24Hn9Slds3y6Vf5",
      "authorship_tag": "ABX9TyPObaYREt3zYAe+SU1EkFH+",
      "include_colab_link": true
    },
    "kernelspec": {
      "name": "python3",
      "display_name": "Python 3"
    },
    "language_info": {
      "name": "python"
    }
  },
  "cells": [
    {
      "cell_type": "markdown",
      "metadata": {
        "id": "view-in-github",
        "colab_type": "text"
      },
      "source": [
        "<a href=\"https://colab.research.google.com/github/Makorg123/Python-EDA/blob/main/MLUsingPySpark.ipynb\" target=\"_parent\"><img src=\"https://colab.research.google.com/assets/colab-badge.svg\" alt=\"Open In Colab\"/></a>"
      ]
    },
    {
      "cell_type": "code",
      "source": [
        "import matplotlib.pyplot as plt\n",
        "import pandas as pd\n",
        "import pyspark"
      ],
      "metadata": {
        "id": "_z1tzKC_svxt"
      },
      "execution_count": 33,
      "outputs": []
    },
    {
      "cell_type": "code",
      "source": [
        "# Create a Spark Session\n",
        "\n",
        "from pyspark.sql import SparkSession\n",
        "spark = SparkSession.builder.appName(\"Regression\").getOrCreate()"
      ],
      "metadata": {
        "id": "Ce_C0vjptAX6"
      },
      "execution_count": 4,
      "outputs": []
    },
    {
      "cell_type": "code",
      "source": [
        "spark"
      ],
      "metadata": {
        "colab": {
          "base_uri": "https://localhost:8080/",
          "height": 221
        },
        "id": "wcJqgRsItPHJ",
        "outputId": "093588b9-5e34-443f-a08c-4f3b20df7df6"
      },
      "execution_count": 5,
      "outputs": [
        {
          "output_type": "execute_result",
          "data": {
            "text/plain": [
              "<pyspark.sql.session.SparkSession at 0x7f87a130b790>"
            ],
            "text/html": [
              "\n",
              "            <div>\n",
              "                <p><b>SparkSession - in-memory</b></p>\n",
              "                \n",
              "        <div>\n",
              "            <p><b>SparkContext</b></p>\n",
              "\n",
              "            <p><a href=\"http://15509280aeab:4040\">Spark UI</a></p>\n",
              "\n",
              "            <dl>\n",
              "              <dt>Version</dt>\n",
              "                <dd><code>v3.4.1</code></dd>\n",
              "              <dt>Master</dt>\n",
              "                <dd><code>local[*]</code></dd>\n",
              "              <dt>AppName</dt>\n",
              "                <dd><code>Regression</code></dd>\n",
              "            </dl>\n",
              "        </div>\n",
              "        \n",
              "            </div>\n",
              "        "
            ]
          },
          "metadata": {},
          "execution_count": 5
        }
      ]
    },
    {
      "cell_type": "code",
      "source": [
        "salesdf = spark.read.csv('/content/drive/MyDrive/train.csv',inferSchema=True,header=True)"
      ],
      "metadata": {
        "id": "O14_5xGgtXds"
      },
      "execution_count": 6,
      "outputs": []
    },
    {
      "cell_type": "code",
      "source": [
        "# Top 5 records\n",
        "salesdf.show(5)"
      ],
      "metadata": {
        "colab": {
          "base_uri": "https://localhost:8080/"
        },
        "id": "x_4a4KjmuxDY",
        "outputId": "3515c932-4df2-4efe-d9f6-0e4160553817"
      },
      "execution_count": 7,
      "outputs": [
        {
          "output_type": "stream",
          "name": "stdout",
          "text": [
            "+-------+----------+------+----+----------+-------------+--------------------------+--------------+------------------+------------------+------------------+--------+\n",
            "|User_ID|Product_ID|Gender| Age|Occupation|City_Category|Stay_In_Current_City_Years|Marital_Status|Product_Category_1|Product_Category_2|Product_Category_3|Purchase|\n",
            "+-------+----------+------+----+----------+-------------+--------------------------+--------------+------------------+------------------+------------------+--------+\n",
            "|1000001| P00069042|     F|0-17|        10|            A|                         2|             0|                 3|              null|              null|    8370|\n",
            "|1000001| P00248942|     F|0-17|        10|            A|                         2|             0|                 1|                 6|                14|   15200|\n",
            "|1000001| P00087842|     F|0-17|        10|            A|                         2|             0|                12|              null|              null|    1422|\n",
            "|1000001| P00085442|     F|0-17|        10|            A|                         2|             0|                12|                14|              null|    1057|\n",
            "|1000002| P00285442|     M| 55+|        16|            C|                        4+|             0|                 8|              null|              null|    7969|\n",
            "+-------+----------+------+----+----------+-------------+--------------------------+--------------+------------------+------------------+------------------+--------+\n",
            "only showing top 5 rows\n",
            "\n"
          ]
        }
      ]
    },
    {
      "cell_type": "code",
      "source": [
        "from pyspark.sql.functions import isnull,when,count,col"
      ],
      "metadata": {
        "id": "rvj2wRlhvDAL"
      },
      "execution_count": 8,
      "outputs": []
    },
    {
      "cell_type": "code",
      "source": [
        "# To find the missing values.\n",
        "salesdf.select([count(when(isnull(c),c)).alias(c)\n",
        "for c in salesdf.columns]).show()"
      ],
      "metadata": {
        "colab": {
          "base_uri": "https://localhost:8080/"
        },
        "id": "8tLsROFXvZ4e",
        "outputId": "192c8f40-2a75-4a5b-b0f7-0fb92c94d6a0"
      },
      "execution_count": 9,
      "outputs": [
        {
          "output_type": "stream",
          "name": "stdout",
          "text": [
            "+-------+----------+------+---+----------+-------------+--------------------------+--------------+------------------+------------------+------------------+--------+\n",
            "|User_ID|Product_ID|Gender|Age|Occupation|City_Category|Stay_In_Current_City_Years|Marital_Status|Product_Category_1|Product_Category_2|Product_Category_3|Purchase|\n",
            "+-------+----------+------+---+----------+-------------+--------------------------+--------------+------------------+------------------+------------------+--------+\n",
            "|      0|         0|     0|  0|         0|            0|                         0|             0|                 0|            173638|            383247|       0|\n",
            "+-------+----------+------+---+----------+-------------+--------------------------+--------------+------------------+------------------+------------------+--------+\n",
            "\n"
          ]
        }
      ]
    },
    {
      "cell_type": "code",
      "source": [
        "salesdf.groupby('Product_Category_2').count().show()"
      ],
      "metadata": {
        "colab": {
          "base_uri": "https://localhost:8080/"
        },
        "id": "4IEoTqfLvoJS",
        "outputId": "8dd49729-aec1-4a82-fd58-3125d7f0f2c8"
      },
      "execution_count": 11,
      "outputs": [
        {
          "output_type": "stream",
          "name": "stdout",
          "text": [
            "+------------------+------+\n",
            "|Product_Category_2| count|\n",
            "+------------------+------+\n",
            "|                12|  5528|\n",
            "|              null|173638|\n",
            "|                13| 10531|\n",
            "|                 6| 16466|\n",
            "|                16| 43255|\n",
            "|                 3|  2884|\n",
            "|                 5| 26235|\n",
            "|                15| 37855|\n",
            "|                 9|  5693|\n",
            "|                17| 13320|\n",
            "|                 4| 25677|\n",
            "|                 8| 64088|\n",
            "|                 7|   626|\n",
            "|                10|  3043|\n",
            "|                11| 14134|\n",
            "|                14| 55108|\n",
            "|                 2| 49217|\n",
            "|                18|  2770|\n",
            "+------------------+------+\n",
            "\n"
          ]
        }
      ]
    },
    {
      "cell_type": "code",
      "source": [
        "# Impute with code 999\n",
        "salesdf = salesdf.na.fill(value=999,subset=['Product_Category_2'])"
      ],
      "metadata": {
        "id": "yAhOjUIiw3AL"
      },
      "execution_count": 12,
      "outputs": []
    },
    {
      "cell_type": "code",
      "source": [
        "salesdf.groupby('Product_Category_2').count().show()"
      ],
      "metadata": {
        "colab": {
          "base_uri": "https://localhost:8080/"
        },
        "id": "8_raMEQ9xPav",
        "outputId": "45eb8872-5e98-4c90-d55a-4d404999d66c"
      },
      "execution_count": 13,
      "outputs": [
        {
          "output_type": "stream",
          "name": "stdout",
          "text": [
            "+------------------+------+\n",
            "|Product_Category_2| count|\n",
            "+------------------+------+\n",
            "|                12|  5528|\n",
            "|                13| 10531|\n",
            "|                 6| 16466|\n",
            "|                16| 43255|\n",
            "|                 3|  2884|\n",
            "|                 5| 26235|\n",
            "|                15| 37855|\n",
            "|                 9|  5693|\n",
            "|                17| 13320|\n",
            "|                 4| 25677|\n",
            "|                 8| 64088|\n",
            "|                 7|   626|\n",
            "|                10|  3043|\n",
            "|                11| 14134|\n",
            "|                14| 55108|\n",
            "|                 2| 49217|\n",
            "|               999|173638|\n",
            "|                18|  2770|\n",
            "+------------------+------+\n",
            "\n"
          ]
        }
      ]
    },
    {
      "cell_type": "code",
      "source": [
        "# Check null values for Product_Category_3\n",
        "salesdf.groupby('Product_Category_3').count().show()"
      ],
      "metadata": {
        "colab": {
          "base_uri": "https://localhost:8080/"
        },
        "id": "2wDBL8qoxYI8",
        "outputId": "5a4337e1-260c-4758-eab7-75602e68ac96"
      },
      "execution_count": 14,
      "outputs": [
        {
          "output_type": "stream",
          "name": "stdout",
          "text": [
            "+------------------+------+\n",
            "|Product_Category_3| count|\n",
            "+------------------+------+\n",
            "|                12|  9246|\n",
            "|              null|383247|\n",
            "|                13|  5459|\n",
            "|                16| 32636|\n",
            "|                 6|  4890|\n",
            "|                 3|   613|\n",
            "|                 5| 16658|\n",
            "|                15| 28013|\n",
            "|                17| 16702|\n",
            "|                 9| 11579|\n",
            "|                 4|  1875|\n",
            "|                 8| 12562|\n",
            "|                10|  1726|\n",
            "|                11|  1805|\n",
            "|                14| 18428|\n",
            "|                18|  4629|\n",
            "+------------------+------+\n",
            "\n"
          ]
        }
      ]
    },
    {
      "cell_type": "code",
      "source": [
        "salesdf = salesdf.na.fill(value=999,subset=['Product_Category_3'])"
      ],
      "metadata": {
        "id": "2lykLZxsxyJ1"
      },
      "execution_count": 15,
      "outputs": []
    },
    {
      "cell_type": "code",
      "source": [
        "salesdf.groupby('Product_Category_3').count().show()"
      ],
      "metadata": {
        "colab": {
          "base_uri": "https://localhost:8080/"
        },
        "id": "VyN9-74PyApd",
        "outputId": "f2851d23-0637-4bdd-fe73-2ad9c3ece97a"
      },
      "execution_count": 16,
      "outputs": [
        {
          "output_type": "stream",
          "name": "stdout",
          "text": [
            "+------------------+------+\n",
            "|Product_Category_3| count|\n",
            "+------------------+------+\n",
            "|                12|  9246|\n",
            "|                13|  5459|\n",
            "|                16| 32636|\n",
            "|                 6|  4890|\n",
            "|                 3|   613|\n",
            "|                 5| 16658|\n",
            "|                15| 28013|\n",
            "|                17| 16702|\n",
            "|                 9| 11579|\n",
            "|                 4|  1875|\n",
            "|                 8| 12562|\n",
            "|                10|  1726|\n",
            "|                11|  1805|\n",
            "|                14| 18428|\n",
            "|               999|383247|\n",
            "|                18|  4629|\n",
            "+------------------+------+\n",
            "\n"
          ]
        }
      ]
    },
    {
      "cell_type": "code",
      "source": [
        "salesdf.printSchema()"
      ],
      "metadata": {
        "colab": {
          "base_uri": "https://localhost:8080/"
        },
        "id": "y6-8lgIvyHOK",
        "outputId": "4ff913ea-c92f-4bcd-dd97-7b4d4571e137"
      },
      "execution_count": 17,
      "outputs": [
        {
          "output_type": "stream",
          "name": "stdout",
          "text": [
            "root\n",
            " |-- User_ID: integer (nullable = true)\n",
            " |-- Product_ID: string (nullable = true)\n",
            " |-- Gender: string (nullable = true)\n",
            " |-- Age: string (nullable = true)\n",
            " |-- Occupation: integer (nullable = true)\n",
            " |-- City_Category: string (nullable = true)\n",
            " |-- Stay_In_Current_City_Years: string (nullable = true)\n",
            " |-- Marital_Status: integer (nullable = true)\n",
            " |-- Product_Category_1: integer (nullable = true)\n",
            " |-- Product_Category_2: integer (nullable = true)\n",
            " |-- Product_Category_3: integer (nullable = true)\n",
            " |-- Purchase: integer (nullable = true)\n",
            "\n"
          ]
        }
      ]
    },
    {
      "cell_type": "code",
      "source": [
        "# How many Male & female are there?\n",
        "salesdf.groupby('Gender').count().show()"
      ],
      "metadata": {
        "colab": {
          "base_uri": "https://localhost:8080/"
        },
        "id": "YBN_-4mnyZqx",
        "outputId": "0bbbe52f-66da-4145-8a97-54099c1d8b08"
      },
      "execution_count": 18,
      "outputs": [
        {
          "output_type": "stream",
          "name": "stdout",
          "text": [
            "+------+------+\n",
            "|Gender| count|\n",
            "+------+------+\n",
            "|     F|135809|\n",
            "|     M|414259|\n",
            "+------+------+\n",
            "\n"
          ]
        }
      ]
    },
    {
      "cell_type": "code",
      "source": [
        "# Average Purchase by Gender\n",
        "mean_purchase = salesdf.groupby('Gender').mean('Purchase').show()"
      ],
      "metadata": {
        "colab": {
          "base_uri": "https://localhost:8080/"
        },
        "id": "tIHMYmSYyiy_",
        "outputId": "a41c612d-f43b-49f5-ac6c-6a4d85038dc9"
      },
      "execution_count": 21,
      "outputs": [
        {
          "output_type": "stream",
          "name": "stdout",
          "text": [
            "+------+-----------------+\n",
            "|Gender|    avg(Purchase)|\n",
            "+------+-----------------+\n",
            "|     F|8734.565765155476|\n",
            "|     M|9437.526040472265|\n",
            "+------+-----------------+\n",
            "\n"
          ]
        }
      ]
    },
    {
      "cell_type": "code",
      "source": [
        "from pyspark.sql.functions import round"
      ],
      "metadata": {
        "id": "5p-mTrGR03xB"
      },
      "execution_count": 24,
      "outputs": []
    },
    {
      "cell_type": "code",
      "source": [
        "mean_purchase.select('Gender', round('avg(Purchase)', 2).alias('Avg_Purchase'))"
      ],
      "metadata": {
        "colab": {
          "base_uri": "https://localhost:8080/",
          "height": 180
        },
        "id": "gAcgGcTL0EW_",
        "outputId": "94b450e9-07c1-4d4a-8a6d-5e2509d042f6"
      },
      "execution_count": 29,
      "outputs": [
        {
          "output_type": "error",
          "ename": "AttributeError",
          "evalue": "ignored",
          "traceback": [
            "\u001b[0;31m---------------------------------------------------------------------------\u001b[0m",
            "\u001b[0;31mAttributeError\u001b[0m                            Traceback (most recent call last)",
            "\u001b[0;32m<ipython-input-29-5a3bb9126ed2>\u001b[0m in \u001b[0;36m<cell line: 1>\u001b[0;34m()\u001b[0m\n\u001b[0;32m----> 1\u001b[0;31m \u001b[0mmean_purchase\u001b[0m\u001b[0;34m.\u001b[0m\u001b[0mselect\u001b[0m\u001b[0;34m(\u001b[0m\u001b[0;34m'Gender'\u001b[0m\u001b[0;34m,\u001b[0m \u001b[0mround\u001b[0m\u001b[0;34m(\u001b[0m\u001b[0;34m'avg(Purchase)'\u001b[0m\u001b[0;34m,\u001b[0m \u001b[0;36m2\u001b[0m\u001b[0;34m)\u001b[0m\u001b[0;34m.\u001b[0m\u001b[0malias\u001b[0m\u001b[0;34m(\u001b[0m\u001b[0;34m'Avg_Purchase'\u001b[0m\u001b[0;34m)\u001b[0m\u001b[0;34m)\u001b[0m\u001b[0;34m.\u001b[0m\u001b[0mshow\u001b[0m\u001b[0;34m(\u001b[0m\u001b[0;34m)\u001b[0m\u001b[0;34m\u001b[0m\u001b[0;34m\u001b[0m\u001b[0m\n\u001b[0m",
            "\u001b[0;31mAttributeError\u001b[0m: 'NoneType' object has no attribute 'select'"
          ]
        }
      ]
    },
    {
      "cell_type": "code",
      "source": [
        "# Average Purchase by Age\n",
        "salesdf.groupby('Age').mean('Purchase').show()"
      ],
      "metadata": {
        "colab": {
          "base_uri": "https://localhost:8080/"
        },
        "id": "urslWrRizD6U",
        "outputId": "652176d2-8c7a-47b3-d4df-6697dff65940"
      },
      "execution_count": 20,
      "outputs": [
        {
          "output_type": "stream",
          "name": "stdout",
          "text": [
            "+-----+-----------------+\n",
            "|  Age|    avg(Purchase)|\n",
            "+-----+-----------------+\n",
            "|18-25|9169.663606261289|\n",
            "|26-35|9252.690632869888|\n",
            "| 0-17|8933.464640444974|\n",
            "|46-50|9208.625697468327|\n",
            "|51-55|9534.808030960236|\n",
            "|36-45|9331.350694917874|\n",
            "|  55+|9336.280459449405|\n",
            "+-----+-----------------+\n",
            "\n"
          ]
        }
      ]
    },
    {
      "cell_type": "code",
      "source": [
        "salesdf.select('Purchase').describe().show()"
      ],
      "metadata": {
        "colab": {
          "base_uri": "https://localhost:8080/"
        },
        "id": "hjzI4ndhzSFe",
        "outputId": "deed0d18-3a7b-4e19-86b8-487a5b2f0917"
      },
      "execution_count": 27,
      "outputs": [
        {
          "output_type": "stream",
          "name": "stdout",
          "text": [
            "+-------+-----------------+\n",
            "|summary|         Purchase|\n",
            "+-------+-----------------+\n",
            "|  count|           550068|\n",
            "|   mean|9263.968712959126|\n",
            "| stddev|5023.065393820575|\n",
            "|    min|               12|\n",
            "|    max|            23961|\n",
            "+-------+-----------------+\n",
            "\n"
          ]
        }
      ]
    },
    {
      "cell_type": "code",
      "source": [
        "# Skwness and Kurtosis\n",
        "\n",
        "from pyspark.sql.functions import skewness,kurtosis,median"
      ],
      "metadata": {
        "id": "nysBQuaE1LMF"
      },
      "execution_count": 31,
      "outputs": []
    },
    {
      "cell_type": "code",
      "source": [
        "salesdf.select(skewness('Purchase'),kurtosis('Purchase'),median('Purchase')).show()"
      ],
      "metadata": {
        "colab": {
          "base_uri": "https://localhost:8080/"
        },
        "id": "zmMUyeoq1btS",
        "outputId": "568f0b23-fa37-44d0-b2ae-7455e74b3b8c"
      },
      "execution_count": 32,
      "outputs": [
        {
          "output_type": "stream",
          "name": "stdout",
          "text": [
            "+------------------+-------------------+----------------+\n",
            "|skewness(Purchase)| kurtosis(Purchase)|median(Purchase)|\n",
            "+------------------+-------------------+----------------+\n",
            "|0.6001383671643392|-0.3383853975360327|          8047.0|\n",
            "+------------------+-------------------+----------------+\n",
            "\n"
          ]
        }
      ]
    },
    {
      "cell_type": "code",
      "source": [
        "from pyspark.ml import Pipeline\n",
        "from pyspark.ml.feature import StringIndexer # Like get_dummies and label encoder"
      ],
      "metadata": {
        "id": "FklKl7pR1uNK"
      },
      "execution_count": 34,
      "outputs": []
    },
    {
      "cell_type": "code",
      "source": [
        "indexer = [StringIndexer(inputCol = column, outputCol = column + 'index').fit(salesdf)\n",
        "for column in list(set(salesdf.columns)-set(['Purchase','User_ID','Product_ID']))]"
      ],
      "metadata": {
        "id": "CIwCn93r2fkW"
      },
      "execution_count": 36,
      "outputs": []
    },
    {
      "cell_type": "code",
      "source": [
        "pipeline = Pipeline(stages=indexer)\n",
        "salesdf  = pipeline.fit(salesdf).transform(salesdf)"
      ],
      "metadata": {
        "id": "wwtaGBIm24lX"
      },
      "execution_count": 37,
      "outputs": []
    },
    {
      "cell_type": "code",
      "source": [
        "salesdf.columns"
      ],
      "metadata": {
        "colab": {
          "base_uri": "https://localhost:8080/"
        },
        "id": "nS-AQl293f7m",
        "outputId": "101f4a9a-db04-40f8-d2c6-299ac143f619"
      },
      "execution_count": 38,
      "outputs": [
        {
          "output_type": "execute_result",
          "data": {
            "text/plain": [
              "['User_ID',\n",
              " 'Product_ID',\n",
              " 'Gender',\n",
              " 'Age',\n",
              " 'Occupation',\n",
              " 'City_Category',\n",
              " 'Stay_In_Current_City_Years',\n",
              " 'Marital_Status',\n",
              " 'Product_Category_1',\n",
              " 'Product_Category_2',\n",
              " 'Product_Category_3',\n",
              " 'Purchase',\n",
              " 'City_Categoryindex',\n",
              " 'Product_Category_1index',\n",
              " 'Stay_In_Current_City_Yearsindex',\n",
              " 'Product_Category_2index',\n",
              " 'Genderindex',\n",
              " 'Marital_Statusindex',\n",
              " 'Ageindex',\n",
              " 'Occupationindex',\n",
              " 'Product_Category_3index']"
            ]
          },
          "metadata": {},
          "execution_count": 38
        }
      ]
    },
    {
      "cell_type": "code",
      "source": [
        "salesdf.show(15)"
      ],
      "metadata": {
        "colab": {
          "base_uri": "https://localhost:8080/"
        },
        "id": "nJlpAUaQ3h0P",
        "outputId": "89f8c329-c5ef-4f8d-c42e-6f62de469c76"
      },
      "execution_count": 41,
      "outputs": [
        {
          "output_type": "stream",
          "name": "stdout",
          "text": [
            "+-------+----------+------+-----+----------+-------------+--------------------------+--------------+------------------+------------------+------------------+--------+------------------+-----------------------+-------------------------------+-----------------------+-----------+-------------------+--------+---------------+-----------------------+\n",
            "|User_ID|Product_ID|Gender|  Age|Occupation|City_Category|Stay_In_Current_City_Years|Marital_Status|Product_Category_1|Product_Category_2|Product_Category_3|Purchase|City_Categoryindex|Product_Category_1index|Stay_In_Current_City_Yearsindex|Product_Category_2index|Genderindex|Marital_Statusindex|Ageindex|Occupationindex|Product_Category_3index|\n",
            "+-------+----------+------+-----+----------+-------------+--------------------------+--------------+------------------+------------------+------------------+--------+------------------+-----------------------+-------------------------------+-----------------------+-----------+-------------------+--------+---------------+-----------------------+\n",
            "|1000001| P00069042|     F| 0-17|        10|            A|                         2|             0|                 3|               999|               999|    8370|               2.0|                    6.0|                            1.0|                    0.0|        1.0|                0.0|     6.0|           12.0|                    0.0|\n",
            "|1000001| P00248942|     F| 0-17|        10|            A|                         2|             0|                 1|                 6|                14|   15200|               2.0|                    1.0|                            1.0|                    8.0|        1.0|                0.0|     6.0|           12.0|                    3.0|\n",
            "|1000001| P00087842|     F| 0-17|        10|            A|                         2|             0|                12|               999|               999|    1422|               2.0|                   12.0|                            1.0|                    0.0|        1.0|                0.0|     6.0|           12.0|                    0.0|\n",
            "|1000001| P00085442|     F| 0-17|        10|            A|                         2|             0|                12|                14|               999|    1057|               2.0|                   12.0|                            1.0|                    2.0|        1.0|                0.0|     6.0|           12.0|                    0.0|\n",
            "|1000002| P00285442|     M|  55+|        16|            C|                        4+|             0|                 8|               999|               999|    7969|               1.0|                    2.0|                            3.0|                    0.0|        0.0|                0.0|     5.0|            9.0|                    0.0|\n",
            "|1000003| P00193542|     M|26-35|        15|            A|                         3|             0|                 1|                 2|               999|   15227|               2.0|                    1.0|                            2.0|                    3.0|        0.0|                0.0|     0.0|           14.0|                    0.0|\n",
            "|1000004| P00184942|     M|46-50|         7|            B|                         2|             1|                 1|                 8|                17|   19215|               0.0|                    1.0|                            1.0|                    1.0|        0.0|                1.0|     3.0|            2.0|                    4.0|\n",
            "|1000004| P00346142|     M|46-50|         7|            B|                         2|             1|                 1|                15|               999|   15854|               0.0|                    1.0|                            1.0|                    5.0|        0.0|                1.0|     3.0|            2.0|                    0.0|\n",
            "|1000004|  P0097242|     M|46-50|         7|            B|                         2|             1|                 1|                16|               999|   15686|               0.0|                    1.0|                            1.0|                    4.0|        0.0|                1.0|     3.0|            2.0|                    0.0|\n",
            "|1000005| P00274942|     M|26-35|        20|            A|                         1|             1|                 8|               999|               999|    7871|               2.0|                    2.0|                            0.0|                    0.0|        0.0|                1.0|     0.0|            5.0|                    0.0|\n",
            "|1000005| P00251242|     M|26-35|        20|            A|                         1|             1|                 5|                11|               999|    5254|               2.0|                    0.0|                            0.0|                    9.0|        0.0|                1.0|     0.0|            5.0|                    0.0|\n",
            "|1000005| P00014542|     M|26-35|        20|            A|                         1|             1|                 8|               999|               999|    3957|               2.0|                    2.0|                            0.0|                    0.0|        0.0|                1.0|     0.0|            5.0|                    0.0|\n",
            "|1000005| P00031342|     M|26-35|        20|            A|                         1|             1|                 8|               999|               999|    6073|               2.0|                    2.0|                            0.0|                    0.0|        0.0|                1.0|     0.0|            5.0|                    0.0|\n",
            "|1000005| P00145042|     M|26-35|        20|            A|                         1|             1|                 1|                 2|                 5|   15665|               2.0|                    1.0|                            0.0|                    3.0|        0.0|                1.0|     0.0|            5.0|                    5.0|\n",
            "|1000006| P00231342|     F|51-55|         9|            A|                         1|             0|                 5|                 8|                14|    5378|               2.0|                    0.0|                            0.0|                    1.0|        1.0|                0.0|     4.0|           19.0|                    3.0|\n",
            "+-------+----------+------+-----+----------+-------------+--------------------------+--------------+------------------+------------------+------------------+--------+------------------+-----------------------+-------------------------------+-----------------------+-----------+-------------------+--------+---------------+-----------------------+\n",
            "only showing top 15 rows\n",
            "\n"
          ]
        }
      ]
    },
    {
      "cell_type": "code",
      "source": [
        "columnstodrop = ['User_ID','Product_ID','Gender','Age','Occupation','City_Category','Stay_In_Current_City_Years','Marital_Status',\n",
        "                 'Product_Category_1', 'Product_Category_2', 'Product_Category_3']"
      ],
      "metadata": {
        "id": "70icRK_y3pzb"
      },
      "execution_count": 42,
      "outputs": []
    },
    {
      "cell_type": "code",
      "source": [
        "# Drop the columns\n",
        "salesdf = salesdf.drop(*columnstodrop)"
      ],
      "metadata": {
        "id": "kcnNitRH4rVQ"
      },
      "execution_count": 43,
      "outputs": []
    },
    {
      "cell_type": "code",
      "source": [
        "salesdf.show(10)"
      ],
      "metadata": {
        "colab": {
          "base_uri": "https://localhost:8080/"
        },
        "id": "jZwuA8fh4xPc",
        "outputId": "1304baf9-595d-493e-aa88-849dba85057d"
      },
      "execution_count": 44,
      "outputs": [
        {
          "output_type": "stream",
          "name": "stdout",
          "text": [
            "+--------+------------------+-----------------------+-------------------------------+-----------------------+-----------+-------------------+--------+---------------+-----------------------+\n",
            "|Purchase|City_Categoryindex|Product_Category_1index|Stay_In_Current_City_Yearsindex|Product_Category_2index|Genderindex|Marital_Statusindex|Ageindex|Occupationindex|Product_Category_3index|\n",
            "+--------+------------------+-----------------------+-------------------------------+-----------------------+-----------+-------------------+--------+---------------+-----------------------+\n",
            "|    8370|               2.0|                    6.0|                            1.0|                    0.0|        1.0|                0.0|     6.0|           12.0|                    0.0|\n",
            "|   15200|               2.0|                    1.0|                            1.0|                    8.0|        1.0|                0.0|     6.0|           12.0|                    3.0|\n",
            "|    1422|               2.0|                   12.0|                            1.0|                    0.0|        1.0|                0.0|     6.0|           12.0|                    0.0|\n",
            "|    1057|               2.0|                   12.0|                            1.0|                    2.0|        1.0|                0.0|     6.0|           12.0|                    0.0|\n",
            "|    7969|               1.0|                    2.0|                            3.0|                    0.0|        0.0|                0.0|     5.0|            9.0|                    0.0|\n",
            "|   15227|               2.0|                    1.0|                            2.0|                    3.0|        0.0|                0.0|     0.0|           14.0|                    0.0|\n",
            "|   19215|               0.0|                    1.0|                            1.0|                    1.0|        0.0|                1.0|     3.0|            2.0|                    4.0|\n",
            "|   15854|               0.0|                    1.0|                            1.0|                    5.0|        0.0|                1.0|     3.0|            2.0|                    0.0|\n",
            "|   15686|               0.0|                    1.0|                            1.0|                    4.0|        0.0|                1.0|     3.0|            2.0|                    0.0|\n",
            "|    7871|               2.0|                    2.0|                            0.0|                    0.0|        0.0|                1.0|     0.0|            5.0|                    0.0|\n",
            "+--------+------------------+-----------------------+-------------------------------+-----------------------+-----------+-------------------+--------+---------------+-----------------------+\n",
            "only showing top 10 rows\n",
            "\n"
          ]
        }
      ]
    },
    {
      "cell_type": "code",
      "source": [
        "from pyspark.ml.feature import RFormula"
      ],
      "metadata": {
        "id": "BpFSIx6J4y1B"
      },
      "execution_count": 45,
      "outputs": []
    },
    {
      "cell_type": "code",
      "source": [
        "RFormula,\n",
        "formula = RFormula(formula='Purchase~.',featuresCol='features',labelCol='label')"
      ],
      "metadata": {
        "id": "OQ-cyyu85ZHo"
      },
      "execution_count": 47,
      "outputs": []
    },
    {
      "cell_type": "code",
      "source": [
        "salesdf = formula.fit(salesdf).transform(salesdf)"
      ],
      "metadata": {
        "id": "k1lgk9oH5soj"
      },
      "execution_count": 48,
      "outputs": []
    },
    {
      "cell_type": "code",
      "source": [
        "salesdf.select('features','label').show(5)"
      ],
      "metadata": {
        "colab": {
          "base_uri": "https://localhost:8080/"
        },
        "id": "nTQjaDsi536p",
        "outputId": "0283d345-bfc2-4b15-e880-f94f1f4227b6"
      },
      "execution_count": 49,
      "outputs": [
        {
          "output_type": "stream",
          "name": "stdout",
          "text": [
            "+--------------------+-------+\n",
            "|            features|  label|\n",
            "+--------------------+-------+\n",
            "|[2.0,6.0,1.0,0.0,...| 8370.0|\n",
            "|[2.0,1.0,1.0,8.0,...|15200.0|\n",
            "|[2.0,12.0,1.0,0.0...| 1422.0|\n",
            "|[2.0,12.0,1.0,2.0...| 1057.0|\n",
            "|[1.0,2.0,3.0,0.0,...| 7969.0|\n",
            "+--------------------+-------+\n",
            "only showing top 5 rows\n",
            "\n"
          ]
        }
      ]
    },
    {
      "cell_type": "code",
      "source": [
        "# Building the model\n",
        "from pyspark.ml.regression import LinearRegression"
      ],
      "metadata": {
        "id": "9_ndfvoC586J"
      },
      "execution_count": 50,
      "outputs": []
    },
    {
      "cell_type": "code",
      "source": [
        "reg = LinearRegression(featuresCol = 'features', labelCol = 'label')"
      ],
      "metadata": {
        "id": "XkIPOhjx6tFQ"
      },
      "execution_count": 51,
      "outputs": []
    },
    {
      "cell_type": "code",
      "source": [
        "regmodel = reg.fit(salesdf)"
      ],
      "metadata": {
        "id": "-vENgQuC7ABU"
      },
      "execution_count": 52,
      "outputs": []
    },
    {
      "cell_type": "code",
      "source": [
        "regmodel.summary.r2adj"
      ],
      "metadata": {
        "colab": {
          "base_uri": "https://localhost:8080/"
        },
        "id": "Tv_wP9j37C_d",
        "outputId": "c9813cb6-b808-45e2-80a0-29cf45e6b226"
      },
      "execution_count": 53,
      "outputs": [
        {
          "output_type": "execute_result",
          "data": {
            "text/plain": [
              "0.06356300117930425"
            ]
          },
          "metadata": {},
          "execution_count": 53
        }
      ]
    },
    {
      "cell_type": "code",
      "source": [
        "regmodel.summary.rootMeanSquaredError"
      ],
      "metadata": {
        "colab": {
          "base_uri": "https://localhost:8080/"
        },
        "id": "ubp6bCsdDFk9",
        "outputId": "7e6ad512-117e-4fa1-c805-6d572b53fcd6"
      },
      "execution_count": 54,
      "outputs": [
        {
          "output_type": "execute_result",
          "data": {
            "text/plain": [
              "4860.759869813398"
            ]
          },
          "metadata": {},
          "execution_count": 54
        }
      ]
    },
    {
      "cell_type": "code",
      "source": [
        "from pyspark.ml.regression import DecisionTreeRegressor"
      ],
      "metadata": {
        "id": "AU8xv0ZkDse6"
      },
      "execution_count": 55,
      "outputs": []
    },
    {
      "cell_type": "code",
      "source": [
        "tree = DecisionTreeRegressor(featuresCol = 'features',labelCol = 'label',maxDepth=8)"
      ],
      "metadata": {
        "id": "B0jyKDA2Ekc4"
      },
      "execution_count": 65,
      "outputs": []
    },
    {
      "cell_type": "code",
      "source": [
        "treemodel = tree.fit(salesdf)"
      ],
      "metadata": {
        "id": "GOI415F4Ers-"
      },
      "execution_count": 66,
      "outputs": []
    },
    {
      "cell_type": "code",
      "source": [
        "treepredict = treemodel.transform(salesdf)"
      ],
      "metadata": {
        "id": "pb97OsEREuES"
      },
      "execution_count": 67,
      "outputs": []
    },
    {
      "cell_type": "code",
      "source": [
        "from pyspark.ml.evaluation import RegressionEvaluator"
      ],
      "metadata": {
        "id": "QpUPSpQTEzc3"
      },
      "execution_count": 68,
      "outputs": []
    },
    {
      "cell_type": "code",
      "source": [
        "rsquare = RegressionEvaluator(predictionCol='prediction',labelCol='label',metricName='r2')"
      ],
      "metadata": {
        "id": "r3hmPPehFKt9"
      },
      "execution_count": 69,
      "outputs": []
    },
    {
      "cell_type": "code",
      "source": [
        "rmse = RegressionEvaluator(predictionCol = 'prediction', labelCol = 'label', metricName = 'rmse')"
      ],
      "metadata": {
        "id": "94EqZiURFBSj"
      },
      "execution_count": 70,
      "outputs": []
    },
    {
      "cell_type": "code",
      "source": [
        "rsquare.evaluate(treepredict)"
      ],
      "metadata": {
        "colab": {
          "base_uri": "https://localhost:8080/"
        },
        "id": "Wm0uVC6wFVU2",
        "outputId": "269e9bc2-9440-449a-8bbe-b4ad057e6afa"
      },
      "execution_count": 71,
      "outputs": [
        {
          "output_type": "execute_result",
          "data": {
            "text/plain": [
              "0.6552517597578954"
            ]
          },
          "metadata": {},
          "execution_count": 71
        }
      ]
    },
    {
      "cell_type": "code",
      "source": [
        "rmse.evaluate(treepredict)"
      ],
      "metadata": {
        "colab": {
          "base_uri": "https://localhost:8080/"
        },
        "id": "FjLi97ZWFbxQ",
        "outputId": "73bae512-ea5e-472d-dfe8-316f5649df49"
      },
      "execution_count": 72,
      "outputs": [
        {
          "output_type": "execute_result",
          "data": {
            "text/plain": [
              "2949.303501228663"
            ]
          },
          "metadata": {},
          "execution_count": 72
        }
      ]
    },
    {
      "cell_type": "code",
      "source": [],
      "metadata": {
        "id": "hcuFsBizFnOB"
      },
      "execution_count": null,
      "outputs": []
    }
  ]
}