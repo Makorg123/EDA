{
 "cells": [
  {
   "cell_type": "code",
   "execution_count": 2,
   "id": "e865eca5",
   "metadata": {},
   "outputs": [],
   "source": [
    "import numpy as np\n",
    "from sklearn.svm import SVC"
   ]
  },
  {
   "cell_type": "code",
   "execution_count": 3,
   "id": "7d4149c6",
   "metadata": {},
   "outputs": [],
   "source": [
    "X = np.array([[6,15],[8,12],[12,13],[10,10],[15,10],[13,8],[3,10],[7,7],[4,6],[8,4],[7,4],[10,2]])"
   ]
  },
  {
   "cell_type": "code",
   "execution_count": 4,
   "id": "be392e74",
   "metadata": {},
   "outputs": [],
   "source": [
    "y = np.array([1,1,1,1,1,1,-1,-1,-1,-1,-1,-1])"
   ]
  },
  {
   "cell_type": "code",
   "execution_count": 5,
   "id": "c5a5be82",
   "metadata": {},
   "outputs": [],
   "source": [
    "clf = SVC(C=1e5, kernel='linear')"
   ]
  },
  {
   "cell_type": "code",
   "execution_count": 6,
   "id": "5d0ea1b1",
   "metadata": {},
   "outputs": [],
   "source": [
    "clfmodel = clf.fit(X,y)"
   ]
  },
  {
   "cell_type": "code",
   "execution_count": 7,
   "id": "7e6e2a4a",
   "metadata": {},
   "outputs": [
    {
     "data": {
      "text/plain": [
       "array([-5.66666667])"
      ]
     },
     "execution_count": 7,
     "metadata": {},
     "output_type": "execute_result"
    }
   ],
   "source": [
    "clfmodel.intercept_"
   ]
  },
  {
   "cell_type": "code",
   "execution_count": 8,
   "id": "1ae5031d",
   "metadata": {},
   "outputs": [
    {
     "data": {
      "text/plain": [
       "array([[0.33333333, 0.33333333]])"
      ]
     },
     "execution_count": 8,
     "metadata": {},
     "output_type": "execute_result"
    }
   ],
   "source": [
    "clfmodel.coef_"
   ]
  },
  {
   "cell_type": "code",
   "execution_count": 9,
   "id": "0762076a",
   "metadata": {},
   "outputs": [
    {
     "data": {
      "text/plain": [
       "array([[ 7.,  7.],\n",
       "       [10., 10.]])"
      ]
     },
     "execution_count": 9,
     "metadata": {},
     "output_type": "execute_result"
    }
   ],
   "source": [
    "clfmodel.support_vectors_"
   ]
  },
  {
   "cell_type": "code",
   "execution_count": 10,
   "id": "af047778",
   "metadata": {},
   "outputs": [
    {
     "data": {
      "text/plain": [
       "<bound method BaseSVC.decision_function of SVC(C=100000.0, kernel='linear')>"
      ]
     },
     "execution_count": 10,
     "metadata": {},
     "output_type": "execute_result"
    }
   ],
   "source": [
    "clfmodel.decision_function"
   ]
  },
  {
   "cell_type": "code",
   "execution_count": 11,
   "id": "ad03c754",
   "metadata": {},
   "outputs": [
    {
     "data": {
      "text/plain": [
       "1.0"
      ]
     },
     "execution_count": 11,
     "metadata": {},
     "output_type": "execute_result"
    }
   ],
   "source": [
    "clfmodel.score(X,y)"
   ]
  },
  {
   "cell_type": "code",
   "execution_count": 12,
   "id": "f2afceda",
   "metadata": {},
   "outputs": [
    {
     "data": {
      "text/plain": [
       "False"
      ]
     },
     "execution_count": 12,
     "metadata": {},
     "output_type": "execute_result"
    }
   ],
   "source": [
    "clfmodel.probability\n"
   ]
  },
  {
   "cell_type": "code",
   "execution_count": null,
   "id": "40b29ac2",
   "metadata": {},
   "outputs": [],
   "source": []
  }
 ],
 "metadata": {
  "kernelspec": {
   "display_name": "Python 3 (ipykernel)",
   "language": "python",
   "name": "python3"
  },
  "language_info": {
   "codemirror_mode": {
    "name": "ipython",
    "version": 3
   },
   "file_extension": ".py",
   "mimetype": "text/x-python",
   "name": "python",
   "nbconvert_exporter": "python",
   "pygments_lexer": "ipython3",
   "version": "3.8.16"
  }
 },
 "nbformat": 4,
 "nbformat_minor": 5
}
