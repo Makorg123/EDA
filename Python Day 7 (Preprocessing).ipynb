{
 "cells": [
  {
   "cell_type": "code",
   "execution_count": 1,
   "id": "aaf75536",
   "metadata": {},
   "outputs": [],
   "source": [
    "# Data preprocessing most critical task. 95% of time is spent on cleaning data.\n",
    "# data preprocessing related to multivariate data - both numerical and non numeric categorical.\n",
    "\n",
    "# Step1) Check for null columns or varaibles. info() -  Delete those variable.\n",
    "\n",
    "# Step2) Check for single value columns or variables - whole column has only one value like 1's or 0's. Delete those variables.\n",
    "\n",
    "# Step3) Missing values treatment -  Missing values occur due to errors in data collection or due to misrepresentation of data\n",
    "# Missing values must be imputed or treated before runnign the algorithm.\n",
    "\n",
    "# a)if the column or variable has more than 70% missing values and if it is not a significant variable- Drop or Delete variable.\n",
    "\n",
    "# b) if the column or variable has more than 70% missing values and if it is significant variable, *Numeric Variable \n",
    "#    - impute with numeric code like 9999, 1111,2222\n",
    "#      *Non numeric variable - Impute with word \"missing\" or \"NotAvailable\"\n",
    "\n",
    "# c)  if the column or variable has less than 70% missing values - imputation can be done either manualy or using Alogirthm\n",
    "# Manual imputaion - Mean, median or mode or the column or variable\n",
    "# Numeric - Impute with mean or median based on whether mean is distorted\n",
    "# Categorical - Impute with mode or most_frequent\n",
    "\n",
    "# Algorithm based imputation - Algorithm consider the impact of other variables on the missing values and impute accordingly.\n",
    "# 1) Multivariate Imputation using Chained Equations(MICE)-used for imputing both numeric and non numeric categorical variables.\n",
    "\n",
    "\n",
    "# 2) KNNImputer uses K Nearest Neighbors Algorithms which is a distance based algorithm. Works only with Numerical Data.\n",
    "\n",
    "# 3) Probablistic PCA uses Principle Component Analysis(PCA) Algorithm for imputation.\n",
    "\n",
    "# Deletion of Missing values can be done only if there is large data and missing values are less tahn 5% of data. \n",
    "# Large data means more than 5000 observations.\n",
    "\n",
    "# Step4) Data Transformation - Transforming Data\n",
    "# Dependent variable(y) - Variable that is being predicted\n",
    "# Positive Skewness - Logarithmic Transformation or Square Root Transformation\n",
    "# Naegative Skewness - Exponential Transformation or Power Transformation.\n",
    "\n",
    "# Independent Variable(x's) - variables that are being used in the model to predict dependent variable(y).\n",
    "# Scaling must be implemented.\n",
    "\n",
    "# 1)Standard Scaler or z-score = (x-mean)/stddev.Standard scaler scales data in both positive and negative values within a range\n",
    "# preferred scaler when data is in multiple mathematical units like tens hundreds, thousands, discrete integer and lakhs.\n",
    "\n",
    "# 2) Normalization or Min Max Scaler = (X-Xmin)/(Xmax-Xmin). Scales data in the range of 0 and 1 and no negative values.\n",
    "# Most used in Image processing and Neural Networks.\n",
    "\n",
    "# 3) Robust Sclaer = (X-Q2)/(Q3-Q1) uses quartiles to scales data and is used when indepenedent variables have extreme outliers.\n",
    "\n",
    "# Step5) Dummy Variable Encoding - Assigning Numerical Identifiers to levels/Groups/classes in categorical Variables.\n",
    "# a) LableEncoder - Encodes categorical variable levels from 0 to n levels based on Alphabetical order in the same column.\n",
    "# b) Pandas.get_dummies() - Creates as many columns equivalent to levels or Groups in Categorical variable and uses binary encoding (yes-1 & no-0) for each level.\n",
    "\n",
    "\n",
    "# Dummy variable encoding must be done on Object/tet data, numeic categorical vriables like ratings, qurater , month, etc.\n",
    "\n",
    "# Step6) Working with dates - dates must be converted into date format using pd.to_datetime()  function. Extract variables \n",
    "# from date like weekday, month, season, quarter, year, etc. Timedelta which is difference in time.\n",
    "\n",
    "\n",
    "# Step 7) Extracting information from Alpha numeric identifiers.\n",
    "\n",
    "# Step 8) Create new variables from existing variables.\n",
    "\n",
    "# Step 9) Correcting duplicate levels in categorical data.\n",
    "\n",
    "# Step 10) working with different datatypes."
   ]
  },
  {
   "cell_type": "code",
   "execution_count": 2,
   "id": "b55bc5cf",
   "metadata": {},
   "outputs": [],
   "source": [
    "import numpy as np\n",
    "import pandas as pd\n",
    "import matplotlib.pyplot as plt"
   ]
  },
  {
   "cell_type": "code",
   "execution_count": 3,
   "id": "cb0dd936",
   "metadata": {},
   "outputs": [],
   "source": [
    "bigmarttrain = pd.read_csv('train.csv')"
   ]
  },
  {
   "cell_type": "code",
   "execution_count": 4,
   "id": "8c1de3bf",
   "metadata": {},
   "outputs": [],
   "source": [
    "bigmarttest = pd.read_csv('test.csv')"
   ]
  },
  {
   "cell_type": "code",
   "execution_count": 19,
   "id": "616385e8",
   "metadata": {},
   "outputs": [
    {
     "name": "stdout",
     "output_type": "stream",
     "text": [
      "(8523, 12)\n",
      "(5681, 11)\n"
     ]
    }
   ],
   "source": [
    "print(bigmarttrain.shape)\n",
    "print(bigmarttest.shape)\n",
    "\n",
    "# Hackathons, Jobathons & Competitions - 3 files will be provided\n",
    "\n",
    "# Train File is complete data including dependent variable(y) and this data must be used for building or training a model.\n",
    "\n",
    "# Test File will not have dependent variable(y) and needs to be predicted using the model built on train data.\n",
    "\n",
    "# Sample Submission File is where predictions are copied and submitted to competition site for evaluation.\n"
   ]
  },
  {
   "cell_type": "code",
   "execution_count": 21,
   "id": "d75b46e2",
   "metadata": {},
   "outputs": [
    {
     "data": {
      "text/plain": [
       "Item_Identifier                 0\n",
       "Item_Weight                  1463\n",
       "Item_Fat_Content                0\n",
       "Item_Visibility                 0\n",
       "Item_Type                       0\n",
       "Item_MRP                        0\n",
       "Outlet_Identifier               0\n",
       "Outlet_Establishment_Year       0\n",
       "Outlet_Size                  2410\n",
       "Outlet_Location_Type            0\n",
       "Outlet_Type                     0\n",
       "Item_Outlet_Sales               0\n",
       "dtype: int64"
      ]
     },
     "execution_count": 21,
     "metadata": {},
     "output_type": "execute_result"
    }
   ],
   "source": [
    "bigmarttrain.isna().sum()"
   ]
  },
  {
   "cell_type": "code",
   "execution_count": 22,
   "id": "bd4cb0eb",
   "metadata": {},
   "outputs": [
    {
     "data": {
      "text/plain": [
       "Item_Identifier                 0\n",
       "Item_Weight                   976\n",
       "Item_Fat_Content                0\n",
       "Item_Visibility                 0\n",
       "Item_Type                       0\n",
       "Item_MRP                        0\n",
       "Outlet_Identifier               0\n",
       "Outlet_Establishment_Year       0\n",
       "Outlet_Size                  1606\n",
       "Outlet_Location_Type            0\n",
       "Outlet_Type                     0\n",
       "dtype: int64"
      ]
     },
     "execution_count": 22,
     "metadata": {},
     "output_type": "execute_result"
    }
   ],
   "source": [
    "bigmarttest.isna().sum()"
   ]
  },
  {
   "cell_type": "code",
   "execution_count": 23,
   "id": "7694f148",
   "metadata": {},
   "outputs": [],
   "source": [
    "# For preprocessing of data, concatenation of both train and test file must be done. \n",
    "# For concatination the number of coulmns or variables must be same.\n",
    "# For purpose of concatination, temporarily add dependent variable to test data and fill column with word 'test'"
   ]
  },
  {
   "cell_type": "code",
   "execution_count": 24,
   "id": "eb773179",
   "metadata": {},
   "outputs": [],
   "source": [
    "bigmarttest['Item_Outlet_Sales']='test'"
   ]
  },
  {
   "cell_type": "code",
   "execution_count": 26,
   "id": "abd3d732",
   "metadata": {},
   "outputs": [],
   "source": [
    "# Concatination of both dataframe for preprocessing\n",
    "combinedf = pd.concat([bigmarttrain,bigmarttest],axis=0)\n",
    "\n",
    "# axis = 0 is Row wise Concatenation\n",
    "# axis = 1 is Column wise Concatination"
   ]
  },
  {
   "cell_type": "code",
   "execution_count": 27,
   "id": "bd3df8fd",
   "metadata": {},
   "outputs": [
    {
     "name": "stdout",
     "output_type": "stream",
     "text": [
      "<class 'pandas.core.frame.DataFrame'>\n",
      "Int64Index: 14204 entries, 0 to 5680\n",
      "Data columns (total 12 columns):\n",
      " #   Column                     Non-Null Count  Dtype  \n",
      "---  ------                     --------------  -----  \n",
      " 0   Item_Identifier            14204 non-null  object \n",
      " 1   Item_Weight                11765 non-null  float64\n",
      " 2   Item_Fat_Content           14204 non-null  object \n",
      " 3   Item_Visibility            14204 non-null  float64\n",
      " 4   Item_Type                  14204 non-null  object \n",
      " 5   Item_MRP                   14204 non-null  float64\n",
      " 6   Outlet_Identifier          14204 non-null  object \n",
      " 7   Outlet_Establishment_Year  14204 non-null  int64  \n",
      " 8   Outlet_Size                10188 non-null  object \n",
      " 9   Outlet_Location_Type       14204 non-null  object \n",
      " 10  Outlet_Type                14204 non-null  object \n",
      " 11  Item_Outlet_Sales          14204 non-null  object \n",
      "dtypes: float64(3), int64(1), object(8)\n",
      "memory usage: 1.4+ MB\n"
     ]
    }
   ],
   "source": [
    "combinedf.info()"
   ]
  },
  {
   "cell_type": "code",
   "execution_count": 28,
   "id": "e03a1bc5",
   "metadata": {},
   "outputs": [
    {
     "data": {
      "text/plain": [
       "0"
      ]
     },
     "execution_count": 28,
     "metadata": {},
     "output_type": "execute_result"
    }
   ],
   "source": [
    "combinedf.duplicated().sum()"
   ]
  },
  {
   "cell_type": "code",
   "execution_count": 29,
   "id": "be209798",
   "metadata": {},
   "outputs": [
    {
     "data": {
      "text/plain": [
       "Item_Identifier                 0\n",
       "Item_Weight                  2439\n",
       "Item_Fat_Content                0\n",
       "Item_Visibility                 0\n",
       "Item_Type                       0\n",
       "Item_MRP                        0\n",
       "Outlet_Identifier               0\n",
       "Outlet_Establishment_Year       0\n",
       "Outlet_Size                  4016\n",
       "Outlet_Location_Type            0\n",
       "Outlet_Type                     0\n",
       "Item_Outlet_Sales               0\n",
       "dtype: int64"
      ]
     },
     "execution_count": 29,
     "metadata": {},
     "output_type": "execute_result"
    }
   ],
   "source": [
    "combinedf.isna().sum()"
   ]
  },
  {
   "cell_type": "code",
   "execution_count": 33,
   "id": "ac66e332",
   "metadata": {},
   "outputs": [],
   "source": [
    "numeric_cols = combinedf.select_dtypes(include = ['int64','float64'])\n",
    "\n",
    "categorical_cols = combinedf.select_dtypes(include = ['object'])"
   ]
  },
  {
   "cell_type": "code",
   "execution_count": 34,
   "id": "b2865445",
   "metadata": {},
   "outputs": [
    {
     "name": "stdout",
     "output_type": "stream",
     "text": [
      "(14204, 4)\n",
      "(14204, 8)\n"
     ]
    }
   ],
   "source": [
    "print(numeric_cols.shape)\n",
    "print(categorical_cols.shape)"
   ]
  },
  {
   "cell_type": "code",
   "execution_count": 35,
   "id": "fabd3679",
   "metadata": {},
   "outputs": [
    {
     "data": {
      "text/html": [
       "<div>\n",
       "<style scoped>\n",
       "    .dataframe tbody tr th:only-of-type {\n",
       "        vertical-align: middle;\n",
       "    }\n",
       "\n",
       "    .dataframe tbody tr th {\n",
       "        vertical-align: top;\n",
       "    }\n",
       "\n",
       "    .dataframe thead th {\n",
       "        text-align: right;\n",
       "    }\n",
       "</style>\n",
       "<table border=\"1\" class=\"dataframe\">\n",
       "  <thead>\n",
       "    <tr style=\"text-align: right;\">\n",
       "      <th></th>\n",
       "      <th>Item_Weight</th>\n",
       "      <th>Item_Visibility</th>\n",
       "      <th>Item_MRP</th>\n",
       "      <th>Outlet_Establishment_Year</th>\n",
       "    </tr>\n",
       "  </thead>\n",
       "  <tbody>\n",
       "    <tr>\n",
       "      <th>count</th>\n",
       "      <td>11765.000000</td>\n",
       "      <td>14204.000000</td>\n",
       "      <td>14204.000000</td>\n",
       "      <td>14204.000000</td>\n",
       "    </tr>\n",
       "    <tr>\n",
       "      <th>mean</th>\n",
       "      <td>12.792854</td>\n",
       "      <td>0.065953</td>\n",
       "      <td>141.004977</td>\n",
       "      <td>1997.830681</td>\n",
       "    </tr>\n",
       "    <tr>\n",
       "      <th>std</th>\n",
       "      <td>4.652502</td>\n",
       "      <td>0.051459</td>\n",
       "      <td>62.086938</td>\n",
       "      <td>8.371664</td>\n",
       "    </tr>\n",
       "    <tr>\n",
       "      <th>min</th>\n",
       "      <td>4.555000</td>\n",
       "      <td>0.000000</td>\n",
       "      <td>31.290000</td>\n",
       "      <td>1985.000000</td>\n",
       "    </tr>\n",
       "    <tr>\n",
       "      <th>25%</th>\n",
       "      <td>8.710000</td>\n",
       "      <td>0.027036</td>\n",
       "      <td>94.012000</td>\n",
       "      <td>1987.000000</td>\n",
       "    </tr>\n",
       "    <tr>\n",
       "      <th>50%</th>\n",
       "      <td>12.600000</td>\n",
       "      <td>0.054021</td>\n",
       "      <td>142.247000</td>\n",
       "      <td>1999.000000</td>\n",
       "    </tr>\n",
       "    <tr>\n",
       "      <th>75%</th>\n",
       "      <td>16.750000</td>\n",
       "      <td>0.094037</td>\n",
       "      <td>185.855600</td>\n",
       "      <td>2004.000000</td>\n",
       "    </tr>\n",
       "    <tr>\n",
       "      <th>max</th>\n",
       "      <td>21.350000</td>\n",
       "      <td>0.328391</td>\n",
       "      <td>266.888400</td>\n",
       "      <td>2009.000000</td>\n",
       "    </tr>\n",
       "  </tbody>\n",
       "</table>\n",
       "</div>"
      ],
      "text/plain": [
       "        Item_Weight  Item_Visibility      Item_MRP  Outlet_Establishment_Year\n",
       "count  11765.000000     14204.000000  14204.000000               14204.000000\n",
       "mean      12.792854         0.065953    141.004977                1997.830681\n",
       "std        4.652502         0.051459     62.086938                   8.371664\n",
       "min        4.555000         0.000000     31.290000                1985.000000\n",
       "25%        8.710000         0.027036     94.012000                1987.000000\n",
       "50%       12.600000         0.054021    142.247000                1999.000000\n",
       "75%       16.750000         0.094037    185.855600                2004.000000\n",
       "max       21.350000         0.328391    266.888400                2009.000000"
      ]
     },
     "execution_count": 35,
     "metadata": {},
     "output_type": "execute_result"
    }
   ],
   "source": [
    "numeric_cols.describe()"
   ]
  },
  {
   "cell_type": "code",
   "execution_count": 36,
   "id": "13e497a5",
   "metadata": {},
   "outputs": [],
   "source": [
    "# impute item_weight\n",
    "numeric_cols.Item_Weight = numeric_cols.Item_Weight.fillna(numeric_cols.Item_Weight.mean())"
   ]
  },
  {
   "cell_type": "code",
   "execution_count": 37,
   "id": "74853e5a",
   "metadata": {},
   "outputs": [
    {
     "data": {
      "text/html": [
       "<div>\n",
       "<style scoped>\n",
       "    .dataframe tbody tr th:only-of-type {\n",
       "        vertical-align: middle;\n",
       "    }\n",
       "\n",
       "    .dataframe tbody tr th {\n",
       "        vertical-align: top;\n",
       "    }\n",
       "\n",
       "    .dataframe thead th {\n",
       "        text-align: right;\n",
       "    }\n",
       "</style>\n",
       "<table border=\"1\" class=\"dataframe\">\n",
       "  <thead>\n",
       "    <tr style=\"text-align: right;\">\n",
       "      <th></th>\n",
       "      <th>Item_Weight</th>\n",
       "      <th>Item_Visibility</th>\n",
       "      <th>Item_MRP</th>\n",
       "      <th>Outlet_Establishment_Year</th>\n",
       "    </tr>\n",
       "  </thead>\n",
       "  <tbody>\n",
       "    <tr>\n",
       "      <th>count</th>\n",
       "      <td>14204.000000</td>\n",
       "      <td>14204.000000</td>\n",
       "      <td>14204.000000</td>\n",
       "      <td>14204.000000</td>\n",
       "    </tr>\n",
       "    <tr>\n",
       "      <th>mean</th>\n",
       "      <td>12.792854</td>\n",
       "      <td>0.065953</td>\n",
       "      <td>141.004977</td>\n",
       "      <td>1997.830681</td>\n",
       "    </tr>\n",
       "    <tr>\n",
       "      <th>std</th>\n",
       "      <td>4.234226</td>\n",
       "      <td>0.051459</td>\n",
       "      <td>62.086938</td>\n",
       "      <td>8.371664</td>\n",
       "    </tr>\n",
       "    <tr>\n",
       "      <th>min</th>\n",
       "      <td>4.555000</td>\n",
       "      <td>0.000000</td>\n",
       "      <td>31.290000</td>\n",
       "      <td>1985.000000</td>\n",
       "    </tr>\n",
       "    <tr>\n",
       "      <th>25%</th>\n",
       "      <td>9.300000</td>\n",
       "      <td>0.027036</td>\n",
       "      <td>94.012000</td>\n",
       "      <td>1987.000000</td>\n",
       "    </tr>\n",
       "    <tr>\n",
       "      <th>50%</th>\n",
       "      <td>12.792854</td>\n",
       "      <td>0.054021</td>\n",
       "      <td>142.247000</td>\n",
       "      <td>1999.000000</td>\n",
       "    </tr>\n",
       "    <tr>\n",
       "      <th>75%</th>\n",
       "      <td>16.000000</td>\n",
       "      <td>0.094037</td>\n",
       "      <td>185.855600</td>\n",
       "      <td>2004.000000</td>\n",
       "    </tr>\n",
       "    <tr>\n",
       "      <th>max</th>\n",
       "      <td>21.350000</td>\n",
       "      <td>0.328391</td>\n",
       "      <td>266.888400</td>\n",
       "      <td>2009.000000</td>\n",
       "    </tr>\n",
       "  </tbody>\n",
       "</table>\n",
       "</div>"
      ],
      "text/plain": [
       "        Item_Weight  Item_Visibility      Item_MRP  Outlet_Establishment_Year\n",
       "count  14204.000000     14204.000000  14204.000000               14204.000000\n",
       "mean      12.792854         0.065953    141.004977                1997.830681\n",
       "std        4.234226         0.051459     62.086938                   8.371664\n",
       "min        4.555000         0.000000     31.290000                1985.000000\n",
       "25%        9.300000         0.027036     94.012000                1987.000000\n",
       "50%       12.792854         0.054021    142.247000                1999.000000\n",
       "75%       16.000000         0.094037    185.855600                2004.000000\n",
       "max       21.350000         0.328391    266.888400                2009.000000"
      ]
     },
     "execution_count": 37,
     "metadata": {},
     "output_type": "execute_result"
    }
   ],
   "source": [
    "numeric_cols.describe()"
   ]
  },
  {
   "cell_type": "code",
   "execution_count": 42,
   "id": "1a0984e1",
   "metadata": {},
   "outputs": [
    {
     "data": {
      "text/plain": [
       "Medium    4655\n",
       "NaN       4016\n",
       "Small     3980\n",
       "High      1553\n",
       "Name: Outlet_Size, dtype: int64"
      ]
     },
     "execution_count": 42,
     "metadata": {},
     "output_type": "execute_result"
    }
   ],
   "source": [
    "# impute Outlet_Size\n",
    "categorical_cols.Outlet_Size.value_counts(dropna=False)"
   ]
  },
  {
   "cell_type": "code",
   "execution_count": 43,
   "id": "01eb64f3",
   "metadata": {},
   "outputs": [],
   "source": [
    "# impute with word \"Missing\"\n",
    "categorical_cols.Outlet_Size = categorical_cols.Outlet_Size.fillna(\"Missing\")"
   ]
  },
  {
   "cell_type": "code",
   "execution_count": null,
   "id": "a842df8c",
   "metadata": {},
   "outputs": [],
   "source": []
  }
 ],
 "metadata": {
  "kernelspec": {
   "display_name": "Python 3 (ipykernel)",
   "language": "python",
   "name": "python3"
  },
  "language_info": {
   "codemirror_mode": {
    "name": "ipython",
    "version": 3
   },
   "file_extension": ".py",
   "mimetype": "text/x-python",
   "name": "python",
   "nbconvert_exporter": "python",
   "pygments_lexer": "ipython3",
   "version": "3.8.16"
  }
 },
 "nbformat": 4,
 "nbformat_minor": 5
}
