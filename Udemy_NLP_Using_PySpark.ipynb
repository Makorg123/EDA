{
  "nbformat": 4,
  "nbformat_minor": 0,
  "metadata": {
    "colab": {
      "provenance": []
    },
    "kernelspec": {
      "name": "python3",
      "display_name": "Python 3"
    },
    "language_info": {
      "name": "python"
    }
  },
  "cells": [
    {
      "cell_type": "code",
      "source": [
        "!pip install pyspark"
      ],
      "metadata": {
        "colab": {
          "base_uri": "https://localhost:8080/"
        },
        "id": "QjBrP1GmT4iR",
        "outputId": "39b7bb4f-6841-4bde-c9f8-25340561be8f"
      },
      "execution_count": 1,
      "outputs": [
        {
          "output_type": "stream",
          "name": "stdout",
          "text": [
            "Collecting pyspark\n",
            "  Downloading pyspark-3.4.1.tar.gz (310.8 MB)\n",
            "\u001b[2K     \u001b[90m━━━━━━━━━━━━━━━━━━━━━━━━━━━━━━━━━━━━━━━\u001b[0m \u001b[32m310.8/310.8 MB\u001b[0m \u001b[31m4.0 MB/s\u001b[0m eta \u001b[36m0:00:00\u001b[0m\n",
            "\u001b[?25h  Preparing metadata (setup.py) ... \u001b[?25l\u001b[?25hdone\n",
            "Requirement already satisfied: py4j==0.10.9.7 in /usr/local/lib/python3.10/dist-packages (from pyspark) (0.10.9.7)\n",
            "Building wheels for collected packages: pyspark\n",
            "  Building wheel for pyspark (setup.py) ... \u001b[?25l\u001b[?25hdone\n",
            "  Created wheel for pyspark: filename=pyspark-3.4.1-py2.py3-none-any.whl size=311285387 sha256=f5f077b972e5c2c1236284c1e18637c4d0f2d8761bcb9ab7c1c951a852dc80ed\n",
            "  Stored in directory: /root/.cache/pip/wheels/0d/77/a3/ff2f74cc9ab41f8f594dabf0579c2a7c6de920d584206e0834\n",
            "Successfully built pyspark\n",
            "Installing collected packages: pyspark\n",
            "Successfully installed pyspark-3.4.1\n"
          ]
        }
      ]
    },
    {
      "cell_type": "code",
      "source": [
        "from pyspark.sql import SparkSession"
      ],
      "metadata": {
        "id": "hdPDFlFnT61U"
      },
      "execution_count": 2,
      "outputs": []
    },
    {
      "cell_type": "code",
      "source": [
        "spark = SparkSession.builder.appName(\"NLP\").getOrCreate()"
      ],
      "metadata": {
        "id": "tjQEmcL8T6pi"
      },
      "execution_count": 12,
      "outputs": []
    },
    {
      "cell_type": "code",
      "source": [
        "title_df = spark.read.csv('/content/drive/MyDrive/Datasets/Course Title.csv',inferSchema=True,header=True)"
      ],
      "metadata": {
        "id": "nbLMX95bUDnV"
      },
      "execution_count": 13,
      "outputs": []
    },
    {
      "cell_type": "code",
      "execution_count": 14,
      "metadata": {
        "id": "ieecLFqmTk2m"
      },
      "outputs": [],
      "source": [
        "category_df = spark.read.csv('/content/drive/MyDrive/Datasets/Course Category.csv',inferSchema=True,header=True)"
      ]
    },
    {
      "cell_type": "code",
      "source": [
        "feature_df = spark.read.csv('/content/drive/MyDrive/Datasets/Course Features.csv',inferSchema=True,header=True)"
      ],
      "metadata": {
        "id": "gGfNxspVT5FT"
      },
      "execution_count": 15,
      "outputs": []
    },
    {
      "cell_type": "code",
      "source": [
        "feature_df.show()"
      ],
      "metadata": {
        "colab": {
          "base_uri": "https://localhost:8080/"
        },
        "id": "-CSRgkg1Vehm",
        "outputId": "3ee308b1-0552-4902-ed7e-975419e4675b"
      },
      "execution_count": 20,
      "outputs": [
        {
          "output_type": "stream",
          "name": "stdout",
          "text": [
            "+-------+------+---------------+----------+-----------+------------+------------+------------------+\n",
            "|is_paid| price|num_subscribers|avg_rating|num_reviews|num_comments|num_lectures|content_length_min|\n",
            "+-------+------+---------------+----------+-----------+------------+------------+------------------+\n",
            "|   true| 24.99|           2231|      3.75|        134|          42|          37|              1268|\n",
            "|  false|   0.0|          26474|       4.5|        709|         112|           9|                88|\n",
            "|   true| 19.99|           1713|       4.4|         41|          13|          14|                82|\n",
            "|   true|199.99|           4988|       4.8|        395|          88|          36|              1511|\n",
            "|   true|159.99|           1266|      4.75|         38|          12|          38|               569|\n",
            "|   true| 29.99|          20505| 4.5301204|        796|         135|          31|              1163|\n",
            "|   true| 39.99|           3309|      3.85|        958|         241|           8|                80|\n",
            "|   true| 74.99|          28824|       4.0|        741|         189|          56|               363|\n",
            "|   true|149.99|          10761|       3.9|        349|         101|          87|               526|\n",
            "|   true| 99.99|            483|      4.65|        100|          45|          73|               373|\n",
            "|   true| 49.99|            794|       4.1|         27|          16|          10|               236|\n",
            "|   true| 49.99|           1322|      4.45|        196|          76|           5|               140|\n",
            "|   true| 49.99|           2058|      3.65|         25|           8|          81|               459|\n",
            "|   true| 19.99|           4454|      4.35|        829|         147|         230|              1813|\n",
            "|   true| 19.99|           9714| 4.4083886|       1081|         194|          48|               183|\n",
            "|   true| 39.99|           5566| 4.1666665|        720|         163|           6|               158|\n",
            "|   true| 29.99|            505|      3.25|         24|           3|          19|               148|\n",
            "|   true| 19.99|            296|      3.75|         13|           8|          31|               454|\n",
            "|   true| 24.99|           2069|       4.1|        172|          63|          53|               359|\n",
            "|   true| 34.99|             11|       0.0|          0|           0|           8|               152|\n",
            "+-------+------+---------------+----------+-----------+------------+------------+------------------+\n",
            "only showing top 20 rows\n",
            "\n"
          ]
        }
      ]
    },
    {
      "cell_type": "code",
      "source": [
        "from pyspark.sql.functions import monotonically_increasing_id"
      ],
      "metadata": {
        "id": "Xg5j-eZBUWbM"
      },
      "execution_count": 16,
      "outputs": []
    },
    {
      "cell_type": "code",
      "source": [
        "DF1 = title_df.withColumn(\"row_id\", monotonically_increasing_id())\n",
        "DF2 = category_df.withColumn(\"row_id\", monotonically_increasing_id())\n",
        "result_df = DF1.join(DF2,(\"row_id\"))"
      ],
      "metadata": {
        "id": "AxJB6cfJUcQk"
      },
      "execution_count": 17,
      "outputs": []
    },
    {
      "cell_type": "code",
      "source": [
        "DF3 = feature_df.withColumn(\"row_id\",monotonically_increasing_id())\n",
        "result_df = result_df.join(DF3,(\"row_id\")).drop(\"row_id\")"
      ],
      "metadata": {
        "id": "iS3hgss6Uydz"
      },
      "execution_count": 21,
      "outputs": []
    },
    {
      "cell_type": "code",
      "source": [
        "result_df.show(5)"
      ],
      "metadata": {
        "colab": {
          "base_uri": "https://localhost:8080/"
        },
        "id": "pEDdd7U8U-Ez",
        "outputId": "b8c3d998-7ed2-4efd-b132-989c03b43366"
      },
      "execution_count": 22,
      "outputs": [
        {
          "output_type": "stream",
          "name": "stdout",
          "text": [
            "+--------------------+---------+-------+------+---------------+----------+-----------+------------+------------+------------------+\n",
            "|               title| category|is_paid| price|num_subscribers|avg_rating|num_reviews|num_comments|num_lectures|content_length_min|\n",
            "+--------------------+---------+-------+------+---------------+----------+-----------+------------+------------+------------------+\n",
            "|Online Vegan Vege...|Lifestyle|   true| 24.99|           2231|      3.75|        134|          42|          37|              1268|\n",
            "|The Lean Startup ...| Business|  false|   0.0|          26474|       4.5|        709|         112|           9|                88|\n",
            "|How To Become a V...|Lifestyle|   true| 19.99|           1713|       4.4|         41|          13|          14|                82|\n",
            "|How to Train a Puppy|Lifestyle|   true|199.99|           4988|       4.8|        395|          88|          36|              1511|\n",
            "|Web Design from t...|   Design|   true|159.99|           1266|      4.75|         38|          12|          38|               569|\n",
            "+--------------------+---------+-------+------+---------------+----------+-----------+------------+------------+------------------+\n",
            "only showing top 5 rows\n",
            "\n"
          ]
        }
      ]
    },
    {
      "cell_type": "code",
      "source": [
        "from pyspark.ml import Pipeline\n",
        "from pyspark.ml.feature import Tokenizer,StopWordsRemover,CountVectorizer,IDF,StringIndexer"
      ],
      "metadata": {
        "id": "L5N107rYU_vc"
      },
      "execution_count": 23,
      "outputs": []
    },
    {
      "cell_type": "code",
      "source": [
        "tokenize = Tokenizer(inputCol = 'title', outputCol = 'wordtokens')\n",
        "stopwords_remove = StopWordsRemover(inputCol = 'wordtokens', outputCol = 'cleanwords')\n",
        "vectorizer = CountVectorizer(inputCol = 'cleanwords', outputCol = 'features')\n",
        "idf = IDF(inputCol = 'features', outputCol = 'features_vector')\n",
        "dummyencode = StringIndexer(inputCol = 'category', outputCol = 'label')"
      ],
      "metadata": {
        "id": "RaU2vQkMV1_A"
      },
      "execution_count": 24,
      "outputs": []
    },
    {
      "cell_type": "code",
      "source": [
        "pipeline = Pipeline(stages=[tokenize, stopwords_remove, vectorizer,idf,dummyencode])"
      ],
      "metadata": {
        "id": "x1ZPZYfxWC0o"
      },
      "execution_count": 25,
      "outputs": []
    },
    {
      "cell_type": "code",
      "source": [
        "df = pipeline.fit(result_df)"
      ],
      "metadata": {
        "id": "W5jYHV42WNSZ"
      },
      "execution_count": 26,
      "outputs": []
    },
    {
      "cell_type": "code",
      "source": [
        "df = df.transform(result_df)"
      ],
      "metadata": {
        "id": "cc31S0VLWQuy"
      },
      "execution_count": 27,
      "outputs": []
    },
    {
      "cell_type": "code",
      "source": [
        "df.show(5)"
      ],
      "metadata": {
        "colab": {
          "base_uri": "https://localhost:8080/"
        },
        "id": "i4E5bg6HWX4q",
        "outputId": "e3e5136f-4964-4f86-aa1a-f1ee1692748a"
      },
      "execution_count": 29,
      "outputs": [
        {
          "output_type": "stream",
          "name": "stdout",
          "text": [
            "+--------------------+---------+-------+------+---------------+----------+-----------+------------+------------+------------------+--------------------+--------------------+--------------------+--------------------+-----+\n",
            "|               title| category|is_paid| price|num_subscribers|avg_rating|num_reviews|num_comments|num_lectures|content_length_min|          wordtokens|          cleanwords|            features|     features_vector|label|\n",
            "+--------------------+---------+-------+------+---------------+----------+-----------+------------+------------+------------------+--------------------+--------------------+--------------------+--------------------+-----+\n",
            "|Online Vegan Vege...|Lifestyle|   true| 24.99|           2231|      3.75|        134|          42|          37|              1268|[online, vegan, v...|[online, vegan, v...|(102545,[39,536,6...|(102545,[39,536,6...|  8.0|\n",
            "|The Lean Startup ...| Business|  false|   0.0|          26474|       4.5|        709|         112|           9|                88|[the, lean, start...|[lean, startup, t...|(102545,[418,539,...|(102545,[418,539,...|  2.0|\n",
            "|How To Become a V...|Lifestyle|   true| 19.99|           1713|       4.4|         41|          13|          14|                82|[how, to, become,...|[become, vegan,, ...|(102545,[69,19762...|(102545,[69,19762...|  8.0|\n",
            "|How to Train a Puppy|Lifestyle|   true|199.99|           4988|       4.8|        395|          88|          36|              1511|[how, to, train, ...|      [train, puppy]|(102545,[1434,494...|(102545,[1434,494...|  8.0|\n",
            "|Web Design from t...|   Design|   true|159.99|           1266|      4.75|         38|          12|          38|               569|[web, design, fro...|[web, design, gro...|(102545,[18,21,17...|(102545,[18,21,17...|  5.0|\n",
            "+--------------------+---------+-------+------+---------------+----------+-----------+------------+------------+------------------+--------------------+--------------------+--------------------+--------------------+-----+\n",
            "only showing top 5 rows\n",
            "\n"
          ]
        }
      ]
    },
    {
      "cell_type": "code",
      "source": [
        "(df_train,df_test) = df.randomSplit((0.7,0.3), seed = 42)"
      ],
      "metadata": {
        "id": "wGOXXhr6WZKI"
      },
      "execution_count": 30,
      "outputs": []
    },
    {
      "cell_type": "code",
      "source": [
        "from pyspark.ml.classification import LogisticRegression"
      ],
      "metadata": {
        "id": "nxNBcaRoWvbe"
      },
      "execution_count": 31,
      "outputs": []
    },
    {
      "cell_type": "code",
      "source": [
        "logit = LogisticRegression(featuresCol=\"features_vector\", labelCol = 'label')"
      ],
      "metadata": {
        "id": "79wDA4_LW3tc"
      },
      "execution_count": 32,
      "outputs": []
    },
    {
      "cell_type": "code",
      "source": [
        "logitmodel = logit.fit(df_train)"
      ],
      "metadata": {
        "id": "y2mFHKL7XAiY"
      },
      "execution_count": 33,
      "outputs": []
    },
    {
      "cell_type": "code",
      "source": [],
      "metadata": {
        "id": "1DSVaU2DXDIt"
      },
      "execution_count": null,
      "outputs": []
    }
  ]
}