{
 "cells": [
  {
   "cell_type": "code",
   "execution_count": 1,
   "id": "4168abe6",
   "metadata": {},
   "outputs": [],
   "source": [
    "import numpy as np\n",
    "import pandas as pd\n",
    "import seaborn as sns\n",
    "import matplotlib.pyplot as plt\n",
    "%matplotlib inline"
   ]
  },
  {
   "cell_type": "code",
   "execution_count": 2,
   "id": "2f713d86",
   "metadata": {},
   "outputs": [],
   "source": [
    "df = pd.read_csv('D:\\Datasets\\day.csv')"
   ]
  },
  {
   "cell_type": "code",
   "execution_count": 3,
   "id": "3b1a2c2b",
   "metadata": {},
   "outputs": [],
   "source": [
    "# IF there are more than 2 levels/Classes/Groups in Categorical variable\n",
    "# ANOVA Sinle Factor or Oneway Anova is used.\n",
    "\n",
    "# Process\n",
    "# groupby() - mean()\n",
    "# Split data into as many Levels/Classes/Groups\n",
    "# Frame Null & Alternate Hypothesis\n",
    "# Conduct Test & infer based on p-value"
   ]
  },
  {
   "cell_type": "code",
   "execution_count": 4,
   "id": "cf0cb6e7",
   "metadata": {},
   "outputs": [
    {
     "data": {
      "text/plain": [
       "season\n",
       "1    2604.132597\n",
       "2    4992.331522\n",
       "3    5644.303191\n",
       "4    4728.162921\n",
       "Name: cnt, dtype: float64"
      ]
     },
     "execution_count": 4,
     "metadata": {},
     "output_type": "execute_result"
    }
   ],
   "source": [
    "# Test Null Avereage cnt of different seasons equal\n",
    "df.cnt.groupby(df.season).mean()"
   ]
  },
  {
   "cell_type": "code",
   "execution_count": 5,
   "id": "9f730d78",
   "metadata": {},
   "outputs": [],
   "source": [
    "# Split data\n",
    "\n",
    "s1 = df[df.season == 1]\n",
    "s2 = df[df.season == 2]\n",
    "s3 = df[df.season == 3]\n",
    "s4 = df[df.season == 4]"
   ]
  },
  {
   "cell_type": "code",
   "execution_count": 6,
   "id": "2da3a6dc",
   "metadata": {},
   "outputs": [],
   "source": [
    "# Null hypothesis - There is no significant difference in Avg cnt of different season\n",
    "# Alt hypotheiss  - There is significant difference in Avg cnt of differnet season"
   ]
  },
  {
   "cell_type": "code",
   "execution_count": 7,
   "id": "54215374",
   "metadata": {},
   "outputs": [],
   "source": [
    "from scipy.stats import f_oneway"
   ]
  },
  {
   "cell_type": "code",
   "execution_count": 8,
   "id": "30eb85f5",
   "metadata": {},
   "outputs": [
    {
     "data": {
      "text/plain": [
       "F_onewayResult(statistic=128.76962156570784, pvalue=6.720391362913176e-67)"
      ]
     },
     "execution_count": 8,
     "metadata": {},
     "output_type": "execute_result"
    }
   ],
   "source": [
    "f_oneway(s1.cnt,s2.cnt,s3.cnt,s4.cnt)\n",
    "\n",
    "# Since pvalue = 6.720391362913176e-67 is less than 0.05, Reject Null difference in Means is statistically Significant"
   ]
  },
  {
   "cell_type": "code",
   "execution_count": 9,
   "id": "0df28623",
   "metadata": {},
   "outputs": [
    {
     "data": {
      "text/plain": [
       "weathersit\n",
       "1    4876.786177\n",
       "2    4035.862348\n",
       "3    1803.285714\n",
       "Name: cnt, dtype: float64"
      ]
     },
     "execution_count": 9,
     "metadata": {},
     "output_type": "execute_result"
    }
   ],
   "source": [
    "df.cnt.groupby(df.weathersit).mean()"
   ]
  },
  {
   "cell_type": "code",
   "execution_count": 10,
   "id": "142c8b91",
   "metadata": {},
   "outputs": [],
   "source": [
    "w1 = df[df.weathersit == 1]\n",
    "w2 = df[df.weathersit == 2]\n",
    "w3 = df[df.weathersit == 3]"
   ]
  },
  {
   "cell_type": "code",
   "execution_count": 11,
   "id": "8425b778",
   "metadata": {},
   "outputs": [],
   "source": [
    "# Null - No significant difference in Average cnt of different weathersit\n",
    "# Alt  - Significant difference in Average cnt of different weathersit"
   ]
  },
  {
   "cell_type": "code",
   "execution_count": 12,
   "id": "b4f6f741",
   "metadata": {},
   "outputs": [
    {
     "data": {
      "text/plain": [
       "F_onewayResult(statistic=40.06604492024684, pvalue=3.106317270053755e-17)"
      ]
     },
     "execution_count": 12,
     "metadata": {},
     "output_type": "execute_result"
    }
   ],
   "source": [
    "f_oneway(w1.cnt,w2.cnt,w3.cnt)"
   ]
  },
  {
   "cell_type": "code",
   "execution_count": null,
   "id": "c59ae51a",
   "metadata": {},
   "outputs": [],
   "source": []
  }
 ],
 "metadata": {
  "kernelspec": {
   "display_name": "Python 3 (ipykernel)",
   "language": "python",
   "name": "python3"
  },
  "language_info": {
   "codemirror_mode": {
    "name": "ipython",
    "version": 3
   },
   "file_extension": ".py",
   "mimetype": "text/x-python",
   "name": "python",
   "nbconvert_exporter": "python",
   "pygments_lexer": "ipython3",
   "version": "3.8.16"
  }
 },
 "nbformat": 4,
 "nbformat_minor": 5
}
