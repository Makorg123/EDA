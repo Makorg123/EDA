{
 "cells": [
  {
   "cell_type": "code",
   "execution_count": 1,
   "id": "abee9d19",
   "metadata": {},
   "outputs": [],
   "source": [
    "# Object Oriented Programming (OOP's concepts)  uses objects and classes to bind data and functions that work together as \n",
    "# single unit.\n",
    "\n",
    "# Object is an entity that has state and behaviour associated with it. Int, flaot, arrays/lists, dictionaries, tupples, etc.\n",
    "# are all objects.\n",
    "\n",
    "# State is represented by attribute of object and also reflects the properties of the object.\n",
    "\n",
    "# Behaviour is represented by methods of an object and also reflects the response of an object with others.\n",
    "\n",
    "# Identity is an unique name given to an object and enables interactions between objects. "
   ]
  },
  {
   "cell_type": "code",
   "execution_count": 2,
   "id": "c25e8aad",
   "metadata": {},
   "outputs": [],
   "source": [
    "# Class is a collection of objects and contains prototype or blueprint from which objects are created and is also a logical \n",
    "# entity that contains attributes and methods.\n",
    "\n",
    "# Classes are acreated by suing keword class \n",
    "# Attributes are variables that belong to a class and are always public and can be accessed using *.* operator."
   ]
  },
  {
   "cell_type": "code",
   "execution_count": 3,
   "id": "66853eb2",
   "metadata": {},
   "outputs": [],
   "source": [
    "# __init__ method which is constructor. Construcor initalizes the objects state and is collections of statments that are \n",
    "# executed an the time of object creation. Runs as soon as object is initiated.\n",
    "\n",
    "# keyword *self* must be used within input."
   ]
  },
  {
   "cell_type": "code",
   "execution_count": 7,
   "id": "ed3cfd5e",
   "metadata": {},
   "outputs": [],
   "source": [
    "class Person:\n",
    "    def __init__(self,name):\n",
    "        self.name = name\n",
    "    def say_hi(self):\n",
    "        print(\"Hello, my name is \",self.name)"
   ]
  },
  {
   "cell_type": "code",
   "execution_count": 10,
   "id": "a6798a82",
   "metadata": {},
   "outputs": [
    {
     "name": "stdout",
     "output_type": "stream",
     "text": [
      "Hello, my name is  Anas\n"
     ]
    }
   ],
   "source": [
    "Person(\"Anas\").say_hi()"
   ]
  },
  {
   "cell_type": "code",
   "execution_count": 29,
   "id": "f091a85f",
   "metadata": {},
   "outputs": [],
   "source": [
    "class addition:\n",
    "    firstnumber = 0\n",
    "    secondnumber = 0\n",
    "    answer = 0\n",
    "    \n",
    "    def __init__(self,f,s):\n",
    "        self.firstnumber = f\n",
    "        self.secondnumber = s\n",
    "        self.answer = self.firstnumber+self.secondnumber\n",
    "    def display(self):\n",
    "        print(\"First Number:\"+str(self.firstnumber))\n",
    "        print(\"Second Number:\"+str(self.secondnumber))\n",
    "        print(\"Answer is:\"+str(self.answer))\n",
    "    "
   ]
  },
  {
   "cell_type": "code",
   "execution_count": 34,
   "id": "08bb429c",
   "metadata": {},
   "outputs": [
    {
     "name": "stdout",
     "output_type": "stream",
     "text": [
      "First Number:32\n",
      "Second Number:32\n",
      "Answer is:64\n"
     ]
    }
   ],
   "source": [
    "addition(32,32).display()"
   ]
  },
  {
   "cell_type": "code",
   "execution_count": 32,
   "id": "ac3f2285",
   "metadata": {},
   "outputs": [],
   "source": [
    "obj = addition(40,30)"
   ]
  },
  {
   "cell_type": "code",
   "execution_count": 33,
   "id": "b08ff7ca",
   "metadata": {},
   "outputs": [
    {
     "name": "stdout",
     "output_type": "stream",
     "text": [
      "First Number:40\n",
      "Second Number:30\n",
      "Answer is:70\n"
     ]
    }
   ],
   "source": [
    "obj.display()"
   ]
  },
  {
   "cell_type": "code",
   "execution_count": 44,
   "id": "a0b89939",
   "metadata": {},
   "outputs": [],
   "source": [
    "class subtractio:\n",
    "    firstnumber = 0\n",
    "    secondnumeber = 0\n",
    "    answer = 0\n",
    "    \n",
    "    def __init__(self,f,s):\n",
    "        self.firstnumber = f\n",
    "        self.secondnumeber = s\n",
    "        self.answer = self.firstnumber / self.secondnumeber\n",
    "    def display(self):\n",
    "        print(\"First Number: \"+str(self.firstnumber))\n",
    "        print(\"Second Number: \"+str(self.secondnumeber))\n",
    "        print(\"Answer is: \"+str((self.answer)))"
   ]
  },
  {
   "cell_type": "code",
   "execution_count": 45,
   "id": "6adae40a",
   "metadata": {},
   "outputs": [
    {
     "name": "stdout",
     "output_type": "stream",
     "text": [
      "First Number: 40\n",
      "Second Number: 34\n",
      "Answer is: 1.1764705882352942\n"
     ]
    }
   ],
   "source": [
    "sub = subtractio(40,34)\n",
    "sub.display()"
   ]
  },
  {
   "cell_type": "code",
   "execution_count": 37,
   "id": "a241613f",
   "metadata": {},
   "outputs": [],
   "source": [
    "# ***Inheritance*** - Capability of one class to derive or inherit properties from another class.\n",
    "# Class that derives properties is called derived class or child class and class from which properties are derived is called \n",
    "# base class or parent class.\n",
    "\n",
    "# Reusabilty of code is prime objective of inheritance\n",
    "\n",
    "# Single Inheritance - derived class inherits properites from a single parent class\n",
    "\n",
    "# Multi level Inheritance - deried class to inherit properties form its immediate parent class whcih in turn inherits for its \n",
    "# immediat parent callss.\n",
    "\n",
    "# Multiple inheritance - derived class inheritss properties form multiple parent class."
   ]
  },
  {
   "cell_type": "code",
   "execution_count": 46,
   "id": "45421f98",
   "metadata": {},
   "outputs": [],
   "source": [
    "# create a parent class called Polygon(defines number of sides) & using this parent class create child class for triangle\n",
    "# and also for sqaure for Area calculation."
   ]
  },
  {
   "cell_type": "code",
   "execution_count": 47,
   "id": "f2b97d8d",
   "metadata": {},
   "outputs": [],
   "source": [
    "# Parent class - polygon - defines the no.of sides\n",
    "class polygon:\n",
    "    def __init__(self,numsides):\n",
    "        self.n = numsides\n",
    "        self.sides = [0 for i in range (numsides)]\n",
    "    def inputSides(self):\n",
    "        self.sides = [float(input(\"Enter Side\"+str(i+1)+\":\"))\n",
    "                     for i in range(self.n)]\n",
    "    def displaySides(self):\n",
    "        for i in range(self.n):\n",
    "            print(\"Side\",i+1,self.sides[i])"
   ]
  },
  {
   "cell_type": "code",
   "execution_count": 53,
   "id": "8be53a67",
   "metadata": {},
   "outputs": [],
   "source": [
    "# child class - Area of Triangle\n",
    "class triangle(polygon):\n",
    "    def __init__(self):\n",
    "        polygon.__init__(self,3)\n",
    "    def AreaOfTriangle(self):\n",
    "        a,b,c = self.sides\n",
    "        s = (a+b+c)/2\n",
    "        area = (s*(s-a)*(s-b)*(s-c)) ** 0.5\n",
    "        print(\"Area of Triangle is %0.2f\" %area)"
   ]
  },
  {
   "cell_type": "code",
   "execution_count": 60,
   "id": "60326b39",
   "metadata": {},
   "outputs": [],
   "source": [
    "t = triangle()"
   ]
  },
  {
   "cell_type": "code",
   "execution_count": 61,
   "id": "a0126d5d",
   "metadata": {},
   "outputs": [
    {
     "name": "stdout",
     "output_type": "stream",
     "text": [
      "Enter Side1:20\n",
      "Enter Side2:30\n",
      "Enter Side3:40\n"
     ]
    }
   ],
   "source": [
    "t.inputSides()"
   ]
  },
  {
   "cell_type": "code",
   "execution_count": 62,
   "id": "efe2b25a",
   "metadata": {},
   "outputs": [
    {
     "name": "stdout",
     "output_type": "stream",
     "text": [
      "Area of Triangle is 290.47\n"
     ]
    }
   ],
   "source": [
    "t.AreaOfTriangle()"
   ]
  },
  {
   "cell_type": "code",
   "execution_count": 63,
   "id": "b3cbb7e2",
   "metadata": {},
   "outputs": [],
   "source": [
    "# child class - Area of Square\n",
    "import numpy as np\n",
    "class Square(polygon):\n",
    "    def __init__(self):\n",
    "        polygon.__init__(self,1)\n",
    "    def AreaofSquare(self):\n",
    "        a = self.sides\n",
    "        a = float(np.float_(a))\n",
    "        SqrArea = a**2\n",
    "        print(\"Area of Square\",SqrArea)"
   ]
  },
  {
   "cell_type": "code",
   "execution_count": 65,
   "id": "f74674a5",
   "metadata": {},
   "outputs": [
    {
     "name": "stdout",
     "output_type": "stream",
     "text": [
      "Enter Side1:25\n"
     ]
    }
   ],
   "source": [
    "sqr = Square()\n",
    "sqr.inputSides()"
   ]
  },
  {
   "cell_type": "code",
   "execution_count": 66,
   "id": "5c12fe26",
   "metadata": {},
   "outputs": [
    {
     "name": "stdout",
     "output_type": "stream",
     "text": [
      "Area of Square 625.0\n"
     ]
    }
   ],
   "source": [
    "sqr.AreaofSquare()"
   ]
  },
  {
   "cell_type": "code",
   "execution_count": 16,
   "id": "673754a7",
   "metadata": {},
   "outputs": [],
   "source": [
    "class BankAccount:\n",
    "    def __init__(self,acc_num,opendate,balance,cust_name):\n",
    "        self.acc_num = acc_num\n",
    "        self.opendate = opendate\n",
    "        self.balance  = balance\n",
    "        self.cust_name = cust_name\n",
    "    def deposit(self,amount):\n",
    "        self.balance += amount\n",
    "        print(f\"${amount} has been deposited\")\n",
    "    def withdrawal(self,amount):\n",
    "        if amount > self.balance:\n",
    "            print(\"Insufficient Balance\")\n",
    "        else:\n",
    "            self.balance -= amount\n",
    "            print(f\"${amount} has been Withdrawn\")\n",
    "    def check_balance(self):\n",
    "        print(f\"Current Balance is ${self.balance}.\")\n",
    "    def print_cust_details(self):\n",
    "        print(\"Name\",self.cust_name)\n",
    "        print(\"Date\",self.opendate)\n",
    "        print(\"Acc_num\",self.acc_num)\n",
    "        print(f\"Balance: ${self.balance}\")"
   ]
  },
  {
   "cell_type": "code",
   "execution_count": 17,
   "id": "7dcc9083",
   "metadata": {},
   "outputs": [],
   "source": [
    "acc_26 = BankAccount(24581,\"01-01-2023\",25000,\"John\")"
   ]
  },
  {
   "cell_type": "code",
   "execution_count": 18,
   "id": "45d273bd",
   "metadata": {},
   "outputs": [
    {
     "name": "stdout",
     "output_type": "stream",
     "text": [
      "Name John\n",
      "Date 01-01-2023\n",
      "Acc_num 24581\n",
      "Balance: $25000\n"
     ]
    }
   ],
   "source": [
    "acc_26.print_cust_details()"
   ]
  },
  {
   "cell_type": "code",
   "execution_count": 19,
   "id": "f5aaee96",
   "metadata": {},
   "outputs": [
    {
     "name": "stdout",
     "output_type": "stream",
     "text": [
      "$3000 has been Withdrawn\n"
     ]
    }
   ],
   "source": [
    "acc_26.withdrawal(3000)"
   ]
  },
  {
   "cell_type": "code",
   "execution_count": 20,
   "id": "e9292e2c",
   "metadata": {},
   "outputs": [
    {
     "name": "stdout",
     "output_type": "stream",
     "text": [
      "Current Balance is $22000.\n"
     ]
    }
   ],
   "source": [
    "acc_26.check_balance()"
   ]
  },
  {
   "cell_type": "code",
   "execution_count": 21,
   "id": "aefc70b4",
   "metadata": {},
   "outputs": [],
   "source": [
    "# Polymorphism - having many forms. Same functions name but different signatures for different types.\n",
    "# Key difference is datatype and number of arguments used in function."
   ]
  },
  {
   "cell_type": "code",
   "execution_count": 22,
   "id": "3143831b",
   "metadata": {},
   "outputs": [
    {
     "name": "stdout",
     "output_type": "stream",
     "text": [
      "7\n",
      "3\n"
     ]
    }
   ],
   "source": [
    "print(len(\"balance\"))\n",
    "print(len([100,200,300]))"
   ]
  },
  {
   "cell_type": "code",
   "execution_count": 23,
   "id": "78df3df3",
   "metadata": {},
   "outputs": [],
   "source": [
    "# Abstraction - Users only interact with functions and inner working of function is hidden form users."
   ]
  },
  {
   "cell_type": "code",
   "execution_count": null,
   "id": "a809d0bb",
   "metadata": {},
   "outputs": [],
   "source": []
  }
 ],
 "metadata": {
  "kernelspec": {
   "display_name": "Python 3 (ipykernel)",
   "language": "python",
   "name": "python3"
  },
  "language_info": {
   "codemirror_mode": {
    "name": "ipython",
    "version": 3
   },
   "file_extension": ".py",
   "mimetype": "text/x-python",
   "name": "python",
   "nbconvert_exporter": "python",
   "pygments_lexer": "ipython3",
   "version": "3.8.16"
  }
 },
 "nbformat": 4,
 "nbformat_minor": 5
}
