{
  "nbformat": 4,
  "nbformat_minor": 0,
  "metadata": {
    "colab": {
      "provenance": []
    },
    "kernelspec": {
      "name": "python3",
      "display_name": "Python 3"
    },
    "language_info": {
      "name": "python"
    }
  },
  "cells": [
    {
      "cell_type": "code",
      "source": [
        "!pip install pyspark"
      ],
      "metadata": {
        "colab": {
          "base_uri": "https://localhost:8080/"
        },
        "id": "63NWCSTs3Do7",
        "outputId": "f7cacfaa-088a-4b5a-f383-2f85c5e6bcd3"
      },
      "execution_count": 1,
      "outputs": [
        {
          "output_type": "stream",
          "name": "stdout",
          "text": [
            "Collecting pyspark\n",
            "  Downloading pyspark-3.4.1.tar.gz (310.8 MB)\n",
            "\u001b[2K     \u001b[90m━━━━━━━━━━━━━━━━━━━━━━━━━━━━━━━━━━━━━━━\u001b[0m \u001b[32m310.8/310.8 MB\u001b[0m \u001b[31m4.0 MB/s\u001b[0m eta \u001b[36m0:00:00\u001b[0m\n",
            "\u001b[?25h  Preparing metadata (setup.py) ... \u001b[?25l\u001b[?25hdone\n",
            "Requirement already satisfied: py4j==0.10.9.7 in /usr/local/lib/python3.10/dist-packages (from pyspark) (0.10.9.7)\n",
            "Building wheels for collected packages: pyspark\n",
            "  Building wheel for pyspark (setup.py) ... \u001b[?25l\u001b[?25hdone\n",
            "  Created wheel for pyspark: filename=pyspark-3.4.1-py2.py3-none-any.whl size=311285387 sha256=3b4c57afcd98450e5025038ed5827edc10616229e77c35b5bee11ddd86f37b93\n",
            "  Stored in directory: /root/.cache/pip/wheels/0d/77/a3/ff2f74cc9ab41f8f594dabf0579c2a7c6de920d584206e0834\n",
            "Successfully built pyspark\n",
            "Installing collected packages: pyspark\n",
            "Successfully installed pyspark-3.4.1\n"
          ]
        }
      ]
    },
    {
      "cell_type": "code",
      "source": [
        "from pyspark.sql import SparkSession"
      ],
      "metadata": {
        "id": "dTnUM49n3Io0"
      },
      "execution_count": 2,
      "outputs": []
    },
    {
      "cell_type": "code",
      "source": [
        "spark = SparkSession.builder.appName(\"NLP\").getOrCreate()"
      ],
      "metadata": {
        "id": "meE962RL3w3o"
      },
      "execution_count": 3,
      "outputs": []
    },
    {
      "cell_type": "code",
      "source": [
        "udemydf = spark.read.csv('/content/drive/MyDrive/Datasets/Course_info.csv',inferSchema=True,header=True)"
      ],
      "metadata": {
        "id": "MYtrOzFp32yE"
      },
      "execution_count": 4,
      "outputs": []
    },
    {
      "cell_type": "code",
      "source": [
        "udemydf.show(5)"
      ],
      "metadata": {
        "colab": {
          "base_uri": "https://localhost:8080/"
        },
        "id": "L3taFgyC4VT0",
        "outputId": "e34481e9-8429-4e82-b0bb-fcd26ec901f5"
      },
      "execution_count": 5,
      "outputs": [
        {
          "output_type": "stream",
          "name": "stdout",
          "text": [
            "+------+--------------------+-------+------+--------------------+---------------+----------+-----------+------------+------------+------------------+--------------------+----------------+---------+-------------------+-------------+--------+--------------------+---------------+------------------+\n",
            "|    id|               title|is_paid| price|            headline|num_subscribers|avg_rating|num_reviews|num_comments|num_lectures|content_length_min|      published_time|last_update_date| category|        subcategory|        topic|language|          course_url|instructor_name|    instructor_url|\n",
            "+------+--------------------+-------+------+--------------------+---------------+----------+-----------+------------+------------+------------------+--------------------+----------------+---------+-------------------+-------------+--------+--------------------+---------------+------------------+\n",
            "|4715.0|Online Vegan Vege...|   True| 24.99|Learn to cook del...|         2231.0|      3.75|      134.0|        42.0|        37.0|            1268.0|2010-08-05T22:06:13Z|      2020-11-06|Lifestyle|    Food & Beverage|Vegan Cooking| English|/course/vegan-veg...|    Angela Poch| /user/angelapoch/|\n",
            "|1769.0|The Lean Startup ...|  False|   0.0|\"Debunking Myths ...|        26474.0|       4.5|      709.0|       112.0|         9.0|              88.0|2010-01-12T18:09:46Z|            null| Business|   Entrepreneurship| Lean Startup| English|/course/the-lean-...|      Eric Ries|   /user/ericries/|\n",
            "|5664.0|How To Become a V...|   True| 19.99|Get the tools you...|         1713.0|       4.4|       41.0|        13.0|        14.0|              82.0|2010-10-13T18:07:17Z|      2019-10-09|Lifestyle|    Other Lifestyle|Vegan Cooking| English|/course/see-my-pe...|    Angela Poch| /user/angelapoch/|\n",
            "|7723.0|How to Train a Puppy|   True|199.99|Train your puppy ...|         4988.0|       4.8|      395.0|        88.0|        36.0|            1511.0|2011-06-20T20:08:38Z|      2016-01-13|Lifestyle|Pet Care & Training| Pet Training| English|/course/complete-...|     Ian Dunbar| /user/ian-dunbar/|\n",
            "|8157.0|Web Design from t...|   True|159.99|Learn web design ...|         1266.0|      4.75|       38.0|        12.0|        38.0|             569.0|2011-06-23T18:31:20Z|            null|   Design|         Web Design|   Web Design| English|/course/web-desig...| E Learning Lab|/user/edwin-ang-2/|\n",
            "+------+--------------------+-------+------+--------------------+---------------+----------+-----------+------------+------------+------------------+--------------------+----------------+---------+-------------------+-------------+--------+--------------------+---------------+------------------+\n",
            "only showing top 5 rows\n",
            "\n"
          ]
        }
      ]
    },
    {
      "cell_type": "code",
      "source": [
        "udemydf.toPandas().isnull().sum().sort_values(ascending=False)"
      ],
      "metadata": {
        "colab": {
          "base_uri": "https://localhost:8080/"
        },
        "id": "uZOYcWCI4hpO",
        "outputId": "3850d7bf-deea-4618-d5fb-90d48b03fc43"
      },
      "execution_count": 6,
      "outputs": [
        {
          "output_type": "execute_result",
          "data": {
            "text/plain": [
              "instructor_url        11608\n",
              "instructor_name       10332\n",
              "course_url            10220\n",
              "language               9897\n",
              "topic                  8253\n",
              "last_update_date       7370\n",
              "subcategory            7289\n",
              "published_time         7242\n",
              "category               7241\n",
              "num_comments           7236\n",
              "num_lectures           7235\n",
              "content_length_min     7234\n",
              "num_reviews            7223\n",
              "avg_rating             7202\n",
              "num_subscribers        6916\n",
              "headline               5214\n",
              "price                  4206\n",
              "is_paid                4078\n",
              "title                  1890\n",
              "id                      336\n",
              "dtype: int64"
            ]
          },
          "metadata": {},
          "execution_count": 6
        }
      ]
    },
    {
      "cell_type": "code",
      "source": [
        "udemydf.toPandas().shape"
      ],
      "metadata": {
        "colab": {
          "base_uri": "https://localhost:8080/"
        },
        "id": "ERmp7Jpe5WD_",
        "outputId": "f3189153-a0af-44b2-c92e-94a9c3528c25"
      },
      "execution_count": 9,
      "outputs": [
        {
          "output_type": "execute_result",
          "data": {
            "text/plain": [
              "(216838, 20)"
            ]
          },
          "metadata": {},
          "execution_count": 9
        }
      ]
    },
    {
      "cell_type": "code",
      "source": [
        "udemydf = udemydf.dropna() # drop null values"
      ],
      "metadata": {
        "id": "Dmsz3tp_5liq"
      },
      "execution_count": 12,
      "outputs": []
    },
    {
      "cell_type": "code",
      "source": [
        "udemydf.toPandas().shape # after dropping null values our value will be.."
      ],
      "metadata": {
        "colab": {
          "base_uri": "https://localhost:8080/"
        },
        "id": "N2qryQRU6BoC",
        "outputId": "1f5497d4-b219-4de1-cf35-5830699e4887"
      },
      "execution_count": 14,
      "outputs": [
        {
          "output_type": "execute_result",
          "data": {
            "text/plain": [
              "(203832, 20)"
            ]
          },
          "metadata": {},
          "execution_count": 14
        }
      ]
    },
    {
      "cell_type": "code",
      "source": [
        "udemydf.show(5)"
      ],
      "metadata": {
        "colab": {
          "base_uri": "https://localhost:8080/"
        },
        "id": "TwlZo7PO7XeC",
        "outputId": "575af6b9-868e-4ee8-8229-99fc5e66fed5"
      },
      "execution_count": 15,
      "outputs": [
        {
          "output_type": "stream",
          "name": "stdout",
          "text": [
            "+------+--------------------+-------+------+--------------------+---------------+----------+-----------+------------+------------+------------------+--------------------+----------------+--------------------+-------------------+-------------+--------+--------------------+---------------+-------------------+\n",
            "|    id|               title|is_paid| price|            headline|num_subscribers|avg_rating|num_reviews|num_comments|num_lectures|content_length_min|      published_time|last_update_date|            category|        subcategory|        topic|language|          course_url|instructor_name|     instructor_url|\n",
            "+------+--------------------+-------+------+--------------------+---------------+----------+-----------+------------+------------+------------------+--------------------+----------------+--------------------+-------------------+-------------+--------+--------------------+---------------+-------------------+\n",
            "|4715.0|Online Vegan Vege...|   True| 24.99|Learn to cook del...|         2231.0|      3.75|      134.0|        42.0|        37.0|            1268.0|2010-08-05T22:06:13Z|      2020-11-06|           Lifestyle|    Food & Beverage|Vegan Cooking| English|/course/vegan-veg...|    Angela Poch|  /user/angelapoch/|\n",
            "|5664.0|How To Become a V...|   True| 19.99|Get the tools you...|         1713.0|       4.4|       41.0|        13.0|        14.0|              82.0|2010-10-13T18:07:17Z|      2019-10-09|           Lifestyle|    Other Lifestyle|Vegan Cooking| English|/course/see-my-pe...|    Angela Poch|  /user/angelapoch/|\n",
            "|7723.0|How to Train a Puppy|   True|199.99|Train your puppy ...|         4988.0|       4.8|      395.0|        88.0|        36.0|            1511.0|2011-06-20T20:08:38Z|      2016-01-13|           Lifestyle|Pet Care & Training| Pet Training| English|/course/complete-...|     Ian Dunbar|  /user/ian-dunbar/|\n",
            "|8139.0|14-Day Yoga Detox...|   True| 29.99|Lose weight, get ...|        20505.0| 4.5301204|      796.0|       135.0|        31.0|            1163.0|2011-07-15T04:13:24Z|      2018-05-22|    Health & Fitness|               Yoga|         Yoga| English|/course/yoga-for-...|  Sadie Nardini|/user/sadienardini/|\n",
            "|2762.0|Simple Strategy f...|   True| 39.99|Use my favorite T...|         3309.0|      3.85|      958.0|       241.0|         8.0|              80.0|2010-04-14T16:32:46Z|      2019-03-07|Finance & Accounting|Investing & Trading|Swing Trading| English|/course/swing-tra...|     Tom Watson|   /user/tomwatson/|\n",
            "+------+--------------------+-------+------+--------------------+---------------+----------+-----------+------------+------------+------------------+--------------------+----------------+--------------------+-------------------+-------------+--------+--------------------+---------------+-------------------+\n",
            "only showing top 5 rows\n",
            "\n"
          ]
        }
      ]
    },
    {
      "cell_type": "code",
      "source": [
        "udemydf.groupby('subcategory').count().show(20)"
      ],
      "metadata": {
        "colab": {
          "base_uri": "https://localhost:8080/"
        },
        "id": "4wNgvOrO6aDM",
        "outputId": "2744bb0a-1602-4886-8745-f5b0ffca8a80"
      },
      "execution_count": 18,
      "outputs": [
        {
          "output_type": "stream",
          "name": "stdout",
          "text": [
            "+--------------------+-----+\n",
            "|         subcategory|count|\n",
            "+--------------------+-----+\n",
            "|    Entrepreneurship| 4165|\n",
            "|          2019-08-22|    2|\n",
            "|          2020-04-13|    2|\n",
            "|               151.0|    1|\n",
            "|          2022-10-05|    5|\n",
            "|2020-08-02T16:56:47Z|    1|\n",
            "|          2015-02-27|    1|\n",
            "|                 1.0|    4|\n",
            "|2020-04-05T23:37:13Z|    1|\n",
            "|          2020-06-24|    2|\n",
            "|2017-05-29T18:12:44Z|    1|\n",
            "|          2020-11-12|    1|\n",
            "|          2020-06-08|    1|\n",
            "|   Digital Marketing| 2400|\n",
            "|          2016-03-17|    1|\n",
            "|          2019-01-17|    1|\n",
            "|              1542.0|    1|\n",
            "|          2018-05-15|    1|\n",
            "|          2020-04-12|    1|\n",
            "|Software Developm...| 1455|\n",
            "+--------------------+-----+\n",
            "only showing top 20 rows\n",
            "\n"
          ]
        }
      ]
    },
    {
      "cell_type": "code",
      "source": [],
      "metadata": {
        "id": "8HzFx8fZ7wwq"
      },
      "execution_count": null,
      "outputs": []
    }
  ]
}