{
 "cells": [
  {
   "cell_type": "code",
   "execution_count": null,
   "id": "b7b55e12",
   "metadata": {},
   "outputs": [],
   "source": [
    "# K Nearest Neighbors(KNN) algorithm is a supervised learning algorithm used for both regression & classification. \n",
    "# Predominantly classification. \n",
    "\n",
    "# It is also used as Missing value imputation Algoritm(only numeric NA's)\n",
    "\n",
    "# KNN is one of the simplest algorithm to implement and it uses distance based claculations as part of methodology.\n",
    "\n",
    "# Distance measures like Euclidean, Manhattan, Mahalnobis, Hamming.\n",
    "\n",
    "# Euclidean distance it is used when features are numeric and continuous and scaling must be done before calculatin the distance\n",
    "\n",
    "# Manhattan distance it is used when independent variables are discreate and binary or multinomial.\n",
    "\n",
    "# Mahalanobis is a statistical measure that calculates the distance between data points, considering the variances and \n",
    "# correlations between variables. It helps determine similarity or dissimilarity in multi-dimensional data.\n",
    "\n",
    "# Hamming distance is used to determine similarity between strings of same length and distacne is number or count of \n",
    "# dissimilar values\n",
    "\n",
    "# K value is an integer and will determine the number of neighbors to be considered for identifying the nearest or closest value\n",
    "\n",
    "# There is no fixed formula for identifying the value of K which needs to be identified using Trial & Error or Grid Search.\n",
    "\n",
    "# Grid search must be used to find optimal K-value. if K value is small it will lead to high error model and if it is too large\n",
    "# too many calculations must be done which causes delay and computing loss.\n",
    "\n",
    "# For all distance based algirithm scaling must be done. Standard Sclaer, Min Max Scaler and Robust Scaler must be done before\n",
    "# distance calculations.\n",
    "\n",
    "# KNN is a non parametric algorithm(which means no prior assumptions). it is also called as Lazy algorithm as it starts  \n",
    "# calculating only when data is given for prediction.\n",
    "\n",
    "# KNN classifiers uses majority voting and KNN regressor uses Average method for final predictoin."
   ]
  }
 ],
 "metadata": {
  "kernelspec": {
   "display_name": "Python 3 (ipykernel)",
   "language": "python",
   "name": "python3"
  },
  "language_info": {
   "codemirror_mode": {
    "name": "ipython",
    "version": 3
   },
   "file_extension": ".py",
   "mimetype": "text/x-python",
   "name": "python",
   "nbconvert_exporter": "python",
   "pygments_lexer": "ipython3",
   "version": "3.8.16"
  }
 },
 "nbformat": 4,
 "nbformat_minor": 5
}
