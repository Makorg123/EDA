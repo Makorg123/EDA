{
 "cells": [
  {
   "cell_type": "code",
   "execution_count": 1,
   "id": "3d6ef296",
   "metadata": {},
   "outputs": [
    {
     "name": "stdout",
     "output_type": "stream",
     "text": [
      "[10, 20, 30, 50]\n"
     ]
    }
   ],
   "source": [
    "lst = [10, 20, 30, 30, 50]\n",
    "\n",
    "# Find the indices of the first occurrence of each duplicate element\n",
    "seen = set()\n",
    "indices_to_remove = []\n",
    "\n",
    "for i, value in enumerate(lst):\n",
    "    if value in seen:\n",
    "        indices_to_remove.append(i)\n",
    "    else:\n",
    "        seen.add(value)\n",
    "\n",
    "# Remove the elements at the identified indices (in reverse order to avoid index issues)\n",
    "for i in reversed(indices_to_remove):\n",
    "    del lst[i]\n",
    "\n",
    "print(lst)"
   ]
  },
  {
   "cell_type": "code",
   "execution_count": 7,
   "id": "cb8e7d1b",
   "metadata": {},
   "outputs": [],
   "source": [
    "result = lst[:2] + [lst[-1]]\n"
   ]
  },
  {
   "cell_type": "code",
   "execution_count": 8,
   "id": "c623c445",
   "metadata": {},
   "outputs": [
    {
     "data": {
      "text/plain": [
       "[10, 20, 50]"
      ]
     },
     "execution_count": 8,
     "metadata": {},
     "output_type": "execute_result"
    }
   ],
   "source": [
    "result"
   ]
  },
  {
   "cell_type": "code",
   "execution_count": 9,
   "id": "8e0098dc",
   "metadata": {},
   "outputs": [],
   "source": [
    "lst = [10, 20, 30, 30, 50]"
   ]
  },
  {
   "cell_type": "code",
   "execution_count": 10,
   "id": "93e45065",
   "metadata": {},
   "outputs": [
    {
     "name": "stdout",
     "output_type": "stream",
     "text": [
      "[10, 20, 50]\n"
     ]
    }
   ],
   "source": [
    "result = []\n",
    "for i in range(2):\n",
    "    result.append(lst[i])\n",
    "result.append(lst[-1])\n",
    "\n",
    "print(result)"
   ]
  },
  {
   "cell_type": "code",
   "execution_count": 11,
   "id": "6060dfde",
   "metadata": {},
   "outputs": [
    {
     "name": "stdout",
     "output_type": "stream",
     "text": [
      "[10, 20, 50]\n"
     ]
    }
   ],
   "source": [
    "lst = [10, 20, 30, 30, 50]\n",
    "\n",
    "# Extract the first two elements and the last element using list comprehension\n",
    "result = [lst[i] for i in range(2)] + [lst[-1]]\n",
    "\n",
    "print(result)"
   ]
  },
  {
   "cell_type": "code",
   "execution_count": null,
   "id": "32711cc4",
   "metadata": {},
   "outputs": [],
   "source": []
  }
 ],
 "metadata": {
  "kernelspec": {
   "display_name": "Python 3 (ipykernel)",
   "language": "python",
   "name": "python3"
  },
  "language_info": {
   "codemirror_mode": {
    "name": "ipython",
    "version": 3
   },
   "file_extension": ".py",
   "mimetype": "text/x-python",
   "name": "python",
   "nbconvert_exporter": "python",
   "pygments_lexer": "ipython3",
   "version": "3.8.16"
  }
 },
 "nbformat": 4,
 "nbformat_minor": 5
}
