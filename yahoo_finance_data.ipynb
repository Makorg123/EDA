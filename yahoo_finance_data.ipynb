{
 "cells": [
  {
   "cell_type": "code",
   "execution_count": 2,
   "id": "81629dc1",
   "metadata": {},
   "outputs": [],
   "source": [
    "import pandas as pd\n",
    "import numpy as np\n",
    "import seaborn as sns\n",
    "import matplotlib.pyplot as plt"
   ]
  },
  {
   "cell_type": "code",
   "execution_count": 20,
   "id": "07b74b1c",
   "metadata": {},
   "outputs": [],
   "source": [
    "data = pd.read_excel('financedata.xlsx')"
   ]
  },
  {
   "cell_type": "code",
   "execution_count": 21,
   "id": "e1db23eb",
   "metadata": {},
   "outputs": [
    {
     "data": {
      "text/plain": [
       "(2630, 4)"
      ]
     },
     "execution_count": 21,
     "metadata": {},
     "output_type": "execute_result"
    }
   ],
   "source": [
    "data.shape"
   ]
  },
  {
   "cell_type": "code",
   "execution_count": 13,
   "id": "b7733bb7",
   "metadata": {},
   "outputs": [
    {
     "data": {
      "text/plain": [
       "Date           0\n",
       "Crude_Close    0\n",
       "Gold_Close     0\n",
       "DJI_Close      0\n",
       "dtype: int64"
      ]
     },
     "execution_count": 13,
     "metadata": {},
     "output_type": "execute_result"
    }
   ],
   "source": [
    "data.isnull().sum()"
   ]
  },
  {
   "cell_type": "code",
   "execution_count": 14,
   "id": "48064e67",
   "metadata": {},
   "outputs": [
    {
     "name": "stdout",
     "output_type": "stream",
     "text": [
      "<class 'pandas.core.frame.DataFrame'>\n",
      "RangeIndex: 2630 entries, 0 to 2629\n",
      "Data columns (total 4 columns):\n",
      " #   Column       Non-Null Count  Dtype         \n",
      "---  ------       --------------  -----         \n",
      " 0   Date         2630 non-null   datetime64[ns]\n",
      " 1   Crude_Close  2630 non-null   float64       \n",
      " 2   Gold_Close   2630 non-null   float64       \n",
      " 3   DJI_Close    2630 non-null   float64       \n",
      "dtypes: datetime64[ns](1), float64(3)\n",
      "memory usage: 82.3 KB\n"
     ]
    }
   ],
   "source": [
    "data.info()"
   ]
  },
  {
   "cell_type": "code",
   "execution_count": 15,
   "id": "02f78a9f",
   "metadata": {},
   "outputs": [
    {
     "data": {
      "text/html": [
       "<div>\n",
       "<style scoped>\n",
       "    .dataframe tbody tr th:only-of-type {\n",
       "        vertical-align: middle;\n",
       "    }\n",
       "\n",
       "    .dataframe tbody tr th {\n",
       "        vertical-align: top;\n",
       "    }\n",
       "\n",
       "    .dataframe thead th {\n",
       "        text-align: right;\n",
       "    }\n",
       "</style>\n",
       "<table border=\"1\" class=\"dataframe\">\n",
       "  <thead>\n",
       "    <tr style=\"text-align: right;\">\n",
       "      <th></th>\n",
       "      <th>Date</th>\n",
       "      <th>Crude_Close</th>\n",
       "      <th>Gold_Close</th>\n",
       "      <th>DJI_Close</th>\n",
       "    </tr>\n",
       "  </thead>\n",
       "  <tbody>\n",
       "    <tr>\n",
       "      <th>0</th>\n",
       "      <td>2013-01-02</td>\n",
       "      <td>93.120003</td>\n",
       "      <td>1687.900024</td>\n",
       "      <td>13412.549805</td>\n",
       "    </tr>\n",
       "    <tr>\n",
       "      <th>1</th>\n",
       "      <td>2013-01-03</td>\n",
       "      <td>92.919998</td>\n",
       "      <td>1673.699951</td>\n",
       "      <td>13391.360352</td>\n",
       "    </tr>\n",
       "    <tr>\n",
       "      <th>2</th>\n",
       "      <td>2013-01-04</td>\n",
       "      <td>93.089996</td>\n",
       "      <td>1648.099976</td>\n",
       "      <td>13435.209961</td>\n",
       "    </tr>\n",
       "    <tr>\n",
       "      <th>3</th>\n",
       "      <td>2013-01-07</td>\n",
       "      <td>93.190002</td>\n",
       "      <td>1645.500000</td>\n",
       "      <td>13384.290039</td>\n",
       "    </tr>\n",
       "    <tr>\n",
       "      <th>4</th>\n",
       "      <td>2013-01-08</td>\n",
       "      <td>93.150002</td>\n",
       "      <td>1661.500000</td>\n",
       "      <td>13328.849609</td>\n",
       "    </tr>\n",
       "    <tr>\n",
       "      <th>...</th>\n",
       "      <td>...</td>\n",
       "      <td>...</td>\n",
       "      <td>...</td>\n",
       "      <td>...</td>\n",
       "    </tr>\n",
       "    <tr>\n",
       "      <th>2625</th>\n",
       "      <td>2023-06-08</td>\n",
       "      <td>71.290001</td>\n",
       "      <td>1963.599976</td>\n",
       "      <td>33665.019531</td>\n",
       "    </tr>\n",
       "    <tr>\n",
       "      <th>2626</th>\n",
       "      <td>2023-06-09</td>\n",
       "      <td>70.169998</td>\n",
       "      <td>1962.199951</td>\n",
       "      <td>33833.609375</td>\n",
       "    </tr>\n",
       "    <tr>\n",
       "      <th>2627</th>\n",
       "      <td>2023-06-12</td>\n",
       "      <td>67.120003</td>\n",
       "      <td>1955.300049</td>\n",
       "      <td>33876.781250</td>\n",
       "    </tr>\n",
       "    <tr>\n",
       "      <th>2628</th>\n",
       "      <td>2023-06-13</td>\n",
       "      <td>69.419998</td>\n",
       "      <td>1944.599976</td>\n",
       "      <td>34066.328125</td>\n",
       "    </tr>\n",
       "    <tr>\n",
       "      <th>2629</th>\n",
       "      <td>2023-06-14</td>\n",
       "      <td>69.440002</td>\n",
       "      <td>1962.099976</td>\n",
       "      <td>34212.121094</td>\n",
       "    </tr>\n",
       "  </tbody>\n",
       "</table>\n",
       "<p>2630 rows × 4 columns</p>\n",
       "</div>"
      ],
      "text/plain": [
       "           Date  Crude_Close   Gold_Close     DJI_Close\n",
       "0    2013-01-02    93.120003  1687.900024  13412.549805\n",
       "1    2013-01-03    92.919998  1673.699951  13391.360352\n",
       "2    2013-01-04    93.089996  1648.099976  13435.209961\n",
       "3    2013-01-07    93.190002  1645.500000  13384.290039\n",
       "4    2013-01-08    93.150002  1661.500000  13328.849609\n",
       "...         ...          ...          ...           ...\n",
       "2625 2023-06-08    71.290001  1963.599976  33665.019531\n",
       "2626 2023-06-09    70.169998  1962.199951  33833.609375\n",
       "2627 2023-06-12    67.120003  1955.300049  33876.781250\n",
       "2628 2023-06-13    69.419998  1944.599976  34066.328125\n",
       "2629 2023-06-14    69.440002  1962.099976  34212.121094\n",
       "\n",
       "[2630 rows x 4 columns]"
      ]
     },
     "execution_count": 15,
     "metadata": {},
     "output_type": "execute_result"
    }
   ],
   "source": [
    "data"
   ]
  },
  {
   "cell_type": "code",
   "execution_count": 16,
   "id": "f8414134",
   "metadata": {},
   "outputs": [
    {
     "data": {
      "text/plain": [
       "<Axes: >"
      ]
     },
     "execution_count": 16,
     "metadata": {},
     "output_type": "execute_result"
    },
    {
     "data": {
      "image/png": "[encoded data removed]",
      "text/plain": [
       "<Figure size 640x480 with 1 Axes>"
      ]
     },
     "metadata": {},
     "output_type": "display_data"
    }
   ],
   "source": [
    "data.plot(kind='line')"
   ]
  },
  {
   "cell_type": "code",
   "execution_count": 17,
   "id": "77ee1838",
   "metadata": {},
   "outputs": [],
   "source": [
    "data.index = data.Date"
   ]
  },
  {
   "cell_type": "code",
   "execution_count": 18,
   "id": "da02b043",
   "metadata": {},
   "outputs": [],
   "source": [
    "data = data.drop(\"Date\",axis =1)"
   ]
  },
  {
   "cell_type": "code",
   "execution_count": 19,
   "id": "77e1fc30",
   "metadata": {},
   "outputs": [
    {
     "data": {
      "text/plain": [
       "<Axes: xlabel='Date'>"
      ]
     },
     "execution_count": 19,
     "metadata": {},
     "output_type": "execute_result"
    },
    {
     "data": {
      "image/png": "[encoded data removed]",
      "text/plain": [
       "<Figure size 640x480 with 1 Axes>"
      ]
     },
     "metadata": {},
     "output_type": "display_data"
    }
   ],
   "source": [
    "data.plot(kind='line')"
   ]
  },
  {
   "cell_type": "code",
   "execution_count": 23,
   "id": "f18ad195",
   "metadata": {},
   "outputs": [
    {
     "data": {
      "image/png": "[encoded data removed]",
      "text/plain": [
       "<Figure size 1500x1000 with 3 Axes>"
      ]
     },
     "metadata": {},
     "output_type": "display_data"
    }
   ],
   "source": [
    "plt.figure(figsize=(15,10))\n",
    "for i,col in enumerate(data.drop(\"Date\",axis = 1).columns,1):\n",
    "    plt.subplot(2,2,i)\n",
    "    data[col].plot()\n",
    "    plt.title({data.drop(\"Date\",axis = 1).columns[i-1]})\n",
    "plt.show()"
   ]
  },
  {
   "cell_type": "code",
   "execution_count": 27,
   "id": "5aa3d274",
   "metadata": {},
   "outputs": [
    {
     "name": "stderr",
     "output_type": "stream",
     "text": [
      "C:\\Users\\Hp\\AppData\\Local\\Temp\\ipykernel_3120\\2578434383.py:1: FutureWarning: The default value of numeric_only in DataFrame.corr is deprecated. In a future version, it will default to False. Select only valid columns or specify the value of numeric_only to silence this warning.\n",
      "  sns.heatmap(data.corr(),annot=True)\n"
     ]
    },
    {
     "data": {
      "text/plain": [
       "<Axes: >"
      ]
     },
     "execution_count": 27,
     "metadata": {},
     "output_type": "execute_result"
    },
    {
     "data": {
      "image/png": "[encoded data removed]",
      "text/plain": [
       "<Figure size 640x480 with 2 Axes>"
      ]
     },
     "metadata": {},
     "output_type": "display_data"
    }
   ],
   "source": [
    "sns.heatmap(data.corr(),annot=True)"
   ]
  },
  {
   "cell_type": "code",
   "execution_count": null,
   "id": "3329d7e3",
   "metadata": {},
   "outputs": [],
   "source": [
    "# Calculate daily return or daily percentage change in close price.\n",
    "# pct_change = (CurrentDayPrice/PreviousDayPrice)-1"
   ]
  },
  {
   "cell_type": "code",
   "execution_count": 29,
   "id": "575354fa",
   "metadata": {},
   "outputs": [],
   "source": [
    "data_return_daily = data.drop(\"Date\",axis=1).pct_change()"
   ]
  },
  {
   "cell_type": "code",
   "execution_count": 30,
   "id": "9bec3914",
   "metadata": {},
   "outputs": [
    {
     "data": {
      "text/html": [
       "<div>\n",
       "<style scoped>\n",
       "    .dataframe tbody tr th:only-of-type {\n",
       "        vertical-align: middle;\n",
       "    }\n",
       "\n",
       "    .dataframe tbody tr th {\n",
       "        vertical-align: top;\n",
       "    }\n",
       "\n",
       "    .dataframe thead th {\n",
       "        text-align: right;\n",
       "    }\n",
       "</style>\n",
       "<table border=\"1\" class=\"dataframe\">\n",
       "  <thead>\n",
       "    <tr style=\"text-align: right;\">\n",
       "      <th></th>\n",
       "      <th>Crude_Close</th>\n",
       "      <th>Gold_Close</th>\n",
       "      <th>DJI_Close</th>\n",
       "    </tr>\n",
       "  </thead>\n",
       "  <tbody>\n",
       "    <tr>\n",
       "      <th>0</th>\n",
       "      <td>NaN</td>\n",
       "      <td>NaN</td>\n",
       "      <td>NaN</td>\n",
       "    </tr>\n",
       "    <tr>\n",
       "      <th>1</th>\n",
       "      <td>-0.002148</td>\n",
       "      <td>-0.008413</td>\n",
       "      <td>-0.001580</td>\n",
       "    </tr>\n",
       "    <tr>\n",
       "      <th>2</th>\n",
       "      <td>0.001830</td>\n",
       "      <td>-0.015295</td>\n",
       "      <td>0.003274</td>\n",
       "    </tr>\n",
       "    <tr>\n",
       "      <th>3</th>\n",
       "      <td>0.001074</td>\n",
       "      <td>-0.001578</td>\n",
       "      <td>-0.003790</td>\n",
       "    </tr>\n",
       "    <tr>\n",
       "      <th>4</th>\n",
       "      <td>-0.000429</td>\n",
       "      <td>0.009723</td>\n",
       "      <td>-0.004142</td>\n",
       "    </tr>\n",
       "    <tr>\n",
       "      <th>...</th>\n",
       "      <td>...</td>\n",
       "      <td>...</td>\n",
       "      <td>...</td>\n",
       "    </tr>\n",
       "    <tr>\n",
       "      <th>2625</th>\n",
       "      <td>-0.017096</td>\n",
       "      <td>0.010758</td>\n",
       "      <td>0.002732</td>\n",
       "    </tr>\n",
       "    <tr>\n",
       "      <th>2626</th>\n",
       "      <td>-0.015711</td>\n",
       "      <td>-0.000713</td>\n",
       "      <td>0.005008</td>\n",
       "    </tr>\n",
       "    <tr>\n",
       "      <th>2627</th>\n",
       "      <td>-0.043466</td>\n",
       "      <td>-0.003516</td>\n",
       "      <td>0.001276</td>\n",
       "    </tr>\n",
       "    <tr>\n",
       "      <th>2628</th>\n",
       "      <td>0.034267</td>\n",
       "      <td>-0.005472</td>\n",
       "      <td>0.005595</td>\n",
       "    </tr>\n",
       "    <tr>\n",
       "      <th>2629</th>\n",
       "      <td>0.000288</td>\n",
       "      <td>0.008999</td>\n",
       "      <td>0.004280</td>\n",
       "    </tr>\n",
       "  </tbody>\n",
       "</table>\n",
       "<p>2630 rows × 3 columns</p>\n",
       "</div>"
      ],
      "text/plain": [
       "      Crude_Close  Gold_Close  DJI_Close\n",
       "0             NaN         NaN        NaN\n",
       "1       -0.002148   -0.008413  -0.001580\n",
       "2        0.001830   -0.015295   0.003274\n",
       "3        0.001074   -0.001578  -0.003790\n",
       "4       -0.000429    0.009723  -0.004142\n",
       "...           ...         ...        ...\n",
       "2625    -0.017096    0.010758   0.002732\n",
       "2626    -0.015711   -0.000713   0.005008\n",
       "2627    -0.043466   -0.003516   0.001276\n",
       "2628     0.034267   -0.005472   0.005595\n",
       "2629     0.000288    0.008999   0.004280\n",
       "\n",
       "[2630 rows x 3 columns]"
      ]
     },
     "execution_count": 30,
     "metadata": {},
     "output_type": "execute_result"
    }
   ],
   "source": [
    "data_return_daily"
   ]
  },
  {
   "cell_type": "code",
   "execution_count": 31,
   "id": "32a5553c",
   "metadata": {},
   "outputs": [],
   "source": [
    "data_return_daily = data_return_daily.dropna()"
   ]
  },
  {
   "cell_type": "code",
   "execution_count": 32,
   "id": "614512d1",
   "metadata": {},
   "outputs": [
    {
     "data": {
      "text/html": [
       "<div>\n",
       "<style scoped>\n",
       "    .dataframe tbody tr th:only-of-type {\n",
       "        vertical-align: middle;\n",
       "    }\n",
       "\n",
       "    .dataframe tbody tr th {\n",
       "        vertical-align: top;\n",
       "    }\n",
       "\n",
       "    .dataframe thead th {\n",
       "        text-align: right;\n",
       "    }\n",
       "</style>\n",
       "<table border=\"1\" class=\"dataframe\">\n",
       "  <thead>\n",
       "    <tr style=\"text-align: right;\">\n",
       "      <th></th>\n",
       "      <th>Crude_Close</th>\n",
       "      <th>Gold_Close</th>\n",
       "      <th>DJI_Close</th>\n",
       "    </tr>\n",
       "  </thead>\n",
       "  <tbody>\n",
       "    <tr>\n",
       "      <th>1</th>\n",
       "      <td>-0.002148</td>\n",
       "      <td>-0.008413</td>\n",
       "      <td>-0.001580</td>\n",
       "    </tr>\n",
       "    <tr>\n",
       "      <th>2</th>\n",
       "      <td>0.001830</td>\n",
       "      <td>-0.015295</td>\n",
       "      <td>0.003274</td>\n",
       "    </tr>\n",
       "    <tr>\n",
       "      <th>3</th>\n",
       "      <td>0.001074</td>\n",
       "      <td>-0.001578</td>\n",
       "      <td>-0.003790</td>\n",
       "    </tr>\n",
       "    <tr>\n",
       "      <th>4</th>\n",
       "      <td>-0.000429</td>\n",
       "      <td>0.009723</td>\n",
       "      <td>-0.004142</td>\n",
       "    </tr>\n",
       "    <tr>\n",
       "      <th>5</th>\n",
       "      <td>-0.000537</td>\n",
       "      <td>-0.004032</td>\n",
       "      <td>0.004626</td>\n",
       "    </tr>\n",
       "    <tr>\n",
       "      <th>...</th>\n",
       "      <td>...</td>\n",
       "      <td>...</td>\n",
       "      <td>...</td>\n",
       "    </tr>\n",
       "    <tr>\n",
       "      <th>2625</th>\n",
       "      <td>-0.017096</td>\n",
       "      <td>0.010758</td>\n",
       "      <td>0.002732</td>\n",
       "    </tr>\n",
       "    <tr>\n",
       "      <th>2626</th>\n",
       "      <td>-0.015711</td>\n",
       "      <td>-0.000713</td>\n",
       "      <td>0.005008</td>\n",
       "    </tr>\n",
       "    <tr>\n",
       "      <th>2627</th>\n",
       "      <td>-0.043466</td>\n",
       "      <td>-0.003516</td>\n",
       "      <td>0.001276</td>\n",
       "    </tr>\n",
       "    <tr>\n",
       "      <th>2628</th>\n",
       "      <td>0.034267</td>\n",
       "      <td>-0.005472</td>\n",
       "      <td>0.005595</td>\n",
       "    </tr>\n",
       "    <tr>\n",
       "      <th>2629</th>\n",
       "      <td>0.000288</td>\n",
       "      <td>0.008999</td>\n",
       "      <td>0.004280</td>\n",
       "    </tr>\n",
       "  </tbody>\n",
       "</table>\n",
       "<p>2629 rows × 3 columns</p>\n",
       "</div>"
      ],
      "text/plain": [
       "      Crude_Close  Gold_Close  DJI_Close\n",
       "1       -0.002148   -0.008413  -0.001580\n",
       "2        0.001830   -0.015295   0.003274\n",
       "3        0.001074   -0.001578  -0.003790\n",
       "4       -0.000429    0.009723  -0.004142\n",
       "5       -0.000537   -0.004032   0.004626\n",
       "...           ...         ...        ...\n",
       "2625    -0.017096    0.010758   0.002732\n",
       "2626    -0.015711   -0.000713   0.005008\n",
       "2627    -0.043466   -0.003516   0.001276\n",
       "2628     0.034267   -0.005472   0.005595\n",
       "2629     0.000288    0.008999   0.004280\n",
       "\n",
       "[2629 rows x 3 columns]"
      ]
     },
     "execution_count": 32,
     "metadata": {},
     "output_type": "execute_result"
    }
   ],
   "source": [
    "data_return_daily"
   ]
  },
  {
   "cell_type": "code",
   "execution_count": 33,
   "id": "a2379f4e",
   "metadata": {},
   "outputs": [
    {
     "data": {
      "text/plain": [
       "<Axes: >"
      ]
     },
     "execution_count": 33,
     "metadata": {},
     "output_type": "execute_result"
    },
    {
     "data": {
      "image/png": "[encoded data removed]",
      "text/plain": [
       "<Figure size 640x480 with 1 Axes>"
      ]
     },
     "metadata": {},
     "output_type": "display_data"
    }
   ],
   "source": [
    "data_return_daily.plot()"
   ]
  },
  {
   "cell_type": "code",
   "execution_count": 34,
   "id": "49932e5a",
   "metadata": {},
   "outputs": [
    {
     "data": {
      "text/html": [
       "<div>\n",
       "<style scoped>\n",
       "    .dataframe tbody tr th:only-of-type {\n",
       "        vertical-align: middle;\n",
       "    }\n",
       "\n",
       "    .dataframe tbody tr th {\n",
       "        vertical-align: top;\n",
       "    }\n",
       "\n",
       "    .dataframe thead th {\n",
       "        text-align: right;\n",
       "    }\n",
       "</style>\n",
       "<table border=\"1\" class=\"dataframe\">\n",
       "  <thead>\n",
       "    <tr style=\"text-align: right;\">\n",
       "      <th></th>\n",
       "      <th>Crude_Close</th>\n",
       "      <th>Gold_Close</th>\n",
       "      <th>DJI_Close</th>\n",
       "    </tr>\n",
       "  </thead>\n",
       "  <tbody>\n",
       "    <tr>\n",
       "      <th>count</th>\n",
       "      <td>2629.000000</td>\n",
       "      <td>2629.000000</td>\n",
       "      <td>2629.000000</td>\n",
       "    </tr>\n",
       "    <tr>\n",
       "      <th>mean</th>\n",
       "      <td>-0.001129</td>\n",
       "      <td>0.000106</td>\n",
       "      <td>0.000416</td>\n",
       "    </tr>\n",
       "    <tr>\n",
       "      <th>std</th>\n",
       "      <td>0.070575</td>\n",
       "      <td>0.009845</td>\n",
       "      <td>0.010864</td>\n",
       "    </tr>\n",
       "    <tr>\n",
       "      <th>min</th>\n",
       "      <td>-3.059661</td>\n",
       "      <td>-0.093538</td>\n",
       "      <td>-0.129265</td>\n",
       "    </tr>\n",
       "    <tr>\n",
       "      <th>25%</th>\n",
       "      <td>-0.011940</td>\n",
       "      <td>-0.004561</td>\n",
       "      <td>-0.003751</td>\n",
       "    </tr>\n",
       "    <tr>\n",
       "      <th>50%</th>\n",
       "      <td>0.001084</td>\n",
       "      <td>0.000160</td>\n",
       "      <td>0.000628</td>\n",
       "    </tr>\n",
       "    <tr>\n",
       "      <th>75%</th>\n",
       "      <td>0.012454</td>\n",
       "      <td>0.005100</td>\n",
       "      <td>0.005333</td>\n",
       "    </tr>\n",
       "    <tr>\n",
       "      <th>max</th>\n",
       "      <td>0.376623</td>\n",
       "      <td>0.059477</td>\n",
       "      <td>0.113650</td>\n",
       "    </tr>\n",
       "  </tbody>\n",
       "</table>\n",
       "</div>"
      ],
      "text/plain": [
       "       Crude_Close   Gold_Close    DJI_Close\n",
       "count  2629.000000  2629.000000  2629.000000\n",
       "mean     -0.001129     0.000106     0.000416\n",
       "std       0.070575     0.009845     0.010864\n",
       "min      -3.059661    -0.093538    -0.129265\n",
       "25%      -0.011940    -0.004561    -0.003751\n",
       "50%       0.001084     0.000160     0.000628\n",
       "75%       0.012454     0.005100     0.005333\n",
       "max       0.376623     0.059477     0.113650"
      ]
     },
     "execution_count": 34,
     "metadata": {},
     "output_type": "execute_result"
    }
   ],
   "source": [
    "data_return_daily.describe()"
   ]
  },
  {
   "cell_type": "code",
   "execution_count": 38,
   "id": "45fa2236",
   "metadata": {},
   "outputs": [
    {
     "name": "stderr",
     "output_type": "stream",
     "text": [
      "C:\\Users\\Hp\\AppData\\Local\\Temp\\ipykernel_3120\\1569231963.py:1: SettingWithCopyWarning: \n",
      "A value is trying to be set on a copy of a slice from a DataFrame.\n",
      "Try using .loc[row_indexer,col_indexer] = value instead\n",
      "\n",
      "See the caveats in the documentation: https://pandas.pydata.org/pandas-docs/stable/user_guide/indexing.html#returning-a-view-versus-a-copy\n",
      "  data_return_daily['Date'] = data.Date.drop(data.index[:1])\n"
     ]
    }
   ],
   "source": [
    "data_return_daily['Date'] = data.Date.drop(data.index[:1])"
   ]
  },
  {
   "cell_type": "code",
   "execution_count": 41,
   "id": "39e91bdd",
   "metadata": {},
   "outputs": [
    {
     "data": {
      "text/html": [
       "<div>\n",
       "<style scoped>\n",
       "    .dataframe tbody tr th:only-of-type {\n",
       "        vertical-align: middle;\n",
       "    }\n",
       "\n",
       "    .dataframe tbody tr th {\n",
       "        vertical-align: top;\n",
       "    }\n",
       "\n",
       "    .dataframe thead th {\n",
       "        text-align: right;\n",
       "    }\n",
       "</style>\n",
       "<table border=\"1\" class=\"dataframe\">\n",
       "  <thead>\n",
       "    <tr style=\"text-align: right;\">\n",
       "      <th></th>\n",
       "      <th>Crude_Close</th>\n",
       "      <th>Gold_Close</th>\n",
       "      <th>DJI_Close</th>\n",
       "      <th>Date</th>\n",
       "    </tr>\n",
       "  </thead>\n",
       "  <tbody>\n",
       "    <tr>\n",
       "      <th>1</th>\n",
       "      <td>-0.002148</td>\n",
       "      <td>-0.008413</td>\n",
       "      <td>-0.001580</td>\n",
       "      <td>2013-01-03</td>\n",
       "    </tr>\n",
       "    <tr>\n",
       "      <th>2</th>\n",
       "      <td>0.001830</td>\n",
       "      <td>-0.015295</td>\n",
       "      <td>0.003274</td>\n",
       "      <td>2013-01-04</td>\n",
       "    </tr>\n",
       "    <tr>\n",
       "      <th>3</th>\n",
       "      <td>0.001074</td>\n",
       "      <td>-0.001578</td>\n",
       "      <td>-0.003790</td>\n",
       "      <td>2013-01-07</td>\n",
       "    </tr>\n",
       "    <tr>\n",
       "      <th>4</th>\n",
       "      <td>-0.000429</td>\n",
       "      <td>0.009723</td>\n",
       "      <td>-0.004142</td>\n",
       "      <td>2013-01-08</td>\n",
       "    </tr>\n",
       "    <tr>\n",
       "      <th>5</th>\n",
       "      <td>-0.000537</td>\n",
       "      <td>-0.004032</td>\n",
       "      <td>0.004626</td>\n",
       "      <td>2013-01-09</td>\n",
       "    </tr>\n",
       "  </tbody>\n",
       "</table>\n",
       "</div>"
      ],
      "text/plain": [
       "   Crude_Close  Gold_Close  DJI_Close       Date\n",
       "1    -0.002148   -0.008413  -0.001580 2013-01-03\n",
       "2     0.001830   -0.015295   0.003274 2013-01-04\n",
       "3     0.001074   -0.001578  -0.003790 2013-01-07\n",
       "4    -0.000429    0.009723  -0.004142 2013-01-08\n",
       "5    -0.000537   -0.004032   0.004626 2013-01-09"
      ]
     },
     "execution_count": 41,
     "metadata": {},
     "output_type": "execute_result"
    }
   ],
   "source": [
    "data_return_daily.head()"
   ]
  },
  {
   "cell_type": "code",
   "execution_count": 42,
   "id": "aedc6209",
   "metadata": {},
   "outputs": [
    {
     "data": {
      "text/html": [
       "<div>\n",
       "<style scoped>\n",
       "    .dataframe tbody tr th:only-of-type {\n",
       "        vertical-align: middle;\n",
       "    }\n",
       "\n",
       "    .dataframe tbody tr th {\n",
       "        vertical-align: top;\n",
       "    }\n",
       "\n",
       "    .dataframe thead th {\n",
       "        text-align: right;\n",
       "    }\n",
       "</style>\n",
       "<table border=\"1\" class=\"dataframe\">\n",
       "  <thead>\n",
       "    <tr style=\"text-align: right;\">\n",
       "      <th></th>\n",
       "      <th>Crude_Close</th>\n",
       "      <th>Gold_Close</th>\n",
       "      <th>DJI_Close</th>\n",
       "      <th>Date</th>\n",
       "    </tr>\n",
       "  </thead>\n",
       "  <tbody>\n",
       "    <tr>\n",
       "      <th>2625</th>\n",
       "      <td>-0.017096</td>\n",
       "      <td>0.010758</td>\n",
       "      <td>0.002732</td>\n",
       "      <td>2023-06-08</td>\n",
       "    </tr>\n",
       "    <tr>\n",
       "      <th>2626</th>\n",
       "      <td>-0.015711</td>\n",
       "      <td>-0.000713</td>\n",
       "      <td>0.005008</td>\n",
       "      <td>2023-06-09</td>\n",
       "    </tr>\n",
       "    <tr>\n",
       "      <th>2627</th>\n",
       "      <td>-0.043466</td>\n",
       "      <td>-0.003516</td>\n",
       "      <td>0.001276</td>\n",
       "      <td>2023-06-12</td>\n",
       "    </tr>\n",
       "    <tr>\n",
       "      <th>2628</th>\n",
       "      <td>0.034267</td>\n",
       "      <td>-0.005472</td>\n",
       "      <td>0.005595</td>\n",
       "      <td>2023-06-13</td>\n",
       "    </tr>\n",
       "    <tr>\n",
       "      <th>2629</th>\n",
       "      <td>0.000288</td>\n",
       "      <td>0.008999</td>\n",
       "      <td>0.004280</td>\n",
       "      <td>2023-06-14</td>\n",
       "    </tr>\n",
       "  </tbody>\n",
       "</table>\n",
       "</div>"
      ],
      "text/plain": [
       "      Crude_Close  Gold_Close  DJI_Close       Date\n",
       "2625    -0.017096    0.010758   0.002732 2023-06-08\n",
       "2626    -0.015711   -0.000713   0.005008 2023-06-09\n",
       "2627    -0.043466   -0.003516   0.001276 2023-06-12\n",
       "2628     0.034267   -0.005472   0.005595 2023-06-13\n",
       "2629     0.000288    0.008999   0.004280 2023-06-14"
      ]
     },
     "execution_count": 42,
     "metadata": {},
     "output_type": "execute_result"
    }
   ],
   "source": [
    "data_return_daily.tail()"
   ]
  },
  {
   "cell_type": "code",
   "execution_count": 43,
   "id": "d3027511",
   "metadata": {},
   "outputs": [
    {
     "name": "stdout",
     "output_type": "stream",
     "text": [
      "<class 'pandas.core.frame.DataFrame'>\n",
      "Int64Index: 2629 entries, 1 to 2629\n",
      "Data columns (total 4 columns):\n",
      " #   Column       Non-Null Count  Dtype         \n",
      "---  ------       --------------  -----         \n",
      " 0   Crude_Close  2629 non-null   float64       \n",
      " 1   Gold_Close   2629 non-null   float64       \n",
      " 2   DJI_Close    2629 non-null   float64       \n",
      " 3   Date         2629 non-null   datetime64[ns]\n",
      "dtypes: datetime64[ns](1), float64(3)\n",
      "memory usage: 102.7 KB\n"
     ]
    }
   ],
   "source": [
    "data_return_daily.info()"
   ]
  },
  {
   "cell_type": "code",
   "execution_count": 44,
   "id": "161c7cef",
   "metadata": {},
   "outputs": [
    {
     "name": "stderr",
     "output_type": "stream",
     "text": [
      "C:\\Users\\Hp\\AppData\\Local\\Temp\\ipykernel_3120\\3426962389.py:1: SettingWithCopyWarning: \n",
      "A value is trying to be set on a copy of a slice from a DataFrame.\n",
      "Try using .loc[row_indexer,col_indexer] = value instead\n",
      "\n",
      "See the caveats in the documentation: https://pandas.pydata.org/pandas-docs/stable/user_guide/indexing.html#returning-a-view-versus-a-copy\n",
      "  data_return_daily['Weekday'] = data_return_daily.Date.dt.weekday\n"
     ]
    }
   ],
   "source": [
    "data_return_daily['Weekday'] = data_return_daily.Date.dt.weekday"
   ]
  },
  {
   "cell_type": "code",
   "execution_count": 46,
   "id": "d43e8cff",
   "metadata": {},
   "outputs": [
    {
     "name": "stderr",
     "output_type": "stream",
     "text": [
      "C:\\Users\\Hp\\AppData\\Local\\Temp\\ipykernel_3120\\2100866096.py:1: SettingWithCopyWarning: \n",
      "A value is trying to be set on a copy of a slice from a DataFrame.\n",
      "Try using .loc[row_indexer,col_indexer] = value instead\n",
      "\n",
      "See the caveats in the documentation: https://pandas.pydata.org/pandas-docs/stable/user_guide/indexing.html#returning-a-view-versus-a-copy\n",
      "  data_return_daily['Month'] = data_return_daily.Date.dt.month\n"
     ]
    }
   ],
   "source": [
    "data_return_daily['Month'] = data_return_daily.Date.dt.month"
   ]
  },
  {
   "cell_type": "code",
   "execution_count": 48,
   "id": "6e19b7c4",
   "metadata": {},
   "outputs": [
    {
     "name": "stderr",
     "output_type": "stream",
     "text": [
      "C:\\Users\\Hp\\AppData\\Local\\Temp\\ipykernel_3120\\14593422.py:1: SettingWithCopyWarning: \n",
      "A value is trying to be set on a copy of a slice from a DataFrame.\n",
      "Try using .loc[row_indexer,col_indexer] = value instead\n",
      "\n",
      "See the caveats in the documentation: https://pandas.pydata.org/pandas-docs/stable/user_guide/indexing.html#returning-a-view-versus-a-copy\n",
      "  data_return_daily['Quarter'] = data_return_daily.Date.dt.quarter\n"
     ]
    }
   ],
   "source": [
    "data_return_daily['Quarter'] = data_return_daily.Date.dt.quarter"
   ]
  },
  {
   "cell_type": "code",
   "execution_count": 49,
   "id": "b11a3892",
   "metadata": {},
   "outputs": [
    {
     "name": "stderr",
     "output_type": "stream",
     "text": [
      "C:\\Users\\Hp\\AppData\\Local\\Temp\\ipykernel_3120\\1649393839.py:1: SettingWithCopyWarning: \n",
      "A value is trying to be set on a copy of a slice from a DataFrame.\n",
      "Try using .loc[row_indexer,col_indexer] = value instead\n",
      "\n",
      "See the caveats in the documentation: https://pandas.pydata.org/pandas-docs/stable/user_guide/indexing.html#returning-a-view-versus-a-copy\n",
      "  data_return_daily['Year'] = data_return_daily.Date.dt.year\n"
     ]
    }
   ],
   "source": [
    "data_return_daily['Year'] = data_return_daily.Date.dt.year"
   ]
  },
  {
   "cell_type": "code",
   "execution_count": 50,
   "id": "6e09e579",
   "metadata": {},
   "outputs": [
    {
     "data": {
      "text/html": [
       "<div>\n",
       "<style scoped>\n",
       "    .dataframe tbody tr th:only-of-type {\n",
       "        vertical-align: middle;\n",
       "    }\n",
       "\n",
       "    .dataframe tbody tr th {\n",
       "        vertical-align: top;\n",
       "    }\n",
       "\n",
       "    .dataframe thead th {\n",
       "        text-align: right;\n",
       "    }\n",
       "</style>\n",
       "<table border=\"1\" class=\"dataframe\">\n",
       "  <thead>\n",
       "    <tr style=\"text-align: right;\">\n",
       "      <th></th>\n",
       "      <th>Crude_Close</th>\n",
       "      <th>Gold_Close</th>\n",
       "      <th>DJI_Close</th>\n",
       "      <th>Date</th>\n",
       "      <th>Weekday</th>\n",
       "      <th>Month</th>\n",
       "      <th>Quarter</th>\n",
       "      <th>Year</th>\n",
       "    </tr>\n",
       "  </thead>\n",
       "  <tbody>\n",
       "    <tr>\n",
       "      <th>1</th>\n",
       "      <td>-0.002148</td>\n",
       "      <td>-0.008413</td>\n",
       "      <td>-0.001580</td>\n",
       "      <td>2013-01-03</td>\n",
       "      <td>3</td>\n",
       "      <td>1</td>\n",
       "      <td>1</td>\n",
       "      <td>2013</td>\n",
       "    </tr>\n",
       "    <tr>\n",
       "      <th>2</th>\n",
       "      <td>0.001830</td>\n",
       "      <td>-0.015295</td>\n",
       "      <td>0.003274</td>\n",
       "      <td>2013-01-04</td>\n",
       "      <td>4</td>\n",
       "      <td>1</td>\n",
       "      <td>1</td>\n",
       "      <td>2013</td>\n",
       "    </tr>\n",
       "    <tr>\n",
       "      <th>3</th>\n",
       "      <td>0.001074</td>\n",
       "      <td>-0.001578</td>\n",
       "      <td>-0.003790</td>\n",
       "      <td>2013-01-07</td>\n",
       "      <td>0</td>\n",
       "      <td>1</td>\n",
       "      <td>1</td>\n",
       "      <td>2013</td>\n",
       "    </tr>\n",
       "    <tr>\n",
       "      <th>4</th>\n",
       "      <td>-0.000429</td>\n",
       "      <td>0.009723</td>\n",
       "      <td>-0.004142</td>\n",
       "      <td>2013-01-08</td>\n",
       "      <td>1</td>\n",
       "      <td>1</td>\n",
       "      <td>1</td>\n",
       "      <td>2013</td>\n",
       "    </tr>\n",
       "    <tr>\n",
       "      <th>5</th>\n",
       "      <td>-0.000537</td>\n",
       "      <td>-0.004032</td>\n",
       "      <td>0.004626</td>\n",
       "      <td>2013-01-09</td>\n",
       "      <td>2</td>\n",
       "      <td>1</td>\n",
       "      <td>1</td>\n",
       "      <td>2013</td>\n",
       "    </tr>\n",
       "    <tr>\n",
       "      <th>...</th>\n",
       "      <td>...</td>\n",
       "      <td>...</td>\n",
       "      <td>...</td>\n",
       "      <td>...</td>\n",
       "      <td>...</td>\n",
       "      <td>...</td>\n",
       "      <td>...</td>\n",
       "      <td>...</td>\n",
       "    </tr>\n",
       "    <tr>\n",
       "      <th>2625</th>\n",
       "      <td>-0.017096</td>\n",
       "      <td>0.010758</td>\n",
       "      <td>0.002732</td>\n",
       "      <td>2023-06-08</td>\n",
       "      <td>3</td>\n",
       "      <td>6</td>\n",
       "      <td>2</td>\n",
       "      <td>2023</td>\n",
       "    </tr>\n",
       "    <tr>\n",
       "      <th>2626</th>\n",
       "      <td>-0.015711</td>\n",
       "      <td>-0.000713</td>\n",
       "      <td>0.005008</td>\n",
       "      <td>2023-06-09</td>\n",
       "      <td>4</td>\n",
       "      <td>6</td>\n",
       "      <td>2</td>\n",
       "      <td>2023</td>\n",
       "    </tr>\n",
       "    <tr>\n",
       "      <th>2627</th>\n",
       "      <td>-0.043466</td>\n",
       "      <td>-0.003516</td>\n",
       "      <td>0.001276</td>\n",
       "      <td>2023-06-12</td>\n",
       "      <td>0</td>\n",
       "      <td>6</td>\n",
       "      <td>2</td>\n",
       "      <td>2023</td>\n",
       "    </tr>\n",
       "    <tr>\n",
       "      <th>2628</th>\n",
       "      <td>0.034267</td>\n",
       "      <td>-0.005472</td>\n",
       "      <td>0.005595</td>\n",
       "      <td>2023-06-13</td>\n",
       "      <td>1</td>\n",
       "      <td>6</td>\n",
       "      <td>2</td>\n",
       "      <td>2023</td>\n",
       "    </tr>\n",
       "    <tr>\n",
       "      <th>2629</th>\n",
       "      <td>0.000288</td>\n",
       "      <td>0.008999</td>\n",
       "      <td>0.004280</td>\n",
       "      <td>2023-06-14</td>\n",
       "      <td>2</td>\n",
       "      <td>6</td>\n",
       "      <td>2</td>\n",
       "      <td>2023</td>\n",
       "    </tr>\n",
       "  </tbody>\n",
       "</table>\n",
       "<p>2629 rows × 8 columns</p>\n",
       "</div>"
      ],
      "text/plain": [
       "      Crude_Close  Gold_Close  DJI_Close       Date  Weekday  Month  Quarter  \\\n",
       "1       -0.002148   -0.008413  -0.001580 2013-01-03        3      1        1   \n",
       "2        0.001830   -0.015295   0.003274 2013-01-04        4      1        1   \n",
       "3        0.001074   -0.001578  -0.003790 2013-01-07        0      1        1   \n",
       "4       -0.000429    0.009723  -0.004142 2013-01-08        1      1        1   \n",
       "5       -0.000537   -0.004032   0.004626 2013-01-09        2      1        1   \n",
       "...           ...         ...        ...        ...      ...    ...      ...   \n",
       "2625    -0.017096    0.010758   0.002732 2023-06-08        3      6        2   \n",
       "2626    -0.015711   -0.000713   0.005008 2023-06-09        4      6        2   \n",
       "2627    -0.043466   -0.003516   0.001276 2023-06-12        0      6        2   \n",
       "2628     0.034267   -0.005472   0.005595 2023-06-13        1      6        2   \n",
       "2629     0.000288    0.008999   0.004280 2023-06-14        2      6        2   \n",
       "\n",
       "      Year  \n",
       "1     2013  \n",
       "2     2013  \n",
       "3     2013  \n",
       "4     2013  \n",
       "5     2013  \n",
       "...    ...  \n",
       "2625  2023  \n",
       "2626  2023  \n",
       "2627  2023  \n",
       "2628  2023  \n",
       "2629  2023  \n",
       "\n",
       "[2629 rows x 8 columns]"
      ]
     },
     "execution_count": 50,
     "metadata": {},
     "output_type": "execute_result"
    }
   ],
   "source": [
    "data_return_daily"
   ]
  },
  {
   "cell_type": "code",
   "execution_count": 51,
   "id": "a1e7d3b7",
   "metadata": {},
   "outputs": [],
   "source": [
    "data_return_daily = pd.get_dummies(data_return_daily,\n",
    "                                  columns = ['Weekday','Month','Quarter','Year'])"
   ]
  },
  {
   "cell_type": "code",
   "execution_count": 52,
   "id": "adfb554d",
   "metadata": {},
   "outputs": [
    {
     "data": {
      "text/plain": [
       "(2629, 36)"
      ]
     },
     "execution_count": 52,
     "metadata": {},
     "output_type": "execute_result"
    }
   ],
   "source": [
    "data_return_daily.shape"
   ]
  },
  {
   "cell_type": "code",
   "execution_count": 54,
   "id": "e924ec43",
   "metadata": {},
   "outputs": [
    {
     "data": {
      "text/html": [
       "<div>\n",
       "<style scoped>\n",
       "    .dataframe tbody tr th:only-of-type {\n",
       "        vertical-align: middle;\n",
       "    }\n",
       "\n",
       "    .dataframe tbody tr th {\n",
       "        vertical-align: top;\n",
       "    }\n",
       "\n",
       "    .dataframe thead th {\n",
       "        text-align: right;\n",
       "    }\n",
       "</style>\n",
       "<table border=\"1\" class=\"dataframe\">\n",
       "  <thead>\n",
       "    <tr style=\"text-align: right;\">\n",
       "      <th></th>\n",
       "      <th>Crude_Close</th>\n",
       "      <th>Gold_Close</th>\n",
       "      <th>DJI_Close</th>\n",
       "      <th>Date</th>\n",
       "      <th>Weekday_0</th>\n",
       "      <th>Weekday_1</th>\n",
       "      <th>Weekday_2</th>\n",
       "      <th>Weekday_3</th>\n",
       "      <th>Weekday_4</th>\n",
       "      <th>Month_1</th>\n",
       "      <th>...</th>\n",
       "      <th>Year_2014</th>\n",
       "      <th>Year_2015</th>\n",
       "      <th>Year_2016</th>\n",
       "      <th>Year_2017</th>\n",
       "      <th>Year_2018</th>\n",
       "      <th>Year_2019</th>\n",
       "      <th>Year_2020</th>\n",
       "      <th>Year_2021</th>\n",
       "      <th>Year_2022</th>\n",
       "      <th>Year_2023</th>\n",
       "    </tr>\n",
       "  </thead>\n",
       "  <tbody>\n",
       "    <tr>\n",
       "      <th>1</th>\n",
       "      <td>-0.002148</td>\n",
       "      <td>-0.008413</td>\n",
       "      <td>-0.001580</td>\n",
       "      <td>2013-01-03</td>\n",
       "      <td>0</td>\n",
       "      <td>0</td>\n",
       "      <td>0</td>\n",
       "      <td>1</td>\n",
       "      <td>0</td>\n",
       "      <td>1</td>\n",
       "      <td>...</td>\n",
       "      <td>0</td>\n",
       "      <td>0</td>\n",
       "      <td>0</td>\n",
       "      <td>0</td>\n",
       "      <td>0</td>\n",
       "      <td>0</td>\n",
       "      <td>0</td>\n",
       "      <td>0</td>\n",
       "      <td>0</td>\n",
       "      <td>0</td>\n",
       "    </tr>\n",
       "    <tr>\n",
       "      <th>2</th>\n",
       "      <td>0.001830</td>\n",
       "      <td>-0.015295</td>\n",
       "      <td>0.003274</td>\n",
       "      <td>2013-01-04</td>\n",
       "      <td>0</td>\n",
       "      <td>0</td>\n",
       "      <td>0</td>\n",
       "      <td>0</td>\n",
       "      <td>1</td>\n",
       "      <td>1</td>\n",
       "      <td>...</td>\n",
       "      <td>0</td>\n",
       "      <td>0</td>\n",
       "      <td>0</td>\n",
       "      <td>0</td>\n",
       "      <td>0</td>\n",
       "      <td>0</td>\n",
       "      <td>0</td>\n",
       "      <td>0</td>\n",
       "      <td>0</td>\n",
       "      <td>0</td>\n",
       "    </tr>\n",
       "    <tr>\n",
       "      <th>3</th>\n",
       "      <td>0.001074</td>\n",
       "      <td>-0.001578</td>\n",
       "      <td>-0.003790</td>\n",
       "      <td>2013-01-07</td>\n",
       "      <td>1</td>\n",
       "      <td>0</td>\n",
       "      <td>0</td>\n",
       "      <td>0</td>\n",
       "      <td>0</td>\n",
       "      <td>1</td>\n",
       "      <td>...</td>\n",
       "      <td>0</td>\n",
       "      <td>0</td>\n",
       "      <td>0</td>\n",
       "      <td>0</td>\n",
       "      <td>0</td>\n",
       "      <td>0</td>\n",
       "      <td>0</td>\n",
       "      <td>0</td>\n",
       "      <td>0</td>\n",
       "      <td>0</td>\n",
       "    </tr>\n",
       "    <tr>\n",
       "      <th>4</th>\n",
       "      <td>-0.000429</td>\n",
       "      <td>0.009723</td>\n",
       "      <td>-0.004142</td>\n",
       "      <td>2013-01-08</td>\n",
       "      <td>0</td>\n",
       "      <td>1</td>\n",
       "      <td>0</td>\n",
       "      <td>0</td>\n",
       "      <td>0</td>\n",
       "      <td>1</td>\n",
       "      <td>...</td>\n",
       "      <td>0</td>\n",
       "      <td>0</td>\n",
       "      <td>0</td>\n",
       "      <td>0</td>\n",
       "      <td>0</td>\n",
       "      <td>0</td>\n",
       "      <td>0</td>\n",
       "      <td>0</td>\n",
       "      <td>0</td>\n",
       "      <td>0</td>\n",
       "    </tr>\n",
       "    <tr>\n",
       "      <th>5</th>\n",
       "      <td>-0.000537</td>\n",
       "      <td>-0.004032</td>\n",
       "      <td>0.004626</td>\n",
       "      <td>2013-01-09</td>\n",
       "      <td>0</td>\n",
       "      <td>0</td>\n",
       "      <td>1</td>\n",
       "      <td>0</td>\n",
       "      <td>0</td>\n",
       "      <td>1</td>\n",
       "      <td>...</td>\n",
       "      <td>0</td>\n",
       "      <td>0</td>\n",
       "      <td>0</td>\n",
       "      <td>0</td>\n",
       "      <td>0</td>\n",
       "      <td>0</td>\n",
       "      <td>0</td>\n",
       "      <td>0</td>\n",
       "      <td>0</td>\n",
       "      <td>0</td>\n",
       "    </tr>\n",
       "  </tbody>\n",
       "</table>\n",
       "<p>5 rows × 36 columns</p>\n",
       "</div>"
      ],
      "text/plain": [
       "   Crude_Close  Gold_Close  DJI_Close       Date  Weekday_0  Weekday_1  \\\n",
       "1    -0.002148   -0.008413  -0.001580 2013-01-03          0          0   \n",
       "2     0.001830   -0.015295   0.003274 2013-01-04          0          0   \n",
       "3     0.001074   -0.001578  -0.003790 2013-01-07          1          0   \n",
       "4    -0.000429    0.009723  -0.004142 2013-01-08          0          1   \n",
       "5    -0.000537   -0.004032   0.004626 2013-01-09          0          0   \n",
       "\n",
       "   Weekday_2  Weekday_3  Weekday_4  Month_1  ...  Year_2014  Year_2015  \\\n",
       "1          0          1          0        1  ...          0          0   \n",
       "2          0          0          1        1  ...          0          0   \n",
       "3          0          0          0        1  ...          0          0   \n",
       "4          0          0          0        1  ...          0          0   \n",
       "5          1          0          0        1  ...          0          0   \n",
       "\n",
       "   Year_2016  Year_2017  Year_2018  Year_2019  Year_2020  Year_2021  \\\n",
       "1          0          0          0          0          0          0   \n",
       "2          0          0          0          0          0          0   \n",
       "3          0          0          0          0          0          0   \n",
       "4          0          0          0          0          0          0   \n",
       "5          0          0          0          0          0          0   \n",
       "\n",
       "   Year_2022  Year_2023  \n",
       "1          0          0  \n",
       "2          0          0  \n",
       "3          0          0  \n",
       "4          0          0  \n",
       "5          0          0  \n",
       "\n",
       "[5 rows x 36 columns]"
      ]
     },
     "execution_count": 54,
     "metadata": {},
     "output_type": "execute_result"
    }
   ],
   "source": [
    "data_return_daily.head()"
   ]
  },
  {
   "cell_type": "code",
   "execution_count": 53,
   "id": "c01defe3",
   "metadata": {},
   "outputs": [],
   "source": [
    "# Drop date & Build Regression Models to predict Gold_Close\n",
    "# All Regression Models with R Square & RMSE"
   ]
  },
  {
   "cell_type": "code",
   "execution_count": 55,
   "id": "5c3611db",
   "metadata": {},
   "outputs": [],
   "source": [
    "data_return_daily = data_return_daily.drop('Date',axis=1)"
   ]
  },
  {
   "cell_type": "code",
   "execution_count": 59,
   "id": "d3b57e4d",
   "metadata": {},
   "outputs": [],
   "source": [
    "X = data_return_daily.drop('Gold_Close',axis = 1)"
   ]
  },
  {
   "cell_type": "code",
   "execution_count": 60,
   "id": "659e0002",
   "metadata": {},
   "outputs": [],
   "source": [
    "y = data_return_daily.Gold_Close"
   ]
  },
  {
   "cell_type": "code",
   "execution_count": 63,
   "id": "6f623404",
   "metadata": {},
   "outputs": [],
   "source": [
    "from sklearn.model_selection import train_test_split"
   ]
  },
  {
   "cell_type": "code",
   "execution_count": 70,
   "id": "0c6fbf3b",
   "metadata": {},
   "outputs": [],
   "source": [
    "X_train, X_test, y_train, y_test = train_test_split(X, y, test_size=0.30, random_state=42)"
   ]
  },
  {
   "cell_type": "code",
   "execution_count": 65,
   "id": "e1e5c627",
   "metadata": {},
   "outputs": [],
   "source": [
    "from sklearn.linear_model import LinearRegression"
   ]
  },
  {
   "cell_type": "code",
   "execution_count": 66,
   "id": "b24508a5",
   "metadata": {},
   "outputs": [],
   "source": [
    "lr = LinearRegression()"
   ]
  },
  {
   "cell_type": "code",
   "execution_count": 71,
   "id": "4e088f70",
   "metadata": {},
   "outputs": [],
   "source": [
    "lrmodel = lr.fit(X_train,y_train)"
   ]
  },
  {
   "cell_type": "code",
   "execution_count": 72,
   "id": "ade22cf7",
   "metadata": {},
   "outputs": [
    {
     "data": {
      "text/plain": [
       "0.011955148642829538"
      ]
     },
     "execution_count": 72,
     "metadata": {},
     "output_type": "execute_result"
    }
   ],
   "source": [
    "lrmodel.score(X_train,y_train)"
   ]
  },
  {
   "cell_type": "code",
   "execution_count": 73,
   "id": "f0b4af02",
   "metadata": {},
   "outputs": [],
   "source": [
    "lrmodel2 = lr.fit(X,y)"
   ]
  },
  {
   "cell_type": "code",
   "execution_count": 74,
   "id": "620f8676",
   "metadata": {},
   "outputs": [
    {
     "data": {
      "text/plain": [
       "0.013105391704271385"
      ]
     },
     "execution_count": 74,
     "metadata": {},
     "output_type": "execute_result"
    }
   ],
   "source": [
    "lrmodel2.score(X,y)"
   ]
  },
  {
   "cell_type": "code",
   "execution_count": 76,
   "id": "6ae93343",
   "metadata": {},
   "outputs": [
    {
     "data": {
      "text/plain": [
       "-0.3697032209017966"
      ]
     },
     "execution_count": 76,
     "metadata": {},
     "output_type": "execute_result"
    }
   ],
   "source": [
    "y.skew()"
   ]
  },
  {
   "cell_type": "code",
   "execution_count": 77,
   "id": "38ac9c64",
   "metadata": {},
   "outputs": [],
   "source": [
    "from sklearn.tree import DecisionTreeRegressor"
   ]
  },
  {
   "cell_type": "code",
   "execution_count": 84,
   "id": "77f64c5a",
   "metadata": {},
   "outputs": [],
   "source": [
    "DR = DecisionTreeRegressor(max_depth=18)"
   ]
  },
  {
   "cell_type": "code",
   "execution_count": 85,
   "id": "5ed1c9e7",
   "metadata": {},
   "outputs": [],
   "source": [
    "drmodel = DR.fit(X,y)"
   ]
  },
  {
   "cell_type": "code",
   "execution_count": 86,
   "id": "bb3206d8",
   "metadata": {},
   "outputs": [
    {
     "data": {
      "text/plain": [
       "0.8422586554988256"
      ]
     },
     "execution_count": 86,
     "metadata": {},
     "output_type": "execute_result"
    }
   ],
   "source": [
    "drmodel.score(X,y)"
   ]
  },
  {
   "cell_type": "code",
   "execution_count": 87,
   "id": "47ecd80c",
   "metadata": {},
   "outputs": [],
   "source": [
    "treepredict = drmodel.predict(X)"
   ]
  },
  {
   "cell_type": "code",
   "execution_count": 88,
   "id": "32f2b2b4",
   "metadata": {},
   "outputs": [
    {
     "data": {
      "text/plain": [
       "0.003909325651982398"
      ]
     },
     "execution_count": 88,
     "metadata": {},
     "output_type": "execute_result"
    }
   ],
   "source": [
    "np.sqrt(np.mean((y-treepredict)**2))"
   ]
  },
  {
   "cell_type": "code",
   "execution_count": 89,
   "id": "b1cce819",
   "metadata": {},
   "outputs": [],
   "source": [
    "from sklearn.ensemble import RandomForestRegressor"
   ]
  },
  {
   "cell_type": "code",
   "execution_count": 101,
   "id": "9d02668d",
   "metadata": {},
   "outputs": [],
   "source": [
    "rf = RandomForestRegressor(max_depth=2000)"
   ]
  },
  {
   "cell_type": "code",
   "execution_count": 102,
   "id": "701caf9b",
   "metadata": {},
   "outputs": [],
   "source": [
    "rfmodel = rf.fit(X,y)"
   ]
  },
  {
   "cell_type": "code",
   "execution_count": 103,
   "id": "d932fda9",
   "metadata": {},
   "outputs": [
    {
     "data": {
      "text/plain": [
       "0.8546476316902634"
      ]
     },
     "execution_count": 103,
     "metadata": {},
     "output_type": "execute_result"
    }
   ],
   "source": [
    "rfmodel.score(X,y)"
   ]
  },
  {
   "cell_type": "code",
   "execution_count": 104,
   "id": "31be6ed4",
   "metadata": {},
   "outputs": [],
   "source": [
    "rftreepredict = rfmodel.predict(X)"
   ]
  },
  {
   "cell_type": "code",
   "execution_count": 105,
   "id": "8d9b5a89",
   "metadata": {},
   "outputs": [
    {
     "data": {
      "text/plain": [
       "0.0037526679345116225"
      ]
     },
     "execution_count": 105,
     "metadata": {},
     "output_type": "execute_result"
    }
   ],
   "source": [
    "np.sqrt(np.mean((y-rftreepredict)**2))"
   ]
  },
  {
   "cell_type": "code",
   "execution_count": 95,
   "id": "ee68457d",
   "metadata": {},
   "outputs": [],
   "source": [
    "from sklearn.ensemble import GradientBoostingRegressor"
   ]
  },
  {
   "cell_type": "code",
   "execution_count": 107,
   "id": "5174be4b",
   "metadata": {},
   "outputs": [],
   "source": [
    "gr = GradientBoostingRegressor(n_estimators=2500)"
   ]
  },
  {
   "cell_type": "code",
   "execution_count": 108,
   "id": "1fbd8e14",
   "metadata": {},
   "outputs": [],
   "source": [
    "grmodel = gr.fit(X,y)"
   ]
  },
  {
   "cell_type": "code",
   "execution_count": 109,
   "id": "8d9fcba0",
   "metadata": {},
   "outputs": [
    {
     "data": {
      "text/plain": [
       "0.9288856825567983"
      ]
     },
     "execution_count": 109,
     "metadata": {},
     "output_type": "execute_result"
    }
   ],
   "source": [
    "grmodel.score(X,y)"
   ]
  },
  {
   "cell_type": "code",
   "execution_count": 110,
   "id": "6246ef1e",
   "metadata": {},
   "outputs": [],
   "source": [
    "grpredict = grmodel.predict(X)"
   ]
  },
  {
   "cell_type": "code",
   "execution_count": 111,
   "id": "7037c447",
   "metadata": {},
   "outputs": [
    {
     "data": {
      "text/plain": [
       "0.0026248688145678145"
      ]
     },
     "execution_count": 111,
     "metadata": {},
     "output_type": "execute_result"
    }
   ],
   "source": [
    "np.sqrt(np.mean((y-grpredict)**2))"
   ]
  },
  {
   "cell_type": "code",
   "execution_count": null,
   "id": "cbe17c6a",
   "metadata": {},
   "outputs": [],
   "source": [
    "# Cross validation average r square."
   ]
  },
  {
   "cell_type": "code",
   "execution_count": null,
   "id": "bdbf1c02",
   "metadata": {},
   "outputs": [],
   "source": []
  }
 ],
 "metadata": {
  "kernelspec": {
   "display_name": "Python 3 (ipykernel)",
   "language": "python",
   "name": "python3"
  },
  "language_info": {
   "codemirror_mode": {
    "name": "ipython",
    "version": 3
   },
   "file_extension": ".py",
   "mimetype": "text/x-python",
   "name": "python",
   "nbconvert_exporter": "python",
   "pygments_lexer": "ipython3",
   "version": "3.8.16"
  }
 },
 "nbformat": 4,
 "nbformat_minor": 5
}
